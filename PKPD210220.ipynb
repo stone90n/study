{
  "nbformat": 4,
  "nbformat_minor": 0,
  "metadata": {
    "colab": {
      "name": "PKPD210220.ipynb",
      "provenance": [],
      "collapsed_sections": [],
      "authorship_tag": "ABX9TyPHwf/ZPkIctl7yFDZBGaZY",
      "include_colab_link": true
    },
    "kernelspec": {
      "name": "python3",
      "display_name": "Python 3"
    }
  },
  "cells": [
    {
      "cell_type": "markdown",
      "metadata": {
        "id": "view-in-github",
        "colab_type": "text"
      },
      "source": [
        "<a href=\"https://colab.research.google.com/github/stone90n/study/blob/main/PKPD210220.ipynb\" target=\"_parent\"><img src=\"https://colab.research.google.com/assets/colab-badge.svg\" alt=\"Open In Colab\"/></a>"
      ]
    },
    {
      "cell_type": "markdown",
      "metadata": {
        "id": "JuEBeaxb7Eh9"
      },
      "source": [
        "Sympy 사용\n"
      ]
    },
    {
      "cell_type": "markdown",
      "metadata": {
        "id": "My4kY5bvUCL5"
      },
      "source": [
        "sympy 라이브러리를 불러온다"
      ]
    },
    {
      "cell_type": "code",
      "metadata": {
        "id": "sYHQ63-BT9Lm"
      },
      "source": [
        "from sympy import *\n",
        "import matplotlib.pyplot as plt\n",
        "%matplotlib inline \n"
      ],
      "execution_count": null,
      "outputs": []
    },
    {
      "cell_type": "markdown",
      "metadata": {
        "id": "LTlMuTrhUFvi"
      },
      "source": [
        "수식 출력을 LaTex 수식으로 보이게 한다"
      ]
    },
    {
      "cell_type": "code",
      "metadata": {
        "id": "6rcmMgdaUK_V"
      },
      "source": [
        "init_printing()"
      ],
      "execution_count": null,
      "outputs": []
    },
    {
      "cell_type": "markdown",
      "metadata": {
        "id": "DDosJyc-UQXT"
      },
      "source": [
        "Rational( 분자, 분모 ) 함수는 유리수를 분수로 나타낸다."
      ]
    },
    {
      "cell_type": "code",
      "metadata": {
        "colab": {
          "base_uri": "https://localhost:8080/",
          "height": 38
        },
        "id": "t3ygWOjiUVgD",
        "outputId": "25f4008c-4993-4f26-e3ad-ac20e1c1d16b"
      },
      "source": [
        "Rational(1,2)"
      ],
      "execution_count": null,
      "outputs": [
        {
          "output_type": "execute_result",
          "data": {
            "image/png": "[encoded data removed]",
            "text/latex": "$$\\frac{1}{2}$$",
            "text/plain": [
              "1/2"
            ]
          },
          "metadata": {
            "tags": []
          },
          "execution_count": 7
        }
      ]
    },
    {
      "cell_type": "markdown",
      "metadata": {
        "id": "rJSs2GO8UcA4"
      },
      "source": [
        "원주율은 pi 로 표기한다."
      ]
    },
    {
      "cell_type": "code",
      "metadata": {
        "colab": {
          "base_uri": "https://localhost:8080/",
          "height": 38
        },
        "id": "YZVOzj4DUiZG",
        "outputId": "be95f13f-3619-415b-e204-7944d0d065fa"
      },
      "source": [
        "pi"
      ],
      "execution_count": null,
      "outputs": [
        {
          "output_type": "execute_result",
          "data": {
            "image/png": "[encoded data removed]",
            "text/latex": "$$\\pi$$",
            "text/plain": [
              "π"
            ]
          },
          "metadata": {
            "tags": []
          },
          "execution_count": 8
        }
      ]
    },
    {
      "cell_type": "markdown",
      "metadata": {
        "id": "sPm-pEjiUqpy"
      },
      "source": [
        "N() 함수는 수치값으로 계산한다."
      ]
    },
    {
      "cell_type": "code",
      "metadata": {
        "colab": {
          "base_uri": "https://localhost:8080/",
          "height": 37
        },
        "id": "NvrNcTNwUsZn",
        "outputId": "50e32444-fae9-4e55-d4c4-b63c5e4edd27"
      },
      "source": [
        "N(pi)"
      ],
      "execution_count": null,
      "outputs": [
        {
          "output_type": "execute_result",
          "data": {
            "image/png": "[encoded data removed]",
            "text/latex": "$$3.14159265358979$$",
            "text/plain": [
              "3.14159265358979"
            ]
          },
          "metadata": {
            "tags": []
          },
          "execution_count": 9
        }
      ]
    },
    {
      "cell_type": "markdown",
      "metadata": {
        "id": "-pOWE4noU8px"
      },
      "source": [
        "evalf() 메소드로 수치값을 계산할 수도 있다"
      ]
    },
    {
      "cell_type": "code",
      "metadata": {
        "colab": {
          "base_uri": "https://localhost:8080/",
          "height": 37
        },
        "id": "iVVnu5gSVDMg",
        "outputId": "dfd080d3-6d6c-4558-b7a3-6da532c1072a"
      },
      "source": [
        "pi.evalf()"
      ],
      "execution_count": null,
      "outputs": [
        {
          "output_type": "execute_result",
          "data": {
            "image/png": "[encoded data removed]",
            "text/latex": "$$3.14159265358979$$",
            "text/plain": [
              "3.14159265358979"
            ]
          },
          "metadata": {
            "tags": []
          },
          "execution_count": 10
        }
      ]
    },
    {
      "cell_type": "markdown",
      "metadata": {
        "id": "IYng6FV5V81P"
      },
      "source": [
        "복소수는 대문자  I  로 나타낸다."
      ]
    },
    {
      "cell_type": "code",
      "metadata": {
        "colab": {
          "base_uri": "https://localhost:8080/",
          "height": 38
        },
        "id": "ub7r6IXlWA_l",
        "outputId": "d77cc929-bebc-48e7-8d20-18a6b7bd9c98"
      },
      "source": [
        "I"
      ],
      "execution_count": null,
      "outputs": [
        {
          "output_type": "execute_result",
          "data": {
            "image/png": "[encoded data removed]",
            "text/latex": "$$i$$",
            "text/plain": [
              "ⅈ"
            ]
          },
          "metadata": {
            "tags": []
          },
          "execution_count": 11
        }
      ]
    },
    {
      "cell_type": "markdown",
      "metadata": {
        "id": "m57Hq0oWWDgy"
      },
      "source": [
        "1 + 2*I"
      ]
    },
    {
      "cell_type": "code",
      "metadata": {
        "colab": {
          "base_uri": "https://localhost:8080/",
          "height": 38
        },
        "id": "XQp5DTHxWKrE",
        "outputId": "43a97d95-3f6f-4678-fba2-394685ae9df4"
      },
      "source": [
        "1 + 2*I"
      ],
      "execution_count": null,
      "outputs": [
        {
          "output_type": "execute_result",
          "data": {
            "image/png": "[encoded data removed]",
            "text/latex": "$$1 + 2 i$$",
            "text/plain": [
              "1 + 2⋅ⅈ"
            ]
          },
          "metadata": {
            "tags": []
          },
          "execution_count": 12
        }
      ]
    },
    {
      "cell_type": "markdown",
      "metadata": {
        "id": "w-wnYthPWsGR"
      },
      "source": [
        "Symbol 함수로 기호변수  t  를 선언한다."
      ]
    },
    {
      "cell_type": "code",
      "metadata": {
        "id": "gKehn0c_WtaB"
      },
      "source": [
        "t = Symbol('t')"
      ],
      "execution_count": null,
      "outputs": []
    },
    {
      "cell_type": "markdown",
      "metadata": {
        "id": "LsAogd35Wylk"
      },
      "source": [
        "symbols 함수는 한 번에 여러개의 기호변수를 선언할 수 있어서 더 편리하다."
      ]
    },
    {
      "cell_type": "code",
      "metadata": {
        "id": "K_0WdHWPXRcy"
      },
      "source": [
        "x, y, z = symbols('x y z')"
      ],
      "execution_count": null,
      "outputs": []
    },
    {
      "cell_type": "markdown",
      "metadata": {
        "id": "gB3rucfBXXzL"
      },
      "source": [
        "기호 변수로 수식을 나타낼 수 있다."
      ]
    },
    {
      "cell_type": "code",
      "metadata": {
        "colab": {
          "base_uri": "https://localhost:8080/",
          "height": 38
        },
        "id": "QNkhOtWOXc3v",
        "outputId": "77ac69db-a153-4fb4-ec3f-09352837796d"
      },
      "source": [
        "x**2 + 1"
      ],
      "execution_count": null,
      "outputs": [
        {
          "output_type": "execute_result",
          "data": {
            "image/png": "[encoded data removed]",
            "text/latex": "$$x^{2} + 1$$",
            "text/plain": [
              " 2    \n",
              "x  + 1"
            ]
          },
          "metadata": {
            "tags": []
          },
          "execution_count": 15
        }
      ]
    },
    {
      "cell_type": "markdown",
      "metadata": {
        "id": "hqyP_9LEo7WP"
      },
      "source": [
        "수식을 저장하면, 나중에 참조하거나 사용할 수 있다.\n",
        "\n",
        "수식이 저장되는 변수는 기호가 아니다."
      ]
    },
    {
      "cell_type": "code",
      "metadata": {
        "colab": {
          "base_uri": "https://localhost:8080/",
          "height": 38
        },
        "id": "WwflqrtHpJ8w",
        "outputId": "fbcba1f7-d8b1-431c-8b97-9e16cbd8b11c"
      },
      "source": [
        "expr = x**2 + 1\n",
        "expr"
      ],
      "execution_count": null,
      "outputs": [
        {
          "output_type": "execute_result",
          "data": {
            "image/png": "[encoded data removed]",
            "text/latex": "$$x^{2} + 1$$",
            "text/plain": [
              " 2    \n",
              "x  + 1"
            ]
          },
          "metadata": {
            "tags": []
          },
          "execution_count": 16
        }
      ]
    },
    {
      "cell_type": "markdown",
      "metadata": {
        "id": "KRJbU6K7pVjK"
      },
      "source": [
        "subs() 메소드로 기호변수에 특정한 값을 대입하거나, 다른 기호변수로 대체할 수 있다."
      ]
    },
    {
      "cell_type": "code",
      "metadata": {
        "colab": {
          "base_uri": "https://localhost:8080/",
          "height": 37
        },
        "id": "H5DXo7oypYKu",
        "outputId": "22e063bf-b686-4f98-bddc-4699043bb93a"
      },
      "source": [
        "expr.subs(x,1)"
      ],
      "execution_count": null,
      "outputs": [
        {
          "output_type": "execute_result",
          "data": {
            "image/png": "[encoded data removed]",
            "text/latex": "$$2$$",
            "text/plain": [
              "2"
            ]
          },
          "metadata": {
            "tags": []
          },
          "execution_count": 17
        }
      ]
    },
    {
      "cell_type": "markdown",
      "metadata": {
        "id": "funaF-NEpji9"
      },
      "source": [
        "x  를 y 로 바꾸려면"
      ]
    },
    {
      "cell_type": "code",
      "metadata": {
        "colab": {
          "base_uri": "https://localhost:8080/",
          "height": 38
        },
        "id": "qwI_ViYtpm0p",
        "outputId": "69adeb40-bccf-4564-9033-f6cab342824d"
      },
      "source": [
        "expr.subs(x,y)"
      ],
      "execution_count": null,
      "outputs": [
        {
          "output_type": "execute_result",
          "data": {
            "image/png": "[encoded data removed]",
            "text/latex": "$$y^{2} + 1$$",
            "text/plain": [
              " 2    \n",
              "y  + 1"
            ]
          },
          "metadata": {
            "tags": []
          },
          "execution_count": 18
        }
      ]
    },
    {
      "cell_type": "markdown",
      "metadata": {
        "id": "jrpD8lm_psou"
      },
      "source": [
        "_ 는 바로 이전의 출력을 가리킨다."
      ]
    },
    {
      "cell_type": "code",
      "metadata": {
        "colab": {
          "base_uri": "https://localhost:8080/",
          "height": 38
        },
        "id": "UF8rMs1wqMOi",
        "outputId": "bb47d143-63ad-49b3-9d10-58bad6c8c8f3"
      },
      "source": [
        "_"
      ],
      "execution_count": null,
      "outputs": [
        {
          "output_type": "execute_result",
          "data": {
            "image/png": "[encoded data removed]",
            "text/latex": "$$y^{2} + 1$$",
            "text/plain": [
              " 2    \n",
              "y  + 1"
            ]
          },
          "metadata": {
            "tags": []
          },
          "execution_count": 19
        }
      ]
    },
    {
      "cell_type": "code",
      "metadata": {
        "colab": {
          "base_uri": "https://localhost:8080/",
          "height": 37
        },
        "id": "xDNkzygwqVlV",
        "outputId": "231d692b-a3ce-4943-e964-5a66a7fb597f"
      },
      "source": [
        "_.subs(y,2)"
      ],
      "execution_count": null,
      "outputs": [
        {
          "output_type": "execute_result",
          "data": {
            "image/png": "[encoded data removed]",
            "text/latex": "$$5$$",
            "text/plain": [
              "5"
            ]
          },
          "metadata": {
            "tags": []
          },
          "execution_count": 20
        }
      ]
    },
    {
      "cell_type": "code",
      "metadata": {
        "colab": {
          "base_uri": "https://localhost:8080/",
          "height": 38
        },
        "id": "OOeHzC_BqdpT",
        "outputId": "a9ef499c-1941-4196-a650-bbc57a9b6d1c"
      },
      "source": [
        "expr = x**2 + 2*y*z + 1\n",
        "expr"
      ],
      "execution_count": null,
      "outputs": [
        {
          "output_type": "execute_result",
          "data": {
            "image/png": "[encoded data removed]",
            "text/latex": "$$x^{2} + 2 y z + 1$$",
            "text/plain": [
              " 2            \n",
              "x  + 2⋅y⋅z + 1"
            ]
          },
          "metadata": {
            "tags": []
          },
          "execution_count": 21
        }
      ]
    },
    {
      "cell_type": "code",
      "metadata": {
        "colab": {
          "base_uri": "https://localhost:8080/",
          "height": 37
        },
        "id": "0eYr1jUOqs6E",
        "outputId": "26deefbc-6cad-4247-a792-6e5bd8c142e0"
      },
      "source": [
        "expr.subs( [ (x,1), (y,2), (z,3) ] )"
      ],
      "execution_count": null,
      "outputs": [
        {
          "output_type": "execute_result",
          "data": {
            "image/png": "[encoded data removed]",
            "text/latex": "$$14$$",
            "text/plain": [
              "14"
            ]
          },
          "metadata": {
            "tags": []
          },
          "execution_count": 22
        }
      ]
    },
    {
      "cell_type": "markdown",
      "metadata": {
        "id": "NF_rCWys17wu"
      },
      "source": [
        "simplify() 함수는 수식을 간단히 만들어준다."
      ]
    },
    {
      "cell_type": "code",
      "metadata": {
        "colab": {
          "base_uri": "https://localhost:8080/",
          "height": 37
        },
        "id": "EPmWy3Vo19Vl",
        "outputId": "3508061b-0010-4549-8300-fbe2132fe669"
      },
      "source": [
        "simplify( cos(x)**2 + sin(x)**2 )"
      ],
      "execution_count": null,
      "outputs": [
        {
          "output_type": "execute_result",
          "data": {
            "image/png": "[encoded data removed]",
            "text/latex": "$$1$$",
            "text/plain": [
              "1"
            ]
          },
          "metadata": {
            "tags": []
          },
          "execution_count": 23
        }
      ]
    },
    {
      "cell_type": "code",
      "metadata": {
        "colab": {
          "base_uri": "https://localhost:8080/",
          "height": 39
        },
        "id": "qihSytLM2cdu",
        "outputId": "16754604-cb0b-44f6-9d19-8bf416f7a973"
      },
      "source": [
        "expr = x**2 + 5*x + 3*(x-1) + (x-1)**2\n",
        "expr"
      ],
      "execution_count": null,
      "outputs": [
        {
          "output_type": "execute_result",
          "data": {
            "image/png": "[encoded data removed]",
            "text/latex": "$$x^{2} + 8 x + \\left(x - 1\\right)^{2} - 3$$",
            "text/plain": [
              " 2                2    \n",
              "x  + 8⋅x + (x - 1)  - 3"
            ]
          },
          "metadata": {
            "tags": []
          },
          "execution_count": 24
        }
      ]
    },
    {
      "cell_type": "code",
      "metadata": {
        "colab": {
          "base_uri": "https://localhost:8080/",
          "height": 38
        },
        "id": "nF8aS6Aq2Kd-",
        "outputId": "702b8da7-1956-4eda-bd88-aaff6f40fcd6"
      },
      "source": [
        "simplify(expr)"
      ],
      "execution_count": null,
      "outputs": [
        {
          "output_type": "execute_result",
          "data": {
            "image/png": "[encoded data removed]",
            "text/latex": "$$2 x^{2} + 6 x - 2$$",
            "text/plain": [
              "   2          \n",
              "2⋅x  + 6⋅x - 2"
            ]
          },
          "metadata": {
            "tags": []
          },
          "execution_count": 25
        }
      ]
    },
    {
      "cell_type": "markdown",
      "metadata": {
        "id": "6Xn-DVq23GgB"
      },
      "source": [
        "sympify() 함수는 문자열을 수식으로 바꾸어 준다. 사용자가 입력한 수식을 처리하는데 사용할 수 있다."
      ]
    },
    {
      "cell_type": "code",
      "metadata": {
        "colab": {
          "base_uri": "https://localhost:8080/",
          "height": 38
        },
        "id": "fnHBnkeU3HtW",
        "outputId": "e9de3222-d9e0-4aa3-ec97-6e8cdbb8212d"
      },
      "source": [
        "string = \"x*exp(-y)+cos(x)\"\n",
        "\n",
        "sympify(string)"
      ],
      "execution_count": null,
      "outputs": [
        {
          "output_type": "execute_result",
          "data": {
            "image/png": "[encoded data removed]",
            "text/latex": "$$x e^{- y} + \\cos{\\left (x \\right )}$$",
            "text/plain": [
              "   -y         \n",
              "x⋅ℯ   + cos(x)"
            ]
          },
          "metadata": {
            "tags": []
          },
          "execution_count": 26
        }
      ]
    },
    {
      "cell_type": "markdown",
      "metadata": {
        "id": "RUKfpe__4A2r"
      },
      "source": [
        "expand() 함수는 수식을 전개한다."
      ]
    },
    {
      "cell_type": "code",
      "metadata": {
        "colab": {
          "base_uri": "https://localhost:8080/",
          "height": 38
        },
        "id": "xkpbAMFl4FwO",
        "outputId": "15180cf7-c74d-4d7e-c26c-77f68fb328ff"
      },
      "source": [
        "expand( (x-1)*(x-2) )"
      ],
      "execution_count": null,
      "outputs": [
        {
          "output_type": "execute_result",
          "data": {
            "image/png": "[encoded data removed]",
            "text/latex": "$$x^{2} - 3 x + 2$$",
            "text/plain": [
              " 2          \n",
              "x  - 3⋅x + 2"
            ]
          },
          "metadata": {
            "tags": []
          },
          "execution_count": 27
        }
      ]
    },
    {
      "cell_type": "markdown",
      "metadata": {
        "id": "wUZPszLj4Qm4"
      },
      "source": [
        "factor() 함수는 수식을 인수분해 한다."
      ]
    },
    {
      "cell_type": "code",
      "metadata": {
        "colab": {
          "base_uri": "https://localhost:8080/",
          "height": 38
        },
        "id": "0JXEsBAw4R7B",
        "outputId": "ef654323-8e48-4681-879b-7cfa8e9dbb53"
      },
      "source": [
        "factor( x**3 - 8 )"
      ],
      "execution_count": null,
      "outputs": [
        {
          "output_type": "execute_result",
          "data": {
            "image/png": "[encoded data removed]",
            "text/latex": "$$\\left(x - 2\\right) \\left(x^{2} + 2 x + 4\\right)$$",
            "text/plain": [
              "        ⎛ 2          ⎞\n",
              "(x - 2)⋅⎝x  + 2⋅x + 4⎠"
            ]
          },
          "metadata": {
            "tags": []
          },
          "execution_count": 28
        }
      ]
    },
    {
      "cell_type": "markdown",
      "metadata": {
        "id": "dqIwOaD34wrh"
      },
      "source": [
        "collect() 함수는 수식을 특정 변수의 다항식으로 정리한다."
      ]
    },
    {
      "cell_type": "code",
      "metadata": {
        "colab": {
          "base_uri": "https://localhost:8080/",
          "height": 38
        },
        "id": "HR92xzoM4yAX",
        "outputId": "2a82f21a-a855-4357-d9fe-fc030e538b43"
      },
      "source": [
        "expr = x*y + x - 3 + 2*x**2 - z*x**2 + x**3\n",
        "expr\n",
        "collect(expr,x)"
      ],
      "execution_count": null,
      "outputs": [
        {
          "output_type": "execute_result",
          "data": {
            "image/png": "[encoded data removed]",
            "text/latex": "$$x^{3} + x^{2} \\left(- z + 2\\right) + x \\left(y + 1\\right) - 3$$",
            "text/plain": [
              " 3    2                         \n",
              "x  + x ⋅(-z + 2) + x⋅(y + 1) - 3"
            ]
          },
          "metadata": {
            "tags": []
          },
          "execution_count": 29
        }
      ]
    },
    {
      "cell_type": "code",
      "metadata": {
        "id": "CIFzWQYJ5UGs"
      },
      "source": [
        ""
      ],
      "execution_count": null,
      "outputs": []
    },
    {
      "cell_type": "markdown",
      "metadata": {
        "id": "Hg0oIHuK5eR4"
      },
      "source": [
        "coeff() 함수는 수식의 특정항의 계수를 반환한다."
      ]
    },
    {
      "cell_type": "code",
      "metadata": {
        "colab": {
          "base_uri": "https://localhost:8080/",
          "height": 38
        },
        "id": "WvANSuyl5gOD",
        "outputId": "17ca4e96-db21-49d5-e34e-2b266bc51cf8"
      },
      "source": [
        "expr.coeff(x,2)       # x**2 항의 계수"
      ],
      "execution_count": null,
      "outputs": [
        {
          "output_type": "execute_result",
          "data": {
            "image/png": "[encoded data removed]",
            "text/latex": "$$- z + 2$$",
            "text/plain": [
              "-z + 2"
            ]
          },
          "metadata": {
            "tags": []
          },
          "execution_count": 30
        }
      ]
    },
    {
      "cell_type": "markdown",
      "metadata": {
        "id": "3ZAKg2m96CHr"
      },
      "source": [
        "cancel() 함수는 분수의 분자와 분모를 약분하여 간단한 형태로 만든다."
      ]
    },
    {
      "cell_type": "code",
      "metadata": {
        "colab": {
          "base_uri": "https://localhost:8080/",
          "height": 41
        },
        "id": "g5TBFkcp6LKa",
        "outputId": "54518f78-d5b8-4209-c697-0e1f9dc21c79"
      },
      "source": [
        "expr = (x**2 + 2*x + 1)/(x**2 + x)\n",
        "expr\n"
      ],
      "execution_count": null,
      "outputs": [
        {
          "output_type": "execute_result",
          "data": {
            "image/png": "[encoded data removed]",
            "text/latex": "$$\\frac{x^{2} + 2 x + 1}{x^{2} + x}$$",
            "text/plain": [
              " 2          \n",
              "x  + 2⋅x + 1\n",
              "────────────\n",
              "    2       \n",
              "   x  + x   "
            ]
          },
          "metadata": {
            "tags": []
          },
          "execution_count": 31
        }
      ]
    },
    {
      "cell_type": "code",
      "metadata": {
        "colab": {
          "base_uri": "https://localhost:8080/",
          "height": 38
        },
        "id": "46PKImVQ6n8A",
        "outputId": "06c3a0d7-254d-4011-df4a-5cf72f5d5aa0"
      },
      "source": [
        "cancel(expr)"
      ],
      "execution_count": null,
      "outputs": [
        {
          "output_type": "execute_result",
          "data": {
            "image/png": "[encoded data removed]",
            "text/latex": "$$\\frac{1}{x} \\left(x + 1\\right)$$",
            "text/plain": [
              "x + 1\n",
              "─────\n",
              "  x  "
            ]
          },
          "metadata": {
            "tags": []
          },
          "execution_count": 32
        }
      ]
    },
    {
      "cell_type": "code",
      "metadata": {
        "colab": {
          "base_uri": "https://localhost:8080/",
          "height": 43
        },
        "id": "aL8NqEbb6fNY",
        "outputId": "bb723f6d-79cd-4ab6-bee5-b78dcdd0fdd1"
      },
      "source": [
        "expr = 1/x + (3*x/2 - 2)/(x - 4)\n",
        "expr"
      ],
      "execution_count": null,
      "outputs": [
        {
          "output_type": "execute_result",
          "data": {
            "image/png": "[encoded data removed]",
            "text/latex": "$$\\frac{\\frac{3 x}{2} - 2}{x - 4} + \\frac{1}{x}$$",
            "text/plain": [
              "3⋅x        \n",
              "─── - 2    \n",
              " 2        1\n",
              "─────── + ─\n",
              " x - 4    x"
            ]
          },
          "metadata": {
            "tags": []
          },
          "execution_count": 33
        }
      ]
    },
    {
      "cell_type": "code",
      "metadata": {
        "colab": {
          "base_uri": "https://localhost:8080/",
          "height": 41
        },
        "id": "z-OuQK-i6hrt",
        "outputId": "d397c4ae-f5d3-4607-d6b3-7c24a0fe8312"
      },
      "source": [
        "cancel(expr)"
      ],
      "execution_count": null,
      "outputs": [
        {
          "output_type": "execute_result",
          "data": {
            "image/png": "[encoded data removed]",
            "text/latex": "$$\\frac{3 x^{2} - 2 x - 8}{2 x^{2} - 8 x}$$",
            "text/plain": [
              "   2          \n",
              "3⋅x  - 2⋅x - 8\n",
              "──────────────\n",
              "     2        \n",
              "  2⋅x  - 8⋅x  "
            ]
          },
          "metadata": {
            "tags": []
          },
          "execution_count": 34
        }
      ]
    },
    {
      "cell_type": "markdown",
      "metadata": {
        "id": "k79ZPHQm6xnT"
      },
      "source": [
        "apart() 함수는 분수식을 부분 분수들로 쪼개어 준다."
      ]
    },
    {
      "cell_type": "code",
      "metadata": {
        "colab": {
          "base_uri": "https://localhost:8080/",
          "height": 41
        },
        "id": "-c4mT7Ua6y96",
        "outputId": "f539c461-b257-4b96-93c4-6ebadc96eac1"
      },
      "source": [
        "expr = 1 / x / (x-1)\n",
        "expr"
      ],
      "execution_count": null,
      "outputs": [
        {
          "output_type": "execute_result",
          "data": {
            "image/png": "[encoded data removed]",
            "text/latex": "$$\\frac{1}{x \\left(x - 1\\right)}$$",
            "text/plain": [
              "    1    \n",
              "─────────\n",
              "x⋅(x - 1)"
            ]
          },
          "metadata": {
            "tags": []
          },
          "execution_count": 31
        }
      ]
    },
    {
      "cell_type": "code",
      "metadata": {
        "colab": {
          "base_uri": "https://localhost:8080/",
          "height": 39
        },
        "id": "NhBbaN3o63WS",
        "outputId": "82860aab-fe3b-4631-da87-c032f5e72c39"
      },
      "source": [
        "apart(expr)"
      ],
      "execution_count": null,
      "outputs": [
        {
          "output_type": "execute_result",
          "data": {
            "image/png": "[encoded data removed]",
            "text/latex": "$$\\frac{3}{2} + \\frac{4}{x - 4} + \\frac{1}{x}$$",
            "text/plain": [
              "3     4     1\n",
              "─ + ───── + ─\n",
              "2   x - 4   x"
            ]
          },
          "metadata": {
            "tags": []
          },
          "execution_count": 35
        }
      ]
    },
    {
      "cell_type": "markdown",
      "metadata": {
        "id": "MH89ZeuF7GUl"
      },
      "source": [
        "방정식은 Eq( 왼쪽, 오른쪽 ) 으로 표현한다"
      ]
    },
    {
      "cell_type": "code",
      "metadata": {
        "colab": {
          "base_uri": "https://localhost:8080/",
          "height": 38
        },
        "id": "1qR2V_P_7HrN",
        "outputId": "e787d2d7-6cdb-4004-a4fc-261487d2dc56"
      },
      "source": [
        "Eq( 2*x, 1 )"
      ],
      "execution_count": null,
      "outputs": [
        {
          "output_type": "execute_result",
          "data": {
            "image/png": "[encoded data removed]",
            "text/latex": "$$2 x = 1$$",
            "text/plain": [
              "2⋅x = 1"
            ]
          },
          "metadata": {
            "tags": []
          },
          "execution_count": 36
        }
      ]
    },
    {
      "cell_type": "markdown",
      "metadata": {
        "id": "Ho67aN6G8IJd"
      },
      "source": [
        "방정식 자체를 변수에 저장하여, 나중에 참조할 수 있다."
      ]
    },
    {
      "cell_type": "code",
      "metadata": {
        "colab": {
          "base_uri": "https://localhost:8080/",
          "height": 38
        },
        "id": "lE4Cw-Vb8JXd",
        "outputId": "152c97cc-9c9b-4836-aad7-97e0de12851f"
      },
      "source": [
        "eqn = Eq( 2*x, 1 )\n",
        "eqn"
      ],
      "execution_count": null,
      "outputs": [
        {
          "output_type": "execute_result",
          "data": {
            "image/png": "[encoded data removed]",
            "text/latex": "$$2 x = 1$$",
            "text/plain": [
              "2⋅x = 1"
            ]
          },
          "metadata": {
            "tags": []
          },
          "execution_count": 37
        }
      ]
    },
    {
      "cell_type": "code",
      "metadata": {
        "colab": {
          "base_uri": "https://localhost:8080/",
          "height": 38
        },
        "id": "QQZhRZEL8VLB",
        "outputId": "c3a8a96e-ab54-43c0-c29b-43ce7aa13994"
      },
      "source": [
        "eqn = Eq( 2*x, 1 )\n",
        "eqn"
      ],
      "execution_count": null,
      "outputs": [
        {
          "output_type": "execute_result",
          "data": {
            "image/png": "[encoded data removed]",
            "text/latex": "$$2 x = 1$$",
            "text/plain": [
              "2⋅x = 1"
            ]
          },
          "metadata": {
            "tags": []
          },
          "execution_count": 38
        }
      ]
    },
    {
      "cell_type": "code",
      "metadata": {
        "id": "cYkQ6b0Y8cdz"
      },
      "source": [
        "%matplotlib inline  "
      ],
      "execution_count": null,
      "outputs": []
    },
    {
      "cell_type": "code",
      "metadata": {
        "colab": {
          "base_uri": "https://localhost:8080/",
          "height": 389
        },
        "id": "GY1sm8qk8ekk",
        "outputId": "d753538c-fb5c-423d-f750-a8f0fd1e8f15"
      },
      "source": [
        "plot( x+1, x**2, xlim=(-2,2), ylim=(-1,3) )"
      ],
      "execution_count": null,
      "outputs": [
        {
          "output_type": "stream",
          "text": [
            "/usr/local/lib/python3.6/dist-packages/sympy/plotting/plot.py:890: MatplotlibDeprecationWarning: \n",
            "The set_smart_bounds function was deprecated in Matplotlib 3.2 and will be removed two minor releases later.\n",
            "  self.ax.spines['left'].set_smart_bounds(True)\n",
            "/usr/local/lib/python3.6/dist-packages/sympy/plotting/plot.py:891: MatplotlibDeprecationWarning: \n",
            "The set_smart_bounds function was deprecated in Matplotlib 3.2 and will be removed two minor releases later.\n",
            "  self.ax.spines['bottom'].set_smart_bounds(False)\n"
          ],
          "name": "stderr"
        },
        {
          "output_type": "display_data",
          "data": {
            "image/png": "[encoded data removed]",
            "text/plain": [
              "<Figure size 432x288 with 1 Axes>"
            ]
          },
          "metadata": {
            "tags": [],
            "needs_background": "light"
          }
        },
        {
          "output_type": "execute_result",
          "data": {
            "text/plain": [
              "<sympy.plotting.plot.Plot at 0x7f6f4181f240>"
            ]
          },
          "metadata": {
            "tags": []
          },
          "execution_count": 40
        }
      ]
    },
    {
      "cell_type": "markdown",
      "metadata": {
        "id": "PPp4z36L9PPY"
      },
      "source": [
        "# **미분¶**"
      ]
    },
    {
      "cell_type": "markdown",
      "metadata": {
        "id": "vk6pLzrZ9YWE"
      },
      "source": [
        "diff() 함수로 도함수를 구한다."
      ]
    },
    {
      "cell_type": "code",
      "metadata": {
        "colab": {
          "base_uri": "https://localhost:8080/",
          "height": 38
        },
        "id": "nM1yZk-E9dYZ",
        "outputId": "5eb397a2-8880-4074-e10e-09e709819346"
      },
      "source": [
        "diff( cos(x), x )"
      ],
      "execution_count": null,
      "outputs": [
        {
          "output_type": "execute_result",
          "data": {
            "image/png": "[encoded data removed]",
            "text/latex": "$$- \\sin{\\left (x \\right )}$$",
            "text/plain": [
              "-sin(x)"
            ]
          },
          "metadata": {
            "tags": []
          },
          "execution_count": 41
        }
      ]
    },
    {
      "cell_type": "markdown",
      "metadata": {
        "id": "HFRu3E8B9VYM"
      },
      "source": [
        "2차 도함수"
      ]
    },
    {
      "cell_type": "code",
      "metadata": {
        "colab": {
          "base_uri": "https://localhost:8080/",
          "height": 37
        },
        "id": "1gGtOCBx90xx",
        "outputId": "77f6931f-c805-4f07-9512-88a75829403d"
      },
      "source": [
        "diff( x**2, x, x )"
      ],
      "execution_count": null,
      "outputs": [
        {
          "output_type": "execute_result",
          "data": {
            "image/png": "[encoded data removed]",
            "text/latex": "$$2$$",
            "text/plain": [
              "2"
            ]
          },
          "metadata": {
            "tags": []
          },
          "execution_count": 42
        }
      ]
    },
    {
      "cell_type": "markdown",
      "metadata": {
        "id": "KqUkGN2o9RfZ"
      },
      "source": [
        "마지막 인자에 2 를 기입하여도 같은 결과를 얻는다."
      ]
    },
    {
      "cell_type": "code",
      "metadata": {
        "colab": {
          "base_uri": "https://localhost:8080/",
          "height": 37
        },
        "id": "UFRHor_M-XxF",
        "outputId": "c397a0dd-7963-4bc7-e3d1-05bdd8de4570"
      },
      "source": [
        "diff(x**2,x,2)"
      ],
      "execution_count": null,
      "outputs": [
        {
          "output_type": "execute_result",
          "data": {
            "image/png": "[encoded data removed]",
            "text/latex": "$$2$$",
            "text/plain": [
              "2"
            ]
          },
          "metadata": {
            "tags": []
          },
          "execution_count": 43
        }
      ]
    },
    {
      "cell_type": "markdown",
      "metadata": {
        "id": "HYOzBgiJ-hBv"
      },
      "source": [
        "Derivative() 함수는 도함수를 표현하는 용도에 사용된다."
      ]
    },
    {
      "cell_type": "code",
      "metadata": {
        "colab": {
          "base_uri": "https://localhost:8080/",
          "height": 40
        },
        "id": "UCuyxf9q-i5o",
        "outputId": "abc63fef-0577-4bf8-8498-02c1028e394d"
      },
      "source": [
        "deriv = Derivative( exp(-x**2), x )\n",
        "deriv"
      ],
      "execution_count": null,
      "outputs": [
        {
          "output_type": "execute_result",
          "data": {
            "image/png": "[encoded data removed]",
            "text/latex": "$$\\frac{d}{d x} e^{- x^{2}}$$",
            "text/plain": [
              "  ⎛   2⎞\n",
              "d ⎜ -x ⎟\n",
              "──⎝ℯ   ⎠\n",
              "dx      "
            ]
          },
          "metadata": {
            "tags": []
          },
          "execution_count": 44
        }
      ]
    },
    {
      "cell_type": "markdown",
      "metadata": {
        "id": "tmlN7al1_LqP"
      },
      "source": [
        "doit() 메소드로 연산을 수행하여 결과를 얻을 수 있다."
      ]
    },
    {
      "cell_type": "code",
      "metadata": {
        "colab": {
          "base_uri": "https://localhost:8080/",
          "height": 40
        },
        "id": "5cAl435F_Mzy",
        "outputId": "2a75df9e-bb50-4b65-9748-cf11d592f99f"
      },
      "source": [
        "deriv.doit()"
      ],
      "execution_count": null,
      "outputs": [
        {
          "output_type": "execute_result",
          "data": {
            "image/png": "[encoded data removed]",
            "text/latex": "$$- 2 x e^{- x^{2}}$$",
            "text/plain": [
              "        2\n",
              "      -x \n",
              "-2⋅x⋅ℯ   "
            ]
          },
          "metadata": {
            "tags": []
          },
          "execution_count": 45
        }
      ]
    },
    {
      "cell_type": "markdown",
      "metadata": {
        "id": "n0ReVDBc_9oM"
      },
      "source": [
        "도함수의 표현과 그 결과를 수식으로 표현하여 보자."
      ]
    },
    {
      "cell_type": "code",
      "metadata": {
        "colab": {
          "base_uri": "https://localhost:8080/",
          "height": 40
        },
        "id": "Xf_WVt-Z_-kO",
        "outputId": "ef763283-1c54-44a6-fb0f-7202b0f3b9cd"
      },
      "source": [
        "Eq( deriv, deriv.doit() )"
      ],
      "execution_count": null,
      "outputs": [
        {
          "output_type": "execute_result",
          "data": {
            "image/png": "[encoded data removed]",
            "text/latex": "$$\\frac{d}{d x} e^{- x^{2}} = - 2 x e^{- x^{2}}$$",
            "text/plain": [
              "  ⎛   2⎞           2\n",
              "d ⎜ -x ⎟         -x \n",
              "──⎝ℯ   ⎠ = -2⋅x⋅ℯ   \n",
              "dx                  "
            ]
          },
          "metadata": {
            "tags": []
          },
          "execution_count": 46
        }
      ]
    },
    {
      "cell_type": "markdown",
      "metadata": {
        "id": "ISc-IknTBq5y"
      },
      "source": [
        "diff() 함수로 편도함수를 구할 수 있다."
      ]
    },
    {
      "cell_type": "code",
      "metadata": {
        "colab": {
          "base_uri": "https://localhost:8080/",
          "height": 38
        },
        "id": "1VgDwFYHBsBX",
        "outputId": "a893b520-bbfe-4018-d4ed-b88ad12cee67"
      },
      "source": [
        "diff( exp(x*y), x, y )"
      ],
      "execution_count": null,
      "outputs": [
        {
          "output_type": "execute_result",
          "data": {
            "image/png": "[encoded data removed]",
            "text/latex": "$$\\left(x y + 1\\right) e^{x y}$$",
            "text/plain": [
              "           x⋅y\n",
              "(x⋅y + 1)⋅ℯ   "
            ]
          },
          "metadata": {
            "tags": []
          },
          "execution_count": 47
        }
      ]
    },
    {
      "cell_type": "markdown",
      "metadata": {
        "id": "jDtO5qGoB2A1"
      },
      "source": [
        "Derivative() 함수로 편도함수를 표현해 본다."
      ]
    },
    {
      "cell_type": "code",
      "metadata": {
        "colab": {
          "base_uri": "https://localhost:8080/",
          "height": 42
        },
        "id": "rSwOB2lRB26K",
        "outputId": "7dc1df28-d802-45c2-9f39-5e1082df59ca"
      },
      "source": [
        "deriv = Derivative( exp(x*y), x, y )\n",
        "deriv"
      ],
      "execution_count": null,
      "outputs": [
        {
          "output_type": "execute_result",
          "data": {
            "image/png": "[encoded data removed]",
            "text/latex": "$$\\frac{\\partial^{2}}{\\partial x\\partial y}  e^{x y}$$",
            "text/plain": [
              "   2       \n",
              "  ∂  ⎛ x⋅y⎞\n",
              "─────⎝ℯ   ⎠\n",
              "∂y ∂x      "
            ]
          },
          "metadata": {
            "tags": []
          },
          "execution_count": 48
        }
      ]
    },
    {
      "cell_type": "code",
      "metadata": {
        "colab": {
          "base_uri": "https://localhost:8080/",
          "height": 38
        },
        "id": "yY1t_zodEYsl",
        "outputId": "f19e5c29-61ac-49ca-e440-d050cad05c62"
      },
      "source": [
        "deriv.doit()"
      ],
      "execution_count": null,
      "outputs": [
        {
          "output_type": "execute_result",
          "data": {
            "image/png": "[encoded data removed]",
            "text/latex": "$$\\left(x y + 1\\right) e^{x y}$$",
            "text/plain": [
              "           x⋅y\n",
              "(x⋅y + 1)⋅ℯ   "
            ]
          },
          "metadata": {
            "tags": []
          },
          "execution_count": 49
        }
      ]
    },
    {
      "cell_type": "markdown",
      "metadata": {
        "id": "6UGaPglIEj8A"
      },
      "source": [
        "# 적분"
      ]
    },
    {
      "cell_type": "markdown",
      "metadata": {
        "id": "CCzIkCGAEnYn"
      },
      "source": [
        "integrate() 함수로 부정적분을 수행한다."
      ]
    },
    {
      "cell_type": "code",
      "metadata": {
        "colab": {
          "base_uri": "https://localhost:8080/",
          "height": 38
        },
        "id": "yGzLR--mEud7",
        "outputId": "45757f0b-b8f6-4d36-af0c-79e14defbdf2"
      },
      "source": [
        "integrate( 1/x, x )"
      ],
      "execution_count": null,
      "outputs": [
        {
          "output_type": "execute_result",
          "data": {
            "image/png": "[encoded data removed]",
            "text/latex": "$$\\log{\\left (x \\right )}$$",
            "text/plain": [
              "log(x)"
            ]
          },
          "metadata": {
            "tags": []
          },
          "execution_count": 50
        }
      ]
    },
    {
      "cell_type": "markdown",
      "metadata": {
        "id": "wiD-32K7L8SU"
      },
      "source": [
        "적분 상수는 따로 출력되지 않는다 !\n",
        "\n",
        "integrate() 함수로 정적분을 구할 수 있다. 적분 범위는 두번째 인자로 설정한다.\n",
        "\n",
        "$ \\int_{0}^{1} x^2 dx $"
      ]
    },
    {
      "cell_type": "code",
      "metadata": {
        "colab": {
          "base_uri": "https://localhost:8080/",
          "height": 38
        },
        "id": "TLUgiJvcMWOK",
        "outputId": "a73b6a13-a5df-43e1-d432-12b6fd43654e"
      },
      "source": [
        "integrate( x**2, (x,0,1) )"
      ],
      "execution_count": null,
      "outputs": [
        {
          "output_type": "execute_result",
          "data": {
            "image/png": "[encoded data removed]",
            "text/latex": "$$\\frac{1}{3}$$",
            "text/plain": [
              "1/3"
            ]
          },
          "metadata": {
            "tags": []
          },
          "execution_count": 51
        }
      ]
    },
    {
      "cell_type": "markdown",
      "metadata": {
        "id": "vjYPeRdZMZIX"
      },
      "source": [
        "$ \\int_{0}^{\\infty} e^{-x^2} dx   $ \n",
        "무한대는 소문자 o 를 두개 사용하여 oo 로 나타낸다."
      ]
    },
    {
      "cell_type": "code",
      "metadata": {
        "colab": {
          "base_uri": "https://localhost:8080/",
          "height": 41
        },
        "id": "YMgwJIa2NmAW",
        "outputId": "8dbad69d-6fe7-411a-c491-10e823ffbdbd"
      },
      "source": [
        "integrate( exp(-x**2), (x,0,oo) )"
      ],
      "execution_count": null,
      "outputs": [
        {
          "output_type": "execute_result",
          "data": {
            "image/png": "[encoded data removed]",
            "text/latex": "$$\\frac{\\sqrt{\\pi}}{2}$$",
            "text/plain": [
              "√π\n",
              "──\n",
              "2 "
            ]
          },
          "metadata": {
            "tags": []
          },
          "execution_count": 52
        }
      ]
    },
    {
      "cell_type": "markdown",
      "metadata": {
        "id": "AQxbRQfWN6rB"
      },
      "source": [
        "이중적분도 구할 수 있다. \n",
        "\n",
        "$\\int_{-\\infty}^{\\infty}\\int_{-\\infty}^{\\infty}e^{-(x^2+y^2)} dx dy $\n"
      ]
    },
    {
      "cell_type": "code",
      "metadata": {
        "colab": {
          "base_uri": "https://localhost:8080/",
          "height": 38
        },
        "id": "KX-aPNfzeVlF",
        "outputId": "4d1cee0f-bec9-45a3-aa27-59de0f3dc5d0"
      },
      "source": [
        "integrate( exp(-x**2-y**2), (x,-oo,oo), (y,-oo,oo) )"
      ],
      "execution_count": null,
      "outputs": [
        {
          "output_type": "execute_result",
          "data": {
            "image/png": "[encoded data removed]",
            "text/latex": "$$\\pi$$",
            "text/plain": [
              "π"
            ]
          },
          "metadata": {
            "tags": []
          },
          "execution_count": 53
        }
      ]
    },
    {
      "cell_type": "markdown",
      "metadata": {
        "id": "KlknSWoDeeKh"
      },
      "source": [
        "Integral() 함수는 적분을 수학적으로 표현하는데 사용된다."
      ]
    },
    {
      "cell_type": "code",
      "metadata": {
        "colab": {
          "base_uri": "https://localhost:8080/",
          "height": 38
        },
        "id": "HqYigF-QeflF",
        "outputId": "02c4601c-b8ce-418a-ca06-c8c87a83047e"
      },
      "source": [
        "integ = Integral( log(x) )\n",
        "integ"
      ],
      "execution_count": null,
      "outputs": [
        {
          "output_type": "execute_result",
          "data": {
            "image/png": "[encoded data removed]",
            "text/latex": "$$\\int \\log{\\left (x \\right )}\\, dx$$",
            "text/plain": [
              "⌠          \n",
              "⎮ log(x) dx\n",
              "⌡          "
            ]
          },
          "metadata": {
            "tags": []
          },
          "execution_count": 54
        }
      ]
    },
    {
      "cell_type": "markdown",
      "metadata": {
        "id": "46Q85_Zceraw"
      },
      "source": [
        "doit() 메소드로 실행 결과를 얻는다."
      ]
    },
    {
      "cell_type": "code",
      "metadata": {
        "colab": {
          "base_uri": "https://localhost:8080/",
          "height": 38
        },
        "id": "roDn9UTTesU8",
        "outputId": "1685a340-187b-49ea-fe61-b60ea5addacc"
      },
      "source": [
        "Eq( integ, integ.doit() )"
      ],
      "execution_count": null,
      "outputs": [
        {
          "output_type": "execute_result",
          "data": {
            "image/png": "[encoded data removed]",
            "text/latex": "$$\\int \\log{\\left (x \\right )}\\, dx = x \\log{\\left (x \\right )} - x$$",
            "text/plain": [
              "⌠                         \n",
              "⎮ log(x) dx = x⋅log(x) - x\n",
              "⌡                         "
            ]
          },
          "metadata": {
            "tags": []
          },
          "execution_count": 55
        }
      ]
    },
    {
      "cell_type": "markdown",
      "metadata": {
        "id": "NfUyjgR0e6Z-"
      },
      "source": [
        "# 함수의 극한"
      ]
    },
    {
      "cell_type": "markdown",
      "metadata": {
        "id": "6T-ZgeH2e-_8"
      },
      "source": [
        "limit 함수로 극한을 구한다.\n",
        "\n",
        "$ \\lim_{x \\to 0 }\\frac{sin(x)}{x} $"
      ]
    },
    {
      "cell_type": "code",
      "metadata": {
        "colab": {
          "base_uri": "https://localhost:8080/",
          "height": 37
        },
        "id": "fHB3X9wPfR8D",
        "outputId": "d75a1ddd-db4f-49d6-cd40-746715499b26"
      },
      "source": [
        "limit( sin(x)/x, x, 0 )"
      ],
      "execution_count": null,
      "outputs": [
        {
          "output_type": "execute_result",
          "data": {
            "image/png": "[encoded data removed]",
            "text/latex": "$$1$$",
            "text/plain": [
              "1"
            ]
          },
          "metadata": {
            "tags": []
          },
          "execution_count": 56
        }
      ]
    },
    {
      "cell_type": "markdown",
      "metadata": {
        "id": "7miIiRxDfx7V"
      },
      "source": [
        "# 방정식의 해"
      ]
    },
    {
      "cell_type": "markdown",
      "metadata": {
        "id": "qWlnvFcjf4fr"
      },
      "source": [
        "다음의 방정식에 대하여\n",
        "\n",
        "$2x=1$"
      ]
    },
    {
      "cell_type": "code",
      "metadata": {
        "colab": {
          "base_uri": "https://localhost:8080/",
          "height": 38
        },
        "id": "gK8UDmJMf-XT",
        "outputId": "e3f4ca25-48ab-4b9a-98bc-56aa0b999091"
      },
      "source": [
        "eqn = Eq( 2*x, 1 )\n",
        "eqn"
      ],
      "execution_count": null,
      "outputs": [
        {
          "output_type": "execute_result",
          "data": {
            "image/png": "[encoded data removed]",
            "text/latex": "$$2 x = 1$$",
            "text/plain": [
              "2⋅x = 1"
            ]
          },
          "metadata": {
            "tags": []
          },
          "execution_count": 57
        }
      ]
    },
    {
      "cell_type": "markdown",
      "metadata": {
        "id": "HQfpvAYbgEID"
      },
      "source": [
        "solve() 함수로 방정식의 해를 구한다."
      ]
    },
    {
      "cell_type": "code",
      "metadata": {
        "colab": {
          "base_uri": "https://localhost:8080/",
          "height": 38
        },
        "id": "9k5s_o5NgJDM",
        "outputId": "3509357e-3f3c-41c3-8e1e-15cbf8790fb0"
      },
      "source": [
        "solve( eqn, x )"
      ],
      "execution_count": null,
      "outputs": [
        {
          "output_type": "execute_result",
          "data": {
            "image/png": "[encoded data removed]",
            "text/latex": "$$\\left [ \\frac{1}{2}\\right ]$$",
            "text/plain": [
              "[1/2]"
            ]
          },
          "metadata": {
            "tags": []
          },
          "execution_count": 58
        }
      ]
    },
    {
      "cell_type": "markdown",
      "metadata": {
        "id": "ByKDEk9cgT_t"
      },
      "source": [
        "방정식의 우변이 0 인 형태의 경우는, 좌변의 수식만 기입하여 해를 구할 수도 있다.\n",
        "\n",
        "$2x−1=0$"
      ]
    },
    {
      "cell_type": "code",
      "metadata": {
        "colab": {
          "base_uri": "https://localhost:8080/",
          "height": 38
        },
        "id": "oQ_HuWkHgW5n",
        "outputId": "770ddae1-2ebf-4ae5-b5d1-0018860bfdb3"
      },
      "source": [
        "solve( 2*x-1, x )    "
      ],
      "execution_count": null,
      "outputs": [
        {
          "output_type": "execute_result",
          "data": {
            "image/png": "[encoded data removed]",
            "text/latex": "$$\\left [ \\frac{1}{2}\\right ]$$",
            "text/plain": [
              "[1/2]"
            ]
          },
          "metadata": {
            "tags": []
          },
          "execution_count": 59
        }
      ]
    },
    {
      "cell_type": "markdown",
      "metadata": {
        "id": "kYUgiXVTgdiw"
      },
      "source": [
        "이차방정식의 근의 공식\n",
        "\n",
        "$a x^2+ b x + c = 0$"
      ]
    },
    {
      "cell_type": "code",
      "metadata": {
        "colab": {
          "base_uri": "https://localhost:8080/",
          "height": 38
        },
        "id": "o_gb9q8DgnNi",
        "outputId": "67a73fdb-0f38-4cb3-9447-a9a68f63c04a"
      },
      "source": [
        "a, b, c = symbols('a, b, c')\n",
        "eqn = Eq( a*x**2 + b*x + c, 0 )\n",
        "eqn"
      ],
      "execution_count": null,
      "outputs": [
        {
          "output_type": "execute_result",
          "data": {
            "image/png": "[encoded data removed]",
            "text/latex": "$$a x^{2} + b x + c = 0$$",
            "text/plain": [
              "   2              \n",
              "a⋅x  + b⋅x + c = 0"
            ]
          },
          "metadata": {
            "tags": []
          },
          "execution_count": 60
        }
      ]
    },
    {
      "cell_type": "code",
      "metadata": {
        "colab": {
          "base_uri": "https://localhost:8080/",
          "height": 38
        },
        "id": "hl-7qqnsJBGh",
        "outputId": "cf44386b-5932-4da8-d534-e57c82d0a307"
      },
      "source": [
        "solve(eqn,x)"
      ],
      "execution_count": null,
      "outputs": [
        {
          "output_type": "execute_result",
          "data": {
            "image/png": "[encoded data removed]",
            "text/latex": "$$\\left [ \\frac{1}{2 a} \\left(- b + \\sqrt{- 4 a c + b^{2}}\\right), \\quad - \\frac{1}{2 a} \\left(b + \\sqrt{- 4 a c + b^{2}}\\right)\\right ]$$",
            "text/plain": [
              "⎡        _____________   ⎛       _____________⎞ ⎤\n",
              "⎢       ╱           2    ⎜      ╱           2 ⎟ ⎥\n",
              "⎢-b + ╲╱  -4⋅a⋅c + b    -⎝b + ╲╱  -4⋅a⋅c + b  ⎠ ⎥\n",
              "⎢─────────────────────, ────────────────────────⎥\n",
              "⎣         2⋅a                     2⋅a           ⎦"
            ]
          },
          "metadata": {
            "tags": []
          },
          "execution_count": 61
        }
      ]
    },
    {
      "cell_type": "code",
      "metadata": {
        "colab": {
          "base_uri": "https://localhost:8080/",
          "height": 38
        },
        "id": "vDCxcsQSNM86",
        "outputId": "6d9abd5c-d089-486f-d99b-d7fbd1ad605d"
      },
      "source": [
        "solve( Eq( x**2, -1 ), x )"
      ],
      "execution_count": null,
      "outputs": [
        {
          "output_type": "execute_result",
          "data": {
            "image/png": "[encoded data removed]",
            "text/latex": "$$\\left [ - i, \\quad i\\right ]$$",
            "text/plain": [
              "[-ⅈ, ⅈ]"
            ]
          },
          "metadata": {
            "tags": []
          },
          "execution_count": 62
        }
      ]
    },
    {
      "cell_type": "markdown",
      "metadata": {
        "id": "aBqm8I70NVD9"
      },
      "source": [
        "#연립 방정식의 해"
      ]
    },
    {
      "cell_type": "markdown",
      "metadata": {
        "id": "K6liOlF1OFe8"
      },
      "source": [
        ""
      ]
    },
    {
      "cell_type": "markdown",
      "metadata": {
        "id": "f1sky3LDNYSd"
      },
      "source": [
        "$ x−y+2=0$\n",
        " \n",
        "$x+y−3=0 $\n",
        "\n",
        "방정식과 변수를 리스트로 묶어서 인수를 전달한다."
      ]
    },
    {
      "cell_type": "code",
      "metadata": {
        "colab": {
          "base_uri": "https://localhost:8080/",
          "height": 38
        },
        "id": "hnjhaCVAN1Rx",
        "outputId": "5f79d194-9009-4013-97e3-aa826cc5917c"
      },
      "source": [
        "solve( [ x-y+2, x+y-3 ], [x,y] )"
      ],
      "execution_count": null,
      "outputs": [
        {
          "output_type": "execute_result",
          "data": {
            "image/png": "[encoded data removed]",
            "text/latex": "$$\\left \\{ x : \\frac{1}{2}, \\quad y : \\frac{5}{2}\\right \\}$$",
            "text/plain": [
              "{x: 1/2, y: 5/2}"
            ]
          },
          "metadata": {
            "tags": []
          },
          "execution_count": 63
        }
      ]
    },
    {
      "cell_type": "code",
      "metadata": {
        "colab": {
          "base_uri": "https://localhost:8080/",
          "height": 38
        },
        "id": "EM3KlDjlN8r4",
        "outputId": "5de1e770-0db8-4e92-fa24-09613272f8fd"
      },
      "source": [
        "solve( ( x-y+2, x+y-3 ), (x,y) )"
      ],
      "execution_count": null,
      "outputs": [
        {
          "output_type": "execute_result",
          "data": {
            "image/png": "[encoded data removed]",
            "text/latex": "$$\\left \\{ x : \\frac{1}{2}, \\quad y : \\frac{5}{2}\\right \\}$$",
            "text/plain": [
              "{x: 1/2, y: 5/2}"
            ]
          },
          "metadata": {
            "tags": []
          },
          "execution_count": 64
        }
      ]
    },
    {
      "cell_type": "markdown",
      "metadata": {
        "id": "MPk0FYumOG2c"
      },
      "source": [
        "#Taylor 급수"
      ]
    },
    {
      "cell_type": "markdown",
      "metadata": {
        "id": "u7y7t0F9OLCI"
      },
      "source": [
        ""
      ]
    },
    {
      "cell_type": "code",
      "metadata": {
        "colab": {
          "base_uri": "https://localhost:8080/",
          "height": 40
        },
        "id": "7zW3JGImOPCR",
        "outputId": "b14b0e99-f57d-4b58-c4f1-f39ffc287477"
      },
      "source": [
        "series( sin(x), x )"
      ],
      "execution_count": null,
      "outputs": [
        {
          "output_type": "execute_result",
          "data": {
            "image/png": "[encoded data removed]",
            "text/latex": "$$x - \\frac{x^{3}}{6} + \\frac{x^{5}}{120} + \\mathcal{O}\\left(x^{6}\\right)$$",
            "text/plain": [
              "     3     5        \n",
              "    x     x     ⎛ 6⎞\n",
              "x - ── + ─── + O⎝x ⎠\n",
              "    6    120        "
            ]
          },
          "metadata": {
            "tags": []
          },
          "execution_count": 65
        }
      ]
    },
    {
      "cell_type": "markdown",
      "metadata": {
        "id": "GdW5WQaYO-0y"
      },
      "source": [
        "x의 차수를 원하는 값으로 설정할 수 있다. 다음 예와 같이 10차 이전까지의 급수를 나타내면"
      ]
    },
    {
      "cell_type": "code",
      "metadata": {
        "colab": {
          "base_uri": "https://localhost:8080/",
          "height": 40
        },
        "id": "cS2zQkeyPDu2",
        "outputId": "d6af6836-7bd2-44d4-83fd-520474733b51"
      },
      "source": [
        "series( sin(x), x, n=16 )"
      ],
      "execution_count": null,
      "outputs": [
        {
          "output_type": "execute_result",
          "data": {
            "image/png": "[encoded data removed]",
            "text/latex": "$$x - \\frac{x^{3}}{6} + \\frac{x^{5}}{120} - \\frac{x^{7}}{5040} + \\frac{x^{9}}{362880} - \\frac{x^{11}}{39916800} + \\frac{x^{13}}{6227020800} - \\frac{x^{15}}{1307674368000} + \\mathcal{O}\\left(x^{16}\\right)$$",
            "text/plain": [
              "     3     5     7       9        11          13             15              \n",
              "    x     x     x       x        x           x              x           ⎛ 16⎞\n",
              "x - ── + ─── - ──── + ────── - ──────── + ────────── - ───────────── + O⎝x  ⎠\n",
              "    6    120   5040   362880   39916800   6227020800   1307674368000         "
            ]
          },
          "metadata": {
            "tags": []
          },
          "execution_count": 66
        }
      ]
    },
    {
      "cell_type": "markdown",
      "metadata": {
        "id": "jkKvUTpRPPgo"
      },
      "source": [
        "급수를 계산에 활용하기 위해서는, 마지막 차수항 O(x) 를 제거해야 한다. 이를 위해 removeO 메소드를 사용한다."
      ]
    },
    {
      "cell_type": "code",
      "metadata": {
        "colab": {
          "base_uri": "https://localhost:8080/",
          "height": 40
        },
        "id": "SdowF9ekPUo-",
        "outputId": "1857ec29-6d55-499f-cb8e-07c0ab0b4001"
      },
      "source": [
        "Sin = series( sin(x), x, n=10 ).removeO()\n",
        "Sin"
      ],
      "execution_count": null,
      "outputs": [
        {
          "output_type": "execute_result",
          "data": {
            "image/png": "[encoded data removed]",
            "text/latex": "$$\\frac{x^{9}}{362880} - \\frac{x^{7}}{5040} + \\frac{x^{5}}{120} - \\frac{x^{3}}{6} + x$$",
            "text/plain": [
              "   9       7      5    3    \n",
              "  x       x      x    x     \n",
              "────── - ──── + ─── - ── + x\n",
              "362880   5040   120   6     "
            ]
          },
          "metadata": {
            "tags": []
          },
          "execution_count": 67
        }
      ]
    },
    {
      "cell_type": "markdown",
      "metadata": {
        "id": "0MiCcysuPhGd"
      },
      "source": [
        "사인 함수를 9차의 다항식으로 근사하였다. 이 식에  x=π/2  를 대입하여 보면"
      ]
    },
    {
      "cell_type": "code",
      "metadata": {
        "id": "fMSqWBczPiDm",
        "colab": {
          "base_uri": "https://localhost:8080/",
          "height": 37
        },
        "outputId": "c06c5ee3-9f67-45d8-f821-c936529096eb"
      },
      "source": [
        "Sin.subs( x, pi/2 ).evalf()"
      ],
      "execution_count": null,
      "outputs": [
        {
          "output_type": "execute_result",
          "data": {
            "image/png": "[encoded data removed]",
            "text/latex": "$$1.00000354258429$$",
            "text/plain": [
              "1.00000354258429"
            ]
          },
          "metadata": {
            "tags": []
          },
          "execution_count": 68
        }
      ]
    },
    {
      "cell_type": "markdown",
      "metadata": {
        "id": "GDr8dNy7SFg0"
      },
      "source": [
        "#행렬"
      ]
    },
    {
      "cell_type": "markdown",
      "metadata": {
        "id": "ZQ-f1ndmSIR2"
      },
      "source": [
        "Matrix() 함수로 행렬을 만든다."
      ]
    },
    {
      "cell_type": "code",
      "metadata": {
        "colab": {
          "base_uri": "https://localhost:8080/",
          "height": 58
        },
        "id": "EG-cP5d8SNtV",
        "outputId": "687cac59-a3c1-49cc-b672-c126273620a6"
      },
      "source": [
        "A = Matrix( [[1,2],[3,4]] )\n",
        "A"
      ],
      "execution_count": null,
      "outputs": [
        {
          "output_type": "execute_result",
          "data": {
            "text/latex": "$$\\left[\\begin{matrix}1 & 2\\\\3 & 4\\end{matrix}\\right]$$",
            "text/plain": [
              "⎡1  2⎤\n",
              "⎢    ⎥\n",
              "⎣3  4⎦"
            ]
          },
          "metadata": {
            "tags": []
          },
          "execution_count": 70
        }
      ]
    },
    {
      "cell_type": "markdown",
      "metadata": {
        "id": "c6lHYTABSXYH"
      },
      "source": [
        "일차원 리스트로 만든 행렬은 열벡터로 표현된다."
      ]
    },
    {
      "cell_type": "code",
      "metadata": {
        "colab": {
          "base_uri": "https://localhost:8080/",
          "height": 58
        },
        "id": "qxo0VLQbShuO",
        "outputId": "b92b62c3-c93e-4cdf-f37b-c8b19cfa0902"
      },
      "source": [
        "Matrix( [1,2] )"
      ],
      "execution_count": null,
      "outputs": [
        {
          "output_type": "execute_result",
          "data": {
            "text/latex": "$$\\left[\\begin{matrix}1\\\\2\\end{matrix}\\right]$$",
            "text/plain": [
              "⎡1⎤\n",
              "⎢ ⎥\n",
              "⎣2⎦"
            ]
          },
          "metadata": {
            "tags": []
          },
          "execution_count": 71
        }
      ]
    },
    {
      "cell_type": "markdown",
      "metadata": {
        "id": "3UGr_1_rSpUX"
      },
      "source": [
        "단위 행렬은 eye() 함수로 만든다."
      ]
    },
    {
      "cell_type": "code",
      "metadata": {
        "colab": {
          "base_uri": "https://localhost:8080/",
          "height": 78
        },
        "id": "mJPUceqmSqT5",
        "outputId": "fb0fb5e0-6be2-4d62-9394-9c3a010c2286"
      },
      "source": [
        "eye(3)"
      ],
      "execution_count": null,
      "outputs": [
        {
          "output_type": "execute_result",
          "data": {
            "text/latex": "$$\\left[\\begin{matrix}1 & 0 & 0\\\\0 & 1 & 0\\\\0 & 0 & 1\\end{matrix}\\right]$$",
            "text/plain": [
              "⎡1  0  0⎤\n",
              "⎢       ⎥\n",
              "⎢0  1  0⎥\n",
              "⎢       ⎥\n",
              "⎣0  0  1⎦"
            ]
          },
          "metadata": {
            "tags": []
          },
          "execution_count": 72
        }
      ]
    },
    {
      "cell_type": "markdown",
      "metadata": {
        "id": "Ef4Iam13Sykv"
      },
      "source": [
        "행렬의 곱은 A * B 이다."
      ]
    },
    {
      "cell_type": "code",
      "metadata": {
        "colab": {
          "base_uri": "https://localhost:8080/",
          "height": 58
        },
        "id": "-MiIC4TCS7qi",
        "outputId": "866fe9ca-7705-442d-ac9f-ca961493b405"
      },
      "source": [
        "A * eye(2)"
      ],
      "execution_count": null,
      "outputs": [
        {
          "output_type": "execute_result",
          "data": {
            "text/latex": "$$\\left[\\begin{matrix}1 & 2\\\\3 & 4\\end{matrix}\\right]$$",
            "text/plain": [
              "⎡1  2⎤\n",
              "⎢    ⎥\n",
              "⎣3  4⎦"
            ]
          },
          "metadata": {
            "tags": []
          },
          "execution_count": 73
        }
      ]
    },
    {
      "cell_type": "markdown",
      "metadata": {
        "id": "izfXe06XTkRv"
      },
      "source": [
        "det() 함수로 행렬식(determinant)을 구한다."
      ]
    },
    {
      "cell_type": "code",
      "metadata": {
        "colab": {
          "base_uri": "https://localhost:8080/",
          "height": 37
        },
        "id": "gOXwWD6xTpyL",
        "outputId": "626b6508-0824-4454-b206-5da9e10951ae"
      },
      "source": [
        "_.det()"
      ],
      "execution_count": null,
      "outputs": [
        {
          "output_type": "execute_result",
          "data": {
            "image/png": "[encoded data removed]",
            "text/latex": "$$-2$$",
            "text/plain": [
              "-2"
            ]
          },
          "metadata": {
            "tags": []
          },
          "execution_count": 74
        }
      ]
    },
    {
      "cell_type": "markdown",
      "metadata": {
        "id": "dXPPFqjMUl53"
      },
      "source": [
        "inv() 함수로 역행렬을 구한다."
      ]
    },
    {
      "cell_type": "code",
      "metadata": {
        "colab": {
          "base_uri": "https://localhost:8080/",
          "height": 58
        },
        "id": "1OqvKOHWUnyP",
        "outputId": "848846f3-5a7b-462c-c660-0d0f7c5b458b"
      },
      "source": [
        "A.inv()"
      ],
      "execution_count": null,
      "outputs": [
        {
          "output_type": "execute_result",
          "data": {
            "text/latex": "$$\\left[\\begin{matrix}-2 & 1\\\\\\frac{3}{2} & - \\frac{1}{2}\\end{matrix}\\right]$$",
            "text/plain": [
              "⎡-2    1  ⎤\n",
              "⎢         ⎥\n",
              "⎣3/2  -1/2⎦"
            ]
          },
          "metadata": {
            "tags": []
          },
          "execution_count": 75
        }
      ]
    },
    {
      "cell_type": "markdown",
      "metadata": {
        "id": "bJfCpXg8Vx2B"
      },
      "source": [
        "행렬의 -1 승으로 역행렬을 구할 수도 있다."
      ]
    },
    {
      "cell_type": "code",
      "metadata": {
        "colab": {
          "base_uri": "https://localhost:8080/",
          "height": 58
        },
        "id": "JGwd5ClKV16D",
        "outputId": "a2544ca7-75d1-480d-851b-ca256d92d345"
      },
      "source": [
        "A**-1"
      ],
      "execution_count": null,
      "outputs": [
        {
          "output_type": "execute_result",
          "data": {
            "text/latex": "$$\\left[\\begin{matrix}-2 & 1\\\\\\frac{3}{2} & - \\frac{1}{2}\\end{matrix}\\right]$$",
            "text/plain": [
              "⎡-2    1  ⎤\n",
              "⎢         ⎥\n",
              "⎣3/2  -1/2⎦"
            ]
          },
          "metadata": {
            "tags": []
          },
          "execution_count": 76
        }
      ]
    },
    {
      "cell_type": "markdown",
      "metadata": {
        "id": "nOCDfESZZRU8"
      },
      "source": [
        "행렬과 역행렬의 곱은 단위 행렬이다."
      ]
    },
    {
      "cell_type": "code",
      "metadata": {
        "colab": {
          "base_uri": "https://localhost:8080/",
          "height": 58
        },
        "id": "89o-jASJZVXF",
        "outputId": "d760da34-cbf3-4975-b3c8-5799e41de335"
      },
      "source": [
        "A*A.inv()"
      ],
      "execution_count": null,
      "outputs": [
        {
          "output_type": "execute_result",
          "data": {
            "text/latex": "$$\\left[\\begin{matrix}1 & 0\\\\0 & 1\\end{matrix}\\right]$$",
            "text/plain": [
              "⎡1  0⎤\n",
              "⎢    ⎥\n",
              "⎣0  1⎦"
            ]
          },
          "metadata": {
            "tags": []
          },
          "execution_count": 77
        }
      ]
    },
    {
      "cell_type": "markdown",
      "metadata": {
        "id": "F5U0mLOUZcE7"
      },
      "source": [
        "행렬의 원소를 기호로 표기하여 수식적으로 다룰 수 있다."
      ]
    },
    {
      "cell_type": "code",
      "metadata": {
        "colab": {
          "base_uri": "https://localhost:8080/",
          "height": 58
        },
        "id": "SuVb5bkWZc0l",
        "outputId": "3862da5c-776c-4cb9-a376-51b4b2361458"
      },
      "source": [
        "a11, a12, a21, a22 = symbols('a11, a12, a21, a22')\n",
        "A = Matrix( [[a11, a12],[a21, a22]] )\n",
        "A"
      ],
      "execution_count": null,
      "outputs": [
        {
          "output_type": "execute_result",
          "data": {
            "text/latex": "$$\\left[\\begin{matrix}a_{11} & a_{12}\\\\a_{21} & a_{22}\\end{matrix}\\right]$$",
            "text/plain": [
              "⎡a₁₁  a₁₂⎤\n",
              "⎢        ⎥\n",
              "⎣a₂₁  a₂₂⎦"
            ]
          },
          "metadata": {
            "tags": []
          },
          "execution_count": 78
        }
      ]
    },
    {
      "cell_type": "code",
      "metadata": {
        "colab": {
          "base_uri": "https://localhost:8080/",
          "height": 38
        },
        "id": "gYLfx3GbZnfZ",
        "outputId": "2f1ad6a3-5714-4ec9-d7cb-6cfa529d8506"
      },
      "source": [
        "A.det()"
      ],
      "execution_count": null,
      "outputs": [
        {
          "output_type": "execute_result",
          "data": {
            "image/png": "[encoded data removed]",
            "text/latex": "$$a_{11} a_{22} - a_{12} a_{21}$$",
            "text/plain": [
              "a₁₁⋅a₂₂ - a₁₂⋅a₂₁"
            ]
          },
          "metadata": {
            "tags": []
          },
          "execution_count": 79
        }
      ]
    },
    {
      "cell_type": "code",
      "metadata": {
        "colab": {
          "base_uri": "https://localhost:8080/",
          "height": 61
        },
        "id": "8HrJzhkYZvGS",
        "outputId": "0b0c46f3-5a94-4076-8315-7a2cc7e6c3df"
      },
      "source": [
        "A.inv()"
      ],
      "execution_count": null,
      "outputs": [
        {
          "output_type": "execute_result",
          "data": {
            "text/latex": "$$\\left[\\begin{matrix}\\frac{a_{22}}{a_{11} a_{22} - a_{12} a_{21}} & - \\frac{a_{12}}{a_{11} a_{22} - a_{12} a_{21}}\\\\- \\frac{a_{21}}{a_{11} a_{22} - a_{12} a_{21}} & \\frac{a_{11}}{a_{11} a_{22} - a_{12} a_{21}}\\end{matrix}\\right]$$",
            "text/plain": [
              "⎡       a₂₂               -a₁₂       ⎤\n",
              "⎢─────────────────  ─────────────────⎥\n",
              "⎢a₁₁⋅a₂₂ - a₁₂⋅a₂₁  a₁₁⋅a₂₂ - a₁₂⋅a₂₁⎥\n",
              "⎢                                    ⎥\n",
              "⎢      -a₂₁                a₁₁       ⎥\n",
              "⎢─────────────────  ─────────────────⎥\n",
              "⎣a₁₁⋅a₂₂ - a₁₂⋅a₂₁  a₁₁⋅a₂₂ - a₁₂⋅a₂₁⎦"
            ]
          },
          "metadata": {
            "tags": []
          },
          "execution_count": 80
        }
      ]
    },
    {
      "cell_type": "markdown",
      "metadata": {
        "id": "EbyP0KmBay27"
      },
      "source": [
        "#연립 방정식의 해"
      ]
    },
    {
      "cell_type": "markdown",
      "metadata": {
        "id": "huEbW-6Wa0pI"
      },
      "source": [
        "$$ \\begin{align}\n",
        "x-y &= -2  \\\\\n",
        "x+y &= 3\n",
        "\\end{align}  $$\n",
        " \n",
        "행렬로 나타내면\n",
        "\n",
        "$$ \\mathbf {A x} = \\mathbf b  $$"
      ]
    },
    {
      "cell_type": "markdown",
      "metadata": {
        "id": "0t_XL-xCbzCE"
      },
      "source": [
        ""
      ]
    },
    {
      "cell_type": "code",
      "metadata": {
        "colab": {
          "base_uri": "https://localhost:8080/",
          "height": 58
        },
        "id": "LxtPubDmb-0j",
        "outputId": "0cb89c28-3197-40d1-b2d0-7034538a7e8b"
      },
      "source": [
        "A = Matrix( [[1,-1],[1,1]] )\n",
        "b = Matrix( [-2,3] )\n",
        "x1, x2 = symbols('x1, x2')\n",
        "x = Matrix( [x1,x2] )\n",
        "Eq(A *x, b)"
      ],
      "execution_count": null,
      "outputs": [
        {
          "output_type": "execute_result",
          "data": {
            "text/latex": "$$\\left[\\begin{matrix}x_{1} - x_{2}\\\\x_{1} + x_{2}\\end{matrix}\\right] = \\left[\\begin{matrix}-2\\\\3\\end{matrix}\\right]$$",
            "text/plain": [
              "⎡x₁ - x₂⎤   ⎡-2⎤\n",
              "⎢       ⎥ = ⎢  ⎥\n",
              "⎣x₁ + x₂⎦   ⎣3 ⎦"
            ]
          },
          "metadata": {
            "tags": []
          },
          "execution_count": 81
        }
      ]
    },
    {
      "cell_type": "markdown",
      "metadata": {
        "id": "hIs3rC0NdODq"
      },
      "source": [
        "방정식의 해는"
      ]
    },
    {
      "cell_type": "code",
      "metadata": {
        "colab": {
          "base_uri": "https://localhost:8080/",
          "height": 58
        },
        "id": "71XorJLJdRGT",
        "outputId": "c067e25a-7915-4f02-8723-bd7ae8342709"
      },
      "source": [
        "x = A.inv() * b\n",
        "x"
      ],
      "execution_count": null,
      "outputs": [
        {
          "output_type": "execute_result",
          "data": {
            "text/latex": "$$\\left[\\begin{matrix}\\frac{1}{2}\\\\\\frac{5}{2}\\end{matrix}\\right]$$",
            "text/plain": [
              "⎡1/2⎤\n",
              "⎢   ⎥\n",
              "⎣5/2⎦"
            ]
          },
          "metadata": {
            "tags": []
          },
          "execution_count": 82
        }
      ]
    },
    {
      "cell_type": "markdown",
      "metadata": {
        "id": "UxnoSh_1T1JK"
      },
      "source": [
        "# 라플라스 변환"
      ]
    },
    {
      "cell_type": "code",
      "metadata": {
        "id": "MdN1HRSS7IRB"
      },
      "source": [
        "from sympy import *\n",
        "          \n",
        "x, y, z, t = symbols('x y z t')\n",
        "f, g, h = symbols('f, g, h', cls=Function)\n",
        "\n",
        "init_printing()\n",
        "%matplotlib inline "
      ],
      "execution_count": null,
      "outputs": []
    },
    {
      "cell_type": "markdown",
      "metadata": {
        "id": "pBKQnpxg7b49"
      },
      "source": [
        "라플라스 변환\n",
        "함수  f(t)  의 라플라스 변환은 다음과 같이 정의된다.\n",
        "\n",
        "$ F(s) = \\int _0 ^{\\infty} e ^{-st} f(t) dt $\n",
        " \n",
        "sympy의 라플라스 변환과 역변환 모듈을 도입한다. 변수  s  와 상수들을 선언한다."
      ]
    },
    {
      "cell_type": "code",
      "metadata": {
        "id": "IjVyqQLY7gHx"
      },
      "source": [
        "from sympy.integrals.transforms import laplace_transform\n",
        "from sympy.integrals.transforms import inverse_laplace_transform\n",
        "\n",
        "s = symbols('s')\n",
        "a, ω = symbols('a ω', constant=True, positive=True)"
      ],
      "execution_count": null,
      "outputs": []
    },
    {
      "cell_type": "markdown",
      "metadata": {
        "id": "q9lKosay8DCZ"
      },
      "source": [
        "$f(t)=1$ \n",
        "의 라플라스 변환"
      ]
    },
    {
      "cell_type": "code",
      "metadata": {
        "colab": {
          "base_uri": "https://localhost:8080/"
        },
        "id": "3ksaaFwu7gM2",
        "outputId": "9ebc918e-7f7c-42be-986e-806a94932462"
      },
      "source": [
        "laplace_transform( 1, t, s )"
      ],
      "execution_count": null,
      "outputs": [
        {
          "output_type": "execute_result",
          "data": {
            "text/plain": [
              "(1/s, 0, True)"
            ]
          },
          "metadata": {
            "tags": []
          },
          "execution_count": 87
        }
      ]
    },
    {
      "cell_type": "markdown",
      "metadata": {
        "id": "ExnI-_Mt8HAR"
      },
      "source": [
        "첫번째 결과가 라플라스 변환이고, 나머지들은 수렴 조건과 관련된 사항들이다.\n",
        "\n",
        "라플라스 변환만 출력하려면, noconds=True 옵션을 추가한다."
      ]
    },
    {
      "cell_type": "code",
      "metadata": {
        "colab": {
          "base_uri": "https://localhost:8080/",
          "height": 38
        },
        "id": "KvV-E4Kq8FxN",
        "outputId": "bb99b26f-2e25-4cad-aabd-7cd16a050390"
      },
      "source": [
        "laplace_transform( 1, t, s, noconds=True )"
      ],
      "execution_count": null,
      "outputs": [
        {
          "output_type": "execute_result",
          "data": {
            "image/png": "[encoded data removed]",
            "text/latex": "$$\\frac{1}{s}$$",
            "text/plain": [
              "1\n",
              "─\n",
              "s"
            ]
          },
          "metadata": {
            "tags": []
          },
          "execution_count": 88
        }
      ]
    },
    {
      "cell_type": "markdown",
      "metadata": {
        "id": "qlxnkj2B8rsy"
      },
      "source": [
        "$f(t)=t^a$\n",
        "  의 라플라스 변환\n",
        "\n"
      ]
    },
    {
      "cell_type": "code",
      "metadata": {
        "colab": {
          "base_uri": "https://localhost:8080/",
          "height": 38
        },
        "id": "oAJfLzOP9G5w",
        "outputId": "ac70042a-221d-4e9a-8ff4-086374bb5565"
      },
      "source": [
        "laplace_transform( t**a, t, s, noconds=True )"
      ],
      "execution_count": null,
      "outputs": [
        {
          "output_type": "execute_result",
          "data": {
            "image/png": "[encoded data removed]",
            "text/latex": "$$s^{- a - 1} \\Gamma{\\left(a + 1 \\right)}$$",
            "text/plain": [
              " -a - 1         \n",
              "s      ⋅Γ(a + 1)"
            ]
          },
          "metadata": {
            "tags": []
          },
          "execution_count": 89
        }
      ]
    },
    {
      "cell_type": "markdown",
      "metadata": {
        "id": "-N8LzCdb_8ku"
      },
      "source": [
        "$f(t)=e^{at}$\n",
        "  의 라플라스 변환"
      ]
    },
    {
      "cell_type": "code",
      "metadata": {
        "colab": {
          "base_uri": "https://localhost:8080/",
          "height": 39
        },
        "id": "T7AEZqAEAOis",
        "outputId": "08f7d1b1-c27e-4c8f-cb20-5cc234199c79"
      },
      "source": [
        "laplace_transform(exp(a*t),t,s)"
      ],
      "execution_count": null,
      "outputs": [
        {
          "output_type": "execute_result",
          "data": {
            "image/png": "[encoded data removed]",
            "text/latex": "$$\\left ( \\frac{1}{- a + s}, \\quad a, \\quad \\frac{s}{a} \\neq 1\\right )$$",
            "text/plain": [
              "⎛  1        s    ⎞\n",
              "⎜──────, a, ─ ≠ 1⎟\n",
              "⎝-a + s     a    ⎠"
            ]
          },
          "metadata": {
            "tags": []
          },
          "execution_count": 90
        }
      ]
    },
    {
      "cell_type": "markdown",
      "metadata": {
        "id": "vapYJaZgBfls"
      },
      "source": [
        "Heaviside 계단 함수  $θ(t−a)$"
      ]
    },
    {
      "cell_type": "code",
      "metadata": {
        "colab": {
          "base_uri": "https://localhost:8080/",
          "height": 38
        },
        "id": "fmEaf-pmBo9m",
        "outputId": "714306a8-4e1b-43e1-9ab6-fedba2b5c68a"
      },
      "source": [
        "Heaviside( t-a )"
      ],
      "execution_count": null,
      "outputs": [
        {
          "output_type": "execute_result",
          "data": {
            "image/png": "[encoded data removed]",
            "text/latex": "$$\\theta\\left(- a + t\\right)$$",
            "text/plain": [
              "Heaviside(-a + t)"
            ]
          },
          "metadata": {
            "tags": []
          },
          "execution_count": 91
        }
      ]
    },
    {
      "cell_type": "code",
      "metadata": {
        "colab": {
          "base_uri": "https://localhost:8080/",
          "height": 38
        },
        "id": "gxcdG6kVB0Iz",
        "outputId": "997a8394-69cd-4458-cd70-b066b26293d4"
      },
      "source": [
        "laplace_transform(Heaviside( t-a ),t,s,noconds=True )"
      ],
      "execution_count": null,
      "outputs": [
        {
          "output_type": "execute_result",
          "data": {
            "image/png": "[encoded data removed]",
            "text/latex": "$$\\frac{1}{s} e^{- a s}$$",
            "text/plain": [
              " -a⋅s\n",
              "ℯ    \n",
              "─────\n",
              "  s  "
            ]
          },
          "metadata": {
            "tags": []
          },
          "execution_count": 15
        }
      ]
    },
    {
      "cell_type": "markdown",
      "metadata": {
        "id": "C0ZdGcbuCLvD"
      },
      "source": [
        "Dirac 델타 함수  $δ(t−a)$"
      ]
    },
    {
      "cell_type": "code",
      "metadata": {
        "colab": {
          "base_uri": "https://localhost:8080/",
          "height": 38
        },
        "id": "868DDFDvCPdH",
        "outputId": "85cda035-0486-42dc-9982-d4672f63abb4"
      },
      "source": [
        "DiracDelta(t-a)"
      ],
      "execution_count": null,
      "outputs": [
        {
          "output_type": "execute_result",
          "data": {
            "image/png": "[encoded data removed]",
            "text/latex": "$$\\delta\\left(- a + t\\right)$$",
            "text/plain": [
              "δ(-a + t)"
            ]
          },
          "metadata": {
            "tags": []
          },
          "execution_count": 92
        }
      ]
    },
    {
      "cell_type": "code",
      "metadata": {
        "colab": {
          "base_uri": "https://localhost:8080/",
          "height": 38
        },
        "id": "l5OrLKjCCZc7",
        "outputId": "8d3eb2dc-3bcc-415e-c610-6b754f9f73c8"
      },
      "source": [
        "laplace_transform(DiracDelta(t-a),t,s,noconds=True )"
      ],
      "execution_count": null,
      "outputs": [
        {
          "output_type": "execute_result",
          "data": {
            "image/png": "[encoded data removed]",
            "text/latex": "$$e^{- a s}$$",
            "text/plain": [
              " -a⋅s\n",
              "ℯ    "
            ]
          },
          "metadata": {
            "tags": []
          },
          "execution_count": 93
        }
      ]
    },
    {
      "cell_type": "markdown",
      "metadata": {
        "id": "7Y8jffAaDgO7"
      },
      "source": [
        "$\\sin \\omega  t$\n",
        "  의 라플라스 변환"
      ]
    },
    {
      "cell_type": "code",
      "metadata": {
        "colab": {
          "base_uri": "https://localhost:8080/",
          "height": 39
        },
        "id": "yz_jld3uDkqp",
        "outputId": "b2877d6e-4e47-4e37-9ff9-ca3b8efc6e2e"
      },
      "source": [
        "laplace_transform( sin(ω*t), t, s, noconds=True )"
      ],
      "execution_count": null,
      "outputs": [
        {
          "output_type": "execute_result",
          "data": {
            "image/png": "[encoded data removed]",
            "text/latex": "$$\\frac{ω}{s^{2} + ω^{2}}$$",
            "text/plain": [
              "   ω   \n",
              "───────\n",
              " 2    2\n",
              "s  + ω "
            ]
          },
          "metadata": {
            "tags": []
          },
          "execution_count": 94
        }
      ]
    },
    {
      "cell_type": "markdown",
      "metadata": {
        "id": "VrVujPnNE8xU"
      },
      "source": [
        "$\\cosωt $\n",
        " 의 라플라스 변환"
      ]
    },
    {
      "cell_type": "code",
      "metadata": {
        "colab": {
          "base_uri": "https://localhost:8080/",
          "height": 39
        },
        "id": "A3CudddHFB11",
        "outputId": "b9173204-5df2-4d00-cd3f-8410be78c291"
      },
      "source": [
        "laplace_transform(cos(ω* t),t,s, noconds=True)"
      ],
      "execution_count": null,
      "outputs": [
        {
          "output_type": "execute_result",
          "data": {
            "image/png": "[encoded data removed]",
            "text/latex": "$$\\frac{s}{s^{2} + ω^{2}}$$",
            "text/plain": [
              "   s   \n",
              "───────\n",
              " 2    2\n",
              "s  + ω "
            ]
          },
          "metadata": {
            "tags": []
          },
          "execution_count": 95
        }
      ]
    },
    {
      "cell_type": "markdown",
      "metadata": {
        "id": "FNZe-gzgFrKS"
      },
      "source": [
        "$\\frac 1 s  $\n",
        "의 역변환은 Heaviside 계단함수"
      ]
    },
    {
      "cell_type": "code",
      "metadata": {
        "colab": {
          "base_uri": "https://localhost:8080/",
          "height": 38
        },
        "id": "FVSVqw9EF2ru",
        "outputId": "ebae2b2e-eed9-4ca5-9d16-d4a7330ae9ca"
      },
      "source": [
        "inverse_laplace_transform(1/s,s,t)"
      ],
      "execution_count": null,
      "outputs": [
        {
          "output_type": "execute_result",
          "data": {
            "image/png": "[encoded data removed]",
            "text/latex": "$$\\theta\\left(t\\right)$$",
            "text/plain": [
              "Heaviside(t)"
            ]
          },
          "metadata": {
            "tags": []
          },
          "execution_count": 96
        }
      ]
    },
    {
      "cell_type": "markdown",
      "metadata": {
        "id": "ui2UL_yYJizm"
      },
      "source": [
        "$\\frac 1 {s^2} $  의 역변환"
      ]
    },
    {
      "cell_type": "code",
      "metadata": {
        "colab": {
          "base_uri": "https://localhost:8080/",
          "height": 38
        },
        "id": "jKk7u3hcJpBX",
        "outputId": "6024d2d7-cdff-4bb7-da36-ab73f5b0a2c8"
      },
      "source": [
        "inverse_laplace_transform(1/(s**2),s,t)"
      ],
      "execution_count": null,
      "outputs": [
        {
          "output_type": "execute_result",
          "data": {
            "image/png": "[encoded data removed]",
            "text/latex": "$$t \\theta\\left(t\\right)$$",
            "text/plain": [
              "t⋅Heaviside(t)"
            ]
          },
          "metadata": {
            "tags": []
          },
          "execution_count": 97
        }
      ]
    },
    {
      "cell_type": "markdown",
      "metadata": {
        "id": "U3axIgwMKptu"
      },
      "source": [
        "$e^{−as}$  의 역변환은 델타함수"
      ]
    },
    {
      "cell_type": "code",
      "metadata": {
        "colab": {
          "base_uri": "https://localhost:8080/",
          "height": 38
        },
        "id": "zLSwdS8jK29s",
        "outputId": "2937f995-059b-41cd-89d8-28bffe7c7376"
      },
      "source": [
        "inverse_laplace_transform(exp(- a * s),s,t, noconds=True)"
      ],
      "execution_count": null,
      "outputs": [
        {
          "output_type": "execute_result",
          "data": {
            "image/png": "[encoded data removed]",
            "text/latex": "$$\\mathcal{L}^{-1}_{s}\\left[e^{- a s}\\right]\\left(t\\right)$$",
            "text/plain": [
              "                       ⎛ -a⋅s            ⎞\n",
              "InverseLaplaceTransform⎝ℯ    , s, t, None⎠"
            ]
          },
          "metadata": {
            "tags": []
          },
          "execution_count": 106
        }
      ]
    },
    {
      "cell_type": "code",
      "metadata": {
        "colab": {
          "base_uri": "https://localhost:8080/",
          "height": 38
        },
        "id": "ExZPnQphx8yP",
        "outputId": "46fa8d71-b098-4e42-983f-e348ac406a97"
      },
      "source": [
        "nsimplify(_)"
      ],
      "execution_count": null,
      "outputs": [
        {
          "output_type": "execute_result",
          "data": {
            "image/png": "[encoded data removed]",
            "text/latex": "$$\\mathcal{L}^{-1}_{s}\\left[e^{- a s}\\right]\\left(t\\right)$$",
            "text/plain": [
              "                       ⎛ -a⋅s            ⎞\n",
              "InverseLaplaceTransform⎝ℯ    , s, t, None⎠"
            ]
          },
          "metadata": {
            "tags": []
          },
          "execution_count": 107
        }
      ]
    },
    {
      "cell_type": "code",
      "metadata": {
        "colab": {
          "base_uri": "https://localhost:8080/",
          "height": 38
        },
        "id": "1J_ykyOeyB_n",
        "outputId": "5b32ebd9-6d77-4f87-a337-5f993cdeb333"
      },
      "source": [
        "_.doit()"
      ],
      "execution_count": null,
      "outputs": [
        {
          "output_type": "execute_result",
          "data": {
            "image/png": "[encoded data removed]",
            "text/latex": "$$\\mathcal{L}^{-1}_{s}\\left[e^{- a s}\\right]\\left(t\\right)$$",
            "text/plain": [
              "                       ⎛ -a⋅s            ⎞\n",
              "InverseLaplaceTransform⎝ℯ    , s, t, None⎠"
            ]
          },
          "metadata": {
            "tags": []
          },
          "execution_count": 108
        }
      ]
    },
    {
      "cell_type": "code",
      "metadata": {
        "colab": {
          "base_uri": "https://localhost:8080/",
          "height": 38
        },
        "id": "Pr4THbiCNVlO",
        "outputId": "e7f1db71-77d6-4325-f208-c041221d6457"
      },
      "source": [
        "inverse_laplace_transform( 1, s, t )"
      ],
      "execution_count": null,
      "outputs": [
        {
          "output_type": "execute_result",
          "data": {
            "image/png": "[encoded data removed]",
            "text/latex": "$$\\mathcal{L}^{-1}_{s}\\left[1\\right]\\left(t\\right)$$",
            "text/plain": [
              "InverseLaplaceTransform(1, s, t, None)"
            ]
          },
          "metadata": {
            "tags": []
          },
          "execution_count": 101
        }
      ]
    },
    {
      "cell_type": "markdown",
      "metadata": {
        "id": "oRF5et-3NlpG"
      },
      "source": [
        "상미분방정식의 초기값 문제의 해를 구한다.\n",
        "\n",
        "$$ y′′+y′+9y=0, \\quad y(0)=0.16, \\quad y′(0)=0 $$\n",
        " \n",
        "도함수에 대한 라플라스 변환의 공식은 다음과 같다.\n",
        "\n",
        "$$ \\mathscr{L}[y(t)]=Y(s) \\\\ \\mathscr{L}[y′(t)]=sY(s)−y(0) \\\\ \\mathscr{L}[y′′(t)]=s2Y(s)−sy(0)−sy′(0) $$\n",
        "공식을 이용하여, 미분 방정식을  Y(s)  에 대한 대수 방정식으로 기술한다."
      ]
    },
    {
      "cell_type": "code",
      "metadata": {
        "colab": {
          "base_uri": "https://localhost:8080/",
          "height": 38
        },
        "id": "Az3yx4KkPTGt",
        "outputId": "6b14ce21-3f01-46f1-df18-1d5c7dcb0eab"
      },
      "source": [
        "Y = Symbol('Y')\n",
        "\n",
        "eqn = Eq( (s**2*Y -s* 0.16 -0) + (s*Y - 0.16) + 9*Y, 0)\n",
        "eqn"
      ],
      "execution_count": null,
      "outputs": [
        {
          "output_type": "execute_result",
          "data": {
            "image/png": "[encoded data removed]",
            "text/latex": "$$Y s^{2} + Y s + 9 Y - 0.16 s - 0.16 = 0$$",
            "text/plain": [
              "   2                                \n",
              "Y⋅s  + Y⋅s + 9⋅Y - 0.16⋅s - 0.16 = 0"
            ]
          },
          "metadata": {
            "tags": []
          },
          "execution_count": 102
        }
      ]
    },
    {
      "cell_type": "markdown",
      "metadata": {
        "id": "Mij6lVOmQurh"
      },
      "source": [
        "$Y(s) $ 에 대한 방정식을 푼다."
      ]
    },
    {
      "cell_type": "code",
      "metadata": {
        "colab": {
          "base_uri": "https://localhost:8080/",
          "height": 47
        },
        "id": "gc3aHSeAQqM0",
        "outputId": "5abd6608-609a-463a-a78a-c94e1d2fc47b"
      },
      "source": [
        "solve( eqn, Y )"
      ],
      "execution_count": null,
      "outputs": [
        {
          "output_type": "execute_result",
          "data": {
            "image/png": "[encoded data removed]",
            "text/latex": "$$\\left [ \\frac{0.16 \\left(s + 1.0\\right)}{s^{2} + s + 9.0}\\right ]$$",
            "text/plain": [
              "⎡0.16⋅(s + 1.0)⎤\n",
              "⎢──────────────⎥\n",
              "⎢  2           ⎥\n",
              "⎣ s  + s + 9.0 ⎦"
            ]
          },
          "metadata": {
            "tags": []
          },
          "execution_count": 103
        }
      ]
    },
    {
      "cell_type": "markdown",
      "metadata": {
        "id": "4hbJOQNHR7Me"
      },
      "source": [
        "nsimplify() 함수를 사용하여, 수식의 숫자들을 유리수로 바꿔주면 역변환이 더 용이하다."
      ]
    },
    {
      "cell_type": "code",
      "metadata": {
        "colab": {
          "base_uri": "https://localhost:8080/",
          "height": 43
        },
        "id": "8NsLKgbDSCMV",
        "outputId": "bf95d651-4c82-4a22-bd80-95c7a6654c92"
      },
      "source": [
        "Y = _[0].nsimplify()\n",
        "Y"
      ],
      "execution_count": null,
      "outputs": [
        {
          "output_type": "execute_result",
          "data": {
            "image/png": "[encoded data removed]",
            "text/latex": "$$\\frac{4 \\left(s + 1\\right)}{25 \\left(s^{2} + s + 9\\right)}$$",
            "text/plain": [
              "   4⋅(s + 1)   \n",
              "───────────────\n",
              "   ⎛ 2        ⎞\n",
              "25⋅⎝s  + s + 9⎠"
            ]
          },
          "metadata": {
            "tags": []
          },
          "execution_count": 104
        }
      ]
    },
    {
      "cell_type": "markdown",
      "metadata": {
        "id": "oubHzqYISMxq"
      },
      "source": [
        "$ Y $ 의 역변환을 구한다.\n"
      ]
    },
    {
      "cell_type": "code",
      "metadata": {
        "colab": {
          "base_uri": "https://localhost:8080/",
          "height": 47
        },
        "id": "9hI4TwNTSPJk",
        "outputId": "99a1ffc2-7a6f-43d2-ee09-d8d2221abf94"
      },
      "source": [
        "y = inverse_laplace_transform( Y, s, t )\n",
        "y"
      ],
      "execution_count": null,
      "outputs": [
        {
          "output_type": "execute_result",
          "data": {
            "image/png": "[encoded data removed]",
            "text/latex": "$$\\frac{4 \\sqrt{35}}{875} \\left(\\sin{\\left (\\frac{\\sqrt{35} t}{2} \\right )} + \\sqrt{35} \\cos{\\left (\\frac{\\sqrt{35} t}{2} \\right )}\\right) e^{- \\frac{t}{2}} \\theta\\left(t\\right)$$",
            "text/plain": [
              "                                     -t              \n",
              "                                     ───             \n",
              "      ⎛   ⎛√35⋅t⎞          ⎛√35⋅t⎞⎞   2              \n",
              "4⋅√35⋅⎜sin⎜─────⎟ + √35⋅cos⎜─────⎟⎟⋅ℯ   ⋅Heaviside(t)\n",
              "      ⎝   ⎝  2  ⎠          ⎝  2  ⎠⎠                  \n",
              "─────────────────────────────────────────────────────\n",
              "                         875                         "
            ]
          },
          "metadata": {
            "tags": []
          },
          "execution_count": 105
        }
      ]
    },
    {
      "cell_type": "markdown",
      "metadata": {
        "id": "1d5A3r-rSqRK"
      },
      "source": [
        "결과를 그래프로 그린다."
      ]
    },
    {
      "cell_type": "code",
      "metadata": {
        "colab": {
          "base_uri": "https://localhost:8080/",
          "height": 413
        },
        "id": "EVBfyl8NSrJT",
        "outputId": "0aa77e07-133d-4b25-87f7-8efe7b3c627f"
      },
      "source": [
        "plot( y, xlim=(0,10) )"
      ],
      "execution_count": null,
      "outputs": [
        {
          "output_type": "stream",
          "text": [
            "/usr/local/lib/python3.6/dist-packages/sympy/plotting/plot.py:890: MatplotlibDeprecationWarning: \n",
            "The set_smart_bounds function was deprecated in Matplotlib 3.2 and will be removed two minor releases later.\n",
            "  self.ax.spines['left'].set_smart_bounds(True)\n",
            "/usr/local/lib/python3.6/dist-packages/sympy/plotting/plot.py:891: MatplotlibDeprecationWarning: \n",
            "The set_smart_bounds function was deprecated in Matplotlib 3.2 and will be removed two minor releases later.\n",
            "  self.ax.spines['bottom'].set_smart_bounds(False)\n"
          ],
          "name": "stderr"
        },
        {
          "output_type": "display_data",
          "data": {
            "image/png": "[encoded data removed]",
            "text/plain": [
              "<Figure size 432x288 with 1 Axes>"
            ]
          },
          "metadata": {
            "tags": [],
            "needs_background": "light"
          }
        },
        {
          "output_type": "execute_result",
          "data": {
            "text/plain": [
              "<sympy.plotting.plot.Plot at 0x7f6f38719cc0>"
            ]
          },
          "metadata": {
            "tags": []
          },
          "execution_count": 109
        }
      ]
    },
    {
      "cell_type": "code",
      "metadata": {
        "id": "SxmqF_31e_rl"
      },
      "source": [
        ""
      ],
      "execution_count": null,
      "outputs": []
    }
  ]
}