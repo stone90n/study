{
  "nbformat": 4,
  "nbformat_minor": 0,
  "metadata": {
    "colab": {
      "name": "mathscie.ipynb",
      "provenance": [],
      "collapsed_sections": [],
      "authorship_tag": "ABX9TyObPj5+RDWQDaDeEZyqgvGR",
      "include_colab_link": true
    },
    "kernelspec": {
      "name": "python3",
      "display_name": "Python 3"
    }
  },
  "cells": [
    {
      "cell_type": "markdown",
      "metadata": {
        "id": "view-in-github",
        "colab_type": "text"
      },
      "source": [
        "<a href=\"https://colab.research.google.com/github/stone90n/study/blob/main/mathscie.ipynb\" target=\"_parent\"><img src=\"https://colab.research.google.com/assets/colab-badge.svg\" alt=\"Open In Colab\"/></a>"
      ]
    },
    {
      "cell_type": "markdown",
      "metadata": {
        "id": "f9Vr1rM-gFun"
      },
      "source": [
        "#파이썬 수학"
      ]
    },
    {
      "cell_type": "code",
      "metadata": {
        "colab": {
          "base_uri": "https://localhost:8080/"
        },
        "id": "lzT6sUkGgNsC",
        "outputId": "42366ce1-49f5-4f52-8f7f-7f3dd292e2ac"
      },
      "source": [
        "from math import *\n",
        "\n",
        "pi"
      ],
      "execution_count": null,
      "outputs": [
        {
          "output_type": "execute_result",
          "data": {
            "text/plain": [
              "3.141592653589793"
            ]
          },
          "metadata": {
            "tags": []
          },
          "execution_count": 2
        }
      ]
    },
    {
      "cell_type": "markdown",
      "metadata": {
        "id": "rdajaQ8_i7Mf"
      },
      "source": [
        "math 모듈을 불러들이면, 기본적인 수학 함수를 사용할 수 있다. 하지만, 복잡한 수식이나 데이터를 다루기에는 부족한 면이 있다.\n",
        "모듈은 라이브러리(library)라고도 부르는데, 한 번 불러들이면 그 이후에 실행하는 모든 셀에 지속적으로 적용된다."
      ]
    },
    {
      "cell_type": "code",
      "metadata": {
        "colab": {
          "base_uri": "https://localhost:8080/"
        },
        "id": "1Ausph1_jLAW",
        "outputId": "48ee2332-b4b4-4768-8cd3-c549a10ee93b"
      },
      "source": [
        "sqrt(2)"
      ],
      "execution_count": null,
      "outputs": [
        {
          "output_type": "execute_result",
          "data": {
            "text/plain": [
              "1.4142135623730951"
            ]
          },
          "metadata": {
            "tags": []
          },
          "execution_count": 3
        }
      ]
    },
    {
      "cell_type": "code",
      "metadata": {
        "colab": {
          "base_uri": "https://localhost:8080/"
        },
        "id": "b_U7hKvMjMtp",
        "outputId": "658a70f2-5738-45ce-9ce2-c446df24af3f"
      },
      "source": [
        "2**(1/2)"
      ],
      "execution_count": null,
      "outputs": [
        {
          "output_type": "execute_result",
          "data": {
            "text/plain": [
              "1.4142135623730951"
            ]
          },
          "metadata": {
            "tags": []
          },
          "execution_count": 4
        }
      ]
    },
    {
      "cell_type": "code",
      "metadata": {
        "id": "UR0OZK_kjUBX"
      },
      "source": [
        "cos( pi / 3 )"
      ],
      "execution_count": null,
      "outputs": []
    },
    {
      "cell_type": "code",
      "metadata": {
        "id": "Xa64C1utjWqn"
      },
      "source": [
        "abs( -1.5 )"
      ],
      "execution_count": null,
      "outputs": []
    },
    {
      "cell_type": "markdown",
      "metadata": {
        "id": "tky-uOZ8jam2"
      },
      "source": [
        "복소수\n",
        "허수단위  i  는 파이썬에서 1j 로 표기한다. 그냥 j 로 쓰면 오류가 발생한다. 1 * j 로 써도 오류이다.\n",
        "i2=−1  인지 확인해 보자."
      ]
    },
    {
      "cell_type": "code",
      "metadata": {
        "colab": {
          "base_uri": "https://localhost:8080/"
        },
        "id": "9j19iz0VjdpE",
        "outputId": "c895180d-9b28-4c27-faa1-7f105b773c7c"
      },
      "source": [
        "1j **2"
      ],
      "execution_count": null,
      "outputs": [
        {
          "output_type": "execute_result",
          "data": {
            "text/plain": [
              "(-1+0j)"
            ]
          },
          "metadata": {
            "tags": []
          },
          "execution_count": 5
        }
      ]
    },
    {
      "cell_type": "markdown",
      "metadata": {
        "id": "Mh_AM6TEjqOu"
      },
      "source": [
        "켤레 복소수\n",
        "2+3i  의 켤레 복소수(complex conjugate)를 구한다."
      ]
    },
    {
      "cell_type": "code",
      "metadata": {
        "colab": {
          "base_uri": "https://localhost:8080/"
        },
        "id": "4jeZsvhDjrLT",
        "outputId": "8e1b092f-c0af-44d9-c0c5-180da28c5839"
      },
      "source": [
        "(2+3j).conjugate()"
      ],
      "execution_count": null,
      "outputs": [
        {
          "output_type": "execute_result",
          "data": {
            "text/plain": [
              "(2-3j)"
            ]
          },
          "metadata": {
            "tags": []
          },
          "execution_count": 6
        }
      ]
    },
    {
      "cell_type": "code",
      "metadata": {
        "colab": {
          "base_uri": "https://localhost:8080/"
        },
        "id": "ObpMwdU3jx5S",
        "outputId": "716d2804-8b40-4bb8-afc6-c9f667271b71"
      },
      "source": [
        "(4-2j) - (3+5j)"
      ],
      "execution_count": null,
      "outputs": [
        {
          "output_type": "execute_result",
          "data": {
            "text/plain": [
              "(1-7j)"
            ]
          },
          "metadata": {
            "tags": []
          },
          "execution_count": 7
        }
      ]
    },
    {
      "cell_type": "code",
      "metadata": {
        "colab": {
          "base_uri": "https://localhost:8080/"
        },
        "id": "51dZSh8Yj2s8",
        "outputId": "db013bbd-ab99-462a-c1c6-f5b12ecea464"
      },
      "source": [
        "(2+3j) * (3-2j)"
      ],
      "execution_count": null,
      "outputs": [
        {
          "output_type": "execute_result",
          "data": {
            "text/plain": [
              "(12+5j)"
            ]
          },
          "metadata": {
            "tags": []
          },
          "execution_count": 8
        }
      ]
    },
    {
      "cell_type": "markdown",
      "metadata": {
        "id": "ZKCvFMYZj-I7"
      },
      "source": [
        "$ \\frac {1+2i} {3-i} $"
      ]
    },
    {
      "cell_type": "code",
      "metadata": {
        "colab": {
          "base_uri": "https://localhost:8080/"
        },
        "id": "WxSu_2eykEka",
        "outputId": "430f175f-839e-492b-b4c0-3517aa98d61e"
      },
      "source": [
        "(1+2j) / (3-1j)"
      ],
      "execution_count": null,
      "outputs": [
        {
          "output_type": "execute_result",
          "data": {
            "text/plain": [
              "(0.1+0.7000000000000001j)"
            ]
          },
          "metadata": {
            "tags": []
          },
          "execution_count": 9
        }
      ]
    },
    {
      "cell_type": "code",
      "metadata": {
        "id": "IDp3Occ6kymg"
      },
      "source": [
        "%matplotlib inline   "
      ],
      "execution_count": null,
      "outputs": []
    },
    {
      "cell_type": "markdown",
      "metadata": {
        "id": "dzQSpL8Wk2zz"
      },
      "source": [
        "직선의 방정식\n",
        "직선  $y=2x−1$  을 그린다."
      ]
    },
    {
      "cell_type": "markdown",
      "metadata": {
        "id": "q2MSdjltlKuo"
      },
      "source": [
        ""
      ]
    },
    {
      "cell_type": "code",
      "metadata": {
        "id": "5DZHwbHElLJW"
      },
      "source": [
        "from sympy import *\n",
        "init_printing()             # 수식을 보기좋게 출력하는 함수를 호출한다\n",
        "\n",
        "x, y, z, t = symbols('x y z t')"
      ],
      "execution_count": null,
      "outputs": []
    },
    {
      "cell_type": "code",
      "metadata": {
        "colab": {
          "base_uri": "https://localhost:8080/",
          "height": 389
        },
        "id": "_ulZSKiOk8UY",
        "outputId": "1d98ad9b-8bb9-4ee5-a6aa-7db95358e4d8"
      },
      "source": [
        "plot( 2*x - 1, xlim=(-2,3) ,ylim=(-5,4))"
      ],
      "execution_count": null,
      "outputs": [
        {
          "output_type": "stream",
          "text": [
            "/usr/local/lib/python3.6/dist-packages/sympy/plotting/plot.py:890: MatplotlibDeprecationWarning: \n",
            "The set_smart_bounds function was deprecated in Matplotlib 3.2 and will be removed two minor releases later.\n",
            "  self.ax.spines['left'].set_smart_bounds(True)\n",
            "/usr/local/lib/python3.6/dist-packages/sympy/plotting/plot.py:891: MatplotlibDeprecationWarning: \n",
            "The set_smart_bounds function was deprecated in Matplotlib 3.2 and will be removed two minor releases later.\n",
            "  self.ax.spines['bottom'].set_smart_bounds(False)\n"
          ],
          "name": "stderr"
        },
        {
          "output_type": "display_data",
          "data": {
            "image/png": "[encoded data removed]",
            "text/plain": [
              "<Figure size 432x288 with 1 Axes>"
            ]
          },
          "metadata": {
            "tags": [],
            "needs_background": "light"
          }
        },
        {
          "output_type": "execute_result",
          "data": {
            "text/plain": [
              "<sympy.plotting.plot.Plot at 0x7f23eabe0860>"
            ]
          },
          "metadata": {
            "tags": []
          },
          "execution_count": 20
        }
      ]
    },
    {
      "cell_type": "code",
      "metadata": {
        "id": "NNdAoWVypqwq"
      },
      "source": [
        ""
      ],
      "execution_count": null,
      "outputs": []
    },
    {
      "cell_type": "markdown",
      "metadata": {
        "id": "jMnrusb-peeo"
      },
      "source": [
        "다음 일차 방정식이 나타내는 직선을 그린다.\n",
        "\n",
        "$ 2x+3y−5=0 $\n",
        " \n",
        "음함수 형태로 주어진 위 방정식을  y  에 대하여 풀어서, 양함수 형태로 얻는다."
      ]
    },
    {
      "cell_type": "code",
      "metadata": {
        "colab": {
          "base_uri": "https://localhost:8080/",
          "height": 38
        },
        "id": "XnmA9c0NpilB",
        "outputId": "bf579fa2-177c-41d2-d8ad-4a5807c6377d"
      },
      "source": [
        "soln = solve( Eq(2*x+3*y-5,0), y )\n",
        "soln"
      ],
      "execution_count": null,
      "outputs": [
        {
          "output_type": "execute_result",
          "data": {
            "image/png": "[encoded data removed]",
            "text/latex": "$$\\left [ - \\frac{2 x}{3} + \\frac{5}{3}\\right ]$$",
            "text/plain": [
              "⎡  2⋅x   5⎤\n",
              "⎢- ─── + ─⎥\n",
              "⎣   3    3⎦"
            ]
          },
          "metadata": {
            "tags": []
          },
          "execution_count": 21
        }
      ]
    },
    {
      "cell_type": "markdown",
      "metadata": {
        "id": "nWL-UFF0p51e"
      },
      "source": [
        "괄호 [ ] 를 벗겨내기 위해서, 첫번째 원소를 취한다. ( [0] 가 첫번째 원소를 뜻함 )"
      ]
    },
    {
      "cell_type": "code",
      "metadata": {
        "colab": {
          "base_uri": "https://localhost:8080/",
          "height": 389
        },
        "id": "gY5h53IHpsRc",
        "outputId": "032ac662-126c-4c53-ff90-5bbbc914ebee"
      },
      "source": [
        "plot( soln[0], xlim=(-2,3) ,ylim=(-5,4))"
      ],
      "execution_count": null,
      "outputs": [
        {
          "output_type": "stream",
          "text": [
            "/usr/local/lib/python3.6/dist-packages/sympy/plotting/plot.py:890: MatplotlibDeprecationWarning: \n",
            "The set_smart_bounds function was deprecated in Matplotlib 3.2 and will be removed two minor releases later.\n",
            "  self.ax.spines['left'].set_smart_bounds(True)\n",
            "/usr/local/lib/python3.6/dist-packages/sympy/plotting/plot.py:891: MatplotlibDeprecationWarning: \n",
            "The set_smart_bounds function was deprecated in Matplotlib 3.2 and will be removed two minor releases later.\n",
            "  self.ax.spines['bottom'].set_smart_bounds(False)\n"
          ],
          "name": "stderr"
        },
        {
          "output_type": "display_data",
          "data": {
            "image/png": "[encoded data removed]",
            "text/plain": [
              "<Figure size 432x288 with 1 Axes>"
            ]
          },
          "metadata": {
            "tags": [],
            "needs_background": "light"
          }
        },
        {
          "output_type": "execute_result",
          "data": {
            "text/plain": [
              "<sympy.plotting.plot.Plot at 0x7f23e2b5a7f0>"
            ]
          },
          "metadata": {
            "tags": []
          },
          "execution_count": 23
        }
      ]
    },
    {
      "cell_type": "markdown",
      "metadata": {
        "id": "n5Z9ZdDNqEWZ"
      },
      "source": [
        "음함수 (implicit function) 형태로 주어진 방정식을 직접 그릴 수도 있다.\n",
        "\n",
        "$ x−2y+2=0 $\n",
        " \n",
        "plot_imiplicit( ) 을 이용한다."
      ]
    },
    {
      "cell_type": "code",
      "metadata": {
        "colab": {
          "base_uri": "https://localhost:8080/",
          "height": 485
        },
        "id": "ugw1u5txqKMF",
        "outputId": "e16b401b-5e9f-4e0f-f6bb-ade7cbb9d999"
      },
      "source": [
        "plot_implicit( Eq( 2*x+3*y-5, 0 ) )"
      ],
      "execution_count": null,
      "outputs": [
        {
          "output_type": "stream",
          "text": [
            "/usr/local/lib/python3.6/dist-packages/sympy/plotting/plot.py:890: MatplotlibDeprecationWarning: \n",
            "The set_smart_bounds function was deprecated in Matplotlib 3.2 and will be removed two minor releases later.\n",
            "  self.ax.spines['left'].set_smart_bounds(True)\n",
            "/usr/local/lib/python3.6/dist-packages/sympy/plotting/plot.py:891: MatplotlibDeprecationWarning: \n",
            "The set_smart_bounds function was deprecated in Matplotlib 3.2 and will be removed two minor releases later.\n",
            "  self.ax.spines['bottom'].set_smart_bounds(False)\n",
            "/usr/local/lib/python3.6/dist-packages/sympy/plotting/plot.py:930: MatplotlibDeprecationWarning: \n",
            "The set_smart_bounds function was deprecated in Matplotlib 3.2 and will be removed two minor releases later.\n",
            "  self.ax.spines['left'].set_smart_bounds(False)\n",
            "/usr/local/lib/python3.6/dist-packages/sympy/plotting/plot.py:931: MatplotlibDeprecationWarning: \n",
            "The set_smart_bounds function was deprecated in Matplotlib 3.2 and will be removed two minor releases later.\n",
            "  self.ax.spines['bottom'].set_smart_bounds(False)\n"
          ],
          "name": "stderr"
        },
        {
          "output_type": "display_data",
          "data": {
            "image/png": "[encoded data removed]",
            "text/plain": [
              "<Figure size 432x288 with 1 Axes>"
            ]
          },
          "metadata": {
            "tags": [],
            "needs_background": "light"
          }
        },
        {
          "output_type": "execute_result",
          "data": {
            "text/plain": [
              "<sympy.plotting.plot.Plot at 0x7f23e2b530b8>"
            ]
          },
          "metadata": {
            "tags": []
          },
          "execution_count": 24
        }
      ]
    },
    {
      "cell_type": "markdown",
      "metadata": {
        "id": "0m9Mj82vrPXB"
      },
      "source": [
        "원의 방정식\n",
        "원의 방정식을 그래프로 그려보자.\n",
        "\n",
        "$ x^2+y^2=1 $\n",
        " \n",
        "y  를 양함수 형태를 얻기 위해서, 방정식을 풀면"
      ]
    },
    {
      "cell_type": "code",
      "metadata": {
        "colab": {
          "base_uri": "https://localhost:8080/",
          "height": 38
        },
        "id": "O-wiByiLrbLL",
        "outputId": "8cc993f1-3cea-4feb-8573-b00ffff0b2b9"
      },
      "source": [
        "Ys = solve( Eq( x**2 + y**2, 1 ), y )\n",
        "Ys"
      ],
      "execution_count": null,
      "outputs": [
        {
          "output_type": "execute_result",
          "data": {
            "image/png": "[encoded data removed]",
            "text/latex": "$$\\left [ - \\sqrt{- x^{2} + 1}, \\quad \\sqrt{- x^{2} + 1}\\right ]$$",
            "text/plain": [
              "⎡    __________     __________⎤\n",
              "⎢   ╱    2         ╱    2     ⎥\n",
              "⎣-╲╱  - x  + 1 , ╲╱  - x  + 1 ⎦"
            ]
          },
          "metadata": {
            "tags": []
          },
          "execution_count": 25
        }
      ]
    },
    {
      "cell_type": "markdown",
      "metadata": {
        "id": "iYGhOx_CtN8L"
      },
      "source": [
        "두 식은  x  축의 위와 아래에 각각 반원을 나타나는 함수들이다. 두 식을 함께 그리면"
      ]
    },
    {
      "cell_type": "code",
      "metadata": {
        "colab": {
          "base_uri": "https://localhost:8080/",
          "height": 383
        },
        "id": "MRkRZGsRtPBC",
        "outputId": "db596b83-b013-45c1-e127-3279de66c21a"
      },
      "source": [
        "plot( Ys[0], Ys[1], xlim=(-3,3), ylim=(-2,2) )"
      ],
      "execution_count": null,
      "outputs": [
        {
          "output_type": "stream",
          "text": [
            "/usr/local/lib/python3.6/dist-packages/sympy/plotting/plot.py:890: MatplotlibDeprecationWarning: \n",
            "The set_smart_bounds function was deprecated in Matplotlib 3.2 and will be removed two minor releases later.\n",
            "  self.ax.spines['left'].set_smart_bounds(True)\n",
            "/usr/local/lib/python3.6/dist-packages/sympy/plotting/plot.py:891: MatplotlibDeprecationWarning: \n",
            "The set_smart_bounds function was deprecated in Matplotlib 3.2 and will be removed two minor releases later.\n",
            "  self.ax.spines['bottom'].set_smart_bounds(False)\n"
          ],
          "name": "stderr"
        },
        {
          "output_type": "display_data",
          "data": {
            "image/png": "[encoded data removed]",
            "text/plain": [
              "<Figure size 432x288 with 1 Axes>"
            ]
          },
          "metadata": {
            "tags": [],
            "needs_background": "light"
          }
        },
        {
          "output_type": "execute_result",
          "data": {
            "text/plain": [
              "<sympy.plotting.plot.Plot at 0x7f23e2abbef0>"
            ]
          },
          "metadata": {
            "tags": []
          },
          "execution_count": 26
        }
      ]
    },
    {
      "cell_type": "markdown",
      "metadata": {
        "id": "QKkGg2xOtgTA"
      },
      "source": [
        "음함수 형태로 원의 방정식을 직접 그릴 수도 있다.\n",
        "\n",
        "$ x^2+y^2=1 $ \n",
        "\n",
        "plot_implicit( ) 을 이용한다."
      ]
    },
    {
      "cell_type": "code",
      "metadata": {
        "colab": {
          "base_uri": "https://localhost:8080/",
          "height": 492
        },
        "id": "8jlAWPTdtnj1",
        "outputId": "b6e17909-2382-4774-c76e-fcca59a01994"
      },
      "source": [
        "plot_implicit( Eq( x**2 + y**2, 1 ), (x,-3,3), (y,-2,2) )"
      ],
      "execution_count": null,
      "outputs": [
        {
          "output_type": "stream",
          "text": [
            "/usr/local/lib/python3.6/dist-packages/sympy/plotting/plot.py:890: MatplotlibDeprecationWarning: \n",
            "The set_smart_bounds function was deprecated in Matplotlib 3.2 and will be removed two minor releases later.\n",
            "  self.ax.spines['left'].set_smart_bounds(True)\n",
            "/usr/local/lib/python3.6/dist-packages/sympy/plotting/plot.py:891: MatplotlibDeprecationWarning: \n",
            "The set_smart_bounds function was deprecated in Matplotlib 3.2 and will be removed two minor releases later.\n",
            "  self.ax.spines['bottom'].set_smart_bounds(False)\n",
            "/usr/local/lib/python3.6/dist-packages/sympy/plotting/plot.py:930: MatplotlibDeprecationWarning: \n",
            "The set_smart_bounds function was deprecated in Matplotlib 3.2 and will be removed two minor releases later.\n",
            "  self.ax.spines['left'].set_smart_bounds(False)\n",
            "/usr/local/lib/python3.6/dist-packages/sympy/plotting/plot.py:931: MatplotlibDeprecationWarning: \n",
            "The set_smart_bounds function was deprecated in Matplotlib 3.2 and will be removed two minor releases later.\n",
            "  self.ax.spines['bottom'].set_smart_bounds(False)\n"
          ],
          "name": "stderr"
        },
        {
          "output_type": "display_data",
          "data": {
            "image/png": "[encoded data removed]",
            "text/plain": [
              "<Figure size 432x288 with 1 Axes>"
            ]
          },
          "metadata": {
            "tags": [],
            "needs_background": "light"
          }
        },
        {
          "output_type": "execute_result",
          "data": {
            "text/plain": [
              "<sympy.plotting.plot.Plot at 0x7f23e2a27630>"
            ]
          },
          "metadata": {
            "tags": []
          },
          "execution_count": 27
        }
      ]
    },
    {
      "cell_type": "markdown",
      "metadata": {
        "id": "-jxThMcStuaK"
      },
      "source": [
        "원의 방정식  $ x^2+y^2=1  $  에 대하여, 매개변수  t  를 이용하여  x,y  를 표현하면\n",
        "\n",
        "$ \\qquad x= \\cos t \\,, \\quad y= \\sin t $  \n",
        "매개변수로 표현한 함수를 그래프를 그리려면, plot_parametric( ) 을 이용한다."
      ]
    },
    {
      "cell_type": "code",
      "metadata": {
        "colab": {
          "base_uri": "https://localhost:8080/",
          "height": 374
        },
        "id": "bJrMIpl7uBWf",
        "outputId": "9b78969e-32c0-4d7e-96b9-c8eddc7bc8a3"
      },
      "source": [
        "from sympy.plotting import plot_parametric\n",
        "\n",
        "plot_parametric( cos(t), sin(t), (t, 0, 2*pi),  xlim=(-3,3), ylim=(-2,2) )"
      ],
      "execution_count": null,
      "outputs": [
        {
          "output_type": "stream",
          "text": [
            "/usr/local/lib/python3.6/dist-packages/sympy/plotting/plot.py:890: MatplotlibDeprecationWarning: \n",
            "The set_smart_bounds function was deprecated in Matplotlib 3.2 and will be removed two minor releases later.\n",
            "  self.ax.spines['left'].set_smart_bounds(True)\n",
            "/usr/local/lib/python3.6/dist-packages/sympy/plotting/plot.py:891: MatplotlibDeprecationWarning: \n",
            "The set_smart_bounds function was deprecated in Matplotlib 3.2 and will be removed two minor releases later.\n",
            "  self.ax.spines['bottom'].set_smart_bounds(False)\n"
          ],
          "name": "stderr"
        },
        {
          "output_type": "display_data",
          "data": {
            "image/png": "[encoded data removed]",
            "text/plain": [
              "<Figure size 432x288 with 1 Axes>"
            ]
          },
          "metadata": {
            "tags": [],
            "needs_background": "light"
          }
        },
        {
          "output_type": "execute_result",
          "data": {
            "text/plain": [
              "<sympy.plotting.plot.Plot at 0x7f23e2a13f98>"
            ]
          },
          "metadata": {
            "tags": []
          },
          "execution_count": 28
        }
      ]
    },
    {
      "cell_type": "markdown",
      "metadata": {
        "id": "A5NHBHm-ukoR"
      },
      "source": [
        "원과 직선\n",
        "원과 직선의 교차점을 그래프로 찾는다.\n",
        "\n",
        "$ \\begin{align}\n",
        "x^2+y^2 &= 4  \\\\\n",
        "2x-y+1 &= 0 \n",
        "\\end{align} $\n",
        " \n",
        "여러개의 음함수들을 함께 그리려면, Or 기능을 사용한다."
      ]
    },
    {
      "cell_type": "code",
      "metadata": {
        "colab": {
          "base_uri": "https://localhost:8080/",
          "height": 492
        },
        "id": "U_JTkHNluyw5",
        "outputId": "b39cd5a4-6409-4e14-c76d-1f7773080b8b"
      },
      "source": [
        "plot_implicit( Or( Eq( x**2+y**2,4 ), Eq( 2*x-y+1,0 ) ), (x,-4,5), (y,-3,3) )\n"
      ],
      "execution_count": null,
      "outputs": [
        {
          "output_type": "stream",
          "text": [
            "/usr/local/lib/python3.6/dist-packages/sympy/plotting/plot.py:890: MatplotlibDeprecationWarning: \n",
            "The set_smart_bounds function was deprecated in Matplotlib 3.2 and will be removed two minor releases later.\n",
            "  self.ax.spines['left'].set_smart_bounds(True)\n",
            "/usr/local/lib/python3.6/dist-packages/sympy/plotting/plot.py:891: MatplotlibDeprecationWarning: \n",
            "The set_smart_bounds function was deprecated in Matplotlib 3.2 and will be removed two minor releases later.\n",
            "  self.ax.spines['bottom'].set_smart_bounds(False)\n",
            "/usr/local/lib/python3.6/dist-packages/sympy/plotting/plot.py:930: MatplotlibDeprecationWarning: \n",
            "The set_smart_bounds function was deprecated in Matplotlib 3.2 and will be removed two minor releases later.\n",
            "  self.ax.spines['left'].set_smart_bounds(False)\n",
            "/usr/local/lib/python3.6/dist-packages/sympy/plotting/plot.py:931: MatplotlibDeprecationWarning: \n",
            "The set_smart_bounds function was deprecated in Matplotlib 3.2 and will be removed two minor releases later.\n",
            "  self.ax.spines['bottom'].set_smart_bounds(False)\n"
          ],
          "name": "stderr"
        },
        {
          "output_type": "display_data",
          "data": {
            "image/png": "[encoded data removed]",
            "text/plain": [
              "<Figure size 432x288 with 1 Axes>"
            ]
          },
          "metadata": {
            "tags": [],
            "needs_background": "light"
          }
        },
        {
          "output_type": "execute_result",
          "data": {
            "text/plain": [
              "<sympy.plotting.plot.Plot at 0x7f23e2b2f550>"
            ]
          },
          "metadata": {
            "tags": []
          },
          "execution_count": 30
        }
      ]
    },
    {
      "cell_type": "code",
      "metadata": {
        "colab": {
          "base_uri": "https://localhost:8080/",
          "height": 47
        },
        "id": "dIfMmrDZvJvb",
        "outputId": "20287ade-5356-4377-9f62-b76cc431c44b"
      },
      "source": [
        "Ps = solve( [ Eq( x**2 + y**2, 4 ), Eq( 2*x - y + 1, 0 ) ], [x,y] )\n",
        "Ps"
      ],
      "execution_count": null,
      "outputs": [
        {
          "output_type": "execute_result",
          "data": {
            "image/png": "[encoded data removed]",
            "text/latex": "$$\\left [ \\left ( - \\frac{2}{5} + \\frac{\\sqrt{19}}{5}, \\quad \\frac{1}{5} + \\frac{2 \\sqrt{19}}{5}\\right ), \\quad \\left ( - \\frac{\\sqrt{19}}{5} - \\frac{2}{5}, \\quad - \\frac{2 \\sqrt{19}}{5} + \\frac{1}{5}\\right )\\right ]$$",
            "text/plain": [
              "⎡⎛  2   √19  1   2⋅√19⎞  ⎛  √19   2    2⋅√19   1⎞⎤\n",
              "⎢⎜- ─ + ───, ─ + ─────⎟, ⎜- ─── - ─, - ───── + ─⎟⎥\n",
              "⎣⎝  5    5   5     5  ⎠  ⎝   5    5      5     5⎠⎦"
            ]
          },
          "metadata": {
            "tags": []
          },
          "execution_count": 31
        }
      ]
    },
    {
      "cell_type": "code",
      "metadata": {
        "colab": {
          "base_uri": "https://localhost:8080/",
          "height": 37
        },
        "id": "YVIPTwxPvODJ",
        "outputId": "2099f506-4e6c-4650-d149-cde5d5caff84"
      },
      "source": [
        "( N( Ps[0][0] ),  N( Ps[0][1] ) )            # 1사분면 교점 좌표"
      ],
      "execution_count": null,
      "outputs": [
        {
          "output_type": "execute_result",
          "data": {
            "image/png": "[encoded data removed]",
            "text/latex": "$$\\left ( 0.471779788708135, \\quad 1.94355957741627\\right )$$",
            "text/plain": [
              "(0.471779788708135, 1.94355957741627)"
            ]
          },
          "metadata": {
            "tags": []
          },
          "execution_count": 32
        }
      ]
    },
    {
      "cell_type": "code",
      "metadata": {
        "colab": {
          "base_uri": "https://localhost:8080/",
          "height": 37
        },
        "id": "vAfL9uUnvPS6",
        "outputId": "db739dfd-6174-4e7b-d1b1-1da13740e323"
      },
      "source": [
        "( N( Ps[1][0] ),  N( Ps[1][1] ) )            # 3사분면 교점 좌표"
      ],
      "execution_count": null,
      "outputs": [
        {
          "output_type": "execute_result",
          "data": {
            "image/png": "[encoded data removed]",
            "text/latex": "$$\\left ( -1.27177978870813, \\quad -1.54355957741627\\right )$$",
            "text/plain": [
              "(-1.27177978870813, -1.54355957741627)"
            ]
          },
          "metadata": {
            "tags": []
          },
          "execution_count": 33
        }
      ]
    },
    {
      "cell_type": "markdown",
      "metadata": {
        "id": "_liZBViTvXms"
      },
      "source": [
        "부등식\n",
        "부등식  y>x2−1  의 영역을 그래프로 표시하면"
      ]
    },
    {
      "cell_type": "code",
      "metadata": {
        "colab": {
          "base_uri": "https://localhost:8080/",
          "height": 485
        },
        "id": "QP3K2_jqvYWp",
        "outputId": "222ec90e-3860-4ac4-fc44-c2eabfeb14d9"
      },
      "source": [
        "plot_implicit( y > x**2 - 1 )"
      ],
      "execution_count": null,
      "outputs": [
        {
          "output_type": "stream",
          "text": [
            "/usr/local/lib/python3.6/dist-packages/sympy/plotting/plot.py:890: MatplotlibDeprecationWarning: \n",
            "The set_smart_bounds function was deprecated in Matplotlib 3.2 and will be removed two minor releases later.\n",
            "  self.ax.spines['left'].set_smart_bounds(True)\n",
            "/usr/local/lib/python3.6/dist-packages/sympy/plotting/plot.py:891: MatplotlibDeprecationWarning: \n",
            "The set_smart_bounds function was deprecated in Matplotlib 3.2 and will be removed two minor releases later.\n",
            "  self.ax.spines['bottom'].set_smart_bounds(False)\n",
            "/usr/local/lib/python3.6/dist-packages/sympy/plotting/plot.py:930: MatplotlibDeprecationWarning: \n",
            "The set_smart_bounds function was deprecated in Matplotlib 3.2 and will be removed two minor releases later.\n",
            "  self.ax.spines['left'].set_smart_bounds(False)\n",
            "/usr/local/lib/python3.6/dist-packages/sympy/plotting/plot.py:931: MatplotlibDeprecationWarning: \n",
            "The set_smart_bounds function was deprecated in Matplotlib 3.2 and will be removed two minor releases later.\n",
            "  self.ax.spines['bottom'].set_smart_bounds(False)\n"
          ],
          "name": "stderr"
        },
        {
          "output_type": "display_data",
          "data": {
            "image/png": "[encoded data removed]",
            "text/plain": [
              "<Figure size 432x288 with 1 Axes>"
            ]
          },
          "metadata": {
            "tags": [],
            "needs_background": "light"
          }
        },
        {
          "output_type": "execute_result",
          "data": {
            "text/plain": [
              "<sympy.plotting.plot.Plot at 0x7f23e2862a58>"
            ]
          },
          "metadata": {
            "tags": []
          },
          "execution_count": 34
        }
      ]
    },
    {
      "cell_type": "code",
      "metadata": {
        "colab": {
          "base_uri": "https://localhost:8080/",
          "height": 492
        },
        "id": "cNAoOl-nvgD_",
        "outputId": "131e01dc-5494-47ea-9253-c69f88ac943f"
      },
      "source": [
        "plot_implicit( x**2 + y**2 < 4, (x,-4.5,4.5), (y,-3,3) )"
      ],
      "execution_count": null,
      "outputs": [
        {
          "output_type": "stream",
          "text": [
            "/usr/local/lib/python3.6/dist-packages/sympy/plotting/plot.py:890: MatplotlibDeprecationWarning: \n",
            "The set_smart_bounds function was deprecated in Matplotlib 3.2 and will be removed two minor releases later.\n",
            "  self.ax.spines['left'].set_smart_bounds(True)\n",
            "/usr/local/lib/python3.6/dist-packages/sympy/plotting/plot.py:891: MatplotlibDeprecationWarning: \n",
            "The set_smart_bounds function was deprecated in Matplotlib 3.2 and will be removed two minor releases later.\n",
            "  self.ax.spines['bottom'].set_smart_bounds(False)\n",
            "/usr/local/lib/python3.6/dist-packages/sympy/plotting/plot.py:930: MatplotlibDeprecationWarning: \n",
            "The set_smart_bounds function was deprecated in Matplotlib 3.2 and will be removed two minor releases later.\n",
            "  self.ax.spines['left'].set_smart_bounds(False)\n",
            "/usr/local/lib/python3.6/dist-packages/sympy/plotting/plot.py:931: MatplotlibDeprecationWarning: \n",
            "The set_smart_bounds function was deprecated in Matplotlib 3.2 and will be removed two minor releases later.\n",
            "  self.ax.spines['bottom'].set_smart_bounds(False)\n"
          ],
          "name": "stderr"
        },
        {
          "output_type": "display_data",
          "data": {
            "image/png": "[encoded data removed]",
            "text/plain": [
              "<Figure size 432x288 with 1 Axes>"
            ]
          },
          "metadata": {
            "tags": [],
            "needs_background": "light"
          }
        },
        {
          "output_type": "execute_result",
          "data": {
            "text/plain": [
              "<sympy.plotting.plot.Plot at 0x7f23e26de518>"
            ]
          },
          "metadata": {
            "tags": []
          },
          "execution_count": 35
        }
      ]
    },
    {
      "cell_type": "code",
      "metadata": {
        "colab": {
          "base_uri": "https://localhost:8080/",
          "height": 492
        },
        "id": "AM3JrKHavnDq",
        "outputId": "fe47252a-e6c0-4274-e178-558d47eac1f1"
      },
      "source": [
        "plot_implicit( (x-y)*(x+y) < 0, (x,-3,3), (y,-2,2) )"
      ],
      "execution_count": null,
      "outputs": [
        {
          "output_type": "stream",
          "text": [
            "/usr/local/lib/python3.6/dist-packages/sympy/plotting/plot.py:890: MatplotlibDeprecationWarning: \n",
            "The set_smart_bounds function was deprecated in Matplotlib 3.2 and will be removed two minor releases later.\n",
            "  self.ax.spines['left'].set_smart_bounds(True)\n",
            "/usr/local/lib/python3.6/dist-packages/sympy/plotting/plot.py:891: MatplotlibDeprecationWarning: \n",
            "The set_smart_bounds function was deprecated in Matplotlib 3.2 and will be removed two minor releases later.\n",
            "  self.ax.spines['bottom'].set_smart_bounds(False)\n",
            "/usr/local/lib/python3.6/dist-packages/sympy/plotting/plot.py:930: MatplotlibDeprecationWarning: \n",
            "The set_smart_bounds function was deprecated in Matplotlib 3.2 and will be removed two minor releases later.\n",
            "  self.ax.spines['left'].set_smart_bounds(False)\n",
            "/usr/local/lib/python3.6/dist-packages/sympy/plotting/plot.py:931: MatplotlibDeprecationWarning: \n",
            "The set_smart_bounds function was deprecated in Matplotlib 3.2 and will be removed two minor releases later.\n",
            "  self.ax.spines['bottom'].set_smart_bounds(False)\n"
          ],
          "name": "stderr"
        },
        {
          "output_type": "display_data",
          "data": {
            "image/png": "[encoded data removed]",
            "text/plain": [
              "<Figure size 432x288 with 1 Axes>"
            ]
          },
          "metadata": {
            "tags": [],
            "needs_background": "light"
          }
        },
        {
          "output_type": "execute_result",
          "data": {
            "text/plain": [
              "<sympy.plotting.plot.Plot at 0x7f23e289b588>"
            ]
          },
          "metadata": {
            "tags": []
          },
          "execution_count": 36
        }
      ]
    },
    {
      "cell_type": "code",
      "metadata": {
        "colab": {
          "base_uri": "https://localhost:8080/",
          "height": 492
        },
        "id": "WROMcmWqvrbj",
        "outputId": "62b5fc2e-9f63-48b6-f364-9eb10bb760b5"
      },
      "source": [
        "plot_implicit(  And(2*x + y < 2, x**2 + y**2 < 9) , (x,-6,6), (y,-4,4) )"
      ],
      "execution_count": null,
      "outputs": [
        {
          "output_type": "stream",
          "text": [
            "/usr/local/lib/python3.6/dist-packages/sympy/plotting/plot.py:890: MatplotlibDeprecationWarning: \n",
            "The set_smart_bounds function was deprecated in Matplotlib 3.2 and will be removed two minor releases later.\n",
            "  self.ax.spines['left'].set_smart_bounds(True)\n",
            "/usr/local/lib/python3.6/dist-packages/sympy/plotting/plot.py:891: MatplotlibDeprecationWarning: \n",
            "The set_smart_bounds function was deprecated in Matplotlib 3.2 and will be removed two minor releases later.\n",
            "  self.ax.spines['bottom'].set_smart_bounds(False)\n",
            "/usr/local/lib/python3.6/dist-packages/sympy/plotting/plot.py:930: MatplotlibDeprecationWarning: \n",
            "The set_smart_bounds function was deprecated in Matplotlib 3.2 and will be removed two minor releases later.\n",
            "  self.ax.spines['left'].set_smart_bounds(False)\n",
            "/usr/local/lib/python3.6/dist-packages/sympy/plotting/plot.py:931: MatplotlibDeprecationWarning: \n",
            "The set_smart_bounds function was deprecated in Matplotlib 3.2 and will be removed two minor releases later.\n",
            "  self.ax.spines['bottom'].set_smart_bounds(False)\n"
          ],
          "name": "stderr"
        },
        {
          "output_type": "display_data",
          "data": {
            "image/png": "[encoded data removed]",
            "text/plain": [
              "<Figure size 432x288 with 1 Axes>"
            ]
          },
          "metadata": {
            "tags": [],
            "needs_background": "light"
          }
        },
        {
          "output_type": "execute_result",
          "data": {
            "text/plain": [
              "<sympy.plotting.plot.Plot at 0x7f23e2689390>"
            ]
          },
          "metadata": {
            "tags": []
          },
          "execution_count": 44
        }
      ]
    },
    {
      "cell_type": "markdown",
      "metadata": {
        "id": "cSK97nWmwzmu"
      },
      "source": [
        ""
      ]
    },
    {
      "cell_type": "markdown",
      "metadata": {
        "id": "HlnQa2d1v44W"
      },
      "source": [
        "from sympy import *\n",
        "init_printing()          \n",
        "\n",
        "x, y, z = symbols('x y z')\n",
        "\n",
        "%matplotlib inline "
      ]
    },
    {
      "cell_type": "code",
      "metadata": {
        "id": "9WUTcqPEv6gD"
      },
      "source": [
        "from sympy import *\n",
        "init_printing()          \n",
        "\n",
        "x, y, z = symbols('x y z')\n",
        "\n",
        "%matplotlib inline "
      ],
      "execution_count": null,
      "outputs": []
    },
    {
      "cell_type": "markdown",
      "metadata": {
        "id": "2QPSVYyyv-Lw"
      },
      "source": [
        "이차함수\n",
        "이차함수 $ y=x^2+2x−2 $ 의 그래프와 직선  $ y=x+1 $ 를 그린다."
      ]
    },
    {
      "cell_type": "code",
      "metadata": {
        "colab": {
          "base_uri": "https://localhost:8080/",
          "height": 389
        },
        "id": "DDOnwvnawJt9",
        "outputId": "950b6590-da37-4453-88a5-e2b619b8af49"
      },
      "source": [
        "plot( x**2+2*x-2, x+1, xlim=(-6,6), ylim=(-4,4) )"
      ],
      "execution_count": null,
      "outputs": [
        {
          "output_type": "stream",
          "text": [
            "/usr/local/lib/python3.6/dist-packages/sympy/plotting/plot.py:890: MatplotlibDeprecationWarning: \n",
            "The set_smart_bounds function was deprecated in Matplotlib 3.2 and will be removed two minor releases later.\n",
            "  self.ax.spines['left'].set_smart_bounds(True)\n",
            "/usr/local/lib/python3.6/dist-packages/sympy/plotting/plot.py:891: MatplotlibDeprecationWarning: \n",
            "The set_smart_bounds function was deprecated in Matplotlib 3.2 and will be removed two minor releases later.\n",
            "  self.ax.spines['bottom'].set_smart_bounds(False)\n"
          ],
          "name": "stderr"
        },
        {
          "output_type": "display_data",
          "data": {
            "image/png": "[encoded data removed]",
            "text/plain": [
              "<Figure size 432x288 with 1 Axes>"
            ]
          },
          "metadata": {
            "tags": [],
            "needs_background": "light"
          }
        },
        {
          "output_type": "execute_result",
          "data": {
            "text/plain": [
              "<sympy.plotting.plot.Plot at 0x7f23f3c2d390>"
            ]
          },
          "metadata": {
            "tags": []
          },
          "execution_count": 39
        }
      ]
    },
    {
      "cell_type": "markdown",
      "metadata": {
        "id": "L6vmJB_Fw0w6"
      },
      "source": [
        "이차방정식  $x^2+2x−2=x+1 $ 의 근을 구하여, 두 그래프가 만나는 점을 찾는다."
      ]
    },
    {
      "cell_type": "code",
      "metadata": {
        "colab": {
          "base_uri": "https://localhost:8080/",
          "height": 47
        },
        "id": "xGWpww9aw4Zy",
        "outputId": "b29a9c53-2a4b-4141-c84f-aa45ce7f0a88"
      },
      "source": [
        "solve( Eq( x**2 + 2*x - 2, x + 1 ), x )"
      ],
      "execution_count": null,
      "outputs": [
        {
          "output_type": "execute_result",
          "data": {
            "image/png": "[encoded data removed]",
            "text/latex": "$$\\left [ - \\frac{1}{2} + \\frac{\\sqrt{13}}{2}, \\quad - \\frac{\\sqrt{13}}{2} - \\frac{1}{2}\\right ]$$",
            "text/plain": [
              "⎡  1   √13    √13   1⎤\n",
              "⎢- ─ + ───, - ─── - ─⎥\n",
              "⎣  2    2      2    2⎦"
            ]
          },
          "metadata": {
            "tags": []
          },
          "execution_count": 45
        }
      ]
    },
    {
      "cell_type": "markdown",
      "metadata": {
        "id": "lB6yBL9lxGPb"
      },
      "source": [
        "위 결과의 수치값을 구한다."
      ]
    },
    {
      "cell_type": "code",
      "metadata": {
        "colab": {
          "base_uri": "https://localhost:8080/",
          "height": 37
        },
        "id": "RYau1SytxHI0",
        "outputId": "f9fdd507-136e-416f-fa57-2e778526c3c7"
      },
      "source": [
        "[ N( _[0] ), N( _[1] ) ]"
      ],
      "execution_count": null,
      "outputs": [
        {
          "output_type": "execute_result",
          "data": {
            "image/png": "[encoded data removed]",
            "text/latex": "$$\\left [ 1.30277563773199, \\quad -2.30277563773199\\right ]$$",
            "text/plain": [
              "[1.30277563773199, -2.30277563773199]"
            ]
          },
          "metadata": {
            "tags": []
          },
          "execution_count": 46
        }
      ]
    },
    {
      "cell_type": "markdown",
      "metadata": {
        "id": "W_WG2yKHxPW8"
      },
      "source": [
        "다음 분수함수의 그래프를 그린다.\n",
        "\n",
        "$ y= \\frac 1  {x−1} −2 $"
      ]
    },
    {
      "cell_type": "code",
      "metadata": {
        "colab": {
          "base_uri": "https://localhost:8080/",
          "height": 389
        },
        "id": "Zs-fOuXIxreJ",
        "outputId": "b13732ce-8082-4425-db95-d06a860cb33f"
      },
      "source": [
        "plot( 1/(x-1) - 2, xlim=(-9,9), ylim=(-6,6) )"
      ],
      "execution_count": null,
      "outputs": [
        {
          "output_type": "stream",
          "text": [
            "/usr/local/lib/python3.6/dist-packages/sympy/plotting/plot.py:890: MatplotlibDeprecationWarning: \n",
            "The set_smart_bounds function was deprecated in Matplotlib 3.2 and will be removed two minor releases later.\n",
            "  self.ax.spines['left'].set_smart_bounds(True)\n",
            "/usr/local/lib/python3.6/dist-packages/sympy/plotting/plot.py:891: MatplotlibDeprecationWarning: \n",
            "The set_smart_bounds function was deprecated in Matplotlib 3.2 and will be removed two minor releases later.\n",
            "  self.ax.spines['bottom'].set_smart_bounds(False)\n"
          ],
          "name": "stderr"
        },
        {
          "output_type": "display_data",
          "data": {
            "image/png": "[encoded data removed]",
            "text/plain": [
              "<Figure size 432x288 with 1 Axes>"
            ]
          },
          "metadata": {
            "tags": [],
            "needs_background": "light"
          }
        },
        {
          "output_type": "execute_result",
          "data": {
            "text/plain": [
              "<sympy.plotting.plot.Plot at 0x7f23e25ad0f0>"
            ]
          },
          "metadata": {
            "tags": []
          },
          "execution_count": 47
        }
      ]
    },
    {
      "cell_type": "code",
      "metadata": {
        "colab": {
          "base_uri": "https://localhost:8080/",
          "height": 414
        },
        "id": "zl0KNdUvx1m_",
        "outputId": "aa6040d7-3ee3-4d58-9dde-3494d7b21342"
      },
      "source": [
        "plot( sqrt( 2*x + 4 ) + 1 )"
      ],
      "execution_count": null,
      "outputs": [
        {
          "output_type": "stream",
          "text": [
            "/usr/local/lib/python3.6/dist-packages/sympy/plotting/plot.py:890: MatplotlibDeprecationWarning: \n",
            "The set_smart_bounds function was deprecated in Matplotlib 3.2 and will be removed two minor releases later.\n",
            "  self.ax.spines['left'].set_smart_bounds(True)\n",
            "/usr/local/lib/python3.6/dist-packages/sympy/plotting/plot.py:891: MatplotlibDeprecationWarning: \n",
            "The set_smart_bounds function was deprecated in Matplotlib 3.2 and will be removed two minor releases later.\n",
            "  self.ax.spines['bottom'].set_smart_bounds(False)\n"
          ],
          "name": "stderr"
        },
        {
          "output_type": "display_data",
          "data": {
            "image/png": "[encoded data removed]",
            "text/plain": [
              "<Figure size 432x288 with 1 Axes>"
            ]
          },
          "metadata": {
            "tags": [],
            "needs_background": "light"
          }
        },
        {
          "output_type": "execute_result",
          "data": {
            "text/plain": [
              "<sympy.plotting.plot.Plot at 0x7f23e23c7860>"
            ]
          },
          "metadata": {
            "tags": []
          },
          "execution_count": 49
        }
      ]
    },
    {
      "cell_type": "markdown",
      "metadata": {
        "id": "17z59TwnyRW9"
      },
      "source": [
        "sympy 모듈을 불러오고, 사용할 기호 변수를 선언한다. 맷플롯립 모듈을 불러온다."
      ]
    },
    {
      "cell_type": "code",
      "metadata": {
        "id": "F5qhXQeHyoeb"
      },
      "source": [
        "from sympy import *\n",
        "init_printing()          \n",
        "\n",
        "x, y, z = symbols('x y z')\n",
        "a, b, c, t = symbols('a b c t')\n",
        "\n",
        "%matplotlib inline "
      ],
      "execution_count": null,
      "outputs": []
    },
    {
      "cell_type": "markdown",
      "metadata": {
        "id": "ARPK4_uaytpH"
      },
      "source": [
        "삼각함수\n",
        "다음 삼각함수의 값을 구한다.\n",
        "\n",
        "$ \\sin \\frac \\pi 3 $"
      ]
    },
    {
      "cell_type": "code",
      "metadata": {
        "colab": {
          "base_uri": "https://localhost:8080/",
          "height": 41
        },
        "id": "9s5TMsH8y42Q",
        "outputId": "c22130e3-043c-4b12-eef6-49a34ff05cf5"
      },
      "source": [
        "sin( pi / 3 )"
      ],
      "execution_count": null,
      "outputs": [
        {
          "output_type": "execute_result",
          "data": {
            "image/png": "[encoded data removed]",
            "text/latex": "$$\\frac{\\sqrt{3}}{2}$$",
            "text/plain": [
              "√3\n",
              "──\n",
              "2 "
            ]
          },
          "metadata": {
            "tags": []
          },
          "execution_count": 52
        }
      ]
    },
    {
      "cell_type": "markdown",
      "metadata": {
        "id": "aJGfbL2Xzktg"
      },
      "source": [
        "$ \\sin^2 x  + \\cos ^2 x = 1   $"
      ]
    },
    {
      "cell_type": "code",
      "metadata": {
        "colab": {
          "base_uri": "https://localhost:8080/",
          "height": 37
        },
        "id": "LtEFqoXXzfYN",
        "outputId": "f5ef0b88-1757-4870-f316-e8fa769d6e11"
      },
      "source": [
        "simplify( sin( x )**2 + cos( x )**2 )"
      ],
      "execution_count": null,
      "outputs": [
        {
          "output_type": "execute_result",
          "data": {
            "image/png": "[encoded data removed]",
            "text/latex": "$$1$$",
            "text/plain": [
              "1"
            ]
          },
          "metadata": {
            "tags": []
          },
          "execution_count": 53
        }
      ]
    },
    {
      "cell_type": "code",
      "metadata": {
        "colab": {
          "base_uri": "https://localhost:8080/",
          "height": 38
        },
        "id": "R7q4_NsE0A4_",
        "outputId": "30b6d66c-f6a9-4b9f-fc18-e9b60c109888"
      },
      "source": [
        "simplify( sin( x + 2*pi ) )"
      ],
      "execution_count": null,
      "outputs": [
        {
          "output_type": "execute_result",
          "data": {
            "image/png": "[encoded data removed]",
            "text/latex": "$$\\sin{\\left (x \\right )}$$",
            "text/plain": [
              "sin(x)"
            ]
          },
          "metadata": {
            "tags": []
          },
          "execution_count": 54
        }
      ]
    },
    {
      "cell_type": "code",
      "metadata": {
        "colab": {
          "base_uri": "https://localhost:8080/",
          "height": 38
        },
        "id": "GZHnHjL00EJ9",
        "outputId": "d056a52d-6b91-45c1-ebc6-895dc7c3cf0c"
      },
      "source": [
        "simplify( cos(-x) )"
      ],
      "execution_count": null,
      "outputs": [
        {
          "output_type": "execute_result",
          "data": {
            "image/png": "[encoded data removed]",
            "text/latex": "$$\\cos{\\left (x \\right )}$$",
            "text/plain": [
              "cos(x)"
            ]
          },
          "metadata": {
            "tags": []
          },
          "execution_count": 55
        }
      ]
    },
    {
      "cell_type": "code",
      "metadata": {
        "colab": {
          "base_uri": "https://localhost:8080/",
          "height": 38
        },
        "id": "PEoFexnu0JBO",
        "outputId": "2f76981e-9d76-4923-cf24-7a5a6c4f6e1e"
      },
      "source": [
        "simplify( sin( pi + x ) )"
      ],
      "execution_count": null,
      "outputs": [
        {
          "output_type": "execute_result",
          "data": {
            "image/png": "[encoded data removed]",
            "text/latex": "$$- \\sin{\\left (x \\right )}$$",
            "text/plain": [
              "-sin(x)"
            ]
          },
          "metadata": {
            "tags": []
          },
          "execution_count": 56
        }
      ]
    },
    {
      "cell_type": "code",
      "metadata": {
        "colab": {
          "base_uri": "https://localhost:8080/",
          "height": 38
        },
        "id": "M7-Yyeta0L4p",
        "outputId": "015139d4-92af-46f9-dcf7-2f2064d75d24"
      },
      "source": [
        "simplify( tan( pi - x ) )"
      ],
      "execution_count": null,
      "outputs": [
        {
          "output_type": "execute_result",
          "data": {
            "image/png": "[encoded data removed]",
            "text/latex": "$$- \\tan{\\left (x \\right )}$$",
            "text/plain": [
              "-tan(x)"
            ]
          },
          "metadata": {
            "tags": []
          },
          "execution_count": 57
        }
      ]
    },
    {
      "cell_type": "code",
      "metadata": {
        "colab": {
          "base_uri": "https://localhost:8080/",
          "height": 38
        },
        "id": "bWY2oHhU0Oxo",
        "outputId": "2f8d517a-1c7e-4a68-8c9e-cc0b39f68142"
      },
      "source": [
        "simplify( sin( pi/2 + x ) )"
      ],
      "execution_count": null,
      "outputs": [
        {
          "output_type": "execute_result",
          "data": {
            "image/png": "[encoded data removed]",
            "text/latex": "$$\\cos{\\left (x \\right )}$$",
            "text/plain": [
              "cos(x)"
            ]
          },
          "metadata": {
            "tags": []
          },
          "execution_count": 58
        }
      ]
    },
    {
      "cell_type": "code",
      "metadata": {
        "colab": {
          "base_uri": "https://localhost:8080/",
          "height": 38
        },
        "id": "DyDa2rYg0Rip",
        "outputId": "5d24ab9b-74f0-4e95-c7ca-cc8520a9e6c7"
      },
      "source": [
        "simplify( cos( pi/2 - x ) )"
      ],
      "execution_count": null,
      "outputs": [
        {
          "output_type": "execute_result",
          "data": {
            "image/png": "[encoded data removed]",
            "text/latex": "$$\\sin{\\left (x \\right )}$$",
            "text/plain": [
              "sin(x)"
            ]
          },
          "metadata": {
            "tags": []
          },
          "execution_count": 59
        }
      ]
    },
    {
      "cell_type": "markdown",
      "metadata": {
        "id": "CtWc2VOn0T0-"
      },
      "source": [
        "삼각함수의 그래프\n",
        "사인함수\n",
        "\n",
        "$ y=\\sin x $"
      ]
    },
    {
      "cell_type": "code",
      "metadata": {
        "colab": {
          "base_uri": "https://localhost:8080/",
          "height": 383
        },
        "id": "wW8dwlx00a1Q",
        "outputId": "6c582529-7733-42ff-d4ec-c509630e87ad"
      },
      "source": [
        "plot( sin(x), xlim=(-6.28,6.28), ylim=(-2,2) )"
      ],
      "execution_count": null,
      "outputs": [
        {
          "output_type": "stream",
          "text": [
            "/usr/local/lib/python3.6/dist-packages/sympy/plotting/plot.py:890: MatplotlibDeprecationWarning: \n",
            "The set_smart_bounds function was deprecated in Matplotlib 3.2 and will be removed two minor releases later.\n",
            "  self.ax.spines['left'].set_smart_bounds(True)\n",
            "/usr/local/lib/python3.6/dist-packages/sympy/plotting/plot.py:891: MatplotlibDeprecationWarning: \n",
            "The set_smart_bounds function was deprecated in Matplotlib 3.2 and will be removed two minor releases later.\n",
            "  self.ax.spines['bottom'].set_smart_bounds(False)\n"
          ],
          "name": "stderr"
        },
        {
          "output_type": "display_data",
          "data": {
            "image/png": "[encoded data removed]",
            "text/plain": [
              "<Figure size 432x288 with 1 Axes>"
            ]
          },
          "metadata": {
            "tags": [],
            "needs_background": "light"
          }
        },
        {
          "output_type": "execute_result",
          "data": {
            "text/plain": [
              "<sympy.plotting.plot.Plot at 0x7f23e244eb00>"
            ]
          },
          "metadata": {
            "tags": []
          },
          "execution_count": 60
        }
      ]
    },
    {
      "cell_type": "code",
      "metadata": {
        "colab": {
          "base_uri": "https://localhost:8080/",
          "height": 383
        },
        "id": "IsmCANgk0d73",
        "outputId": "ab44d285-bfb0-42cb-8214-21007adf8143"
      },
      "source": [
        "plot( cos(x), xlim=(-6.28,6.28), ylim=(-2,2) )"
      ],
      "execution_count": null,
      "outputs": [
        {
          "output_type": "stream",
          "text": [
            "/usr/local/lib/python3.6/dist-packages/sympy/plotting/plot.py:890: MatplotlibDeprecationWarning: \n",
            "The set_smart_bounds function was deprecated in Matplotlib 3.2 and will be removed two minor releases later.\n",
            "  self.ax.spines['left'].set_smart_bounds(True)\n",
            "/usr/local/lib/python3.6/dist-packages/sympy/plotting/plot.py:891: MatplotlibDeprecationWarning: \n",
            "The set_smart_bounds function was deprecated in Matplotlib 3.2 and will be removed two minor releases later.\n",
            "  self.ax.spines['bottom'].set_smart_bounds(False)\n"
          ],
          "name": "stderr"
        },
        {
          "output_type": "display_data",
          "data": {
            "image/png": "[encoded data removed]",
            "text/plain": [
              "<Figure size 432x288 with 1 Axes>"
            ]
          },
          "metadata": {
            "tags": [],
            "needs_background": "light"
          }
        },
        {
          "output_type": "execute_result",
          "data": {
            "text/plain": [
              "<sympy.plotting.plot.Plot at 0x7f23e26b3a20>"
            ]
          },
          "metadata": {
            "tags": []
          },
          "execution_count": 61
        }
      ]
    },
    {
      "cell_type": "code",
      "metadata": {
        "colab": {
          "base_uri": "https://localhost:8080/",
          "height": 389
        },
        "id": "sbTcPveN0gt_",
        "outputId": "9b9f279c-131e-48fd-9447-f2790c1aa351"
      },
      "source": [
        "plot( tan(x), xlim=(-6.28,6.28), ylim=(-4,4) )"
      ],
      "execution_count": null,
      "outputs": [
        {
          "output_type": "stream",
          "text": [
            "/usr/local/lib/python3.6/dist-packages/sympy/plotting/plot.py:890: MatplotlibDeprecationWarning: \n",
            "The set_smart_bounds function was deprecated in Matplotlib 3.2 and will be removed two minor releases later.\n",
            "  self.ax.spines['left'].set_smart_bounds(True)\n",
            "/usr/local/lib/python3.6/dist-packages/sympy/plotting/plot.py:891: MatplotlibDeprecationWarning: \n",
            "The set_smart_bounds function was deprecated in Matplotlib 3.2 and will be removed two minor releases later.\n",
            "  self.ax.spines['bottom'].set_smart_bounds(False)\n"
          ],
          "name": "stderr"
        },
        {
          "output_type": "display_data",
          "data": {
            "image/png": "[encoded data removed]",
            "text/plain": [
              "<Figure size 432x288 with 1 Axes>"
            ]
          },
          "metadata": {
            "tags": [],
            "needs_background": "light"
          }
        },
        {
          "output_type": "execute_result",
          "data": {
            "text/plain": [
              "<sympy.plotting.plot.Plot at 0x7f23e2370978>"
            ]
          },
          "metadata": {
            "tags": []
          },
          "execution_count": 62
        }
      ]
    },
    {
      "cell_type": "markdown",
      "metadata": {
        "id": "ve_sU1Gj0kjL"
      },
      "source": [
        "#삼각함수의 덧셈정리\n",
        "삼각함수의 덧셈정리\n",
        "$$\n",
        "\\begin{align}\n",
        " \\sin \\left( a+b \\right) &= \\,\\sin a \\cos b + \\cos a \\sin b  \\\\\n",
        " \\sin \\left( a-b \\right) &= \\,\\sin a \\cos b - \\cos a \\sin b  \\\\\n",
        " \\cos \\left( a+b \\right) &= \\,\\cos a \\cos b - \\sin a \\sin b  \\\\\n",
        " \\cos \\left( a-b \\right) &= \\,\\cos a \\cos b + \\sin a \\sin b  \\\\\n",
        " \\tan (a+b) &= \\frac {\\tan a + \\tan b} {1- \\tan a \\tan b}  \\\\\n",
        " \\tan (a-b) &= \\frac {\\tan a - \\tan b} {1+ \\tan a \\tan b}  \\\\\n",
        "\\end{align} $$\n",
        "삼각함수의 전개는 expand_trig( ) 함수를 이용한다.\n",
        "\n"
      ]
    },
    {
      "cell_type": "code",
      "metadata": {
        "colab": {
          "base_uri": "https://localhost:8080/",
          "height": 38
        },
        "id": "imCa1r_u0wtL",
        "outputId": "a2492dcd-2724-4689-afdd-addc93b4d198"
      },
      "source": [
        "Eq(sin( a + b ),expand_trig( sin( a + b ) ))"
      ],
      "execution_count": null,
      "outputs": [
        {
          "output_type": "execute_result",
          "data": {
            "image/png": "[encoded data removed]",
            "text/latex": "$$\\sin{\\left (a + b \\right )} = \\sin{\\left (a \\right )} \\cos{\\left (b \\right )} + \\sin{\\left (b \\right )} \\cos{\\left (a \\right )}$$",
            "text/plain": [
              "sin(a + b) = sin(a)⋅cos(b) + sin(b)⋅cos(a)"
            ]
          },
          "metadata": {
            "tags": []
          },
          "execution_count": 65
        }
      ]
    },
    {
      "cell_type": "code",
      "metadata": {
        "colab": {
          "base_uri": "https://localhost:8080/",
          "height": 43
        },
        "id": "D0CuLAYv047g",
        "outputId": "abacb245-40ae-4d43-c04b-6c6f75158d9d"
      },
      "source": [
        "Eq(tan( a + b  ),expand_trig( tan( a + b  ) ))"
      ],
      "execution_count": null,
      "outputs": [
        {
          "output_type": "execute_result",
          "data": {
            "image/png": "[encoded data removed]",
            "text/latex": "$$\\tan{\\left (a + b \\right )} = \\frac{\\tan{\\left (a \\right )} + \\tan{\\left (b \\right )}}{- \\tan{\\left (a \\right )} \\tan{\\left (b \\right )} + 1}$$",
            "text/plain": [
              "              tan(a) + tan(b)  \n",
              "tan(a + b) = ──────────────────\n",
              "             -tan(a)⋅tan(b) + 1"
            ]
          },
          "metadata": {
            "tags": []
          },
          "execution_count": 66
        }
      ]
    },
    {
      "cell_type": "markdown",
      "metadata": {
        "id": "NZvuzfn61S3L"
      },
      "source": [
        "삼각함수의 덧셈정리 공식을 반대 방향으로 간단히 하려면, trigsimp( ) 함수를 이용한다."
      ]
    },
    {
      "cell_type": "code",
      "metadata": {
        "colab": {
          "base_uri": "https://localhost:8080/",
          "height": 38
        },
        "id": "jEASWspc1Tyu",
        "outputId": "cf969779-5ad8-434b-f213-8247b7581f76"
      },
      "source": [
        "Eq(cos(a)*cos(b) - sin(a)*sin(b),  trigsimp( cos(a)*cos(b) - sin(a)*sin(b) ))"
      ],
      "execution_count": null,
      "outputs": [
        {
          "output_type": "execute_result",
          "data": {
            "image/png": "[encoded data removed]",
            "text/latex": "$$- \\sin{\\left (a \\right )} \\sin{\\left (b \\right )} + \\cos{\\left (a \\right )} \\cos{\\left (b \\right )} = \\cos{\\left (a + b \\right )}$$",
            "text/plain": [
              "-sin(a)⋅sin(b) + cos(a)⋅cos(b) = cos(a + b)"
            ]
          },
          "metadata": {
            "tags": []
          },
          "execution_count": 67
        }
      ]
    },
    {
      "cell_type": "markdown",
      "metadata": {
        "id": "QGjij9K-1fpt"
      },
      "source": [
        "simplify( ) 함수를 사용하여도 같은 결과를 얻는다."
      ]
    },
    {
      "cell_type": "code",
      "metadata": {
        "colab": {
          "base_uri": "https://localhost:8080/",
          "height": 38
        },
        "id": "XfCn8Bcr1gU2",
        "outputId": "83ea386c-526e-4a65-e609-562d3c11260d"
      },
      "source": [
        "Eq(cos(a)*cos(b) - sin(a)*sin(b), simplify( cos(a)*cos(b) - sin(a)*sin(b) ))"
      ],
      "execution_count": null,
      "outputs": [
        {
          "output_type": "execute_result",
          "data": {
            "image/png": "[encoded data removed]",
            "text/latex": "$$- \\sin{\\left (a \\right )} \\sin{\\left (b \\right )} + \\cos{\\left (a \\right )} \\cos{\\left (b \\right )} = \\cos{\\left (a + b \\right )}$$",
            "text/plain": [
              "-sin(a)⋅sin(b) + cos(a)⋅cos(b) = cos(a + b)"
            ]
          },
          "metadata": {
            "tags": []
          },
          "execution_count": 68
        }
      ]
    },
    {
      "cell_type": "markdown",
      "metadata": {
        "id": "xsyNpOB915PT"
      },
      "source": [
        "삼각함수의 합성\n",
        "덧셈정리를 이용하면\n",
        "$ \\sin t + \\cos t= \\sqrt 2 \\ sin \\left( t+ \\frac {\\pi} 4 \\right)$"
      ]
    },
    {
      "cell_type": "code",
      "metadata": {
        "colab": {
          "base_uri": "https://localhost:8080/",
          "height": 38
        },
        "id": "jcvBnLW22erR",
        "outputId": "d4c1db05-55a5-40b3-c6ea-43a770ba33c4"
      },
      "source": [
        "trigsimp( sin(t) + cos(t) )"
      ],
      "execution_count": null,
      "outputs": [
        {
          "output_type": "execute_result",
          "data": {
            "image/png": "[encoded data removed]",
            "text/latex": "$$\\sqrt{2} \\sin{\\left (t + \\frac{\\pi}{4} \\right )}$$",
            "text/plain": [
              "      ⎛    π⎞\n",
              "√2⋅sin⎜t + ─⎟\n",
              "      ⎝    4⎠"
            ]
          },
          "metadata": {
            "tags": []
          },
          "execution_count": 69
        }
      ]
    },
    {
      "cell_type": "markdown",
      "metadata": {
        "id": "qcIq1LIU25kV"
      },
      "source": [
        "배각의 공식\n",
        "$$\n",
        "\\begin{align}\n",
        " \\sin 2a &= \\, 2 \\sin a \\cos a  \\\\\n",
        " \\cos 2a &= \\,\\cos ^2 a - \\sin ^2 a \\,=\\,2 \\cos ^2 a  - 1 \\,=\\, 1 - \\sin ^2 a   \\\\\n",
        " \\tan 2a &= \\frac {2 \\tan a } {1- \\tan ^2 a }  \\\\\n",
        "\\end{align} $$"
      ]
    },
    {
      "cell_type": "code",
      "metadata": {
        "colab": {
          "base_uri": "https://localhost:8080/",
          "height": 38
        },
        "id": "vRPi-UBn3DjL",
        "outputId": "29673ce2-a717-4a9a-9c0d-7f5499ecb106"
      },
      "source": [
        "expand_trig( sin(2*a) )"
      ],
      "execution_count": null,
      "outputs": [
        {
          "output_type": "execute_result",
          "data": {
            "image/png": "[encoded data removed]",
            "text/latex": "$$2 \\sin{\\left (a \\right )} \\cos{\\left (a \\right )}$$",
            "text/plain": [
              "2⋅sin(a)⋅cos(a)"
            ]
          },
          "metadata": {
            "tags": []
          },
          "execution_count": 70
        }
      ]
    },
    {
      "cell_type": "code",
      "metadata": {
        "colab": {
          "base_uri": "https://localhost:8080/",
          "height": 38
        },
        "id": "qCRxSiS13LM_",
        "outputId": "f71d1d46-80c2-43c8-962b-e32ec139196c"
      },
      "source": [
        "expand_trig( cos(2*a) )"
      ],
      "execution_count": null,
      "outputs": [
        {
          "output_type": "execute_result",
          "data": {
            "image/png": "[encoded data removed]",
            "text/latex": "$$2 \\cos^{2}{\\left (a \\right )} - 1$$",
            "text/plain": [
              "     2       \n",
              "2⋅cos (a) - 1"
            ]
          },
          "metadata": {
            "tags": []
          },
          "execution_count": 71
        }
      ]
    },
    {
      "cell_type": "markdown",
      "metadata": {
        "id": "Hu68digw3Wqw"
      },
      "source": [
        "반각의 공식\n",
        "\n",
        "\\begin{align}\n",
        " \\sin ^2 \\frac a 2 &= \\, \\frac {1- \\cos a} 2  \\\\\n",
        " \\cos ^2 \\frac a 2 &= \\, \\frac {1+ \\cos a} 2  \\\\\n",
        " \\tan ^2 \\frac a 2 &= \\, \\frac {1- \\cos a} {1+ \\cos a}  \\\\\n",
        "\\end{align}\n",
        " \n",
        "위 공식의 형태로는 우변의 결과로 잘 정리 되어지지 않지만,"
      ]
    },
    {
      "cell_type": "code",
      "metadata": {
        "colab": {
          "base_uri": "https://localhost:8080/",
          "height": 38
        },
        "id": "Sw9JbJy53hGd",
        "outputId": "f6a59e43-c9ce-4e65-a35c-e386ef55caeb"
      },
      "source": [
        "trigsimp( sin(a/2) **2 )"
      ],
      "execution_count": null,
      "outputs": [
        {
          "output_type": "execute_result",
          "data": {
            "image/png": "[encoded data removed]",
            "text/latex": "$$\\sin^{2}{\\left (\\frac{a}{2} \\right )}$$",
            "text/plain": [
              "   2⎛a⎞\n",
              "sin ⎜─⎟\n",
              "    ⎝2⎠"
            ]
          },
          "metadata": {
            "tags": []
          },
          "execution_count": 72
        }
      ]
    },
    {
      "cell_type": "code",
      "metadata": {
        "colab": {
          "base_uri": "https://localhost:8080/",
          "height": 38
        },
        "id": "CZYQ6Nwg3qVH",
        "outputId": "2baa0317-d4fa-41e6-9bdf-63cde9d2b8fb"
      },
      "source": [
        "trigsimp( 1 - 2*sin(a/2)**2 )"
      ],
      "execution_count": null,
      "outputs": [
        {
          "output_type": "execute_result",
          "data": {
            "image/png": "[encoded data removed]",
            "text/latex": "$$\\cos{\\left (a \\right )}$$",
            "text/plain": [
              "cos(a)"
            ]
          },
          "metadata": {
            "tags": []
          },
          "execution_count": 73
        }
      ]
    },
    {
      "cell_type": "markdown",
      "metadata": {
        "id": "n6xlP5c03yRM"
      },
      "source": [
        "삼각함수의 곱의 공식\n",
        "\\begin{align}\n",
        " \\sin a \\cos b &= \\, \\frac 1 2 \\left \\{ \\sin (a+b) + \\sin (a-b) \\right \\}   \\\\\n",
        " \\cos a \\sin b &= \\, \\frac 1 2 \\left \\{ \\sin (a+b) - \\sin (a-b) \\right \\}   \\\\\n",
        " \\cos a \\cos b &= \\, \\frac 1 2 \\left \\{ \\cos (a+b) + \\cos (a-b) \\right \\}   \\\\\n",
        " \\sin a \\sin b &= \\, - \\frac 1 2 \\left \\{ \\cos (a+b) - \\cos (a-b) \\right \\}   \\\\\n",
        "\\end{align}"
      ]
    },
    {
      "cell_type": "code",
      "metadata": {
        "colab": {
          "base_uri": "https://localhost:8080/",
          "height": 38
        },
        "id": "iHhQ4mdv32gj",
        "outputId": "1c9463ff-10d6-4aa0-b969-b67655b30072"
      },
      "source": [
        "trigsimp( sin(a+b) + sin(a-b) )"
      ],
      "execution_count": null,
      "outputs": [
        {
          "output_type": "execute_result",
          "data": {
            "image/png": "[encoded data removed]",
            "text/latex": "$$2 \\sin{\\left (a \\right )} \\cos{\\left (b \\right )}$$",
            "text/plain": [
              "2⋅sin(a)⋅cos(b)"
            ]
          },
          "metadata": {
            "tags": []
          },
          "execution_count": 74
        }
      ]
    },
    {
      "cell_type": "code",
      "metadata": {
        "colab": {
          "base_uri": "https://localhost:8080/",
          "height": 38
        },
        "id": "dFnqJ04n3845",
        "outputId": "ffc248a8-7270-4723-e1b1-9d61ec258b23"
      },
      "source": [
        "trigsimp( cos(a+b) + cos(a-b) )"
      ],
      "execution_count": null,
      "outputs": [
        {
          "output_type": "execute_result",
          "data": {
            "image/png": "[encoded data removed]",
            "text/latex": "$$2 \\cos{\\left (a \\right )} \\cos{\\left (b \\right )}$$",
            "text/plain": [
              "2⋅cos(a)⋅cos(b)"
            ]
          },
          "metadata": {
            "tags": []
          },
          "execution_count": 75
        }
      ]
    },
    {
      "cell_type": "markdown",
      "metadata": {
        "id": "1Fu9knUQ4DCk"
      },
      "source": [
        "삼각함수의 합의 공식\n",
        "\n",
        "\\begin{align}\n",
        " \\sin A + \\sin B &= \\, 2 \\sin \\frac {A+B} 2 \\, \\cos \\frac {A-B} 2   \\\\\n",
        " \\sin A - \\sin B &= \\, 2 \\cos \\frac {A+B} 2 \\, \\sin \\frac {A-B} 2   \\\\\n",
        " \\cos A + \\cos B &= \\, 2 \\cos \\frac {A+B} 2 \\, \\cos \\frac {A-B} 2   \\\\\n",
        " \\cos A - \\cos B &= \\,-2 \\sin \\frac {A+B} 2 \\, \\sin \\frac {A-B} 2   \\\\\n",
        "\\end{align}\n",
        " \n",
        "공식의 우변에서 좌변으로 간략화가 쉽다."
      ]
    },
    {
      "cell_type": "code",
      "metadata": {
        "colab": {
          "base_uri": "https://localhost:8080/",
          "height": 38
        },
        "id": "dHB7ulXY4Hdi",
        "outputId": "c4d17d4a-efae-4e84-841e-dc8d499c48b7"
      },
      "source": [
        "A, B = symbols('A B')\n",
        "Eq(2 * sin((A+B)/2) * cos((A-B)/2), trigsimp( 2 * sin((A+B)/2) * cos((A-B)/2) ))"
      ],
      "execution_count": null,
      "outputs": [
        {
          "output_type": "execute_result",
          "data": {
            "image/png": "[encoded data removed]",
            "text/latex": "$$2 \\sin{\\left (\\frac{A}{2} + \\frac{B}{2} \\right )} \\cos{\\left (\\frac{A}{2} - \\frac{B}{2} \\right )} = \\sin{\\left (A \\right )} + \\sin{\\left (B \\right )}$$",
            "text/plain": [
              "     ⎛A   B⎞    ⎛A   B⎞                  \n",
              "2⋅sin⎜─ + ─⎟⋅cos⎜─ - ─⎟ = sin(A) + sin(B)\n",
              "     ⎝2   2⎠    ⎝2   2⎠                  "
            ]
          },
          "metadata": {
            "tags": []
          },
          "execution_count": 81
        }
      ]
    },
    {
      "cell_type": "code",
      "metadata": {
        "colab": {
          "base_uri": "https://localhost:8080/",
          "height": 37
        },
        "id": "jMxdHPOt44nb",
        "outputId": "61dca8e1-3c1a-481a-ab7b-8b3e2481b5e2"
      },
      "source": [
        "trigsimp( (1-cos(t)**(-4)) * tan(t)**(-2) + cos(t)**(-2) )"
      ],
      "execution_count": null,
      "outputs": [
        {
          "output_type": "execute_result",
          "data": {
            "image/png": "[encoded data removed]",
            "text/latex": "$$-1$$",
            "text/plain": [
              "-1"
            ]
          },
          "metadata": {
            "tags": []
          },
          "execution_count": 82
        }
      ]
    },
    {
      "cell_type": "markdown",
      "metadata": {
        "id": "vhPbaIh94_bv"
      },
      "source": [
        "삼각 방정식\n",
        "삼각 방정식 $ 2 \\cos x+1=0 $ 을 푼다.  ($ 0 \\leq x<2 \\pi $)"
      ]
    },
    {
      "cell_type": "code",
      "metadata": {
        "colab": {
          "base_uri": "https://localhost:8080/",
          "height": 382
        },
        "id": "hQMkwvgt5UQD",
        "outputId": "45cff0bf-aeec-4f2f-c923-822b234cb92d"
      },
      "source": [
        "plot( sin(t) - cos(2*t), xlim=(-6.28,6.28), ylim=(-3,3) )"
      ],
      "execution_count": null,
      "outputs": [
        {
          "output_type": "stream",
          "text": [
            "/usr/local/lib/python3.6/dist-packages/sympy/plotting/plot.py:890: MatplotlibDeprecationWarning: \n",
            "The set_smart_bounds function was deprecated in Matplotlib 3.2 and will be removed two minor releases later.\n",
            "  self.ax.spines['left'].set_smart_bounds(True)\n",
            "/usr/local/lib/python3.6/dist-packages/sympy/plotting/plot.py:891: MatplotlibDeprecationWarning: \n",
            "The set_smart_bounds function was deprecated in Matplotlib 3.2 and will be removed two minor releases later.\n",
            "  self.ax.spines['bottom'].set_smart_bounds(False)\n"
          ],
          "name": "stderr"
        },
        {
          "output_type": "display_data",
          "data": {
            "image/png": "[encoded data removed]",
            "text/plain": [
              "<Figure size 432x288 with 1 Axes>"
            ]
          },
          "metadata": {
            "tags": [],
            "needs_background": "light"
          }
        },
        {
          "output_type": "execute_result",
          "data": {
            "text/plain": [
              "<sympy.plotting.plot.Plot at 0x7f23e206e588>"
            ]
          },
          "metadata": {
            "tags": []
          },
          "execution_count": 83
        }
      ]
    },
    {
      "cell_type": "code",
      "metadata": {
        "colab": {
          "base_uri": "https://localhost:8080/",
          "height": 38
        },
        "id": "hC4Mg26l5eGn",
        "outputId": "cbb60de6-a64f-41fd-acc9-e2b10b280918"
      },
      "source": [
        "soln = solve( sin(t) - cos(2*t), t)\n",
        "soln"
      ],
      "execution_count": null,
      "outputs": [
        {
          "output_type": "execute_result",
          "data": {
            "image/png": "[encoded data removed]",
            "text/latex": "$$\\left [ - \\frac{\\pi}{2}, \\quad i \\left(\\log{\\left (2 \\right )} - \\log{\\left (- \\sqrt{3} + i \\right )}\\right), \\quad i \\left(\\log{\\left (2 \\right )} - \\log{\\left (\\sqrt{3} + i \\right )}\\right)\\right ]$$",
            "text/plain": [
              "⎡-π                                                      ⎤\n",
              "⎢───, ⅈ⋅(log(2) - log(-√3 + ⅈ)), ⅈ⋅(log(2) - log(√3 + ⅈ))⎥\n",
              "⎣ 2                                                      ⎦"
            ]
          },
          "metadata": {
            "tags": []
          },
          "execution_count": 84
        }
      ]
    },
    {
      "cell_type": "code",
      "metadata": {
        "colab": {
          "base_uri": "https://localhost:8080/",
          "height": 38
        },
        "id": "4d60tqyX5pE-",
        "outputId": "2576f26f-1918-4a2b-d9de-8632cefc7f37"
      },
      "source": [
        "re( soln[1] )"
      ],
      "execution_count": null,
      "outputs": [
        {
          "output_type": "execute_result",
          "data": {
            "image/png": "[encoded data removed]",
            "text/latex": "$$\\frac{5 \\pi}{6}$$",
            "text/plain": [
              "5⋅π\n",
              "───\n",
              " 6 "
            ]
          },
          "metadata": {
            "tags": []
          },
          "execution_count": 85
        }
      ]
    },
    {
      "cell_type": "code",
      "metadata": {
        "colab": {
          "base_uri": "https://localhost:8080/",
          "height": 37
        },
        "id": "Y4EQoLhY5W32",
        "outputId": "013d3f3c-505f-4bb8-b88d-4dea68ada8dc"
      },
      "source": [
        "im( soln[1] )"
      ],
      "execution_count": null,
      "outputs": [
        {
          "output_type": "execute_result",
          "data": {
            "image/png": "[encoded data removed]",
            "text/latex": "$$0$$",
            "text/plain": [
              "0"
            ]
          },
          "metadata": {
            "tags": []
          },
          "execution_count": 86
        }
      ]
    },
    {
      "cell_type": "code",
      "metadata": {
        "colab": {
          "base_uri": "https://localhost:8080/",
          "height": 41
        },
        "id": "xgly2wHR5w1_",
        "outputId": "85fce529-1b48-4d8d-becf-70fa4f293631"
      },
      "source": [
        "expand_complex( exp(I*pi/4) )"
      ],
      "execution_count": null,
      "outputs": [
        {
          "output_type": "execute_result",
          "data": {
            "image/png": "[encoded data removed]",
            "text/latex": "$$\\frac{\\sqrt{2}}{2} + \\frac{\\sqrt{2} i}{2}$$",
            "text/plain": [
              "√2   √2⋅ⅈ\n",
              "── + ────\n",
              "2     2  "
            ]
          },
          "metadata": {
            "tags": []
          },
          "execution_count": 87
        }
      ]
    },
    {
      "cell_type": "code",
      "metadata": {
        "colab": {
          "base_uri": "https://localhost:8080/",
          "height": 38
        },
        "id": "0Z-AF0xx54-6",
        "outputId": "8c9c0da0-ea3c-446d-b1fc-71079d029800"
      },
      "source": [
        "expand_complex( soln[1] )"
      ],
      "execution_count": null,
      "outputs": [
        {
          "output_type": "execute_result",
          "data": {
            "image/png": "[encoded data removed]",
            "text/latex": "$$\\frac{5 \\pi}{6}$$",
            "text/plain": [
              "5⋅π\n",
              "───\n",
              " 6 "
            ]
          },
          "metadata": {
            "tags": []
          },
          "execution_count": 88
        }
      ]
    },
    {
      "cell_type": "code",
      "metadata": {
        "colab": {
          "base_uri": "https://localhost:8080/",
          "height": 38
        },
        "id": "u_0Jr4Bl58kf",
        "outputId": "b5f862a6-a674-4ced-ba70-e18a0926b285"
      },
      "source": [
        "expand_complex( soln[2] )"
      ],
      "execution_count": null,
      "outputs": [
        {
          "output_type": "execute_result",
          "data": {
            "image/png": "[encoded data removed]",
            "text/latex": "$$\\frac{\\pi}{6}$$",
            "text/plain": [
              "π\n",
              "─\n",
              "6"
            ]
          },
          "metadata": {
            "tags": []
          },
          "execution_count": 89
        }
      ]
    },
    {
      "cell_type": "markdown",
      "metadata": {
        "id": "dPj5i_Zj6BKR"
      },
      "source": [
        "다음 삼각 방정식을 푼다.\n",
        "\n",
        "$ \\sqrt 3 \\sin x− \\cos x=1  $ 해:  $ x = \\frac {\\pi} 3, \\,  \\pi$ \n",
        "좌변 $ =0 $ 의 형태로 바꾸어서, 그래프를 그리면"
      ]
    },
    {
      "cell_type": "code",
      "metadata": {
        "colab": {
          "base_uri": "https://localhost:8080/",
          "height": 389
        },
        "id": "RHAI1FC46hA_",
        "outputId": "9692c356-da8a-4778-f723-556f567a8af1"
      },
      "source": [
        "plot( sqrt(3)*sin(x) - cos(x) - 1, xlim=(-6.28,6.28), ylim=(-3,3) )"
      ],
      "execution_count": null,
      "outputs": [
        {
          "output_type": "stream",
          "text": [
            "/usr/local/lib/python3.6/dist-packages/sympy/plotting/plot.py:890: MatplotlibDeprecationWarning: \n",
            "The set_smart_bounds function was deprecated in Matplotlib 3.2 and will be removed two minor releases later.\n",
            "  self.ax.spines['left'].set_smart_bounds(True)\n",
            "/usr/local/lib/python3.6/dist-packages/sympy/plotting/plot.py:891: MatplotlibDeprecationWarning: \n",
            "The set_smart_bounds function was deprecated in Matplotlib 3.2 and will be removed two minor releases later.\n",
            "  self.ax.spines['bottom'].set_smart_bounds(False)\n"
          ],
          "name": "stderr"
        },
        {
          "output_type": "display_data",
          "data": {
            "image/png": "[encoded data removed]",
            "text/plain": [
              "<Figure size 432x288 with 1 Axes>"
            ]
          },
          "metadata": {
            "tags": [],
            "needs_background": "light"
          }
        },
        {
          "output_type": "execute_result",
          "data": {
            "text/plain": [
              "<sympy.plotting.plot.Plot at 0x7f23e20e7978>"
            ]
          },
          "metadata": {
            "tags": []
          },
          "execution_count": 90
        }
      ]
    },
    {
      "cell_type": "code",
      "metadata": {
        "colab": {
          "base_uri": "https://localhost:8080/",
          "height": 389
        },
        "id": "wgUlHM-W8gWt",
        "outputId": "b14b56e2-d8af-4de0-dfb2-e1cbc483d6f7"
      },
      "source": [
        "plot( sqrt(3)*sin(x) - cos(x) - 1, xlim=(-6.28,6.28), ylim=(-3,3) )"
      ],
      "execution_count": null,
      "outputs": [
        {
          "output_type": "stream",
          "text": [
            "/usr/local/lib/python3.6/dist-packages/sympy/plotting/plot.py:890: MatplotlibDeprecationWarning: \n",
            "The set_smart_bounds function was deprecated in Matplotlib 3.2 and will be removed two minor releases later.\n",
            "  self.ax.spines['left'].set_smart_bounds(True)\n",
            "/usr/local/lib/python3.6/dist-packages/sympy/plotting/plot.py:891: MatplotlibDeprecationWarning: \n",
            "The set_smart_bounds function was deprecated in Matplotlib 3.2 and will be removed two minor releases later.\n",
            "  self.ax.spines['bottom'].set_smart_bounds(False)\n"
          ],
          "name": "stderr"
        },
        {
          "output_type": "display_data",
          "data": {
            "image/png": "[encoded data removed]",
            "text/plain": [
              "<Figure size 432x288 with 1 Axes>"
            ]
          },
          "metadata": {
            "tags": [],
            "needs_background": "light"
          }
        },
        {
          "output_type": "execute_result",
          "data": {
            "text/plain": [
              "<sympy.plotting.plot.Plot at 0x7f23e20c10f0>"
            ]
          },
          "metadata": {
            "tags": []
          },
          "execution_count": 91
        }
      ]
    },
    {
      "cell_type": "code",
      "metadata": {
        "colab": {
          "base_uri": "https://localhost:8080/",
          "height": 38
        },
        "id": "4yTFQ0F08jjo",
        "outputId": "573d8c79-8fbf-4d2c-b2f6-951b6868343e"
      },
      "source": [
        "soln = solve( sqrt(3)*sin(x) - cos(x) - 1, x )\n",
        "soln"
      ],
      "execution_count": null,
      "outputs": [
        {
          "output_type": "execute_result",
          "data": {
            "image/png": "[encoded data removed]",
            "text/latex": "$$\\left [ \\frac{\\pi}{3}\\right ]$$",
            "text/plain": [
              "⎡π⎤\n",
              "⎢─⎥\n",
              "⎣3⎦"
            ]
          },
          "metadata": {
            "tags": []
          },
          "execution_count": 92
        }
      ]
    },
    {
      "cell_type": "code",
      "metadata": {
        "colab": {
          "base_uri": "https://localhost:8080/",
          "height": 38
        },
        "id": "cROd0DgJ8n0d",
        "outputId": "f9522f35-001d-455f-aab5-de846bd0929c"
      },
      "source": [
        "trigsimp( sqrt(3)*sin(x) - cos(x) - 1 )"
      ],
      "execution_count": null,
      "outputs": [
        {
          "output_type": "execute_result",
          "data": {
            "image/png": "[encoded data removed]",
            "text/latex": "$$- 2 \\cos{\\left (x + \\frac{\\pi}{3} \\right )} - 1$$",
            "text/plain": [
              "       ⎛    π⎞    \n",
              "- 2⋅cos⎜x + ─⎟ - 1\n",
              "       ⎝    3⎠    "
            ]
          },
          "metadata": {
            "tags": []
          },
          "execution_count": 93
        }
      ]
    },
    {
      "cell_type": "code",
      "metadata": {
        "colab": {
          "base_uri": "https://localhost:8080/",
          "height": 38
        },
        "id": "_Z_moaHq8raV",
        "outputId": "69450d7a-182c-4e73-a74b-d373075bf58f"
      },
      "source": [
        "solve( _ , x )"
      ],
      "execution_count": null,
      "outputs": [
        {
          "output_type": "execute_result",
          "data": {
            "image/png": "[encoded data removed]",
            "text/latex": "$$\\left [ \\frac{\\pi}{3}, \\quad \\pi\\right ]$$",
            "text/plain": [
              "⎡π   ⎤\n",
              "⎢─, π⎥\n",
              "⎣3   ⎦"
            ]
          },
          "metadata": {
            "tags": []
          },
          "execution_count": 94
        }
      ]
    },
    {
      "cell_type": "code",
      "metadata": {
        "colab": {
          "base_uri": "https://localhost:8080/",
          "height": 383
        },
        "id": "o59MDYst8yTr",
        "outputId": "d86f7723-ff79-40f2-c793-9a6d6b1d9788"
      },
      "source": [
        "plot( cos(2*x) + 3*sin(x) - 2 , xlim=(-6.28,6.28), ylim=(-7,1) )"
      ],
      "execution_count": null,
      "outputs": [
        {
          "output_type": "stream",
          "text": [
            "/usr/local/lib/python3.6/dist-packages/sympy/plotting/plot.py:890: MatplotlibDeprecationWarning: \n",
            "The set_smart_bounds function was deprecated in Matplotlib 3.2 and will be removed two minor releases later.\n",
            "  self.ax.spines['left'].set_smart_bounds(True)\n",
            "/usr/local/lib/python3.6/dist-packages/sympy/plotting/plot.py:891: MatplotlibDeprecationWarning: \n",
            "The set_smart_bounds function was deprecated in Matplotlib 3.2 and will be removed two minor releases later.\n",
            "  self.ax.spines['bottom'].set_smart_bounds(False)\n"
          ],
          "name": "stderr"
        },
        {
          "output_type": "display_data",
          "data": {
            "image/png": "[encoded data removed]",
            "text/plain": [
              "<Figure size 432x288 with 1 Axes>"
            ]
          },
          "metadata": {
            "tags": [],
            "needs_background": "light"
          }
        },
        {
          "output_type": "execute_result",
          "data": {
            "text/plain": [
              "<sympy.plotting.plot.Plot at 0x7f23e1d67630>"
            ]
          },
          "metadata": {
            "tags": []
          },
          "execution_count": 95
        }
      ]
    },
    {
      "cell_type": "code",
      "metadata": {
        "colab": {
          "base_uri": "https://localhost:8080/",
          "height": 37
        },
        "id": "sUB0ntE19A59",
        "outputId": "07f5d0f7-28ab-41eb-f377-58fbbbf9f372"
      },
      "source": [
        "solve( cos(2*x) + 3*sin(x) - 2 , x  ) "
      ],
      "execution_count": null,
      "outputs": [
        {
          "output_type": "execute_result",
          "data": {
            "image/png": "[encoded data removed]",
            "text/latex": "$$\\left [ \\right ]$$",
            "text/plain": [
              "[]"
            ]
          },
          "metadata": {
            "tags": []
          },
          "execution_count": 96
        }
      ]
    },
    {
      "cell_type": "code",
      "metadata": {
        "colab": {
          "base_uri": "https://localhost:8080/",
          "height": 38
        },
        "id": "rSIDae0N9C3x",
        "outputId": "1007ce98-f9bb-4922-b812-c5c3330d6cd1"
      },
      "source": [
        "trigsimp( cos(2*x) - 2 + 3*sin(x)  ) "
      ],
      "execution_count": null,
      "outputs": [
        {
          "output_type": "execute_result",
          "data": {
            "image/png": "[encoded data removed]",
            "text/latex": "$$3 \\sin{\\left (x \\right )} + \\cos{\\left (2 x \\right )} - 2$$",
            "text/plain": [
              "3⋅sin(x) + cos(2⋅x) - 2"
            ]
          },
          "metadata": {
            "tags": []
          },
          "execution_count": 97
        }
      ]
    },
    {
      "cell_type": "code",
      "metadata": {
        "colab": {
          "base_uri": "https://localhost:8080/",
          "height": 38
        },
        "id": "rb0G4JQu9Flk",
        "outputId": "b035e89b-8636-4bec-d98b-1561afc60e9f"
      },
      "source": [
        "expand_trig( cos(2*x) - 2 + 3*sin(x) ) "
      ],
      "execution_count": null,
      "outputs": [
        {
          "output_type": "execute_result",
          "data": {
            "image/png": "[encoded data removed]",
            "text/latex": "$$3 \\sin{\\left (x \\right )} + 2 \\cos^{2}{\\left (x \\right )} - 3$$",
            "text/plain": [
              "                2       \n",
              "3⋅sin(x) + 2⋅cos (x) - 3"
            ]
          },
          "metadata": {
            "tags": []
          },
          "execution_count": 98
        }
      ]
    },
    {
      "cell_type": "code",
      "metadata": {
        "colab": {
          "base_uri": "https://localhost:8080/",
          "height": 38
        },
        "id": "8PmlvPnP9ISL",
        "outputId": "ac14c6f6-b665-4774-8366-172f82feac9c"
      },
      "source": [
        "soln = solve( _ , x )\n",
        "soln"
      ],
      "execution_count": null,
      "outputs": [
        {
          "output_type": "execute_result",
          "data": {
            "image/png": "[encoded data removed]",
            "text/latex": "$$\\left [ \\frac{\\pi}{6}, \\quad \\frac{\\pi}{2}, \\quad 2 \\operatorname{atan}{\\left (\\sqrt{3} + 2 \\right )}\\right ]$$",
            "text/plain": [
              "⎡π  π                ⎤\n",
              "⎢─, ─, 2⋅atan(√3 + 2)⎥\n",
              "⎣6  2                ⎦"
            ]
          },
          "metadata": {
            "tags": []
          },
          "execution_count": 99
        }
      ]
    },
    {
      "cell_type": "code",
      "metadata": {
        "colab": {
          "base_uri": "https://localhost:8080/",
          "height": 38
        },
        "id": "FUVDiBwT9MjG",
        "outputId": "b2e08a6d-820a-4abb-8dd9-477de75f1d13"
      },
      "source": [
        "simplify( soln[2] )"
      ],
      "execution_count": null,
      "outputs": [
        {
          "output_type": "execute_result",
          "data": {
            "image/png": "[encoded data removed]",
            "text/latex": "$$2 \\operatorname{atan}{\\left (\\sqrt{3} + 2 \\right )}$$",
            "text/plain": [
              "2⋅atan(√3 + 2)"
            ]
          },
          "metadata": {
            "tags": []
          },
          "execution_count": 100
        }
      ]
    },
    {
      "cell_type": "markdown",
      "metadata": {
        "id": "LKLhgsWD-UWW"
      },
      "source": [
        "#순열과 조합\n",
        "계승함수\n",
        "정수  n  의 계승(factorial)을 표현한다."
      ]
    },
    {
      "cell_type": "code",
      "metadata": {
        "id": "ZcfSbifr-XB6"
      },
      "source": [
        "from sympy import *\n",
        "init_printing()          \n",
        "\n",
        "n, r = symbols('n r', integer=True)"
      ],
      "execution_count": null,
      "outputs": []
    },
    {
      "cell_type": "code",
      "metadata": {
        "colab": {
          "base_uri": "https://localhost:8080/",
          "height": 38
        },
        "id": "OSnGy7Cg-dqA",
        "outputId": "7553ce2e-4964-408b-f362-5bf5cbdcd4d6"
      },
      "source": [
        "factorial( n )"
      ],
      "execution_count": null,
      "outputs": [
        {
          "output_type": "execute_result",
          "data": {
            "image/png": "[encoded data removed]",
            "text/latex": "$$n!$$",
            "text/plain": [
              "n!"
            ]
          },
          "metadata": {
            "tags": []
          },
          "execution_count": 102
        }
      ]
    },
    {
      "cell_type": "code",
      "metadata": {
        "colab": {
          "base_uri": "https://localhost:8080/",
          "height": 37
        },
        "id": "7ARCQxw0-h6T",
        "outputId": "08c271f3-c71a-4654-db4b-349166c58012"
      },
      "source": [
        "factorial( 4 )"
      ],
      "execution_count": null,
      "outputs": [
        {
          "output_type": "execute_result",
          "data": {
            "image/png": "[encoded data removed]",
            "text/latex": "$$24$$",
            "text/plain": [
              "24"
            ]
          },
          "metadata": {
            "tags": []
          },
          "execution_count": 103
        }
      ]
    },
    {
      "cell_type": "code",
      "metadata": {
        "colab": {
          "base_uri": "https://localhost:8080/",
          "height": 57
        },
        "id": "m5TuOYPt-l9u",
        "outputId": "1ff480d2-23b2-47c4-90c7-6b2d8ebdd7e4"
      },
      "source": [
        "factorial( 100 )"
      ],
      "execution_count": null,
      "outputs": [
        {
          "output_type": "execute_result",
          "data": {
            "image/png": "[encoded data removed]",
            "text/latex": "$$93326215443944152681699238856266700490715968264381621468592963895217599993229915608941463976156518286253697920827223758251185210916864000000000000000000000000$$",
            "text/plain": [
              "933262154439441526816992388562667004907159682643816214685929638952175999932299\n",
              "156089414639761565182862536979208272237582511852109168640000000000000000000000\n",
              "00"
            ]
          },
          "metadata": {
            "tags": []
          },
          "execution_count": 104
        }
      ]
    },
    {
      "cell_type": "markdown",
      "metadata": {
        "id": "i9Kid8jo-sS5"
      },
      "source": [
        "#순열\n",
        "순열의 수 (the number of permutations):\n",
        "\n",
        "$ _ n P _ r  = \\frac {n!} {(n-r)!} $ "
      ]
    },
    {
      "cell_type": "code",
      "metadata": {
        "colab": {
          "base_uri": "https://localhost:8080/",
          "height": 41
        },
        "id": "M2QKqpnD--QD",
        "outputId": "d9d94f54-38c9-4207-a20d-63e880ba699c"
      },
      "source": [
        "factorial( n ) / factorial( n-r )"
      ],
      "execution_count": null,
      "outputs": [
        {
          "output_type": "execute_result",
          "data": {
            "image/png": "[encoded data removed]",
            "text/latex": "$$\\frac{n!}{\\left(n - r\\right)!}$$",
            "text/plain": [
              "   n!   \n",
              "────────\n",
              "(n - r)!"
            ]
          },
          "metadata": {
            "tags": []
          },
          "execution_count": 105
        }
      ]
    },
    {
      "cell_type": "markdown",
      "metadata": {
        "id": "Zp1vD3dU_GJa"
      },
      "source": [
        "조합\n",
        "조합의 수 (the number of combinations):\n",
        "\n",
        "$_n C _r = \\frac {n!} {r! \\, (n−r)!}= \\left( \\frac n r \\right) $\n",
        " \n",
        "또한, 조합의 수는 이항계수(binomial coefficient)와 같다."
      ]
    },
    {
      "cell_type": "code",
      "metadata": {
        "colab": {
          "base_uri": "https://localhost:8080/",
          "height": 38
        },
        "id": "MCKsz2il_iMG",
        "outputId": "69ec7b6b-f78d-47fe-ea54-47e9273eac73"
      },
      "source": [
        "binomial( n, r )"
      ],
      "execution_count": null,
      "outputs": [
        {
          "output_type": "execute_result",
          "data": {
            "image/png": "[encoded data removed]",
            "text/latex": "$${\\binom{n}{r}}$$",
            "text/plain": [
              "⎛n⎞\n",
              "⎜ ⎟\n",
              "⎝r⎠"
            ]
          },
          "metadata": {
            "tags": []
          },
          "execution_count": 106
        }
      ]
    },
    {
      "cell_type": "code",
      "metadata": {
        "colab": {
          "base_uri": "https://localhost:8080/",
          "height": 37
        },
        "id": "iIQQTloY_sGL",
        "outputId": "0b639e29-4327-4529-a6fe-2792b06542f3"
      },
      "source": [
        "simplify( factorial( n ) / factorial( r ) / factorial( n-r ) - binomial( n, r ) )"
      ],
      "execution_count": null,
      "outputs": [
        {
          "output_type": "execute_result",
          "data": {
            "image/png": "[encoded data removed]",
            "text/latex": "$$0$$",
            "text/plain": [
              "0"
            ]
          },
          "metadata": {
            "tags": []
          },
          "execution_count": 107
        }
      ]
    },
    {
      "cell_type": "markdown",
      "metadata": {
        "id": "tNt5B6qOB-Ws"
      },
      "source": [
        "# 함수의극한"
      ]
    },
    {
      "cell_type": "code",
      "metadata": {
        "id": "4JitGGNjCAjG"
      },
      "source": [
        "from sympy import *\n",
        "init_printing()          \n",
        "\n",
        "x, y, z = symbols('x y z')\n",
        "a, b, c, t = symbols('a b c t')\n",
        "\n",
        "%matplotlib inline "
      ],
      "execution_count": null,
      "outputs": []
    },
    {
      "cell_type": "markdown",
      "metadata": {
        "id": "rv7_ncidCJWD"
      },
      "source": [
        "limit( ) 함수로 극한값을 구한다.\n",
        "$ \\lim_{x \\to 1 } \\frac {x^3-1}{x-1} = 3 $"
      ]
    },
    {
      "cell_type": "code",
      "metadata": {
        "colab": {
          "base_uri": "https://localhost:8080/",
          "height": 37
        },
        "id": "xv6f1LIUCb4G",
        "outputId": "5c90c0e7-31df-420d-c24b-b6f619a3bcea"
      },
      "source": [
        "limit( ( x**3 - 1 ) / ( x - 1 ), x, 1 )"
      ],
      "execution_count": null,
      "outputs": [
        {
          "output_type": "execute_result",
          "data": {
            "image/png": "[encoded data removed]",
            "text/latex": "$$3$$",
            "text/plain": [
              "3"
            ]
          },
          "metadata": {
            "tags": []
          },
          "execution_count": 109
        }
      ]
    },
    {
      "cell_type": "markdown",
      "metadata": {
        "id": "Z6IDacnZCicC"
      },
      "source": [
        "다음 극한값을 구한다.\n",
        "\n",
        "$\n",
        "\\begin{align}\n",
        " \\lim _ {x \\to 1+0 } \\frac 1 {x-1} &= \\infty  \\\\\n",
        " \\lim _ {x \\to 1-0 } \\frac 1 {x-1} &= - \\infty\n",
        "\\end{align}\n",
        " $\n",
        " \n",
        "우극한값을 구하려면 추가적인 인자로 '+' 를 넣고, 좌극한값을 구하려면 '-' 를 넣는다."
      ]
    },
    {
      "cell_type": "code",
      "metadata": {
        "colab": {
          "base_uri": "https://localhost:8080/",
          "height": 37
        },
        "id": "qWbW8YebCv1L",
        "outputId": "7727a9a7-98e5-443f-a78f-fe33fa102f13"
      },
      "source": [
        "limit( 1/( x - 1 ) / x, x, 1, '+' )"
      ],
      "execution_count": null,
      "outputs": [
        {
          "output_type": "execute_result",
          "data": {
            "image/png": "[encoded data removed]",
            "text/latex": "$$\\infty$$",
            "text/plain": [
              "∞"
            ]
          },
          "metadata": {
            "tags": []
          },
          "execution_count": 110
        }
      ]
    },
    {
      "cell_type": "code",
      "metadata": {
        "colab": {
          "base_uri": "https://localhost:8080/",
          "height": 37
        },
        "id": "N-b6KtdOC5Nn",
        "outputId": "a9d87850-d762-4f7a-a456-0751900fb34e"
      },
      "source": [
        "limit( 1/( x - 1 ) / x, x, 1, '-' )"
      ],
      "execution_count": null,
      "outputs": [
        {
          "output_type": "execute_result",
          "data": {
            "image/png": "[encoded data removed]",
            "text/latex": "$$-\\infty$$",
            "text/plain": [
              "-∞"
            ]
          },
          "metadata": {
            "tags": []
          },
          "execution_count": 111
        }
      ]
    },
    {
      "cell_type": "code",
      "metadata": {
        "colab": {
          "base_uri": "https://localhost:8080/",
          "height": 37
        },
        "id": "8XE4VrtxC8Lz",
        "outputId": "50206be1-c02a-4ed3-f7cd-a4f3550d5ee9"
      },
      "source": [
        "limit( tan(x), x, pi/2, '+' )"
      ],
      "execution_count": null,
      "outputs": [
        {
          "output_type": "execute_result",
          "data": {
            "image/png": "[encoded data removed]",
            "text/latex": "$$-\\infty$$",
            "text/plain": [
              "-∞"
            ]
          },
          "metadata": {
            "tags": []
          },
          "execution_count": 112
        }
      ]
    },
    {
      "cell_type": "code",
      "metadata": {
        "colab": {
          "base_uri": "https://localhost:8080/",
          "height": 389
        },
        "id": "R9SuqEiMC-WH",
        "outputId": "c73d31ea-e54f-4549-b19c-70a8caa66f30"
      },
      "source": [
        "plot( tan(x), xlim=(-3.14,3.14), ylim=(-6,6) )"
      ],
      "execution_count": null,
      "outputs": [
        {
          "output_type": "stream",
          "text": [
            "/usr/local/lib/python3.6/dist-packages/sympy/plotting/plot.py:890: MatplotlibDeprecationWarning: \n",
            "The set_smart_bounds function was deprecated in Matplotlib 3.2 and will be removed two minor releases later.\n",
            "  self.ax.spines['left'].set_smart_bounds(True)\n",
            "/usr/local/lib/python3.6/dist-packages/sympy/plotting/plot.py:891: MatplotlibDeprecationWarning: \n",
            "The set_smart_bounds function was deprecated in Matplotlib 3.2 and will be removed two minor releases later.\n",
            "  self.ax.spines['bottom'].set_smart_bounds(False)\n"
          ],
          "name": "stderr"
        },
        {
          "output_type": "display_data",
          "data": {
            "image/png": "[encoded data removed]",
            "text/plain": [
              "<Figure size 432x288 with 1 Axes>"
            ]
          },
          "metadata": {
            "tags": [],
            "needs_background": "light"
          }
        },
        {
          "output_type": "execute_result",
          "data": {
            "text/plain": [
              "<sympy.plotting.plot.Plot at 0x7f23e1cc6b70>"
            ]
          },
          "metadata": {
            "tags": []
          },
          "execution_count": 113
        }
      ]
    },
    {
      "cell_type": "code",
      "metadata": {
        "colab": {
          "base_uri": "https://localhost:8080/",
          "height": 383
        },
        "id": "dbn0wZYfDEWV",
        "outputId": "c0c49c63-758c-4311-9eb8-6fbd8c5694cb"
      },
      "source": [
        "plot( sin(x)/x, ylim=(-2,2) )"
      ],
      "execution_count": null,
      "outputs": [
        {
          "output_type": "stream",
          "text": [
            "/usr/local/lib/python3.6/dist-packages/sympy/plotting/plot.py:890: MatplotlibDeprecationWarning: \n",
            "The set_smart_bounds function was deprecated in Matplotlib 3.2 and will be removed two minor releases later.\n",
            "  self.ax.spines['left'].set_smart_bounds(True)\n",
            "/usr/local/lib/python3.6/dist-packages/sympy/plotting/plot.py:891: MatplotlibDeprecationWarning: \n",
            "The set_smart_bounds function was deprecated in Matplotlib 3.2 and will be removed two minor releases later.\n",
            "  self.ax.spines['bottom'].set_smart_bounds(False)\n"
          ],
          "name": "stderr"
        },
        {
          "output_type": "display_data",
          "data": {
            "image/png": "[encoded data removed]",
            "text/plain": [
              "<Figure size 432x288 with 1 Axes>"
            ]
          },
          "metadata": {
            "tags": [],
            "needs_background": "light"
          }
        },
        {
          "output_type": "execute_result",
          "data": {
            "text/plain": [
              "<sympy.plotting.plot.Plot at 0x7f23e1c039b0>"
            ]
          },
          "metadata": {
            "tags": []
          },
          "execution_count": 114
        }
      ]
    },
    {
      "cell_type": "code",
      "metadata": {
        "colab": {
          "base_uri": "https://localhost:8080/",
          "height": 37
        },
        "id": "bZx_BuwdDH-_",
        "outputId": "5b6d647e-38f3-472c-99da-97f5a3e05fee"
      },
      "source": [
        "limit( ( 2**x - 2**(-x) ) / ( 2**x + 2**(-x) ), x, oo )"
      ],
      "execution_count": null,
      "outputs": [
        {
          "output_type": "execute_result",
          "data": {
            "image/png": "[encoded data removed]",
            "text/latex": "$$1$$",
            "text/plain": [
              "1"
            ]
          },
          "metadata": {
            "tags": []
          },
          "execution_count": 115
        }
      ]
    },
    {
      "cell_type": "code",
      "metadata": {
        "colab": {
          "base_uri": "https://localhost:8080/",
          "height": 389
        },
        "id": "eaD5O16kDLHr",
        "outputId": "65b895a9-4d7f-4a4b-ef61-ef1eb9ac9663"
      },
      "source": [
        "plot ( log(x,2), log(x+1,2), xlim=(-4,6), ylim=(-4,4))"
      ],
      "execution_count": null,
      "outputs": [
        {
          "output_type": "stream",
          "text": [
            "/usr/local/lib/python3.6/dist-packages/sympy/plotting/plot.py:890: MatplotlibDeprecationWarning: \n",
            "The set_smart_bounds function was deprecated in Matplotlib 3.2 and will be removed two minor releases later.\n",
            "  self.ax.spines['left'].set_smart_bounds(True)\n",
            "/usr/local/lib/python3.6/dist-packages/sympy/plotting/plot.py:891: MatplotlibDeprecationWarning: \n",
            "The set_smart_bounds function was deprecated in Matplotlib 3.2 and will be removed two minor releases later.\n",
            "  self.ax.spines['bottom'].set_smart_bounds(False)\n"
          ],
          "name": "stderr"
        },
        {
          "output_type": "display_data",
          "data": {
            "image/png": "[encoded data removed]",
            "text/plain": [
              "<Figure size 432x288 with 1 Axes>"
            ]
          },
          "metadata": {
            "tags": [],
            "needs_background": "light"
          }
        },
        {
          "output_type": "execute_result",
          "data": {
            "text/plain": [
              "<sympy.plotting.plot.Plot at 0x7f23e1b51940>"
            ]
          },
          "metadata": {
            "tags": []
          },
          "execution_count": 116
        }
      ]
    },
    {
      "cell_type": "markdown",
      "metadata": {
        "id": "waiKJJW9DTdU"
      },
      "source": [
        "#  9 미분법"
      ]
    },
    {
      "cell_type": "markdown",
      "metadata": {
        "id": "BBjrbpxRDWoJ"
      },
      "source": [
        ""
      ]
    },
    {
      "cell_type": "code",
      "metadata": {
        "id": "J343cjW9DXbd"
      },
      "source": [
        "from sympy import *\n",
        "init_printing()          \n",
        "\n",
        "x, y, z, t = symbols('x y z t')\n",
        "n = symbols('n', integer=True)\n",
        "c = symbols('c', constant=True)\n",
        "\n",
        "f, g, h = symbols('f, g, h', cls=Function)\n",
        "\n",
        "%matplotlib inline "
      ],
      "execution_count": null,
      "outputs": []
    },
    {
      "cell_type": "markdown",
      "metadata": {
        "id": "j7tS50kQDcRF"
      },
      "source": [
        "도함수\n",
        "함수  f(x)=xn  의 도함수\n",
        "\n",
        "$ f'(x)=nx^{n-1}  $"
      ]
    },
    {
      "cell_type": "code",
      "metadata": {
        "colab": {
          "base_uri": "https://localhost:8080/",
          "height": 38
        },
        "id": "-V8QQD3CDmsZ",
        "outputId": "0019ca93-e336-4a27-b41d-bcef146a24ec"
      },
      "source": [
        "diff( x**n, x )"
      ],
      "execution_count": null,
      "outputs": [
        {
          "output_type": "execute_result",
          "data": {
            "image/png": "[encoded data removed]",
            "text/latex": "$$\\frac{n x^{n}}{x}$$",
            "text/plain": [
              "   n\n",
              "n⋅x \n",
              "────\n",
              " x  "
            ]
          },
          "metadata": {
            "tags": []
          },
          "execution_count": 118
        }
      ]
    },
    {
      "cell_type": "code",
      "metadata": {
        "colab": {
          "base_uri": "https://localhost:8080/",
          "height": 38
        },
        "id": "CZ3qwWsqD_jb",
        "outputId": "3e4b695e-fdef-42b4-ee43-c774c9f68915"
      },
      "source": [
        "simplify( _ )"
      ],
      "execution_count": null,
      "outputs": [
        {
          "output_type": "execute_result",
          "data": {
            "image/png": "[encoded data removed]",
            "text/latex": "$$n x^{n - 1}$$",
            "text/plain": [
              "   n - 1\n",
              "n⋅x     "
            ]
          },
          "metadata": {
            "tags": []
          },
          "execution_count": 119
        }
      ]
    },
    {
      "cell_type": "code",
      "metadata": {
        "colab": {
          "base_uri": "https://localhost:8080/",
          "height": 37
        },
        "id": "MdZPjYFgEDMF",
        "outputId": "1d8ea2fd-93b5-456c-8582-1ac2de5d1fbc"
      },
      "source": [
        "diff( c, x )"
      ],
      "execution_count": null,
      "outputs": [
        {
          "output_type": "execute_result",
          "data": {
            "image/png": "[encoded data removed]",
            "text/latex": "$$0$$",
            "text/plain": [
              "0"
            ]
          },
          "metadata": {
            "tags": []
          },
          "execution_count": 120
        }
      ]
    },
    {
      "cell_type": "markdown",
      "metadata": {
        "id": "3-dQUjrBEJ9e"
      },
      "source": [
        "두 함수의 합의 미분\n",
        "$ \\{ f(x)+g(x) \\}' = f'(x)+g'(x)  $"
      ]
    },
    {
      "cell_type": "code",
      "metadata": {
        "colab": {
          "base_uri": "https://localhost:8080/",
          "height": 38
        },
        "id": "t-L4v5q6EQMu",
        "outputId": "e256cf27-abca-4307-e700-90f094368b2f"
      },
      "source": [
        "diff( f(x) + g(x), x )"
      ],
      "execution_count": null,
      "outputs": [
        {
          "output_type": "execute_result",
          "data": {
            "image/png": "[encoded data removed]",
            "text/latex": "$$\\frac{d}{d x} f{\\left (x \\right )} + \\frac{d}{d x} g{\\left (x \\right )}$$",
            "text/plain": [
              "d          d       \n",
              "──(f(x)) + ──(g(x))\n",
              "dx         dx      "
            ]
          },
          "metadata": {
            "tags": []
          },
          "execution_count": 121
        }
      ]
    },
    {
      "cell_type": "code",
      "metadata": {
        "colab": {
          "base_uri": "https://localhost:8080/",
          "height": 38
        },
        "id": "1NcOoPbgEfpZ",
        "outputId": "cf92399c-9547-40fa-98fe-92ebda42f795"
      },
      "source": [
        "diff( c * f(x), x )"
      ],
      "execution_count": null,
      "outputs": [
        {
          "output_type": "execute_result",
          "data": {
            "image/png": "[encoded data removed]",
            "text/latex": "$$c \\frac{d}{d x} f{\\left (x \\right )}$$",
            "text/plain": [
              "  d       \n",
              "c⋅──(f(x))\n",
              "  dx      "
            ]
          },
          "metadata": {
            "tags": []
          },
          "execution_count": 122
        }
      ]
    },
    {
      "cell_type": "code",
      "metadata": {
        "colab": {
          "base_uri": "https://localhost:8080/",
          "height": 38
        },
        "id": "qq-eTteMEiUx",
        "outputId": "a5da79a2-a776-4903-e889-3d982ac6c30f"
      },
      "source": [
        "diff( f(x) * g(x), x )"
      ],
      "execution_count": null,
      "outputs": [
        {
          "output_type": "execute_result",
          "data": {
            "image/png": "[encoded data removed]",
            "text/latex": "$$f{\\left (x \\right )} \\frac{d}{d x} g{\\left (x \\right )} + g{\\left (x \\right )} \\frac{d}{d x} f{\\left (x \\right )}$$",
            "text/plain": [
              "     d               d       \n",
              "f(x)⋅──(g(x)) + g(x)⋅──(f(x))\n",
              "     dx              dx      "
            ]
          },
          "metadata": {
            "tags": []
          },
          "execution_count": 123
        }
      ]
    },
    {
      "cell_type": "code",
      "metadata": {
        "colab": {
          "base_uri": "https://localhost:8080/",
          "height": 38
        },
        "id": "hgFxTJDqEnok",
        "outputId": "a6257bef-e6bd-486c-f9f2-8d5d798bd536"
      },
      "source": [
        "fx = x**3 -3*x - 1\n",
        "fp = diff( fx, x )\n",
        "fp"
      ],
      "execution_count": null,
      "outputs": [
        {
          "output_type": "execute_result",
          "data": {
            "image/png": "[encoded data removed]",
            "text/latex": "$$3 x^{2} - 3$$",
            "text/plain": [
              "   2    \n",
              "3⋅x  - 3"
            ]
          },
          "metadata": {
            "tags": []
          },
          "execution_count": 124
        }
      ]
    },
    {
      "cell_type": "code",
      "metadata": {
        "colab": {
          "base_uri": "https://localhost:8080/",
          "height": 37
        },
        "id": "7xvJG3mnEq90",
        "outputId": "cbe99f35-4a46-4c9a-cd57-f5c4c31d2f27"
      },
      "source": [
        "xs = solve( fp, x )\n",
        "xs"
      ],
      "execution_count": null,
      "outputs": [
        {
          "output_type": "execute_result",
          "data": {
            "image/png": "[encoded data removed]",
            "text/latex": "$$\\left [ -1, \\quad 1\\right ]$$",
            "text/plain": [
              "[-1, 1]"
            ]
          },
          "metadata": {
            "tags": []
          },
          "execution_count": 125
        }
      ]
    },
    {
      "cell_type": "code",
      "metadata": {
        "colab": {
          "base_uri": "https://localhost:8080/",
          "height": 37
        },
        "id": "_PX_hnF0Es-z",
        "outputId": "dd99ad34-eda7-4d91-e454-5f2a7c222d12"
      },
      "source": [
        "fx.subs( x, xs[0] ) "
      ],
      "execution_count": null,
      "outputs": [
        {
          "output_type": "execute_result",
          "data": {
            "image/png": "[encoded data removed]",
            "text/latex": "$$1$$",
            "text/plain": [
              "1"
            ]
          },
          "metadata": {
            "tags": []
          },
          "execution_count": 126
        }
      ]
    },
    {
      "cell_type": "code",
      "metadata": {
        "colab": {
          "base_uri": "https://localhost:8080/",
          "height": 389
        },
        "id": "PR-Nsza6EvuH",
        "outputId": "623fd1fb-2b16-472b-b8f7-682a82d5e132"
      },
      "source": [
        "plot( fx, xlim=(-2,2), ylim=(-4,4) )"
      ],
      "execution_count": null,
      "outputs": [
        {
          "output_type": "stream",
          "text": [
            "/usr/local/lib/python3.6/dist-packages/sympy/plotting/plot.py:890: MatplotlibDeprecationWarning: \n",
            "The set_smart_bounds function was deprecated in Matplotlib 3.2 and will be removed two minor releases later.\n",
            "  self.ax.spines['left'].set_smart_bounds(True)\n",
            "/usr/local/lib/python3.6/dist-packages/sympy/plotting/plot.py:891: MatplotlibDeprecationWarning: \n",
            "The set_smart_bounds function was deprecated in Matplotlib 3.2 and will be removed two minor releases later.\n",
            "  self.ax.spines['bottom'].set_smart_bounds(False)\n"
          ],
          "name": "stderr"
        },
        {
          "output_type": "display_data",
          "data": {
            "image/png": "[encoded data removed]",
            "text/plain": [
              "<Figure size 432x288 with 1 Axes>"
            ]
          },
          "metadata": {
            "tags": [],
            "needs_background": "light"
          }
        },
        {
          "output_type": "execute_result",
          "data": {
            "text/plain": [
              "<sympy.plotting.plot.Plot at 0x7f23e1a043c8>"
            ]
          },
          "metadata": {
            "tags": []
          },
          "execution_count": 127
        }
      ]
    },
    {
      "cell_type": "code",
      "metadata": {
        "colab": {
          "base_uri": "https://localhost:8080/",
          "height": 40
        },
        "id": "2sPbtXE2FDLo",
        "outputId": "69a90448-48ba-4df4-f4fe-115de10a2ae5"
      },
      "source": [
        "diff( f(x), x, x )"
      ],
      "execution_count": null,
      "outputs": [
        {
          "output_type": "execute_result",
          "data": {
            "image/png": "[encoded data removed]",
            "text/latex": "$$\\frac{d^{2}}{d x^{2}}  f{\\left (x \\right )}$$",
            "text/plain": [
              "  2      \n",
              " d       \n",
              "───(f(x))\n",
              "  2      \n",
              "dx       "
            ]
          },
          "metadata": {
            "tags": []
          },
          "execution_count": 128
        }
      ]
    },
    {
      "cell_type": "code",
      "metadata": {
        "colab": {
          "base_uri": "https://localhost:8080/",
          "height": 40
        },
        "id": "qGXa4fWVFGX4",
        "outputId": "8a12a571-76e5-4159-abff-7ef2c1f1dc7a"
      },
      "source": [
        "diff( f(x), x, 2 )"
      ],
      "execution_count": null,
      "outputs": [
        {
          "output_type": "execute_result",
          "data": {
            "image/png": "[encoded data removed]",
            "text/latex": "$$\\frac{d^{2}}{d x^{2}}  f{\\left (x \\right )}$$",
            "text/plain": [
              "  2      \n",
              " d       \n",
              "───(f(x))\n",
              "  2      \n",
              "dx       "
            ]
          },
          "metadata": {
            "tags": []
          },
          "execution_count": 129
        }
      ]
    },
    {
      "cell_type": "code",
      "metadata": {
        "colab": {
          "base_uri": "https://localhost:8080/",
          "height": 38
        },
        "id": "SLwaset6FIpy",
        "outputId": "bb640664-707c-4df5-ccc2-a878bbd3e1ad"
      },
      "source": [
        "y = x**3 - 3*x**2 - x + 1\n",
        "ypp = diff( y, x, 2 )\n",
        "ypp"
      ],
      "execution_count": null,
      "outputs": [
        {
          "output_type": "execute_result",
          "data": {
            "image/png": "[encoded data removed]",
            "text/latex": "$$6 \\left(x - 1\\right)$$",
            "text/plain": [
              "6⋅(x - 1)"
            ]
          },
          "metadata": {
            "tags": []
          },
          "execution_count": 130
        }
      ]
    },
    {
      "cell_type": "code",
      "metadata": {
        "colab": {
          "base_uri": "https://localhost:8080/",
          "height": 37
        },
        "id": "rNx-_V1CFMhF",
        "outputId": "1c95eed1-6d40-4a99-f6bc-7138547bb4cc"
      },
      "source": [
        "xs = solve( ypp, x )\n",
        "xs"
      ],
      "execution_count": null,
      "outputs": [
        {
          "output_type": "execute_result",
          "data": {
            "image/png": "[encoded data removed]",
            "text/latex": "$$\\left [ 1\\right ]$$",
            "text/plain": [
              "[1]"
            ]
          },
          "metadata": {
            "tags": []
          },
          "execution_count": 131
        }
      ]
    },
    {
      "cell_type": "code",
      "metadata": {
        "colab": {
          "base_uri": "https://localhost:8080/",
          "height": 37
        },
        "id": "bchQR3GqFPgs",
        "outputId": "790e2ece-ca5a-47ec-c68e-02b15a419daf"
      },
      "source": [
        "y.subs( x, xs[0] )"
      ],
      "execution_count": null,
      "outputs": [
        {
          "output_type": "execute_result",
          "data": {
            "image/png": "[encoded data removed]",
            "text/latex": "$$-2$$",
            "text/plain": [
              "-2"
            ]
          },
          "metadata": {
            "tags": []
          },
          "execution_count": 132
        }
      ]
    },
    {
      "cell_type": "code",
      "metadata": {
        "colab": {
          "base_uri": "https://localhost:8080/",
          "height": 389
        },
        "id": "SiMe0X3XFRi0",
        "outputId": "367f44ae-70fe-4333-b5a2-d5d7f1187ff0"
      },
      "source": [
        "plot( y, xlim=(-6,6), ylim=(-6,2) )\n"
      ],
      "execution_count": null,
      "outputs": [
        {
          "output_type": "stream",
          "text": [
            "/usr/local/lib/python3.6/dist-packages/sympy/plotting/plot.py:890: MatplotlibDeprecationWarning: \n",
            "The set_smart_bounds function was deprecated in Matplotlib 3.2 and will be removed two minor releases later.\n",
            "  self.ax.spines['left'].set_smart_bounds(True)\n",
            "/usr/local/lib/python3.6/dist-packages/sympy/plotting/plot.py:891: MatplotlibDeprecationWarning: \n",
            "The set_smart_bounds function was deprecated in Matplotlib 3.2 and will be removed two minor releases later.\n",
            "  self.ax.spines['bottom'].set_smart_bounds(False)\n"
          ],
          "name": "stderr"
        },
        {
          "output_type": "display_data",
          "data": {
            "image/png": "[encoded data removed]",
            "text/plain": [
              "<Figure size 432x288 with 1 Axes>"
            ]
          },
          "metadata": {
            "tags": [],
            "needs_background": "light"
          }
        },
        {
          "output_type": "execute_result",
          "data": {
            "text/plain": [
              "<sympy.plotting.plot.Plot at 0x7f23e1920a58>"
            ]
          },
          "metadata": {
            "tags": []
          },
          "execution_count": 133
        }
      ]
    },
    {
      "cell_type": "code",
      "metadata": {
        "id": "Qzq6jOqzFVbq"
      },
      "source": [
        "y = Symbol('y')   "
      ],
      "execution_count": null,
      "outputs": []
    },
    {
      "cell_type": "code",
      "metadata": {
        "colab": {
          "base_uri": "https://localhost:8080/",
          "height": 46
        },
        "id": "eYcHKZmeFXlJ",
        "outputId": "12342fef-3b1f-4a84-981d-9cb41fc38656"
      },
      "source": [
        " diff( f(x) / g(x), x )"
      ],
      "execution_count": null,
      "outputs": [
        {
          "output_type": "execute_result",
          "data": {
            "image/png": "[encoded data removed]",
            "text/latex": "$$- \\frac{\\frac{d}{d x} g{\\left (x \\right )}}{g^{2}{\\left (x \\right )}} f{\\left (x \\right )} + \\frac{\\frac{d}{d x} f{\\left (x \\right )}}{g{\\left (x \\right )}}$$",
            "text/plain": [
              "       d          d       \n",
              "  f(x)⋅──(g(x))   ──(f(x))\n",
              "       dx         dx      \n",
              "- ───────────── + ────────\n",
              "       2            g(x)  \n",
              "      g (x)               "
            ]
          },
          "metadata": {
            "tags": []
          },
          "execution_count": 135
        }
      ]
    },
    {
      "cell_type": "code",
      "metadata": {
        "colab": {
          "base_uri": "https://localhost:8080/",
          "height": 41
        },
        "id": "tgrbmPxcFaTf",
        "outputId": "b0637dc9-84dc-4fe0-e721-0c16d2a0b891"
      },
      "source": [
        "simplify( _ )"
      ],
      "execution_count": null,
      "outputs": [
        {
          "output_type": "execute_result",
          "data": {
            "image/png": "[encoded data removed]",
            "text/latex": "$$\\frac{1}{g^{2}{\\left (x \\right )}} \\left(- f{\\left (x \\right )} \\frac{d}{d x} g{\\left (x \\right )} + g{\\left (x \\right )} \\frac{d}{d x} f{\\left (x \\right )}\\right)$$",
            "text/plain": [
              "       d               d       \n",
              "- f(x)⋅──(g(x)) + g(x)⋅──(f(x))\n",
              "       dx              dx      \n",
              "───────────────────────────────\n",
              "              2                \n",
              "             g (x)             "
            ]
          },
          "metadata": {
            "tags": []
          },
          "execution_count": 136
        }
      ]
    },
    {
      "cell_type": "markdown",
      "metadata": {
        "id": "61aLM7lcNEFZ"
      },
      "source": [
        "# 10 적분법"
      ]
    },
    {
      "cell_type": "code",
      "metadata": {
        "id": "yS9gFwWMNGMN"
      },
      "source": [
        "from sympy import *\n",
        "init_printing()          \n",
        "\n",
        "x, y, z, t = symbols('x y z t')\n",
        "a, b, c, r = symbols('a b c r', constant=True)\n",
        "f, g, h = symbols('f, g, h', cls=Function)\n",
        "\n",
        "%matplotlib inline "
      ],
      "execution_count": null,
      "outputs": []
    },
    {
      "cell_type": "markdown",
      "metadata": {
        "id": "Z4RGTZWyNOA-"
      },
      "source": [
        "적분\n",
        "예를 들어 다음 부정적분을 구하려면\n",
        "\n",
        "$ \\int 3x^2 dx = x^3 + C\n",
        "$\n",
        "\n",
        "integrate() 함수를 이용하여 적분을 구한다."
      ]
    },
    {
      "cell_type": "code",
      "metadata": {
        "colab": {
          "base_uri": "https://localhost:8080/",
          "height": 38
        },
        "id": "jN8tvvtcNcOZ",
        "outputId": "d9539ecc-80b7-4d24-c6e8-60fede076258"
      },
      "source": [
        "integrate( 3 *x**2, x )"
      ],
      "execution_count": null,
      "outputs": [
        {
          "output_type": "execute_result",
          "data": {
            "image/png": "[encoded data removed]",
            "text/latex": "$$x^{3}$$",
            "text/plain": [
              " 3\n",
              "x "
            ]
          },
          "metadata": {
            "tags": []
          },
          "execution_count": 138
        }
      ]
    },
    {
      "cell_type": "code",
      "metadata": {
        "colab": {
          "base_uri": "https://localhost:8080/",
          "height": 68
        },
        "id": "1DyVXHEjNkiE",
        "outputId": "7dd8681b-e425-4725-e7b9-992dc7cd0188"
      },
      "source": [
        "integrate( x**r, x )"
      ],
      "execution_count": null,
      "outputs": [
        {
          "output_type": "execute_result",
          "data": {
            "text/latex": "$$\\begin{cases} \\log{\\left (x \\right )} & \\text{for}\\: r = -1 \\\\\\frac{x^{r + 1}}{r + 1} & \\text{otherwise} \\end{cases}$$",
            "text/plain": [
              "⎧log(x)  for r = -1\n",
              "⎪                  \n",
              "⎪ r + 1            \n",
              "⎨x                 \n",
              "⎪──────  otherwise \n",
              "⎪r + 1             \n",
              "⎩                  "
            ]
          },
          "metadata": {
            "tags": []
          },
          "execution_count": 139
        }
      ]
    },
    {
      "cell_type": "code",
      "metadata": {
        "colab": {
          "base_uri": "https://localhost:8080/",
          "height": 38
        },
        "id": "_xMNdtQuNtT9",
        "outputId": "05c6b0b6-bb79-43fc-e300-cb632a4346ca"
      },
      "source": [
        "integrate( 1/x, x )"
      ],
      "execution_count": null,
      "outputs": [
        {
          "output_type": "execute_result",
          "data": {
            "image/png": "[encoded data removed]",
            "text/latex": "$$\\log{\\left (x \\right )}$$",
            "text/plain": [
              "log(x)"
            ]
          },
          "metadata": {
            "tags": []
          },
          "execution_count": 140
        }
      ]
    },
    {
      "cell_type": "code",
      "metadata": {
        "colab": {
          "base_uri": "https://localhost:8080/",
          "height": 58
        },
        "id": "S6yWLIrcNva9",
        "outputId": "cc2283f0-782b-47fe-c188-7fc6564d5882"
      },
      "source": [
        "expand_complex( log(x) )"
      ],
      "execution_count": null,
      "outputs": [
        {
          "output_type": "execute_result",
          "data": {
            "image/png": "[encoded data removed]",
            "text/latex": "$$\\log{\\left (\\sqrt{\\left(\\Re{\\left(x\\right)}\\right)^{2} + \\left(\\Im{x}\\right)^{2}} \\right )} + i \\arg{\\left (\\Re{\\left(x\\right)} + i \\Im{x} \\right )}$$",
            "text/plain": [
              "   ⎛   _________________⎞                         \n",
              "   ⎜  ╱   2        2    ⎟                         \n",
              "log⎝╲╱  re (x) + im (x) ⎠ + ⅈ⋅arg(re(x) + ⅈ⋅im(x))"
            ]
          },
          "metadata": {
            "tags": []
          },
          "execution_count": 141
        }
      ]
    },
    {
      "cell_type": "code",
      "metadata": {
        "colab": {
          "base_uri": "https://localhost:8080/",
          "height": 38
        },
        "id": "jHtiRrG9N3O4",
        "outputId": "821622c9-9f3c-4cc3-ceb4-e68916b81591"
      },
      "source": [
        "log( I )"
      ],
      "execution_count": null,
      "outputs": [
        {
          "output_type": "execute_result",
          "data": {
            "image/png": "[encoded data removed]",
            "text/latex": "$$\\frac{i \\pi}{2}$$",
            "text/plain": [
              "ⅈ⋅π\n",
              "───\n",
              " 2 "
            ]
          },
          "metadata": {
            "tags": []
          },
          "execution_count": 142
        }
      ]
    },
    {
      "cell_type": "code",
      "metadata": {
        "id": "7LbE04NEN-AX"
      },
      "source": [
        ""
      ],
      "execution_count": null,
      "outputs": []
    },
    {
      "cell_type": "markdown",
      "metadata": {
        "id": "aDfeJfUfN-vZ"
      },
      "source": [
        "복소 로그함수의 인자가 양의 실수인 경우와 음의 실수인 경우를 구분하여 고찰해보자.\n",
        "\n",
        "양의 실수인 경우:\n",
        "\n",
        "기호 변수  x  를 구체적으로 양의 실수로 선언한다."
      ]
    },
    {
      "cell_type": "code",
      "metadata": {
        "id": "Aw_AeDt8OAar"
      },
      "source": [
        "x = Symbol('x', real=True, positive=True)"
      ],
      "execution_count": null,
      "outputs": []
    },
    {
      "cell_type": "code",
      "metadata": {
        "colab": {
          "base_uri": "https://localhost:8080/",
          "height": 38
        },
        "id": "IR9FwFZbOCP5",
        "outputId": "c9b3f86a-cd2a-4048-cf52-feca4c58f6d8"
      },
      "source": [
        "expand_complex( log(x) )"
      ],
      "execution_count": null,
      "outputs": [
        {
          "output_type": "execute_result",
          "data": {
            "image/png": "[encoded data removed]",
            "text/latex": "$$\\log{\\left (x \\right )}$$",
            "text/plain": [
              "log(x)"
            ]
          },
          "metadata": {
            "tags": []
          },
          "execution_count": 144
        }
      ]
    },
    {
      "cell_type": "code",
      "metadata": {
        "colab": {
          "base_uri": "https://localhost:8080/",
          "height": 37
        },
        "id": "XxgasnybOIyw",
        "outputId": "28ce5442-edf9-49e7-a59a-8312f25fd480"
      },
      "source": [
        "im( _ )"
      ],
      "execution_count": null,
      "outputs": [
        {
          "output_type": "execute_result",
          "data": {
            "image/png": "[encoded data removed]",
            "text/latex": "$$0$$",
            "text/plain": [
              "0"
            ]
          },
          "metadata": {
            "tags": []
          },
          "execution_count": 145
        }
      ]
    },
    {
      "cell_type": "code",
      "metadata": {
        "id": "x8hSXDqPOMdq"
      },
      "source": [
        "x = Symbol('x', real=True, positive=False)"
      ],
      "execution_count": null,
      "outputs": []
    },
    {
      "cell_type": "code",
      "metadata": {
        "colab": {
          "base_uri": "https://localhost:8080/",
          "height": 38
        },
        "id": "ZW8pvCA7OOiE",
        "outputId": "bfee002e-b62e-4a7f-d4aa-6298cf74162f"
      },
      "source": [
        "expand_complex( log(x) )"
      ],
      "execution_count": null,
      "outputs": [
        {
          "output_type": "execute_result",
          "data": {
            "image/png": "[encoded data removed]",
            "text/latex": "$$\\log{\\left (- x \\right )} + i \\arg{\\left (x \\right )}$$",
            "text/plain": [
              "log(-x) + ⅈ⋅arg(x)"
            ]
          },
          "metadata": {
            "tags": []
          },
          "execution_count": 147
        }
      ]
    },
    {
      "cell_type": "code",
      "metadata": {
        "colab": {
          "base_uri": "https://localhost:8080/",
          "height": 38
        },
        "id": "R_IxwiQnOU0b",
        "outputId": "bf6ece37-8743-4d7c-f61f-777d7c4dea13"
      },
      "source": [
        "integrate( c*f(x) + c*g(x), x )"
      ],
      "execution_count": null,
      "outputs": [
        {
          "output_type": "execute_result",
          "data": {
            "image/png": "[encoded data removed]",
            "text/latex": "$$c \\left(\\int f{\\left (x \\right )}\\, dx + \\int g{\\left (x \\right )}\\, dx\\right)$$",
            "text/plain": [
              "  ⎛⌠           ⌠        ⎞\n",
              "c⋅⎜⎮ f(x) dx + ⎮ g(x) dx⎟\n",
              "  ⎝⌡           ⌡        ⎠"
            ]
          },
          "metadata": {
            "tags": []
          },
          "execution_count": 148
        }
      ]
    },
    {
      "cell_type": "code",
      "metadata": {
        "colab": {
          "base_uri": "https://localhost:8080/",
          "height": 40
        },
        "id": "GBEiU-l0OZNt",
        "outputId": "42991c72-20f2-4c8d-9658-cbc4cd6a72cf"
      },
      "source": [
        "integrate( (x+1)**3 / x, x )"
      ],
      "execution_count": null,
      "outputs": [
        {
          "output_type": "execute_result",
          "data": {
            "image/png": "[encoded data removed]",
            "text/latex": "$$\\frac{x^{3}}{3} + \\frac{3 x^{2}}{2} + 3 x + \\log{\\left (x \\right )}$$",
            "text/plain": [
              " 3      2               \n",
              "x    3⋅x                \n",
              "── + ──── + 3⋅x + log(x)\n",
              "3     2                 "
            ]
          },
          "metadata": {
            "tags": []
          },
          "execution_count": 149
        }
      ]
    },
    {
      "cell_type": "code",
      "metadata": {
        "colab": {
          "base_uri": "https://localhost:8080/",
          "height": 38
        },
        "id": "Xngq5xclOgpR",
        "outputId": "9544c31a-f5e3-4db3-f769-0e252c6d2fe4"
      },
      "source": [
        "integrate( x**2, (x,1,2) )"
      ],
      "execution_count": null,
      "outputs": [
        {
          "output_type": "execute_result",
          "data": {
            "image/png": "[encoded data removed]",
            "text/latex": "$$\\frac{7}{3}$$",
            "text/plain": [
              "7/3"
            ]
          },
          "metadata": {
            "tags": []
          },
          "execution_count": 150
        }
      ]
    },
    {
      "cell_type": "code",
      "metadata": {
        "id": "kJIEnyJDOkg1"
      },
      "source": [
        "f(t)"
      ],
      "execution_count": null,
      "outputs": []
    },
    {
      "cell_type": "code",
      "metadata": {
        "colab": {
          "base_uri": "https://localhost:8080/",
          "height": 38
        },
        "id": "ZGx-6kqSOmZh",
        "outputId": "e6f70fe3-58f7-4e05-b138-723e1e7ff42d"
      },
      "source": [
        "Fx = integrate( f(t), (t,a,x) )\n",
        "Fx"
      ],
      "execution_count": null,
      "outputs": [
        {
          "output_type": "execute_result",
          "data": {
            "image/png": "[encoded data removed]",
            "text/latex": "$$\\int_{a}^{x} f{\\left (t \\right )}\\, dt$$",
            "text/plain": [
              "x        \n",
              "⌠        \n",
              "⎮ f(t) dt\n",
              "⌡        \n",
              "a        "
            ]
          },
          "metadata": {
            "tags": []
          },
          "execution_count": 151
        }
      ]
    },
    {
      "cell_type": "code",
      "metadata": {
        "colab": {
          "base_uri": "https://localhost:8080/",
          "height": 38
        },
        "id": "cSJwxTiAOpSc",
        "outputId": "07be1989-b4c4-4928-8475-e4cd5bb34160"
      },
      "source": [
        "diff( Fx, x )"
      ],
      "execution_count": null,
      "outputs": [
        {
          "output_type": "execute_result",
          "data": {
            "image/png": "[encoded data removed]",
            "text/latex": "$$f{\\left (x \\right )} + \\int_{a}^{x} 0\\, dt$$",
            "text/plain": [
              "       x     \n",
              "       ⌠     \n",
              "f(x) + ⎮ 0 dt\n",
              "       ⌡     \n",
              "       a     "
            ]
          },
          "metadata": {
            "tags": []
          },
          "execution_count": 152
        }
      ]
    },
    {
      "cell_type": "code",
      "metadata": {
        "colab": {
          "base_uri": "https://localhost:8080/",
          "height": 38
        },
        "id": "gsGlWuL5OsWG",
        "outputId": "60ec46d0-3d49-46f3-8d28-bd66820df56b"
      },
      "source": [
        "_.doit()"
      ],
      "execution_count": null,
      "outputs": [
        {
          "output_type": "execute_result",
          "data": {
            "image/png": "[encoded data removed]",
            "text/latex": "$$f{\\left (x \\right )}$$",
            "text/plain": [
              "f(x)"
            ]
          },
          "metadata": {
            "tags": []
          },
          "execution_count": 153
        }
      ]
    },
    {
      "cell_type": "code",
      "metadata": {
        "colab": {
          "base_uri": "https://localhost:8080/",
          "height": 389
        },
        "id": "yqOiWQqnOu_N",
        "outputId": "df3854c7-1c59-440b-fa57-8b1471c31635"
      },
      "source": [
        "fx = x**2 - 4\n",
        "gx = x - 2\n",
        "plot( fx, gx, xlim=(-6,6), ylim=(-4,4) )"
      ],
      "execution_count": null,
      "outputs": [
        {
          "output_type": "stream",
          "text": [
            "/usr/local/lib/python3.6/dist-packages/sympy/plotting/plot.py:890: MatplotlibDeprecationWarning: \n",
            "The set_smart_bounds function was deprecated in Matplotlib 3.2 and will be removed two minor releases later.\n",
            "  self.ax.spines['left'].set_smart_bounds(True)\n",
            "/usr/local/lib/python3.6/dist-packages/sympy/plotting/plot.py:891: MatplotlibDeprecationWarning: \n",
            "The set_smart_bounds function was deprecated in Matplotlib 3.2 and will be removed two minor releases later.\n",
            "  self.ax.spines['bottom'].set_smart_bounds(False)\n"
          ],
          "name": "stderr"
        },
        {
          "output_type": "display_data",
          "data": {
            "image/png": "[encoded data removed]",
            "text/plain": [
              "<Figure size 432x288 with 1 Axes>"
            ]
          },
          "metadata": {
            "tags": [],
            "needs_background": "light"
          }
        },
        {
          "output_type": "execute_result",
          "data": {
            "text/plain": [
              "<sympy.plotting.plot.Plot at 0x7f23e1920390>"
            ]
          },
          "metadata": {
            "tags": []
          },
          "execution_count": 154
        }
      ]
    },
    {
      "cell_type": "code",
      "metadata": {
        "colab": {
          "base_uri": "https://localhost:8080/",
          "height": 38
        },
        "id": "emV_S_UmPIZ7",
        "outputId": "a375e219-f569-41bb-9037-56d4b6f4b7ac"
      },
      "source": [
        "eqn=factor(Eq( fx, gx ))\n",
        "eqn"
      ],
      "execution_count": null,
      "outputs": [
        {
          "output_type": "execute_result",
          "data": {
            "image/png": "[encoded data removed]",
            "text/latex": "$$\\left(x - 2\\right) \\left(x + 2\\right) = x - 2$$",
            "text/plain": [
              "(x - 2)⋅(x + 2) = x - 2"
            ]
          },
          "metadata": {
            "tags": []
          },
          "execution_count": 164
        }
      ]
    },
    {
      "cell_type": "code",
      "metadata": {
        "colab": {
          "base_uri": "https://localhost:8080/",
          "height": 37
        },
        "id": "UQQ1iW8MOyBb",
        "outputId": "dabd86c6-0609-445e-af46-4ade28f3b979"
      },
      "source": [
        "soln = solve(eqn, x )\n",
        "soln"
      ],
      "execution_count": null,
      "outputs": [
        {
          "output_type": "execute_result",
          "data": {
            "image/png": "[encoded data removed]",
            "text/latex": "$$\\left [ -1\\right ]$$",
            "text/plain": [
              "[-1]"
            ]
          },
          "metadata": {
            "tags": []
          },
          "execution_count": 166
        }
      ]
    },
    {
      "cell_type": "code",
      "metadata": {
        "colab": {
          "base_uri": "https://localhost:8080/",
          "height": 38
        },
        "id": "0Rw6CiLEO0NS",
        "outputId": "8cc8dab4-e576-4d6a-d93b-0ce34f1d9a4d"
      },
      "source": [
        "integrate( gx - fx, (x,soln[0],2) )"
      ],
      "execution_count": null,
      "outputs": [
        {
          "output_type": "execute_result",
          "data": {
            "image/png": "[encoded data removed]",
            "text/latex": "$$\\frac{9}{2}$$",
            "text/plain": [
              "9/2"
            ]
          },
          "metadata": {
            "tags": []
          },
          "execution_count": 167
        }
      ]
    },
    {
      "cell_type": "markdown",
      "metadata": {
        "id": "gUTn56DyQGs0"
      },
      "source": [
        "#matplotlib 을 이용하여 그래프 그리기"
      ]
    },
    {
      "cell_type": "code",
      "metadata": {
        "id": "ddMqAVwzQI-I"
      },
      "source": [
        "import matplotlib.pyplot as plt\n",
        "%matplotlib inline "
      ],
      "execution_count": null,
      "outputs": []
    },
    {
      "cell_type": "code",
      "metadata": {
        "colab": {
          "base_uri": "https://localhost:8080/",
          "height": 265
        },
        "id": "4nXUA7ZSQM0e",
        "outputId": "f27d3ab1-f560-4e12-ae73-f3244636f1d3"
      },
      "source": [
        "x = [0,1,2,3]\n",
        "y = [0,1,4,10]\n",
        "plt.plot( x, y )\n",
        "plt.show()"
      ],
      "execution_count": null,
      "outputs": [
        {
          "output_type": "display_data",
          "data": {
            "image/png": "[encoded data removed]",
            "text/plain": [
              "<Figure size 432x288 with 1 Axes>"
            ]
          },
          "metadata": {
            "tags": [],
            "needs_background": "light"
          }
        }
      ]
    },
    {
      "cell_type": "code",
      "metadata": {
        "id": "9EbkKcwMQPtC"
      },
      "source": [
        "import numpy as np"
      ],
      "execution_count": null,
      "outputs": []
    },
    {
      "cell_type": "code",
      "metadata": {
        "colab": {
          "base_uri": "https://localhost:8080/",
          "height": 265
        },
        "id": "v3DsaGuYQS_G",
        "outputId": "3dccdcbc-7639-4b1c-b2f1-43069ec8f93e"
      },
      "source": [
        "x = np.linspace( -np.pi, np.pi, 101)    # 100 steps between -pi and pi \n",
        "y = np.cos( 2*x )                       # numpy가 제공하는 수학 함수\n",
        "plt.plot( x, y )\n",
        "plt.show()"
      ],
      "execution_count": null,
      "outputs": [
        {
          "output_type": "display_data",
          "data": {
            "image/png": "[encoded data removed]",
            "text/plain": [
              "<Figure size 432x288 with 1 Axes>"
            ]
          },
          "metadata": {
            "tags": [],
            "needs_background": "light"
          }
        }
      ]
    },
    {
      "cell_type": "code",
      "metadata": {
        "colab": {
          "base_uri": "https://localhost:8080/",
          "height": 265
        },
        "id": "iQxn7fozQWGb",
        "outputId": "e7ff67c1-9ca2-4f3c-ee84-c9763384e1eb"
      },
      "source": [
        "x = np.linspace(-np.pi,np.pi,101)    # 100 steps between -pi and pi\n",
        "y = np.cos( 2*x )\n",
        "z = np.exp( -x**2 )\n",
        "\n",
        "fig = plt.figure()\n",
        "axes = fig.add_subplot(1,2,1)\n",
        "axes.plot( x, y )\n",
        "\n",
        "axes2 = fig.add_subplot(1,2,2)\n",
        "axes2.plot( x, z )\n",
        "plt.show()"
      ],
      "execution_count": null,
      "outputs": [
        {
          "output_type": "display_data",
          "data": {
            "image/png": "[encoded data removed]",
            "text/plain": [
              "<Figure size 432x288 with 2 Axes>"
            ]
          },
          "metadata": {
            "tags": [],
            "needs_background": "light"
          }
        }
      ]
    },
    {
      "cell_type": "markdown",
      "metadata": {
        "id": "nyGbzYnzQlZX"
      },
      "source": [
        "배열 만들기\n",
        "np.array() 함수"
      ]
    },
    {
      "cell_type": "code",
      "metadata": {
        "colab": {
          "base_uri": "https://localhost:8080/"
        },
        "id": "FBtm8vQHQmM6",
        "outputId": "78c804a0-206b-4366-8a41-25d748e455f2"
      },
      "source": [
        "import numpy as np\n",
        "\n",
        "a = np.array([0, 1, 2, 3, 4])\n",
        "a"
      ],
      "execution_count": null,
      "outputs": [
        {
          "output_type": "execute_result",
          "data": {
            "text/plain": [
              "array([0, 1, 2, 3, 4])"
            ]
          },
          "metadata": {
            "tags": []
          },
          "execution_count": 173
        }
      ]
    },
    {
      "cell_type": "code",
      "metadata": {
        "colab": {
          "base_uri": "https://localhost:8080/",
          "height": 37
        },
        "id": "O7HbJ3AaQrjO",
        "outputId": "152527f6-f1d3-4564-da13-39de4b813a11"
      },
      "source": [
        "a.ndim"
      ],
      "execution_count": null,
      "outputs": [
        {
          "output_type": "execute_result",
          "data": {
            "image/png": "[encoded data removed]",
            "text/latex": "$$1$$",
            "text/plain": [
              "1"
            ]
          },
          "metadata": {
            "tags": []
          },
          "execution_count": 174
        }
      ]
    },
    {
      "cell_type": "code",
      "metadata": {
        "colab": {
          "base_uri": "https://localhost:8080/",
          "height": 37
        },
        "id": "iVnN9fYKQtQK",
        "outputId": "2bf4b6a8-cd11-4157-e953-9f93eb0c1700"
      },
      "source": [
        "len(a)"
      ],
      "execution_count": null,
      "outputs": [
        {
          "output_type": "execute_result",
          "data": {
            "image/png": "[encoded data removed]",
            "text/latex": "$$5$$",
            "text/plain": [
              "5"
            ]
          },
          "metadata": {
            "tags": []
          },
          "execution_count": 175
        }
      ]
    },
    {
      "cell_type": "code",
      "metadata": {
        "colab": {
          "base_uri": "https://localhost:8080/"
        },
        "id": "6WjaNg32QvHt",
        "outputId": "8227147e-d454-4802-a4a6-b335e411930c"
      },
      "source": [
        "b = np.array([[0, 1, 2], [3, 4, 5]])\n",
        "b"
      ],
      "execution_count": null,
      "outputs": [
        {
          "output_type": "execute_result",
          "data": {
            "text/plain": [
              "array([[0, 1, 2],\n",
              "       [3, 4, 5]])"
            ]
          },
          "metadata": {
            "tags": []
          },
          "execution_count": 176
        }
      ]
    },
    {
      "cell_type": "code",
      "metadata": {
        "colab": {
          "base_uri": "https://localhost:8080/",
          "height": 37
        },
        "id": "bzDJnAerQyGf",
        "outputId": "31269672-4464-439e-e4d5-8f6589eaf4ce"
      },
      "source": [
        "b.ndim "
      ],
      "execution_count": null,
      "outputs": [
        {
          "output_type": "execute_result",
          "data": {
            "image/png": "[encoded data removed]",
            "text/latex": "$$2$$",
            "text/plain": [
              "2"
            ]
          },
          "metadata": {
            "tags": []
          },
          "execution_count": 177
        }
      ]
    },
    {
      "cell_type": "code",
      "metadata": {
        "colab": {
          "base_uri": "https://localhost:8080/",
          "height": 37
        },
        "id": "Q1E8bE0CQ0Oe",
        "outputId": "3bc054c9-95e9-4c87-8d1c-8888e999c691"
      },
      "source": [
        "len(b) "
      ],
      "execution_count": null,
      "outputs": [
        {
          "output_type": "execute_result",
          "data": {
            "image/png": "[encoded data removed]",
            "text/latex": "$$2$$",
            "text/plain": [
              "2"
            ]
          },
          "metadata": {
            "tags": []
          },
          "execution_count": 178
        }
      ]
    },
    {
      "cell_type": "code",
      "metadata": {
        "colab": {
          "base_uri": "https://localhost:8080/",
          "height": 37
        },
        "id": "fzkGbjMCQ1ue",
        "outputId": "eb59c477-a1d1-450f-b47a-d6ca02814a1b"
      },
      "source": [
        "b.shape"
      ],
      "execution_count": null,
      "outputs": [
        {
          "output_type": "execute_result",
          "data": {
            "image/png": "[encoded data removed]",
            "text/latex": "$$\\left ( 2, \\quad 3\\right )$$",
            "text/plain": [
              "(2, 3)"
            ]
          },
          "metadata": {
            "tags": []
          },
          "execution_count": 179
        }
      ]
    },
    {
      "cell_type": "code",
      "metadata": {
        "colab": {
          "base_uri": "https://localhost:8080/"
        },
        "id": "9nTRPOXUQ3hk",
        "outputId": "a8cb0501-6ee5-4d29-e58e-048f634ba306"
      },
      "source": [
        "np.arange(10)"
      ],
      "execution_count": null,
      "outputs": [
        {
          "output_type": "execute_result",
          "data": {
            "text/plain": [
              "array([0, 1, 2, 3, 4, 5, 6, 7, 8, 9])"
            ]
          },
          "metadata": {
            "tags": []
          },
          "execution_count": 180
        }
      ]
    },
    {
      "cell_type": "code",
      "metadata": {
        "colab": {
          "base_uri": "https://localhost:8080/"
        },
        "id": "JGIj_T3pQ73U",
        "outputId": "6415343f-1819-4081-a67a-fc874f23d182"
      },
      "source": [
        "np.arange(1, 9, 2)         # 끝은 포함하지 않는다."
      ],
      "execution_count": null,
      "outputs": [
        {
          "output_type": "execute_result",
          "data": {
            "text/plain": [
              "array([1, 3, 5, 7])"
            ]
          },
          "metadata": {
            "tags": []
          },
          "execution_count": 181
        }
      ]
    },
    {
      "cell_type": "code",
      "metadata": {
        "colab": {
          "base_uri": "https://localhost:8080/"
        },
        "id": "iSc1IpnBQ_ND",
        "outputId": "28880d98-27c4-468d-f538-d3287bb61b96"
      },
      "source": [
        "np.arange(1, 2, 0.2)       # 끝은 포함하지 않는다"
      ],
      "execution_count": null,
      "outputs": [
        {
          "output_type": "execute_result",
          "data": {
            "text/plain": [
              "array([1. , 1.2, 1.4, 1.6, 1.8])"
            ]
          },
          "metadata": {
            "tags": []
          },
          "execution_count": 182
        }
      ]
    },
    {
      "cell_type": "code",
      "metadata": {
        "colab": {
          "base_uri": "https://localhost:8080/"
        },
        "id": "XS6yGFacRC5J",
        "outputId": "7b4c26ad-65ea-4af4-b75f-cb82b202e320"
      },
      "source": [
        "np.arange(1, 2.0001, 0.2)   "
      ],
      "execution_count": null,
      "outputs": [
        {
          "output_type": "execute_result",
          "data": {
            "text/plain": [
              "array([1. , 1.2, 1.4, 1.6, 1.8, 2. ])"
            ]
          },
          "metadata": {
            "tags": []
          },
          "execution_count": 183
        }
      ]
    },
    {
      "cell_type": "code",
      "metadata": {
        "colab": {
          "base_uri": "https://localhost:8080/"
        },
        "id": "neaOqtetRFn9",
        "outputId": "bc3c2478-777b-4dcf-a849-e1632c50a1ea"
      },
      "source": [
        "a = np.linspace(0, 1, 6)\n",
        "a"
      ],
      "execution_count": null,
      "outputs": [
        {
          "output_type": "execute_result",
          "data": {
            "text/plain": [
              "array([0. , 0.2, 0.4, 0.6, 0.8, 1. ])"
            ]
          },
          "metadata": {
            "tags": []
          },
          "execution_count": 184
        }
      ]
    },
    {
      "cell_type": "code",
      "metadata": {
        "colab": {
          "base_uri": "https://localhost:8080/"
        },
        "id": "w3Na5x2hRLBh",
        "outputId": "57ac4b7f-2e68-467f-f50e-da0e8c18cb40"
      },
      "source": [
        "a = np.linspace(0, 1, 5, endpoint=False)\n",
        "a"
      ],
      "execution_count": null,
      "outputs": [
        {
          "output_type": "execute_result",
          "data": {
            "text/plain": [
              "array([0. , 0.2, 0.4, 0.6, 0.8])"
            ]
          },
          "metadata": {
            "tags": []
          },
          "execution_count": 185
        }
      ]
    },
    {
      "cell_type": "code",
      "metadata": {
        "colab": {
          "base_uri": "https://localhost:8080/"
        },
        "id": "a3LzmoAoROds",
        "outputId": "cb283c19-9964-48b0-b307-1c05e3113922"
      },
      "source": [
        "a = np.linspace(0, 1, 5, endpoint=True)\n",
        "a"
      ],
      "execution_count": null,
      "outputs": [
        {
          "output_type": "execute_result",
          "data": {
            "text/plain": [
              "array([0.  , 0.25, 0.5 , 0.75, 1.  ])"
            ]
          },
          "metadata": {
            "tags": []
          },
          "execution_count": 186
        }
      ]
    },
    {
      "cell_type": "code",
      "metadata": {
        "colab": {
          "base_uri": "https://localhost:8080/"
        },
        "id": "BERYfCqORQhC",
        "outputId": "18f7db09-c29d-4a56-a834-78ad7e05e4ed"
      },
      "source": [
        "a = np.eye(3)\n",
        "a"
      ],
      "execution_count": null,
      "outputs": [
        {
          "output_type": "execute_result",
          "data": {
            "text/plain": [
              "array([[1., 0., 0.],\n",
              "       [0., 1., 0.],\n",
              "       [0., 0., 1.]])"
            ]
          },
          "metadata": {
            "tags": []
          },
          "execution_count": 187
        }
      ]
    },
    {
      "cell_type": "code",
      "metadata": {
        "colab": {
          "base_uri": "https://localhost:8080/"
        },
        "id": "ulYPDiLjRSY0",
        "outputId": "ad8cc154-50bc-4aeb-ca27-859a31891750"
      },
      "source": [
        "b = np.zeros((2, 2))\n",
        "b"
      ],
      "execution_count": null,
      "outputs": [
        {
          "output_type": "execute_result",
          "data": {
            "text/plain": [
              "array([[0., 0.],\n",
              "       [0., 0.]])"
            ]
          },
          "metadata": {
            "tags": []
          },
          "execution_count": 188
        }
      ]
    },
    {
      "cell_type": "code",
      "metadata": {
        "colab": {
          "base_uri": "https://localhost:8080/"
        },
        "id": "qkP0Mk6_RUs6",
        "outputId": "bfbdcb56-4ddd-447f-c33c-fdc87fc8b1bf"
      },
      "source": [
        "c = np.ones((2, 3))\n",
        "c"
      ],
      "execution_count": null,
      "outputs": [
        {
          "output_type": "execute_result",
          "data": {
            "text/plain": [
              "array([[1., 1., 1.],\n",
              "       [1., 1., 1.]])"
            ]
          },
          "metadata": {
            "tags": []
          },
          "execution_count": 189
        }
      ]
    },
    {
      "cell_type": "code",
      "metadata": {
        "colab": {
          "base_uri": "https://localhost:8080/"
        },
        "id": "zpHBZb7DRXrP",
        "outputId": "5d45d525-eabe-4dc7-b46e-5125a5ee9413"
      },
      "source": [
        "d = np.diag(np.array([1, 2, 3, 4]))\n",
        "d"
      ],
      "execution_count": null,
      "outputs": [
        {
          "output_type": "execute_result",
          "data": {
            "text/plain": [
              "array([[1, 0, 0, 0],\n",
              "       [0, 2, 0, 0],\n",
              "       [0, 0, 3, 0],\n",
              "       [0, 0, 0, 4]])"
            ]
          },
          "metadata": {
            "tags": []
          },
          "execution_count": 190
        }
      ]
    },
    {
      "cell_type": "code",
      "metadata": {
        "colab": {
          "base_uri": "https://localhost:8080/"
        },
        "id": "xcd2XWYTRZ42",
        "outputId": "8e72e5c8-186e-46cd-ab11-e98f2ab26a40"
      },
      "source": [
        "d = np.array([1+2j, 3+4j, 5+6*1j])\n",
        "d"
      ],
      "execution_count": null,
      "outputs": [
        {
          "output_type": "execute_result",
          "data": {
            "text/plain": [
              "array([1.+2.j, 3.+4.j, 5.+6.j])"
            ]
          },
          "metadata": {
            "tags": []
          },
          "execution_count": 191
        }
      ]
    },
    {
      "cell_type": "code",
      "metadata": {
        "colab": {
          "base_uri": "https://localhost:8080/"
        },
        "id": "FTtaDfzhRcky",
        "outputId": "fa1fc618-e2d9-43fa-c735-dcd4197a3b01"
      },
      "source": [
        "a = np.random.rand(4)          # 0 과 1 사이의 균등한 분포\n",
        "a"
      ],
      "execution_count": null,
      "outputs": [
        {
          "output_type": "execute_result",
          "data": {
            "text/plain": [
              "array([0.67899193, 0.54642766, 0.7135859 , 0.31099297])"
            ]
          },
          "metadata": {
            "tags": []
          },
          "execution_count": 192
        }
      ]
    },
    {
      "cell_type": "code",
      "metadata": {
        "colab": {
          "base_uri": "https://localhost:8080/"
        },
        "id": "lA61VNlkRepZ",
        "outputId": "2b16823c-64f5-477a-e609-802e962971ac"
      },
      "source": [
        "b = np.random.randn(4)         # Gaussian\n",
        "b"
      ],
      "execution_count": null,
      "outputs": [
        {
          "output_type": "execute_result",
          "data": {
            "text/plain": [
              "array([-0.40535575, -0.91999081,  0.94809655, -0.49985583])"
            ]
          },
          "metadata": {
            "tags": []
          },
          "execution_count": 193
        }
      ]
    },
    {
      "cell_type": "code",
      "metadata": {
        "id": "F05A9ZLJRgU4"
      },
      "source": [
        "np.random.seed(1234)          # Setting the random seed"
      ],
      "execution_count": null,
      "outputs": []
    },
    {
      "cell_type": "code",
      "metadata": {
        "colab": {
          "base_uri": "https://localhost:8080/",
          "height": 37
        },
        "id": "6a7bOA1BRjtO",
        "outputId": "d0b4211a-3e28-4a2e-c175-7e4cf05ab249"
      },
      "source": [
        "import time\n",
        "time.time()       # 1970년 1월 1일 0시 0분 0초를 기준으로 현재까지 지나간 시간을 초 단위로 리턴"
      ],
      "execution_count": null,
      "outputs": [
        {
          "output_type": "execute_result",
          "data": {
            "image/png": "[encoded data removed]",
            "text/latex": "$$1613888898.1376073$$",
            "text/plain": [
              "1613888898.1376073"
            ]
          },
          "metadata": {
            "tags": []
          },
          "execution_count": 195
        }
      ]
    },
    {
      "cell_type": "code",
      "metadata": {
        "id": "MWhQHKocRl-M"
      },
      "source": [
        "np.random.seed( int(time.time()) )          # Setting the random seed"
      ],
      "execution_count": null,
      "outputs": []
    },
    {
      "cell_type": "code",
      "metadata": {
        "colab": {
          "base_uri": "https://localhost:8080/"
        },
        "id": "nK0CKc4JRo6k",
        "outputId": "df46c099-468c-45ef-a1c5-7add69d1cfbe"
      },
      "source": [
        "a = np.arange(10)\n",
        "a"
      ],
      "execution_count": null,
      "outputs": [
        {
          "output_type": "execute_result",
          "data": {
            "text/plain": [
              "array([0, 1, 2, 3, 4, 5, 6, 7, 8, 9])"
            ]
          },
          "metadata": {
            "tags": []
          },
          "execution_count": 197
        }
      ]
    },
    {
      "cell_type": "code",
      "metadata": {
        "colab": {
          "base_uri": "https://localhost:8080/"
        },
        "id": "le_qMm2nRqc5",
        "outputId": "9201ccfe-cb95-4de7-b9f8-1121647d1896"
      },
      "source": [
        "a[0], a[2], a[-1]"
      ],
      "execution_count": null,
      "outputs": [
        {
          "output_type": "execute_result",
          "data": {
            "text/plain": [
              "(0, 2, 9)"
            ]
          },
          "metadata": {
            "tags": []
          },
          "execution_count": 198
        }
      ]
    },
    {
      "cell_type": "code",
      "metadata": {
        "colab": {
          "base_uri": "https://localhost:8080/"
        },
        "id": "ysE12onkRsLN",
        "outputId": "8225f910-e06d-4ee7-b6ad-a9847cb811ba"
      },
      "source": [
        "a[1:3]"
      ],
      "execution_count": null,
      "outputs": [
        {
          "output_type": "execute_result",
          "data": {
            "text/plain": [
              "array([1, 2])"
            ]
          },
          "metadata": {
            "tags": []
          },
          "execution_count": 199
        }
      ]
    },
    {
      "cell_type": "code",
      "metadata": {
        "colab": {
          "base_uri": "https://localhost:8080/"
        },
        "id": "iasjB42YRuhN",
        "outputId": "c0f6a853-dd1f-4923-896d-18f016c21eef"
      },
      "source": [
        "a[:4]"
      ],
      "execution_count": null,
      "outputs": [
        {
          "output_type": "execute_result",
          "data": {
            "text/plain": [
              "array([0, 1, 2, 3])"
            ]
          },
          "metadata": {
            "tags": []
          },
          "execution_count": 200
        }
      ]
    },
    {
      "cell_type": "code",
      "metadata": {
        "colab": {
          "base_uri": "https://localhost:8080/"
        },
        "id": "QMiv8bYkRwSW",
        "outputId": "c9f62443-5832-4834-a7f1-b6adb5a3a653"
      },
      "source": [
        "a[2:9:3]           # [ 시작:끝:간격 ]"
      ],
      "execution_count": null,
      "outputs": [
        {
          "output_type": "execute_result",
          "data": {
            "text/plain": [
              "array([2, 5, 8])"
            ]
          },
          "metadata": {
            "tags": []
          },
          "execution_count": 201
        }
      ]
    },
    {
      "cell_type": "code",
      "metadata": {
        "colab": {
          "base_uri": "https://localhost:8080/"
        },
        "id": "aaxNoNzDRyFV",
        "outputId": "d9f65630-12c9-4890-c7ef-194a02ad591d"
      },
      "source": [
        "a[::-1]            # 원소를 역순으로 배치"
      ],
      "execution_count": null,
      "outputs": [
        {
          "output_type": "execute_result",
          "data": {
            "text/plain": [
              "array([9, 8, 7, 6, 5, 4, 3, 2, 1, 0])"
            ]
          },
          "metadata": {
            "tags": []
          },
          "execution_count": 202
        }
      ]
    },
    {
      "cell_type": "code",
      "metadata": {
        "colab": {
          "base_uri": "https://localhost:8080/"
        },
        "id": "k0t1oHwKR0kZ",
        "outputId": "a43d7765-959d-46da-f500-331eae77270a"
      },
      "source": [
        "a = np.diag(np.arange(3))\n",
        "a"
      ],
      "execution_count": null,
      "outputs": [
        {
          "output_type": "execute_result",
          "data": {
            "text/plain": [
              "array([[0, 0, 0],\n",
              "       [0, 1, 0],\n",
              "       [0, 0, 2]])"
            ]
          },
          "metadata": {
            "tags": []
          },
          "execution_count": 203
        }
      ]
    },
    {
      "cell_type": "code",
      "metadata": {
        "colab": {
          "base_uri": "https://localhost:8080/"
        },
        "id": "e7lvjIrcR22Y",
        "outputId": "9db9e9dd-ab7f-49e0-9599-fb2af6df1db6"
      },
      "source": [
        "a[1, 1]"
      ],
      "execution_count": null,
      "outputs": [
        {
          "output_type": "execute_result",
          "data": {
            "text/plain": [
              "1"
            ]
          },
          "metadata": {
            "tags": []
          },
          "execution_count": 204
        }
      ]
    },
    {
      "cell_type": "code",
      "metadata": {
        "colab": {
          "base_uri": "https://localhost:8080/"
        },
        "id": "04WhLnbxR4bR",
        "outputId": "44c3eb79-e87a-4396-c0ca-5638bf5690c3"
      },
      "source": [
        "a[2, 1] = 10            # third row, second column\n",
        "a"
      ],
      "execution_count": null,
      "outputs": [
        {
          "output_type": "execute_result",
          "data": {
            "text/plain": [
              "array([[ 0,  0,  0],\n",
              "       [ 0,  1,  0],\n",
              "       [ 0, 10,  2]])"
            ]
          },
          "metadata": {
            "tags": []
          },
          "execution_count": 205
        }
      ]
    },
    {
      "cell_type": "code",
      "metadata": {
        "colab": {
          "base_uri": "https://localhost:8080/"
        },
        "id": "ZvXAF9flR89G",
        "outputId": "7cfbfafb-9411-41c7-ff30-200cc020d427"
      },
      "source": [
        "a[1]    "
      ],
      "execution_count": null,
      "outputs": [
        {
          "output_type": "execute_result",
          "data": {
            "text/plain": [
              "array([0, 1, 0])"
            ]
          },
          "metadata": {
            "tags": []
          },
          "execution_count": 206
        }
      ]
    },
    {
      "cell_type": "markdown",
      "metadata": {
        "id": "ypfb6L7OcKRR"
      },
      "source": [
        "# 배열의 수치적 연산"
      ]
    },
    {
      "cell_type": "code",
      "metadata": {
        "colab": {
          "base_uri": "https://localhost:8080/"
        },
        "id": "pZpyfEI5cMQ7",
        "outputId": "431d2817-1b71-4505-eaf3-c4e25b6c4f48"
      },
      "source": [
        "a = np.array([1, 2, 3, 4])\n",
        "a"
      ],
      "execution_count": null,
      "outputs": [
        {
          "output_type": "execute_result",
          "data": {
            "text/plain": [
              "array([1, 2, 3, 4])"
            ]
          },
          "metadata": {
            "tags": []
          },
          "execution_count": 207
        }
      ]
    },
    {
      "cell_type": "code",
      "metadata": {
        "colab": {
          "base_uri": "https://localhost:8080/"
        },
        "id": "bgsEkr-ycP1X",
        "outputId": "8df44fe9-d8d9-427d-ee78-320e86a56f4f"
      },
      "source": [
        "a + 1"
      ],
      "execution_count": null,
      "outputs": [
        {
          "output_type": "execute_result",
          "data": {
            "text/plain": [
              "array([2, 3, 4, 5])"
            ]
          },
          "metadata": {
            "tags": []
          },
          "execution_count": 208
        }
      ]
    },
    {
      "cell_type": "code",
      "metadata": {
        "colab": {
          "base_uri": "https://localhost:8080/"
        },
        "id": "7xNjD3Z0cR0q",
        "outputId": "8468a8e1-fcd8-4cf8-da2b-00b384ab04da"
      },
      "source": [
        "2**a"
      ],
      "execution_count": null,
      "outputs": [
        {
          "output_type": "execute_result",
          "data": {
            "text/plain": [
              "array([ 2,  4,  8, 16])"
            ]
          },
          "metadata": {
            "tags": []
          },
          "execution_count": 209
        }
      ]
    },
    {
      "cell_type": "code",
      "metadata": {
        "colab": {
          "base_uri": "https://localhost:8080/"
        },
        "id": "Urb0uxUwca9X",
        "outputId": "07097919-58a8-4e51-dec5-35589e3776c9"
      },
      "source": [
        "b = np.ones(4) + 1\n",
        "b"
      ],
      "execution_count": null,
      "outputs": [
        {
          "output_type": "execute_result",
          "data": {
            "text/plain": [
              "array([2., 2., 2., 2.])"
            ]
          },
          "metadata": {
            "tags": []
          },
          "execution_count": 210
        }
      ]
    },
    {
      "cell_type": "code",
      "metadata": {
        "colab": {
          "base_uri": "https://localhost:8080/"
        },
        "id": "Bwu5xNidcg7B",
        "outputId": "a4302473-228b-4688-ef11-a36700b949a3"
      },
      "source": [
        "a - b"
      ],
      "execution_count": null,
      "outputs": [
        {
          "output_type": "execute_result",
          "data": {
            "text/plain": [
              "array([-1.,  0.,  1.,  2.])"
            ]
          },
          "metadata": {
            "tags": []
          },
          "execution_count": 211
        }
      ]
    },
    {
      "cell_type": "code",
      "metadata": {
        "colab": {
          "base_uri": "https://localhost:8080/"
        },
        "id": "DBv_8rWEclAY",
        "outputId": "a25dd497-3612-43f4-f446-24a88872210d"
      },
      "source": [
        "a * b                 # 같은 위치의 원소 끼리의 곱셈이다"
      ],
      "execution_count": null,
      "outputs": [
        {
          "output_type": "execute_result",
          "data": {
            "text/plain": [
              "array([2., 4., 6., 8.])"
            ]
          },
          "metadata": {
            "tags": []
          },
          "execution_count": 212
        }
      ]
    },
    {
      "cell_type": "code",
      "metadata": {
        "colab": {
          "base_uri": "https://localhost:8080/"
        },
        "id": "2ocmoMwScmdk",
        "outputId": "c1b7448c-2a9f-411a-9da2-f30be0c7b33e"
      },
      "source": [
        "c = np.ones((3, 3))\n",
        "c"
      ],
      "execution_count": null,
      "outputs": [
        {
          "output_type": "execute_result",
          "data": {
            "text/plain": [
              "array([[1., 1., 1.],\n",
              "       [1., 1., 1.],\n",
              "       [1., 1., 1.]])"
            ]
          },
          "metadata": {
            "tags": []
          },
          "execution_count": 213
        }
      ]
    },
    {
      "cell_type": "code",
      "metadata": {
        "colab": {
          "base_uri": "https://localhost:8080/"
        },
        "id": "_2EFtgOycpC3",
        "outputId": "e428ed05-6935-4e40-bd7e-5956b344dd17"
      },
      "source": [
        "c * c                 # 같은 위치의 원소 끼리의 곱셈이다"
      ],
      "execution_count": null,
      "outputs": [
        {
          "output_type": "execute_result",
          "data": {
            "text/plain": [
              "array([[1., 1., 1.],\n",
              "       [1., 1., 1.],\n",
              "       [1., 1., 1.]])"
            ]
          },
          "metadata": {
            "tags": []
          },
          "execution_count": 214
        }
      ]
    },
    {
      "cell_type": "code",
      "metadata": {
        "colab": {
          "base_uri": "https://localhost:8080/"
        },
        "id": "cw1U6z6Pgaxd",
        "outputId": "65c9e20d-a201-4eac-dd03-86251e3f6d2d"
      },
      "source": [
        "c.dot(c)                    # 행렬 곱셈"
      ],
      "execution_count": null,
      "outputs": [
        {
          "output_type": "execute_result",
          "data": {
            "text/plain": [
              "array([[3., 3., 3.],\n",
              "       [3., 3., 3.],\n",
              "       [3., 3., 3.]])"
            ]
          },
          "metadata": {
            "tags": []
          },
          "execution_count": 215
        }
      ]
    },
    {
      "cell_type": "code",
      "metadata": {
        "colab": {
          "base_uri": "https://localhost:8080/"
        },
        "id": "MfHQtSnpgjAT",
        "outputId": "94105697-4904-4ccb-83c3-549bc2469e4a"
      },
      "source": [
        "np.dot( c, c )              # 행렬 곱셈"
      ],
      "execution_count": null,
      "outputs": [
        {
          "output_type": "execute_result",
          "data": {
            "text/plain": [
              "array([[3., 3., 3.],\n",
              "       [3., 3., 3.],\n",
              "       [3., 3., 3.]])"
            ]
          },
          "metadata": {
            "tags": []
          },
          "execution_count": 216
        }
      ]
    },
    {
      "cell_type": "code",
      "metadata": {
        "colab": {
          "base_uri": "https://localhost:8080/"
        },
        "id": "746vU3a_gmpd",
        "outputId": "d18d230f-1e14-4a72-fc78-c52960f0a276"
      },
      "source": [
        "a = np.array([1, 2, 3, 4])\n",
        "b = np.array([4, 2, 2, 4])\n",
        "a == b"
      ],
      "execution_count": null,
      "outputs": [
        {
          "output_type": "execute_result",
          "data": {
            "text/plain": [
              "array([False,  True, False,  True])"
            ]
          },
          "metadata": {
            "tags": []
          },
          "execution_count": 217
        }
      ]
    },
    {
      "cell_type": "code",
      "metadata": {
        "colab": {
          "base_uri": "https://localhost:8080/"
        },
        "id": "Sm6ElRbqgq8D",
        "outputId": "6597d79f-f863-421c-c0da-c27bc89a2ece"
      },
      "source": [
        "a > b"
      ],
      "execution_count": null,
      "outputs": [
        {
          "output_type": "execute_result",
          "data": {
            "text/plain": [
              "array([False, False,  True, False])"
            ]
          },
          "metadata": {
            "tags": []
          },
          "execution_count": 218
        }
      ]
    },
    {
      "cell_type": "code",
      "metadata": {
        "colab": {
          "base_uri": "https://localhost:8080/"
        },
        "id": "5D3Up23zgwAA",
        "outputId": "83234f38-b9ee-4254-e7dd-636a0cc21222"
      },
      "source": [
        "a = np.array([1, 2, 3, 4])\n",
        "b = np.array([4, 2, 2, 4])\n",
        "c = np.array([1, 2, 3, 4])\n",
        "\n",
        "np.array_equal(a, b)"
      ],
      "execution_count": null,
      "outputs": [
        {
          "output_type": "execute_result",
          "data": {
            "text/plain": [
              "False"
            ]
          },
          "metadata": {
            "tags": []
          },
          "execution_count": 219
        }
      ]
    },
    {
      "cell_type": "code",
      "metadata": {
        "colab": {
          "base_uri": "https://localhost:8080/"
        },
        "id": "oh4R4jomgxoI",
        "outputId": "11abf584-4f34-48eb-f924-621003368550"
      },
      "source": [
        "np.array_equal(a, c)     "
      ],
      "execution_count": null,
      "outputs": [
        {
          "output_type": "execute_result",
          "data": {
            "text/plain": [
              "True"
            ]
          },
          "metadata": {
            "tags": []
          },
          "execution_count": 220
        }
      ]
    },
    {
      "cell_type": "code",
      "metadata": {
        "colab": {
          "base_uri": "https://localhost:8080/"
        },
        "id": "amVYEnszg1NY",
        "outputId": "b71cd9f7-d38c-4e19-872c-5691134dc56f"
      },
      "source": [
        "a = np.array([1, 1, 0, 0], dtype=bool)\n",
        "a"
      ],
      "execution_count": null,
      "outputs": [
        {
          "output_type": "execute_result",
          "data": {
            "text/plain": [
              "array([ True,  True, False, False])"
            ]
          },
          "metadata": {
            "tags": []
          },
          "execution_count": 221
        }
      ]
    },
    {
      "cell_type": "code",
      "metadata": {
        "colab": {
          "base_uri": "https://localhost:8080/"
        },
        "id": "2VW2Pi7rg2vn",
        "outputId": "24c0addd-62a0-48a4-e212-e0277a908d23"
      },
      "source": [
        "b = np.array([1, 0, 1, 0], dtype=bool)\n",
        "b"
      ],
      "execution_count": null,
      "outputs": [
        {
          "output_type": "execute_result",
          "data": {
            "text/plain": [
              "array([ True, False,  True, False])"
            ]
          },
          "metadata": {
            "tags": []
          },
          "execution_count": 222
        }
      ]
    },
    {
      "cell_type": "code",
      "metadata": {
        "colab": {
          "base_uri": "https://localhost:8080/"
        },
        "id": "gGcRzH2ug5h-",
        "outputId": "c0e07338-558c-4567-c794-4a9f65b1abea"
      },
      "source": [
        "np.logical_or(a, b)"
      ],
      "execution_count": null,
      "outputs": [
        {
          "output_type": "execute_result",
          "data": {
            "text/plain": [
              "array([ True,  True,  True, False])"
            ]
          },
          "metadata": {
            "tags": []
          },
          "execution_count": 223
        }
      ]
    },
    {
      "cell_type": "code",
      "metadata": {
        "colab": {
          "base_uri": "https://localhost:8080/"
        },
        "id": "ODXJg8Q2g7rQ",
        "outputId": "58b7c4d5-f406-4b28-cf3c-95711b0d36a8"
      },
      "source": [
        "np.logical_and(a, b)"
      ],
      "execution_count": null,
      "outputs": [
        {
          "output_type": "execute_result",
          "data": {
            "text/plain": [
              "array([ True, False, False, False])"
            ]
          },
          "metadata": {
            "tags": []
          },
          "execution_count": 224
        }
      ]
    },
    {
      "cell_type": "code",
      "metadata": {
        "colab": {
          "base_uri": "https://localhost:8080/"
        },
        "id": "IH4tnsBog-lB",
        "outputId": "4774fb8c-58a6-4ab7-ff93-2a3fea31dc59"
      },
      "source": [
        "x = np.linspace(-np.pi,np.pi,13)         # 12 steps between -pi and pi\n",
        "x"
      ],
      "execution_count": null,
      "outputs": [
        {
          "output_type": "execute_result",
          "data": {
            "text/plain": [
              "array([-3.14159265, -2.61799388, -2.0943951 , -1.57079633, -1.04719755,\n",
              "       -0.52359878,  0.        ,  0.52359878,  1.04719755,  1.57079633,\n",
              "        2.0943951 ,  2.61799388,  3.14159265])"
            ]
          },
          "metadata": {
            "tags": []
          },
          "execution_count": 225
        }
      ]
    },
    {
      "cell_type": "code",
      "metadata": {
        "colab": {
          "base_uri": "https://localhost:8080/"
        },
        "id": "wdPc8ci2hB03",
        "outputId": "d30180ce-f2b4-4e5e-bce5-60910ebdfa2a"
      },
      "source": [
        "np.sin(x)"
      ],
      "execution_count": null,
      "outputs": [
        {
          "output_type": "execute_result",
          "data": {
            "text/plain": [
              "array([-1.22464680e-16, -5.00000000e-01, -8.66025404e-01, -1.00000000e+00,\n",
              "       -8.66025404e-01, -5.00000000e-01,  0.00000000e+00,  5.00000000e-01,\n",
              "        8.66025404e-01,  1.00000000e+00,  8.66025404e-01,  5.00000000e-01,\n",
              "        1.22464680e-16])"
            ]
          },
          "metadata": {
            "tags": []
          },
          "execution_count": 226
        }
      ]
    },
    {
      "cell_type": "code",
      "metadata": {
        "colab": {
          "base_uri": "https://localhost:8080/"
        },
        "id": "EkCwMO0phD3-",
        "outputId": "b4d19332-a3b7-40c6-ac9a-14be263d1102"
      },
      "source": [
        "x = np.arange(5)\n",
        "x"
      ],
      "execution_count": null,
      "outputs": [
        {
          "output_type": "execute_result",
          "data": {
            "text/plain": [
              "array([0, 1, 2, 3, 4])"
            ]
          },
          "metadata": {
            "tags": []
          },
          "execution_count": 227
        }
      ]
    },
    {
      "cell_type": "code",
      "metadata": {
        "colab": {
          "base_uri": "https://localhost:8080/"
        },
        "id": "aMTB6p5zhGWr",
        "outputId": "3d2ec41e-ddca-4cf5-c5d8-f3ced4b2e607"
      },
      "source": [
        "np.log(x)"
      ],
      "execution_count": null,
      "outputs": [
        {
          "output_type": "stream",
          "text": [
            "/usr/local/lib/python3.6/dist-packages/ipykernel_launcher.py:1: RuntimeWarning: divide by zero encountered in log\n",
            "  \"\"\"Entry point for launching an IPython kernel.\n"
          ],
          "name": "stderr"
        },
        {
          "output_type": "execute_result",
          "data": {
            "text/plain": [
              "array([      -inf, 0.        , 0.69314718, 1.09861229, 1.38629436])"
            ]
          },
          "metadata": {
            "tags": []
          },
          "execution_count": 228
        }
      ]
    },
    {
      "cell_type": "code",
      "metadata": {
        "colab": {
          "base_uri": "https://localhost:8080/"
        },
        "id": "L8eK5nJShJ-r",
        "outputId": "9d5ab4de-4e43-4d79-d20c-a6f00e134e8b"
      },
      "source": [
        "np.exp(x)"
      ],
      "execution_count": null,
      "outputs": [
        {
          "output_type": "execute_result",
          "data": {
            "text/plain": [
              "array([ 1.        ,  2.71828183,  7.3890561 , 20.08553692, 54.59815003])"
            ]
          },
          "metadata": {
            "tags": []
          },
          "execution_count": 229
        }
      ]
    },
    {
      "cell_type": "code",
      "metadata": {
        "colab": {
          "base_uri": "https://localhost:8080/"
        },
        "id": "bb3FeNN3hMGd",
        "outputId": "341aabec-f857-4526-9837-4138dc5ce0c5"
      },
      "source": [
        "x = np.array([1, 2, 3, 4])\n",
        "\n",
        "np.sum(x)"
      ],
      "execution_count": null,
      "outputs": [
        {
          "output_type": "execute_result",
          "data": {
            "text/plain": [
              "10"
            ]
          },
          "metadata": {
            "tags": []
          },
          "execution_count": 230
        }
      ]
    },
    {
      "cell_type": "code",
      "metadata": {
        "colab": {
          "base_uri": "https://localhost:8080/"
        },
        "id": "UekovgT8hOaZ",
        "outputId": "b505be31-d7fd-4221-e329-aa84effbc77d"
      },
      "source": [
        "x = np.array([1, 3, 2])\n",
        "\n",
        "x.max()"
      ],
      "execution_count": null,
      "outputs": [
        {
          "output_type": "execute_result",
          "data": {
            "text/plain": [
              "3"
            ]
          },
          "metadata": {
            "tags": []
          },
          "execution_count": 231
        }
      ]
    },
    {
      "cell_type": "code",
      "metadata": {
        "colab": {
          "base_uri": "https://localhost:8080/"
        },
        "id": "XR-IA_ZxhP77",
        "outputId": "6c18cd22-830c-43e0-9bdb-748c4b6b7da5"
      },
      "source": [
        "x.min()"
      ],
      "execution_count": null,
      "outputs": [
        {
          "output_type": "execute_result",
          "data": {
            "text/plain": [
              "1"
            ]
          },
          "metadata": {
            "tags": []
          },
          "execution_count": 232
        }
      ]
    },
    {
      "cell_type": "code",
      "metadata": {
        "colab": {
          "base_uri": "https://localhost:8080/"
        },
        "id": "bS5cfcpChSNK",
        "outputId": "624c2fb1-4ec0-479c-c19f-b4ebfc28ced7"
      },
      "source": [
        "x.argmax()         #최대값의 인덱스"
      ],
      "execution_count": null,
      "outputs": [
        {
          "output_type": "execute_result",
          "data": {
            "text/plain": [
              "1"
            ]
          },
          "metadata": {
            "tags": []
          },
          "execution_count": 233
        }
      ]
    },
    {
      "cell_type": "code",
      "metadata": {
        "colab": {
          "base_uri": "https://localhost:8080/"
        },
        "id": "X9St1p-dhTyY",
        "outputId": "a58a85a3-23c8-416a-92b4-13540e9cfb80"
      },
      "source": [
        "x.argmin()         #최소값의 인덱스"
      ],
      "execution_count": null,
      "outputs": [
        {
          "output_type": "execute_result",
          "data": {
            "text/plain": [
              "0"
            ]
          },
          "metadata": {
            "tags": []
          },
          "execution_count": 234
        }
      ]
    },
    {
      "cell_type": "code",
      "metadata": {
        "colab": {
          "base_uri": "https://localhost:8080/"
        },
        "id": "ZC14-cgThWXR",
        "outputId": "873eceed-bec7-4bda-9647-3abe9dee9c54"
      },
      "source": [
        "np.all([True, True, False])"
      ],
      "execution_count": null,
      "outputs": [
        {
          "output_type": "execute_result",
          "data": {
            "text/plain": [
              "False"
            ]
          },
          "metadata": {
            "tags": []
          },
          "execution_count": 235
        }
      ]
    },
    {
      "cell_type": "code",
      "metadata": {
        "colab": {
          "base_uri": "https://localhost:8080/"
        },
        "id": "00wbM8CGhYA2",
        "outputId": "4742795e-c817-4e83-bb67-6f68f341fe33"
      },
      "source": [
        "np.any([True, True, False])"
      ],
      "execution_count": null,
      "outputs": [
        {
          "output_type": "execute_result",
          "data": {
            "text/plain": [
              "True"
            ]
          },
          "metadata": {
            "tags": []
          },
          "execution_count": 236
        }
      ]
    },
    {
      "cell_type": "code",
      "metadata": {
        "colab": {
          "base_uri": "https://localhost:8080/",
          "height": 37
        },
        "id": "0FSKaPlbhbJ9",
        "outputId": "ec920eb7-27bb-4593-fa1f-f4e199e77021"
      },
      "source": [
        "x = np.array([1, 1, 2, 3, 5])\n",
        "x.mean()"
      ],
      "execution_count": null,
      "outputs": [
        {
          "output_type": "execute_result",
          "data": {
            "image/png": "[encoded data removed]",
            "text/latex": "$$2.4$$",
            "text/plain": [
              "2.4"
            ]
          },
          "metadata": {
            "tags": []
          },
          "execution_count": 237
        }
      ]
    },
    {
      "cell_type": "code",
      "metadata": {
        "colab": {
          "base_uri": "https://localhost:8080/",
          "height": 37
        },
        "id": "L2krO2Dvhdhq",
        "outputId": "b06400c9-4b72-4c96-8898-5cbf600a3490"
      },
      "source": [
        "np.median(x)              # 가운데에 위치한 값"
      ],
      "execution_count": null,
      "outputs": [
        {
          "output_type": "execute_result",
          "data": {
            "image/png": "[encoded data removed]",
            "text/latex": "$$2.0$$",
            "text/plain": [
              "2.0"
            ]
          },
          "metadata": {
            "tags": []
          },
          "execution_count": 238
        }
      ]
    },
    {
      "cell_type": "code",
      "metadata": {
        "colab": {
          "base_uri": "https://localhost:8080/",
          "height": 37
        },
        "id": "Ged-XA9Fhe6e",
        "outputId": "15f5937d-4d82-4b50-f61c-fb4d9482fc96"
      },
      "source": [
        "x.std()                  # 표준편차"
      ],
      "execution_count": null,
      "outputs": [
        {
          "output_type": "execute_result",
          "data": {
            "image/png": "[encoded data removed]",
            "text/latex": "$$1.4966629547095764$$",
            "text/plain": [
              "1.4966629547095764"
            ]
          },
          "metadata": {
            "tags": []
          },
          "execution_count": 239
        }
      ]
    },
    {
      "cell_type": "markdown",
      "metadata": {
        "id": "Ksc16vlXhnZA"
      },
      "source": [
        "선형대수 연산\n",
        "scipy 는 거의 항상 numpy 와 같이 사용된다\n",
        "\n",
        "선형 대수 연산을 지원하는 scipy.linalg 모듈을 불러온다"
      ]
    },
    {
      "cell_type": "code",
      "metadata": {
        "id": "09ufExYGhptn"
      },
      "source": [
        ""
      ],
      "execution_count": null,
      "outputs": []
    },
    {
      "cell_type": "code",
      "metadata": {
        "id": "640diQyPhsHO"
      },
      "source": [
        "import numpy as np\n",
        "from scipy.linalg import *      # 선형대수 라이브러리 "
      ],
      "execution_count": null,
      "outputs": []
    },
    {
      "cell_type": "markdown",
      "metadata": {
        "id": "PG6prGMFhuDV"
      },
      "source": [
        "행렬은 np.array() 함수를 이용하여 만든다."
      ]
    },
    {
      "cell_type": "code",
      "metadata": {
        "colab": {
          "base_uri": "https://localhost:8080/"
        },
        "id": "5hbonUpnhwom",
        "outputId": "d8536f88-8bc1-45d8-b9e0-545873b68319"
      },
      "source": [
        "arr = np.array([[1, 2],[3, 4]])\n",
        "arr"
      ],
      "execution_count": null,
      "outputs": [
        {
          "output_type": "execute_result",
          "data": {
            "text/plain": [
              "array([[1, 2],\n",
              "       [3, 4]])"
            ]
          },
          "metadata": {
            "tags": []
          },
          "execution_count": 241
        }
      ]
    },
    {
      "cell_type": "code",
      "metadata": {
        "colab": {
          "base_uri": "https://localhost:8080/",
          "height": 37
        },
        "id": "Gu1m7hcLh1Fq",
        "outputId": "7846b389-3f26-4c99-b23c-c1d5b4ced54f"
      },
      "source": [
        "det(arr)"
      ],
      "execution_count": null,
      "outputs": [
        {
          "output_type": "execute_result",
          "data": {
            "image/png": "[encoded data removed]",
            "text/latex": "$$-2.0$$",
            "text/plain": [
              "-2.0"
            ]
          },
          "metadata": {
            "tags": []
          },
          "execution_count": 242
        }
      ]
    },
    {
      "cell_type": "code",
      "metadata": {
        "colab": {
          "base_uri": "https://localhost:8080/"
        },
        "id": "pph8otXlh3aB",
        "outputId": "454babc2-0850-49b1-b221-47f91da5a4cc"
      },
      "source": [
        "iarr = inv(arr)\n",
        "iarr"
      ],
      "execution_count": null,
      "outputs": [
        {
          "output_type": "execute_result",
          "data": {
            "text/plain": [
              "array([[-2. ,  1. ],\n",
              "       [ 1.5, -0.5]])"
            ]
          },
          "metadata": {
            "tags": []
          },
          "execution_count": 243
        }
      ]
    },
    {
      "cell_type": "code",
      "metadata": {
        "colab": {
          "base_uri": "https://localhost:8080/"
        },
        "id": "u6gs1nDWh6db",
        "outputId": "9df86750-183b-4dd7-f5cc-d1ed9b32a6a5"
      },
      "source": [
        "np.dot( arr, iarr )"
      ],
      "execution_count": null,
      "outputs": [
        {
          "output_type": "execute_result",
          "data": {
            "text/plain": [
              "array([[1.0000000e+00, 0.0000000e+00],\n",
              "       [8.8817842e-16, 1.0000000e+00]])"
            ]
          },
          "metadata": {
            "tags": []
          },
          "execution_count": 244
        }
      ]
    },
    {
      "cell_type": "markdown",
      "metadata": {
        "id": "mTRRf98zh9cK"
      },
      "source": [
        "행렬로 연립 방정식 풀기\n",
        "\n",
        "$\n",
        "\\begin{eqnarray} 3x+2y & = & 2 \\\\ x-y & = & 4 \\\\ 5y+z & = & -1 \\end{eqnarray}\n",
        "$"
      ]
    },
    {
      "cell_type": "code",
      "metadata": {
        "colab": {
          "base_uri": "https://localhost:8080/"
        },
        "id": "0M2Sktr2iLJ4",
        "outputId": "d8530e22-243f-4e78-950f-2e71479b2084"
      },
      "source": [
        "A = np.array([[3, 2, 0], [1, -1, 0], [0, 5, 1]])\n",
        "b = np.array([2, 4, -1])      # 열벡터\n",
        "x = solve(A, b)\n",
        "x"
      ],
      "execution_count": null,
      "outputs": [
        {
          "output_type": "execute_result",
          "data": {
            "text/plain": [
              "array([ 2., -2.,  9.])"
            ]
          },
          "metadata": {
            "tags": []
          },
          "execution_count": 245
        }
      ]
    },
    {
      "cell_type": "code",
      "metadata": {
        "colab": {
          "base_uri": "https://localhost:8080/"
        },
        "id": "JFVf6WtJiPAc",
        "outputId": "dceeaecb-b41f-4652-caca-31d8b5cc38b8"
      },
      "source": [
        "np.dot( A, x )"
      ],
      "execution_count": null,
      "outputs": [
        {
          "output_type": "execute_result",
          "data": {
            "text/plain": [
              "array([ 2.,  4., -1.])"
            ]
          },
          "metadata": {
            "tags": []
          },
          "execution_count": 246
        }
      ]
    },
    {
      "cell_type": "markdown",
      "metadata": {
        "id": "YJjTMLWGrGPV"
      },
      "source": [
        "비선형 방정식의 해 구하기\n",
        "맷플롯립 패키지를 불러오고, 그래프를 노트북 문서 안에 나타낼 수 있도록 설정한다"
      ]
    },
    {
      "cell_type": "code",
      "metadata": {
        "id": "x9iQF6isrI3n"
      },
      "source": [
        "import matplotlib.pyplot as plt\n",
        "%matplotlib inline "
      ],
      "execution_count": null,
      "outputs": []
    },
    {
      "cell_type": "code",
      "metadata": {
        "colab": {
          "base_uri": "https://localhost:8080/",
          "height": 265
        },
        "id": "Yo91A50FrQD3",
        "outputId": "cb1c598f-7cd0-43b0-f77c-d899a8ee101e"
      },
      "source": [
        "x = np.linspace(-1,1,101)   \n",
        "y = np.exp( -x )\n",
        "plt.plot( x, y )\n",
        "plt.plot( x, x )\n",
        "plt.show()"
      ],
      "execution_count": null,
      "outputs": [
        {
          "output_type": "display_data",
          "data": {
            "image/png": "[encoded data removed]",
            "text/plain": [
              "<Figure size 432x288 with 1 Axes>"
            ]
          },
          "metadata": {
            "tags": [],
            "needs_background": "light"
          }
        }
      ]
    },
    {
      "cell_type": "code",
      "metadata": {
        "id": "A7XUZTyZs1uH"
      },
      "source": [
        "방정식을 풀기 위하여 scipy.optimize 모듈을 불러온다"
      ],
      "execution_count": null,
      "outputs": []
    },
    {
      "cell_type": "code",
      "metadata": {
        "id": "cf24RE-Ds4dt"
      },
      "source": [
        "from math import *                    # 일반적인 수학 함수를 사용하려면 필요하다.\n",
        "from scipy.optimize import fsolve     # fsolve( ) 함수를 도입한다."
      ],
      "execution_count": null,
      "outputs": []
    },
    {
      "cell_type": "markdown",
      "metadata": {
        "id": "rvwxsiootAiZ"
      },
      "source": [
        "풀고자 하는 방정식을  f(x)=0  형태로 두고, 함수로 정의한다"
      ]
    },
    {
      "cell_type": "code",
      "metadata": {
        "id": "IiJXbG11tBv4"
      },
      "source": [
        "def f(x):\n",
        "    return x - exp(-x)"
      ],
      "execution_count": null,
      "outputs": []
    },
    {
      "cell_type": "code",
      "metadata": {
        "colab": {
          "base_uri": "https://localhost:8080/"
        },
        "id": "sTJ_CZfYtG74",
        "outputId": "af8a0510-c201-4e0b-e553-c04e0886558c"
      },
      "source": [
        "fsolve( f, 0.5 )"
      ],
      "execution_count": null,
      "outputs": [
        {
          "output_type": "execute_result",
          "data": {
            "text/plain": [
              "array([0.56714329])"
            ]
          },
          "metadata": {
            "tags": []
          },
          "execution_count": 251
        }
      ]
    },
    {
      "cell_type": "markdown",
      "metadata": {
        "id": "P_GW2YvgtLyX"
      },
      "source": [
        "함수의 최소값"
      ]
    },
    {
      "cell_type": "code",
      "metadata": {
        "id": "hB4faoWHtNJM"
      },
      "source": [
        "from scipy.optimize import fmin_bfgs"
      ],
      "execution_count": null,
      "outputs": []
    },
    {
      "cell_type": "markdown",
      "metadata": {
        "id": "AIb1Q9EztWqw"
      },
      "source": [
        "$ f(x)=x^2+10 \\sin (x) $ 의 최소값을 구한다."
      ]
    },
    {
      "cell_type": "code",
      "metadata": {
        "colab": {
          "base_uri": "https://localhost:8080/",
          "height": 265
        },
        "id": "w2APYBUFteyR",
        "outputId": "912ddc0a-a581-4c71-a4a6-f3423ccbac23"
      },
      "source": [
        "def f(x):\n",
        "    return x**2 + 10*np.sin(x)\n",
        "\n",
        "x = np.arange(-10, 10, 0.1)\n",
        "plt.plot(x, f(x))\n",
        "plt.show()"
      ],
      "execution_count": null,
      "outputs": [
        {
          "output_type": "display_data",
          "data": {
            "image/png": "[encoded data removed]",
            "text/plain": [
              "<Figure size 432x288 with 1 Axes>"
            ]
          },
          "metadata": {
            "tags": [],
            "needs_background": "light"
          }
        }
      ]
    },
    {
      "cell_type": "markdown",
      "metadata": {
        "id": "UNDVaFu9trav"
      },
      "source": [
        "fmin_bfgs() 함수의 인자로서 최소화할 함수 이름과 x의 시작점을 넘겨준다."
      ]
    },
    {
      "cell_type": "code",
      "metadata": {
        "colab": {
          "base_uri": "https://localhost:8080/"
        },
        "id": "IQYHxnJ5ttGn",
        "outputId": "222fb628-5703-46b5-ff73-70a3ed5328af"
      },
      "source": [
        "fmin_bfgs( f, 0 )"
      ],
      "execution_count": null,
      "outputs": [
        {
          "output_type": "stream",
          "text": [
            "Optimization terminated successfully.\n",
            "         Current function value: -7.945823\n",
            "         Iterations: 5\n",
            "         Function evaluations: 18\n",
            "         Gradient evaluations: 6\n"
          ],
          "name": "stdout"
        },
        {
          "output_type": "execute_result",
          "data": {
            "text/plain": [
              "array([-1.30644012])"
            ]
          },
          "metadata": {
            "tags": []
          },
          "execution_count": 254
        }
      ]
    },
    {
      "cell_type": "markdown",
      "metadata": {
        "id": "sYSmav8StzHB"
      },
      "source": [
        "fmin_bfgs() 함수는 국부적인 최소점을 찾는 기능만 있으므로, 초기값에 따라 결과가 달라질 수 있다.\n",
        "\n",
        "만약, x = 3 을 시작점으로 하면"
      ]
    },
    {
      "cell_type": "code",
      "metadata": {
        "colab": {
          "base_uri": "https://localhost:8080/"
        },
        "id": "UaicaO2kt0oi",
        "outputId": "6e77329e-2e2e-4a5b-92e8-0f13805cced8"
      },
      "source": [
        "fmin_bfgs( f, 3 )"
      ],
      "execution_count": null,
      "outputs": [
        {
          "output_type": "stream",
          "text": [
            "Optimization terminated successfully.\n",
            "         Current function value: 8.315586\n",
            "         Iterations: 6\n",
            "         Function evaluations: 21\n",
            "         Gradient evaluations: 7\n"
          ],
          "name": "stdout"
        },
        {
          "output_type": "execute_result",
          "data": {
            "text/plain": [
              "array([3.83746709])"
            ]
          },
          "metadata": {
            "tags": []
          },
          "execution_count": 255
        }
      ]
    },
    {
      "cell_type": "markdown",
      "metadata": {
        "id": "TfP4726Zt5HH"
      },
      "source": [
        "#수치 적분"
      ]
    },
    {
      "cell_type": "markdown",
      "metadata": {
        "id": "ApMZq7JJt7Rm"
      },
      "source": [
        ""
      ]
    },
    {
      "cell_type": "markdown",
      "metadata": {
        "id": "THJ1qOe2t89d"
      },
      "source": [
        "scipy.integrate 모듈의 quad() 함수를 이용하여 수치 적분을 계산한다.\n",
        "\n",
        "$ \\int_0 ^ 1 x^2 dx\n",
        "$"
      ]
    },
    {
      "cell_type": "code",
      "metadata": {
        "colab": {
          "base_uri": "https://localhost:8080/",
          "height": 38
        },
        "id": "0od0Ibpmuk3H",
        "outputId": "4e7ebe86-c900-4588-ac65-0cbc4ff15bcf"
      },
      "source": [
        "from scipy.integrate import quad\n",
        "\n",
        "fx = lambda x: x**2\n",
        "quad( fx, 0, 1 )"
      ],
      "execution_count": null,
      "outputs": [
        {
          "output_type": "execute_result",
          "data": {
            "image/png": "[encoded data removed]",
            "text/latex": "$$\\left ( 0.33333333333333337, \\quad 3.700743415417189e-15\\right )$$",
            "text/plain": [
              "(0.33333333333333337, 3.700743415417189e-15)"
            ]
          },
          "metadata": {
            "tags": []
          },
          "execution_count": 256
        }
      ]
    },
    {
      "cell_type": "markdown",
      "metadata": {
        "id": "-kzkQeeMuvMI"
      },
      "source": [
        "첫번째 반환값이 수치 적분으로 얻어진 결과이며, 두번째의 값은 추정 오차이다.\n",
        "\n",
        "피적분함수를 함수로서 정의하여 quad() 함수의 인자로 넘겨줄 수 있으며, 수학식을 표현할때 numpy 함수를 사용한다.\n",
        "\n",
        "$ \\int _0^\\infty e^{-x} dx\n",
        "$\n"
      ]
    },
    {
      "cell_type": "code",
      "metadata": {
        "colab": {
          "base_uri": "https://localhost:8080/"
        },
        "id": "cqc9XYOsvLvs",
        "outputId": "09996a30-3872-45b0-ba63-ab9f1eda5791"
      },
      "source": [
        "def f(x) :\n",
        "    return np.exp(-x)\n",
        "\n",
        "F, err = quad( f, 0, np.inf )\n",
        "print( F )"
      ],
      "execution_count": null,
      "outputs": [
        {
          "output_type": "stream",
          "text": [
            "1.0000000000000002\n"
          ],
          "name": "stdout"
        }
      ]
    },
    {
      "cell_type": "markdown",
      "metadata": {
        "id": "c0QN3rch04oQ"
      },
      "source": [
        "선형 회귀법 (linear regression): 최소제곱법"
      ]
    },
    {
      "cell_type": "markdown",
      "metadata": {
        "id": "y6wlhV6c07oH"
      },
      "source": [
        "scipy.stats 모듈의 linregress( x, y ) 함수를 사용하여 회기 직선의 기울기와 절편을 구한다."
      ]
    },
    {
      "cell_type": "code",
      "metadata": {
        "id": "eqzyTxr909Oo"
      },
      "source": [
        ""
      ],
      "execution_count": null,
      "outputs": []
    },
    {
      "cell_type": "code",
      "metadata": {
        "colab": {
          "base_uri": "https://localhost:8080/"
        },
        "id": "-Ik51MIv0-vM",
        "outputId": "3821318c-e124-4ef6-8d6d-4aa8da636195"
      },
      "source": [
        "import numpy as np\n",
        "from scipy.stats import linregress\n",
        "\n",
        "x = np.linspace(0, 4, 5)\n",
        "y = [ 0, 2.1, 4.2, 5.9, 8.3 ] \n",
        "slope, intercept, r_value, p_value, std_err = linregress(x, y)\n",
        "\n",
        "print(\"slope = %8.3f\" % slope)\n",
        "print(\"intercept = %8.3f\" % intercept)"
      ],
      "execution_count": null,
      "outputs": [
        {
          "output_type": "stream",
          "text": [
            "slope =    2.040\n",
            "intercept =    0.020\n"
          ],
          "name": "stdout"
        }
      ]
    },
    {
      "cell_type": "code",
      "metadata": {
        "colab": {
          "base_uri": "https://localhost:8080/",
          "height": 279
        },
        "id": "MmrroKwm1H53",
        "outputId": "e1d6be4e-602f-4c21-86c1-6808d607f276"
      },
      "source": [
        "yfit = intercept + slope * x  \n",
        "\n",
        "plt.plot(x, y, 'o', label='data')\n",
        "plt.plot(x, yfit, 'r', label='fitted line')\n",
        "plt.legend()\n",
        "plt.xlabel('x')\n",
        "plt.ylabel('y')\n",
        "plt.show()\n"
      ],
      "execution_count": null,
      "outputs": [
        {
          "output_type": "display_data",
          "data": {
            "image/png": "[encoded data removed]",
            "text/plain": [
              "<Figure size 432x288 with 1 Axes>"
            ]
          },
          "metadata": {
            "tags": [],
            "needs_background": "light"
          }
        }
      ]
    },
    {
      "cell_type": "markdown",
      "metadata": {
        "id": "MtU0OYyw1QuO"
      },
      "source": [
        "비선형 회귀법 (nonlinear regression): Levenberg-Marquardt 알고리즘"
      ]
    },
    {
      "cell_type": "code",
      "metadata": {
        "colab": {
          "base_uri": "https://localhost:8080/",
          "height": 283
        },
        "id": "OchZWiaH1Ut8",
        "outputId": "6962f4b6-520f-4f48-f28d-678908ef07f1"
      },
      "source": [
        "#다음 그림에 주어진 데이터를 잘 표현하는 수식을 비선형 회귀법으로 얻으려고 한다.\n",
        "\n",
        "ndata = 101\n",
        "\n",
        "x = np.linspace(-5,5,ndata)\n",
        "y = 0.6*x + 5* np.exp(-0.2* x**2 ) + np.random.rand(ndata) \n",
        "plt.plot(x,y,'o')"
      ],
      "execution_count": null,
      "outputs": [
        {
          "output_type": "execute_result",
          "data": {
            "text/plain": [
              "[<matplotlib.lines.Line2D at 0x7f23d123a7f0>]"
            ]
          },
          "metadata": {
            "tags": []
          },
          "execution_count": 261
        },
        {
          "output_type": "display_data",
          "data": {
            "image/png": "[encoded data removed]",
            "text/plain": [
              "<Figure size 432x288 with 1 Axes>"
            ]
          },
          "metadata": {
            "tags": [],
            "needs_background": "light"
          }
        }
      ]
    },
    {
      "cell_type": "markdown",
      "metadata": {
        "id": "-iTHweNo1iWJ"
      },
      "source": [
        "Levenberg-Marquardt 알고리즘을 이용하여 최적의 곡선을 구한다.\n",
        "\n",
        "scipy.optimize 모듈의 curve_fit() 함수를 이용한다.\n",
        "\n",
        "원하는 형태의 곡선에 대한 수식을 함수로 정의한다. 함수의 수식을 표현할때, numpy 수학 함수를 사용한다.\n",
        "\n",
        "$y=ax+be^{−cx^2}$\n",
        " \n",
        "계수  a,b,c  는 최적화에 의해 결정되어질 값이다."
      ]
    },
    {
      "cell_type": "code",
      "metadata": {
        "id": "fEvrP9il11Rd"
      },
      "source": [
        "# non-linear least square method using Levenberg-Marquardt algorithm  \n",
        "from scipy.optimize import curve_fit\n",
        "\n",
        "def func(x, a, b, c):\n",
        "    return a*x + b*np.exp(-c* x**2 )    "
      ],
      "execution_count": null,
      "outputs": []
    },
    {
      "cell_type": "code",
      "metadata": {
        "colab": {
          "base_uri": "https://localhost:8080/"
        },
        "id": "GN3yhAY_15Fc",
        "outputId": "c5521694-7cdc-4da8-cc7c-e5162127646f"
      },
      "source": [
        "#매개변수의 초기값을 설정하고, curve_fit 함수를 호출한다. 첫번째로 반환되는 변수 popt 가 최적화된 매개변수에 대한 리스트이다.\n",
        "\n",
        "p0ini = [0, 0, 0]            # initial values of parameters for fitting function\n",
        "popt, pcov = curve_fit( func, x, y, p0 = p0ini )      \n",
        "\n",
        "print( popt )"
      ],
      "execution_count": null,
      "outputs": [
        {
          "output_type": "stream",
          "text": [
            "[0.59991882 5.3281967  0.15146557]\n"
          ],
          "name": "stdout"
        }
      ]
    },
    {
      "cell_type": "code",
      "metadata": {
        "colab": {
          "base_uri": "https://localhost:8080/",
          "height": 279
        },
        "id": "REN_-9bC2M7t",
        "outputId": "aee7a3e6-0cd3-4b79-9b88-e26ee72425c3"
      },
      "source": [
        "# 구해진 매개변수로 최적화된 곡선을 예측하고, 원래의 주어진 데이터와 비교한다.\n",
        "\n",
        "yfit = func( x, *popt )       # 매개변수를 함수의 인자 a, b, c 로 전달하여 계산한다.\n",
        "\n",
        "plt.plot( x, y, 'o', label='data')\n",
        "plt.plot( x, yfit, 'r', label='fitted curve')\n",
        "plt.legend()\n",
        "plt.xlabel('x')\n",
        "plt.ylabel('y')\n",
        "plt.show()"
      ],
      "execution_count": null,
      "outputs": [
        {
          "output_type": "display_data",
          "data": {
            "image/png": "[encoded data removed]",
            "text/plain": [
              "<Figure size 432x288 with 1 Axes>"
            ]
          },
          "metadata": {
            "tags": [],
            "needs_background": "light"
          }
        }
      ]
    },
    {
      "cell_type": "markdown",
      "metadata": {
        "id": "PUrM30_s2i_z"
      },
      "source": [
        "# 상미분 방정식 - 초기값 문제"
      ]
    },
    {
      "cell_type": "code",
      "metadata": {
        "id": "hmgoxdcG2mDZ"
      },
      "source": [
        "#scipy.integrate 모듈의 solve_ivp() 함수를 이용하여 상미분방정식의 초기값 문제에 대한 수치해를 구할 수 있다.\n",
        "\n",
        "from scipy.integrate import solve_ivp"
      ],
      "execution_count": null,
      "outputs": []
    },
    {
      "cell_type": "code",
      "metadata": {
        "id": "XjZHvc152sRr"
      },
      "source": [
        ""
      ],
      "execution_count": null,
      "outputs": []
    },
    {
      "cell_type": "markdown",
      "metadata": {
        "id": "GjcZzhXk2tK5"
      },
      "source": [
        "일계 미분 방정식의 수치해를 구하는 경우를 고려해 보자.\n",
        "\n",
        "$\n",
        "\\frac {dy} {dt} =−0.5y\n",
        " $\n",
        "\n",
        "도함수를 함수 형식으로 정의한다.\n",
        "\n"
      ]
    },
    {
      "cell_type": "code",
      "metadata": {
        "id": "Y56-3SD52_0N"
      },
      "source": [
        "def dydt(t, y) : \n",
        "    return -0.5 * y"
      ],
      "execution_count": null,
      "outputs": []
    },
    {
      "cell_type": "code",
      "metadata": {
        "id": "dOmZoYpw3EFD"
      },
      "source": [
        "# 초기값  y(0)=1  에 대하여,  t=10  까지 수치해를 구한다.\n",
        "\n",
        "t0 = 0\n",
        "tend = 10\n",
        "y0 = 1\n",
        "\n",
        "sol = solve_ivp( dydt, (t0, tend), (y0,), t_eval=np.linspace(t0,tend,21) )"
      ],
      "execution_count": null,
      "outputs": []
    },
    {
      "cell_type": "markdown",
      "metadata": {
        "id": "KfkyQrpL3Q3M"
      },
      "source": [
        "초기값은 한 개일 경우에도, 튜플의 형식으로 전달한다.\n",
        "\n",
        "인자 t_eval 은 선택사항으로서, 수치해가 계산될  t  의 간격을 명시할 수 있다.\n",
        "\n",
        "결과가 반환된 변수 sol 에서  t  와 방정식의 해  y  는 각각 다음과 같이 얻어진다."
      ]
    },
    {
      "cell_type": "code",
      "metadata": {
        "colab": {
          "base_uri": "https://localhost:8080/"
        },
        "id": "yAaBnekz3Sfi",
        "outputId": "6b39b2ca-91f1-488e-dca0-9dd9282a6b6e"
      },
      "source": [
        "sol.t "
      ],
      "execution_count": null,
      "outputs": [
        {
          "output_type": "execute_result",
          "data": {
            "text/plain": [
              "array([ 0. ,  0.5,  1. ,  1.5,  2. ,  2.5,  3. ,  3.5,  4. ,  4.5,  5. ,\n",
              "        5.5,  6. ,  6.5,  7. ,  7.5,  8. ,  8.5,  9. ,  9.5, 10. ])"
            ]
          },
          "metadata": {
            "tags": []
          },
          "execution_count": 269
        }
      ]
    },
    {
      "cell_type": "code",
      "metadata": {
        "colab": {
          "base_uri": "https://localhost:8080/"
        },
        "id": "67lkZUpB3T20",
        "outputId": "42e9fc82-5266-46c9-9dac-8acb42e044e7"
      },
      "source": [
        "sol.y"
      ],
      "execution_count": null,
      "outputs": [
        {
          "output_type": "execute_result",
          "data": {
            "text/plain": [
              "array([[1.        , 0.77877121, 0.60652683, 0.47231798, 0.36766997,\n",
              "        0.28642722, 0.22325718, 0.17382285, 0.13534555, 0.10547428,\n",
              "        0.08216671, 0.0639639 , 0.04982546, 0.0388334 , 0.03023536,\n",
              "        0.02354182, 0.01834578, 0.01429275, 0.01112766, 0.00866797,\n",
              "        0.00675392]])"
            ]
          },
          "metadata": {
            "tags": []
          },
          "execution_count": 270
        }
      ]
    },
    {
      "cell_type": "code",
      "metadata": {
        "colab": {
          "base_uri": "https://localhost:8080/",
          "height": 279
        },
        "id": "U2QLjiwi3Z5C",
        "outputId": "a8f82669-4923-429d-9196-15c26a688486"
      },
      "source": [
        "#결과를 그래프로 그린다. sol.y 는 2차원 배열이므로 첫번째 행을 취한다.\n",
        "\n",
        "plt.plot( sol.t, sol.y[0] )\n",
        "plt.xlabel('t')\n",
        "plt.ylabel('y')\n",
        "plt.show()"
      ],
      "execution_count": null,
      "outputs": [
        {
          "output_type": "display_data",
          "data": {
            "image/png": "[encoded data removed]",
            "text/plain": [
              "<Figure size 432x288 with 1 Axes>"
            ]
          },
          "metadata": {
            "tags": [],
            "needs_background": "light"
          }
        }
      ]
    },
    {
      "cell_type": "markdown",
      "metadata": {
        "id": "qlUUjKAr3nVS"
      },
      "source": [
        "이계 미분방정식\n",
        "다음의 이계 미분방정식을 고려한다.\n",
        "\n",
        "y′′+2y′+2y=cos(2t),y(0)=0,y′(0)=0\n",
        " \n",
        "이계 미분방정식은 연립 일계 미분방정식으로 변환할 수 있다.  v(t)=y′(t)  로 두면\n",
        "\n",
        "v′+2v+2y=cos(2t),y(0)=0,v(0)=0\n",
        " \n"
      ]
    },
    {
      "cell_type": "code",
      "metadata": {
        "id": "5KXFkV4l3rW5"
      },
      "source": [
        "def dYdt( t, Y ) :                              # Y[0] = y(t), Y[1] = v(t)\n",
        "    return  Y[1], -2*Y[1]-2*Y[0]+np.cos(2*t)    # y'(t), v'(t)\n",
        "\n",
        "# 초기값\n",
        "Y0 = ( 0, 0 )      # y(0)  v(0)\n",
        "\n",
        "t0 = 0\n",
        "tend = 10\n",
        "\n",
        "sol = solve_ivp( dYdt, (t0, tend), Y0, t_eval=np.linspace(t0,tend,101) )"
      ],
      "execution_count": null,
      "outputs": []
    },
    {
      "cell_type": "code",
      "metadata": {
        "colab": {
          "base_uri": "https://localhost:8080/",
          "height": 279
        },
        "id": "JFckA5is31XG",
        "outputId": "0787d47b-963f-4789-ebbe-169c5fc87318"
      },
      "source": [
        "plt.plot( sol.t, sol.y[0] )\n",
        "plt.xlabel('t')\n",
        "plt.ylabel('y')\n",
        "plt.show()"
      ],
      "execution_count": null,
      "outputs": [
        {
          "output_type": "display_data",
          "data": {
            "image/png": "[encoded data removed]",
            "text/plain": [
              "<Figure size 432x288 with 1 Axes>"
            ]
          },
          "metadata": {
            "tags": [],
            "needs_background": "light"
          }
        }
      ]
    },
    {
      "cell_type": "markdown",
      "metadata": {
        "id": "q0pqgBvXhbPy"
      },
      "source": [
        "#  응용 1. 상미분방정식"
      ]
    },
    {
      "cell_type": "code",
      "metadata": {
        "id": "J264b3w-hd2W"
      },
      "source": [
        "from sympy import *\n",
        "\n",
        "x, y, z, t = symbols('x y z t')\n",
        "f, g, h = symbols('f, g, h', cls=Function)\n",
        "C1, C2, C3, C4 =symbols('C1,C2,C3,C4',  constant=True)\n",
        "\n",
        "init_printing()\n",
        "import matplotlib.pyplot as plt\n",
        "%matplotlib inline \n"
      ],
      "execution_count": null,
      "outputs": []
    },
    {
      "cell_type": "code",
      "metadata": {
        "id": "TM7i_gl6tm1b"
      },
      "source": [
        ""
      ],
      "execution_count": null,
      "outputs": []
    },
    {
      "cell_type": "code",
      "metadata": {
        "id": "5i7BmlKEPFyV"
      },
      "source": [
        ""
      ],
      "execution_count": null,
      "outputs": []
    },
    {
      "cell_type": "markdown",
      "metadata": {
        "id": "-M_jJKN0h1gm"
      },
      "source": [
        "상미분 방정식\n",
        "미분 방정식의 해 구하기\n",
        "y′(t)=−2y,y(0)=0.5\n",
        " \n",
        "y 를 t의 함수 y(t) 로 사용하려면, 함수로 선언하여야 한다."
      ]
    },
    {
      "cell_type": "code",
      "metadata": {
        "colab": {
          "base_uri": "https://localhost:8080/",
          "height": 38
        },
        "id": "FxiCPVeWh7RD",
        "outputId": "c9dca018-d883-420c-a22e-f7ff89888709"
      },
      "source": [
        "y = symbols('y', cls=Function)\n",
        "y(t)"
      ],
      "execution_count": null,
      "outputs": [
        {
          "output_type": "execute_result",
          "data": {
            "image/png": "[encoded data removed]",
            "text/latex": "$$y{\\left (t \\right )}$$",
            "text/plain": [
              "y(t)"
            ]
          },
          "metadata": {
            "tags": []
          },
          "execution_count": 24
        }
      ]
    },
    {
      "cell_type": "code",
      "metadata": {
        "colab": {
          "base_uri": "https://localhost:8080/",
          "height": 38
        },
        "id": "Q025DPoSiBVh",
        "outputId": "67fda9db-0802-4185-e4ae-d9ddee0d84bb"
      },
      "source": [
        "deq = Eq( y(t).diff(t), -2*y(t) )\n",
        "deq"
      ],
      "execution_count": null,
      "outputs": [
        {
          "output_type": "execute_result",
          "data": {
            "image/png": "[encoded data removed]",
            "text/latex": "$$\\frac{d}{d t} y{\\left (t \\right )} = - 2 y{\\left (t \\right )}$$",
            "text/plain": [
              "d                 \n",
              "──(y(t)) = -2⋅y(t)\n",
              "dt                "
            ]
          },
          "metadata": {
            "tags": []
          },
          "execution_count": 25
        }
      ]
    },
    {
      "cell_type": "code",
      "metadata": {
        "colab": {
          "base_uri": "https://localhost:8080/",
          "height": 38
        },
        "id": "y6q1O5ceiGE0",
        "outputId": "20ecb198-e438-4348-e0dc-202a404125ff"
      },
      "source": [
        "#미분방정식을 dsolve() 함수로 풀면 일반해가 얻어진다.\n",
        "\n",
        "dsolve( deq, y(t) )"
      ],
      "execution_count": null,
      "outputs": [
        {
          "output_type": "execute_result",
          "data": {
            "image/png": "[encoded data removed]",
            "text/latex": "$$y{\\left (t \\right )} = C_{1} e^{- 2 t}$$",
            "text/plain": [
              "           -2⋅t\n",
              "y(t) = C₁⋅ℯ    "
            ]
          },
          "metadata": {
            "tags": []
          },
          "execution_count": 26
        }
      ]
    },
    {
      "cell_type": "markdown",
      "metadata": {
        "id": "3LL6h4IgkO-v"
      },
      "source": [
        "초기조건을 ics= {...} 으로 전달하면, 초기조건이 적용된 특정해(particular solution)를 얻는다."
      ]
    },
    {
      "cell_type": "code",
      "metadata": {
        "colab": {
          "base_uri": "https://localhost:8080/",
          "height": 38
        },
        "id": "AVGcDWqRkP9I",
        "outputId": "7d6a86e6-ee1e-4d46-c269-fe2173278713"
      },
      "source": [
        "psol = dsolve( deq, y(t), ics= {y(0):0.5} )\n",
        "psol"
      ],
      "execution_count": null,
      "outputs": [
        {
          "output_type": "execute_result",
          "data": {
            "image/png": "[encoded data removed]",
            "text/latex": "$$y{\\left (t \\right )} = C_{1} e^{- 2 t}$$",
            "text/plain": [
              "           -2⋅t\n",
              "y(t) = C₁⋅ℯ    "
            ]
          },
          "metadata": {
            "tags": []
          },
          "execution_count": 27
        }
      ]
    },
    {
      "cell_type": "code",
      "metadata": {
        "colab": {
          "base_uri": "https://localhost:8080/",
          "height": 413
        },
        "id": "5OHsfUJMknz4",
        "outputId": "eb401fd1-4bbf-4ee6-b8b8-b1d8f535f4a7"
      },
      "source": [
        "#윗 식의 오른쪽 부분인 .rhs 가 해이며, 이를 그래프로 그린다.\n",
        "\n",
        "#plot( psol.rhs, (t,0,2))\n",
        "plot(0.5* exp(-2*t),(t,0,2))"
      ],
      "execution_count": null,
      "outputs": [
        {
          "output_type": "stream",
          "text": [
            "/usr/local/lib/python3.6/dist-packages/sympy/plotting/plot.py:890: MatplotlibDeprecationWarning: \n",
            "The set_smart_bounds function was deprecated in Matplotlib 3.2 and will be removed two minor releases later.\n",
            "  self.ax.spines['left'].set_smart_bounds(True)\n",
            "/usr/local/lib/python3.6/dist-packages/sympy/plotting/plot.py:891: MatplotlibDeprecationWarning: \n",
            "The set_smart_bounds function was deprecated in Matplotlib 3.2 and will be removed two minor releases later.\n",
            "  self.ax.spines['bottom'].set_smart_bounds(False)\n"
          ],
          "name": "stderr"
        },
        {
          "output_type": "display_data",
          "data": {
            "image/png": "[encoded data removed]",
            "text/plain": [
              "<Figure size 432x288 with 1 Axes>"
            ]
          },
          "metadata": {
            "tags": [],
            "needs_background": "light"
          }
        },
        {
          "output_type": "execute_result",
          "data": {
            "text/plain": [
              "<sympy.plotting.plot.Plot at 0x7f082c712048>"
            ]
          },
          "metadata": {
            "tags": []
          },
          "execution_count": 30
        }
      ]
    },
    {
      "cell_type": "markdown",
      "metadata": {
        "id": "eZHptlryP--u"
      },
      "source": [
        "[예제] 비제차 미분방정식\n",
        "\n",
        "$ y′+ y \\tan x= \\sin 2x, \\, y(0)=1\n",
        "$\n",
        "\n",
        "y 를 x의 함수 y(x) 로 선언하고, 미분 방정식을 기술한다."
      ]
    },
    {
      "cell_type": "code",
      "metadata": {
        "colab": {
          "base_uri": "https://localhost:8080/",
          "height": 38
        },
        "id": "Pot_SaNUpNU4",
        "outputId": "6fa07c16-a740-4525-fb2b-88a99d48df20"
      },
      "source": [
        "y(x)\n",
        "deq = Eq( y(x).diff(x) + y(x)*tan(x), sin(2*x) )\n",
        "deq"
      ],
      "execution_count": null,
      "outputs": [
        {
          "output_type": "execute_result",
          "data": {
            "image/png": "[encoded data removed]",
            "text/latex": "$$y{\\left (x \\right )} \\tan{\\left (x \\right )} + \\frac{d}{d x} y{\\left (x \\right )} = \\sin{\\left (2 x \\right )}$$",
            "text/plain": [
              "              d                  \n",
              "y(x)⋅tan(x) + ──(y(x)) = sin(2⋅x)\n",
              "              dx                 "
            ]
          },
          "metadata": {
            "tags": []
          },
          "execution_count": 31
        }
      ]
    },
    {
      "cell_type": "markdown",
      "metadata": {
        "id": "BEf5S0hHzUTV"
      },
      "source": [
        ""
      ]
    },
    {
      "cell_type": "code",
      "metadata": {
        "colab": {
          "base_uri": "https://localhost:8080/",
          "height": 72
        },
        "id": "QSfB83xLpWXe",
        "outputId": "81ee186d-45fe-4dd0-8e21-c078eab4a58c"
      },
      "source": [
        "dsolve( deq, y(x) )"
      ],
      "execution_count": null,
      "outputs": [
        {
          "output_type": "execute_result",
          "data": {
            "image/png": "[encoded data removed]",
            "text/latex": "$$y{\\left (x \\right )} = \\frac{\\sqrt{- \\cos^{2}{\\left (x \\right )}} \\left(C_{1} + \\int \\frac{y{\\left (x \\right )} \\tan{\\left (x \\right )} - \\sin{\\left (2 x \\right )}}{\\sqrt{\\left(\\sin{\\left (x \\right )} - 1\\right) \\left(\\sin{\\left (x \\right )} + 1\\right)}}\\, dx\\right)}{\\sqrt{- \\cos^{2}{\\left (x \\right )}} \\int \\frac{\\tan{\\left (x \\right )}}{\\sqrt{- \\cos^{2}{\\left (x \\right )}}}\\, dx - 1}$$",
            "text/plain": [
              "          __________ ⎛     ⌠                                 ⎞\n",
              "         ╱     2     ⎜     ⎮     y(x)⋅tan(x) - sin(2⋅x)      ⎟\n",
              "       ╲╱  -cos (x) ⋅⎜C₁ + ⎮ ───────────────────────────── dx⎟\n",
              "                     ⎜     ⎮   ___________________________   ⎟\n",
              "                     ⎜     ⎮ ╲╱ (sin(x) - 1)⋅(sin(x) + 1)    ⎟\n",
              "                     ⎝     ⌡                                 ⎠\n",
              "y(x) = ───────────────────────────────────────────────────────\n",
              "                    __________ ⌠                              \n",
              "                   ╱     2     ⎮     tan(x)                   \n",
              "                 ╲╱  -cos (x) ⋅⎮ ───────────── dx - 1         \n",
              "                               ⎮    __________                \n",
              "                               ⎮   ╱     2                    \n",
              "                               ⎮ ╲╱  -cos (x)                 \n",
              "                               ⌡                              "
            ]
          },
          "metadata": {
            "tags": []
          },
          "execution_count": 9
        }
      ]
    },
    {
      "cell_type": "code",
      "metadata": {
        "colab": {
          "base_uri": "https://localhost:8080/",
          "height": 72
        },
        "id": "CWlv2FSjQmCy",
        "outputId": "0a410b07-daea-4159-f06a-471911493cc8"
      },
      "source": [
        "psol = dsolve( deq, ics= {y(0):1} )\n",
        "psol"
      ],
      "execution_count": null,
      "outputs": [
        {
          "output_type": "execute_result",
          "data": {
            "image/png": "[encoded data removed]",
            "text/latex": "$$y{\\left (x \\right )} = \\frac{\\sqrt{- \\cos^{2}{\\left (x \\right )}} \\left(C_{1} + \\int \\frac{y{\\left (x \\right )} \\tan{\\left (x \\right )} - \\sin{\\left (2 x \\right )}}{\\sqrt{\\left(\\sin{\\left (x \\right )} - 1\\right) \\left(\\sin{\\left (x \\right )} + 1\\right)}}\\, dx\\right)}{\\sqrt{- \\cos^{2}{\\left (x \\right )}} \\int \\frac{\\tan{\\left (x \\right )}}{\\sqrt{- \\cos^{2}{\\left (x \\right )}}}\\, dx - 1}$$",
            "text/plain": [
              "          __________ ⎛     ⌠                                 ⎞\n",
              "         ╱     2     ⎜     ⎮     y(x)⋅tan(x) - sin(2⋅x)      ⎟\n",
              "       ╲╱  -cos (x) ⋅⎜C₁ + ⎮ ───────────────────────────── dx⎟\n",
              "                     ⎜     ⎮   ___________________________   ⎟\n",
              "                     ⎜     ⎮ ╲╱ (sin(x) - 1)⋅(sin(x) + 1)    ⎟\n",
              "                     ⎝     ⌡                                 ⎠\n",
              "y(x) = ───────────────────────────────────────────────────────\n",
              "                    __________ ⌠                              \n",
              "                   ╱     2     ⎮     tan(x)                   \n",
              "                 ╲╱  -cos (x) ⋅⎮ ───────────── dx - 1         \n",
              "                               ⎮    __________                \n",
              "                               ⎮   ╱     2                    \n",
              "                               ⎮ ╲╱  -cos (x)                 \n",
              "                               ⌡                              "
            ]
          },
          "metadata": {
            "tags": []
          },
          "execution_count": 10
        }
      ]
    },
    {
      "cell_type": "markdown",
      "metadata": {
        "id": "2wXXDa8pQuSd"
      },
      "source": [
        "2계 미분방정식\n",
        "\n",
        "$\n",
        "10y′′+10y′+90y=0, \\, y(0)=0.16, \\, y′(0)=0\n",
        " $\n",
        "\n",
        "함수 y(t) 를 선언하고, 미분 방정식을 기술한다."
      ]
    },
    {
      "cell_type": "code",
      "metadata": {
        "colab": {
          "base_uri": "https://localhost:8080/",
          "height": 40
        },
        "id": "CLrQqwzCQ_Fd",
        "outputId": "7f585570-c555-4744-f350-dd06788625af"
      },
      "source": [
        "y(t)\n",
        "deq = Eq( 10*y(t).diff(t,2) + 10*y(t).diff(t) + 90*y(t), 0 )\n",
        "deq"
      ],
      "execution_count": null,
      "outputs": [
        {
          "output_type": "execute_result",
          "data": {
            "image/png": "[encoded data removed]",
            "text/latex": "$$90 y{\\left (t \\right )} + 10 \\frac{d}{d t} y{\\left (t \\right )} + 10 \\frac{d^{2}}{d t^{2}}  y{\\left (t \\right )} = 0$$",
            "text/plain": [
              "                             2          \n",
              "             d              d           \n",
              "90⋅y(t) + 10⋅──(y(t)) + 10⋅───(y(t)) = 0\n",
              "             dt              2          \n",
              "                           dt           "
            ]
          },
          "metadata": {
            "tags": []
          },
          "execution_count": 17
        }
      ]
    },
    {
      "cell_type": "code",
      "metadata": {
        "colab": {
          "base_uri": "https://localhost:8080/",
          "height": 47
        },
        "id": "Hy1pTk-7RPkE",
        "outputId": "19d225ec-8698-44b2-fdde-c7f63c1ada31"
      },
      "source": [
        "sol = dsolve( deq, ics= { y(0):0.16, y(t).diff(t).subs(t,0):0 } )\n",
        "sol"
      ],
      "execution_count": null,
      "outputs": [
        {
          "output_type": "execute_result",
          "data": {
            "image/png": "[encoded data removed]",
            "text/latex": "$$y{\\left (t \\right )} = \\frac{1}{\\sqrt{e^{t}}} \\left(C_{1} \\sin{\\left (\\frac{\\sqrt{35} t}{2} \\right )} + C_{2} \\cos{\\left (\\frac{\\sqrt{35} t}{2} \\right )}\\right)$$",
            "text/plain": [
              "             ⎛√35⋅t⎞         ⎛√35⋅t⎞\n",
              "       C₁⋅sin⎜─────⎟ + C₂⋅cos⎜─────⎟\n",
              "             ⎝  2  ⎠         ⎝  2  ⎠\n",
              "y(t) = ─────────────────────────────\n",
              "                     ____           \n",
              "                    ╱  t            \n",
              "                  ╲╱  ℯ             "
            ]
          },
          "metadata": {
            "tags": []
          },
          "execution_count": 18
        }
      ]
    },
    {
      "cell_type": "code",
      "metadata": {
        "colab": {
          "base_uri": "https://localhost:8080/",
          "height": 298
        },
        "id": "ioZrlCnMRfOK",
        "outputId": "49878a1a-afc1-4a38-a867-25e62e5eb51c"
      },
      "source": [
        "plot( sol.rhs, xlim=(0,8), ylim=(-0.2,0.2) )"
      ],
      "execution_count": null,
      "outputs": [
        {
          "output_type": "error",
          "ename": "ValueError",
          "evalue": "ignored",
          "traceback": [
            "\u001b[0;31m---------------------------------------------------------------------------\u001b[0m",
            "\u001b[0;31mValueError\u001b[0m                                Traceback (most recent call last)",
            "\u001b[0;32m<ipython-input-19-f1fac836746b>\u001b[0m in \u001b[0;36m<module>\u001b[0;34m()\u001b[0m\n\u001b[0;32m----> 1\u001b[0;31m \u001b[0mplot\u001b[0m\u001b[0;34m(\u001b[0m \u001b[0msol\u001b[0m\u001b[0;34m.\u001b[0m\u001b[0mrhs\u001b[0m\u001b[0;34m,\u001b[0m \u001b[0mxlim\u001b[0m\u001b[0;34m=\u001b[0m\u001b[0;34m(\u001b[0m\u001b[0;36m0\u001b[0m\u001b[0;34m,\u001b[0m\u001b[0;36m8\u001b[0m\u001b[0;34m)\u001b[0m\u001b[0;34m,\u001b[0m \u001b[0mylim\u001b[0m\u001b[0;34m=\u001b[0m\u001b[0;34m(\u001b[0m\u001b[0;34m-\u001b[0m\u001b[0;36m0.2\u001b[0m\u001b[0;34m,\u001b[0m\u001b[0;36m0.2\u001b[0m\u001b[0;34m)\u001b[0m \u001b[0;34m)\u001b[0m\u001b[0;34m\u001b[0m\u001b[0;34m\u001b[0m\u001b[0m\n\u001b[0m",
            "\u001b[0;32m/usr/local/lib/python3.6/dist-packages/sympy/plotting/plot.py\u001b[0m in \u001b[0;36mplot\u001b[0;34m(*args, **kwargs)\u001b[0m\n\u001b[1;32m   1281\u001b[0m             \u001b[0;32mif\u001b[0m \u001b[0mlen\u001b[0m\u001b[0;34m(\u001b[0m\u001b[0mfree\u001b[0m\u001b[0;34m)\u001b[0m \u001b[0;34m>\u001b[0m \u001b[0;36m1\u001b[0m\u001b[0;34m:\u001b[0m\u001b[0;34m\u001b[0m\u001b[0;34m\u001b[0m\u001b[0m\n\u001b[1;32m   1282\u001b[0m                 raise ValueError(\n\u001b[0;32m-> 1283\u001b[0;31m                     \u001b[0;34m'The same variable should be used in all '\u001b[0m\u001b[0;34m\u001b[0m\u001b[0;34m\u001b[0m\u001b[0m\n\u001b[0m\u001b[1;32m   1284\u001b[0m                     'univariate expressions being plotted.')\n\u001b[1;32m   1285\u001b[0m     \u001b[0mx\u001b[0m \u001b[0;34m=\u001b[0m \u001b[0mfree\u001b[0m\u001b[0;34m.\u001b[0m\u001b[0mpop\u001b[0m\u001b[0;34m(\u001b[0m\u001b[0;34m)\u001b[0m \u001b[0;32mif\u001b[0m \u001b[0mfree\u001b[0m \u001b[0;32melse\u001b[0m \u001b[0mSymbol\u001b[0m\u001b[0;34m(\u001b[0m\u001b[0;34m'x'\u001b[0m\u001b[0;34m)\u001b[0m\u001b[0;34m\u001b[0m\u001b[0;34m\u001b[0m\u001b[0m\n",
            "\u001b[0;31mValueError\u001b[0m: The same variable should be used in all univariate expressions being plotted."
          ]
        }
      ]
    },
    {
      "cell_type": "code",
      "metadata": {
        "colab": {
          "base_uri": "https://localhost:8080/",
          "height": 40
        },
        "id": "5fHcKJrvVxeA",
        "outputId": "1e3d7133-f022-4a33-b22d-1594c9751283"
      },
      "source": [
        "y(x)\n",
        "deq = Eq( y(x).diff(x,2) + 2*y(x).diff(x) + 0.75*y(x), 2*cos(x)-0.25*sin(x)+0.09*x )\n",
        "deq"
      ],
      "execution_count": null,
      "outputs": [
        {
          "output_type": "execute_result",
          "data": {
            "image/png": "[encoded data removed]",
            "text/latex": "$$0.75 y{\\left (x \\right )} + 2 \\frac{d}{d x} y{\\left (x \\right )} + \\frac{d^{2}}{d x^{2}}  y{\\left (x \\right )} = 0.09 x - 0.25 \\sin{\\left (x \\right )} + 2 \\cos{\\left (x \\right )}$$",
            "text/plain": [
              "                           2                                        \n",
              "              d           d                                         \n",
              "0.75⋅y(x) + 2⋅──(y(x)) + ───(y(x)) = 0.09⋅x - 0.25⋅sin(x) + 2⋅cos(x)\n",
              "              dx           2                                        \n",
              "                         dx                                         "
            ]
          },
          "metadata": {
            "tags": []
          },
          "execution_count": 20
        }
      ]
    },
    {
      "cell_type": "code",
      "metadata": {
        "colab": {
          "base_uri": "https://localhost:8080/",
          "height": 46
        },
        "id": "BEnudtU5WXcY",
        "outputId": "3cd9568a-6403-435d-a193-869bf8ac77bd"
      },
      "source": [
        "sol = dsolve( deq, ics= { y(0):2.78, y(x).diff(x).subs(x,0):-0.43 } )\n",
        "sol"
      ],
      "execution_count": null,
      "outputs": [
        {
          "output_type": "execute_result",
          "data": {
            "image/png": "[encoded data removed]",
            "text/latex": "$$y{\\left (x \\right )} = \\frac{C_{1}}{\\left(e^{x}\\right)^{\\frac{3}{2}}} + \\frac{C_{2}}{\\sqrt{e^{x}}} + 0.12 x + 1.0 \\sin{\\left (x \\right )} - 0.32$$",
            "text/plain": [
              "          C₁        C₂                               \n",
              "y(x) = ─────── + ─────── + 0.12⋅x + 1.0⋅sin(x) - 0.32\n",
              "           3/2      ____                             \n",
              "       ⎛ x⎞        ╱  x                              \n",
              "       ⎝ℯ ⎠      ╲╱  ℯ                               "
            ]
          },
          "metadata": {
            "tags": []
          },
          "execution_count": 21
        }
      ]
    },
    {
      "cell_type": "code",
      "metadata": {
        "id": "i6tCDd7Rtphc"
      },
      "source": [
        "expr.subs( [ (x,1), (y,2), (z,3) ] )"
      ],
      "execution_count": null,
      "outputs": []
    },
    {
      "cell_type": "markdown",
      "metadata": {
        "id": "ym-Lo0oWzV6g"
      },
      "source": [
        "연립 미분 방정식\n",
        "\n",
        "$\n",
        "\\begin{align}\n",
        "y_1'&= −0.02 y_1 + 0.02 y_2 \\\\\n",
        "y_2' &= 0.02 y_1− 0.02 y_2\n",
        " \n",
        " \\end{align}\n",
        "$\n",
        "\n",
        "초기조건 $y_1(0)=150, \\, y_2(0)=0$\n",
        " \n",
        "함수 $ y_1(t), \\, y_2(t) $ 를 선언한다."
      ]
    },
    {
      "cell_type": "code",
      "metadata": {
        "colab": {
          "base_uri": "https://localhost:8080/",
          "height": 38
        },
        "id": "hOPEZvKi2mOS",
        "outputId": "c5cfc999-a078-4ed3-a9c4-47792db28185"
      },
      "source": [
        "y1, y2 = symbols('y1 y2', cls=Function)\n",
        "y1(t)\n",
        "y2(t)"
      ],
      "execution_count": null,
      "outputs": [
        {
          "output_type": "execute_result",
          "data": {
            "image/png": "[encoded data removed]",
            "text/latex": "$$\\operatorname{y_{2}}{\\left (t \\right )}$$",
            "text/plain": [
              "y₂(t)"
            ]
          },
          "metadata": {
            "tags": []
          },
          "execution_count": 32
        }
      ]
    },
    {
      "cell_type": "code",
      "metadata": {
        "colab": {
          "base_uri": "https://localhost:8080/",
          "height": 38
        },
        "id": "U5vrG28Y2_8d",
        "outputId": "53b3879d-2188-4b43-be89-cb9c6073e8f4"
      },
      "source": [
        "eq1 = Eq( y1(t).diff(t), -0.02*y1(t)+0.02*y2(t) )\n",
        "eq1"
      ],
      "execution_count": null,
      "outputs": [
        {
          "output_type": "execute_result",
          "data": {
            "image/png": "[encoded data removed]",
            "text/latex": "$$\\frac{d}{d t} \\operatorname{y_{1}}{\\left (t \\right )} = - 0.02 \\operatorname{y_{1}}{\\left (t \\right )} + 0.02 \\operatorname{y_{2}}{\\left (t \\right )}$$",
            "text/plain": [
              "d                                   \n",
              "──(y₁(t)) = -0.02⋅y₁(t) + 0.02⋅y₂(t)\n",
              "dt                                  "
            ]
          },
          "metadata": {
            "tags": []
          },
          "execution_count": 33
        }
      ]
    },
    {
      "cell_type": "code",
      "metadata": {
        "colab": {
          "base_uri": "https://localhost:8080/",
          "height": 38
        },
        "id": "l5E-i7sl3Cyp",
        "outputId": "17b2affe-40c9-4e49-86ab-8e874af15492"
      },
      "source": [
        "eq2 = Eq( y2(t).diff(t), 0.02*y1(t)-0.02*y2(t) )\n",
        "eq2"
      ],
      "execution_count": null,
      "outputs": [
        {
          "output_type": "execute_result",
          "data": {
            "image/png": "[encoded data removed]",
            "text/latex": "$$\\frac{d}{d t} \\operatorname{y_{2}}{\\left (t \\right )} = 0.02 \\operatorname{y_{1}}{\\left (t \\right )} - 0.02 \\operatorname{y_{2}}{\\left (t \\right )}$$",
            "text/plain": [
              "d                                  \n",
              "──(y₂(t)) = 0.02⋅y₁(t) - 0.02⋅y₂(t)\n",
              "dt                                 "
            ]
          },
          "metadata": {
            "tags": []
          },
          "execution_count": 34
        }
      ]
    },
    {
      "cell_type": "code",
      "metadata": {
        "colab": {
          "base_uri": "https://localhost:8080/",
          "height": 38
        },
        "id": "GlUnqh1M3Flw",
        "outputId": "b7ab1cc7-5c5d-4d33-8f2a-218b2ab17aa6"
      },
      "source": [
        "dsolve( [ eq1, eq2 ] )"
      ],
      "execution_count": null,
      "outputs": [
        {
          "output_type": "execute_result",
          "data": {
            "image/png": "[encoded data removed]",
            "text/latex": "$$\\left [ \\operatorname{y_{1}}{\\left (t \\right )} = 0.02 C_{1} + C_{2} e^{- 0.04 t}, \\quad \\operatorname{y_{2}}{\\left (t \\right )} = 0.02 C_{1} - 1.0 C_{2} e^{- 0.04 t}\\right ]$$",
            "text/plain": [
              "⎡                      -0.04⋅t                            -0.04⋅t⎤\n",
              "⎣y₁(t) = 0.02⋅C₁ + C₂⋅ℯ       , y₂(t) = 0.02⋅C₁ - 1.0⋅C₂⋅ℯ       ⎦"
            ]
          },
          "metadata": {
            "tags": []
          },
          "execution_count": 35
        }
      ]
    },
    {
      "cell_type": "code",
      "metadata": {
        "colab": {
          "base_uri": "https://localhost:8080/",
          "height": 38
        },
        "id": "3esppmki3Kwg",
        "outputId": "54c87701-2afe-47da-f3b3-9b53551a4d25"
      },
      "source": [
        "sol = dsolve( [ eq1, eq2 ], ics= { y1(0):150, y2(0):0 } )\n",
        "sol"
      ],
      "execution_count": null,
      "outputs": [
        {
          "output_type": "execute_result",
          "data": {
            "image/png": "[encoded data removed]",
            "text/latex": "$$\\left [ \\operatorname{y_{1}}{\\left (t \\right )} = 0.02 C_{1} + C_{2} e^{- 0.04 t}, \\quad \\operatorname{y_{2}}{\\left (t \\right )} = 0.02 C_{1} - 1.0 C_{2} e^{- 0.04 t}\\right ]$$",
            "text/plain": [
              "⎡                      -0.04⋅t                            -0.04⋅t⎤\n",
              "⎣y₁(t) = 0.02⋅C₁ + C₂⋅ℯ       , y₂(t) = 0.02⋅C₁ - 1.0⋅C₂⋅ℯ       ⎦"
            ]
          },
          "metadata": {
            "tags": []
          },
          "execution_count": 36
        }
      ]
    }
  ]
}