{
  "nbformat": 4,
  "nbformat_minor": 0,
  "metadata": {
    "kernelspec": {
      "display_name": "Python 3",
      "language": "python",
      "name": "python3"
    },
    "language_info": {
      "codemirror_mode": {
        "name": "ipython",
        "version": 3
      },
      "file_extension": ".py",
      "mimetype": "text/x-python",
      "name": "python",
      "nbconvert_exporter": "python",
      "pygments_lexer": "ipython3",
      "version": "3.7.5"
    },
    "colab": {
      "name": "univarstatics.ipynb",
      "provenance": [],
      "include_colab_link": true
    }
  },
  "cells": [
    {
      "cell_type": "markdown",
      "metadata": {
        "id": "view-in-github",
        "colab_type": "text"
      },
      "source": [
        "<a href=\"https://colab.research.google.com/github/stone90n/study/blob/main/univarstatics.ipynb\" target=\"_parent\"><img src=\"https://colab.research.google.com/assets/colab-badge.svg\" alt=\"Open In Colab\"/></a>"
      ]
    },
    {
      "cell_type": "code",
      "metadata": {
        "id": "pW4M2xUey2r5",
        "outputId": "96c1bb3d-87c5-4990-9243-45ec0082cb75"
      },
      "source": [
        "import pandas as pd\n",
        "import numpy as np\n",
        "import matplotlib.pyplot as plt\n",
        "res = np.array(['y','n','y','y','y','n','n','y','y','y'])\n",
        "df =pd.DataFrame(res, columns = ['res'])\n",
        "df"
      ],
      "execution_count": null,
      "outputs": [
        {
          "data": {
            "text/html": [
              "<div>\n",
              "<style scoped>\n",
              "    .dataframe tbody tr th:only-of-type {\n",
              "        vertical-align: middle;\n",
              "    }\n",
              "\n",
              "    .dataframe tbody tr th {\n",
              "        vertical-align: top;\n",
              "    }\n",
              "\n",
              "    .dataframe thead th {\n",
              "        text-align: right;\n",
              "    }\n",
              "</style>\n",
              "<table border=\"1\" class=\"dataframe\">\n",
              "  <thead>\n",
              "    <tr style=\"text-align: right;\">\n",
              "      <th></th>\n",
              "      <th>res</th>\n",
              "    </tr>\n",
              "  </thead>\n",
              "  <tbody>\n",
              "    <tr>\n",
              "      <th>0</th>\n",
              "      <td>y</td>\n",
              "    </tr>\n",
              "    <tr>\n",
              "      <th>1</th>\n",
              "      <td>n</td>\n",
              "    </tr>\n",
              "    <tr>\n",
              "      <th>2</th>\n",
              "      <td>y</td>\n",
              "    </tr>\n",
              "    <tr>\n",
              "      <th>3</th>\n",
              "      <td>y</td>\n",
              "    </tr>\n",
              "    <tr>\n",
              "      <th>4</th>\n",
              "      <td>y</td>\n",
              "    </tr>\n",
              "    <tr>\n",
              "      <th>5</th>\n",
              "      <td>n</td>\n",
              "    </tr>\n",
              "    <tr>\n",
              "      <th>6</th>\n",
              "      <td>n</td>\n",
              "    </tr>\n",
              "    <tr>\n",
              "      <th>7</th>\n",
              "      <td>y</td>\n",
              "    </tr>\n",
              "    <tr>\n",
              "      <th>8</th>\n",
              "      <td>y</td>\n",
              "    </tr>\n",
              "    <tr>\n",
              "      <th>9</th>\n",
              "      <td>y</td>\n",
              "    </tr>\n",
              "  </tbody>\n",
              "</table>\n",
              "</div>"
            ],
            "text/plain": [
              "  res\n",
              "0   y\n",
              "1   n\n",
              "2   y\n",
              "3   y\n",
              "4   y\n",
              "5   n\n",
              "6   n\n",
              "7   y\n",
              "8   y\n",
              "9   y"
            ]
          },
          "execution_count": 1,
          "metadata": {},
          "output_type": "execute_result"
        }
      ]
    },
    {
      "cell_type": "code",
      "metadata": {
        "id": "mKc9npmay2r9",
        "outputId": "cd0803e4-a1b2-44c0-a73a-353dcc821fa7"
      },
      "source": [
        "pd.crosstab(index=df[\"res\"], columns=\"count\")"
      ],
      "execution_count": null,
      "outputs": [
        {
          "data": {
            "text/html": [
              "<div>\n",
              "<style scoped>\n",
              "    .dataframe tbody tr th:only-of-type {\n",
              "        vertical-align: middle;\n",
              "    }\n",
              "\n",
              "    .dataframe tbody tr th {\n",
              "        vertical-align: top;\n",
              "    }\n",
              "\n",
              "    .dataframe thead th {\n",
              "        text-align: right;\n",
              "    }\n",
              "</style>\n",
              "<table border=\"1\" class=\"dataframe\">\n",
              "  <thead>\n",
              "    <tr style=\"text-align: right;\">\n",
              "      <th>col_0</th>\n",
              "      <th>count</th>\n",
              "    </tr>\n",
              "    <tr>\n",
              "      <th>res</th>\n",
              "      <th></th>\n",
              "    </tr>\n",
              "  </thead>\n",
              "  <tbody>\n",
              "    <tr>\n",
              "      <th>n</th>\n",
              "      <td>3</td>\n",
              "    </tr>\n",
              "    <tr>\n",
              "      <th>y</th>\n",
              "      <td>7</td>\n",
              "    </tr>\n",
              "  </tbody>\n",
              "</table>\n",
              "</div>"
            ],
            "text/plain": [
              "col_0  count\n",
              "res         \n",
              "n          3\n",
              "y          7"
            ]
          },
          "execution_count": 2,
          "metadata": {},
          "output_type": "execute_result"
        }
      ]
    },
    {
      "cell_type": "code",
      "metadata": {
        "id": "hC6IPXHny2r9",
        "outputId": "c5ac511c-2bd1-4395-aad0-8b674a7678d3"
      },
      "source": [
        "cr = pd.crosstab(index=df[\"res\"], columns=\"count\")\n",
        "y_pos = np.arange(len(cr))\n",
        "\n",
        "plt.subplot(1,2,1)\n",
        "plt.bar(y_pos, cr['count'],color='g')\n",
        "plt.xticks(y_pos, res)\n",
        "\n",
        "plt.subplot(1,2,2)\n",
        "plt.barh(y_pos, cr['count'],color=['blue','cyan'])"
      ],
      "execution_count": null,
      "outputs": [
        {
          "data": {
            "text/plain": [
              "<BarContainer object of 2 artists>"
            ]
          },
          "execution_count": 6,
          "metadata": {},
          "output_type": "execute_result"
        },
        {
          "data": {
            "image/png": "[encoded data removed]",
            "text/plain": [
              "<Figure size 432x288 with 2 Axes>"
            ]
          },
          "metadata": {
            "needs_background": "light"
          },
          "output_type": "display_data"
        }
      ]
    },
    {
      "cell_type": "code",
      "metadata": {
        "id": "CRvhBP4hy2r-",
        "outputId": "93709b59-6ce5-45a3-9144-f41a1744f250"
      },
      "source": [
        "from scipy.stats import probplot\n",
        "from scipy import stats\n",
        "y = stats.norm.rvs(loc = 0, scale = 1, size =50)\n",
        "plt.hist(y)"
      ],
      "execution_count": null,
      "outputs": [
        {
          "data": {
            "text/plain": [
              "(array([ 1.,  3.,  2.,  4.,  7., 10.,  8.,  9.,  5.,  1.]),\n",
              " array([-3.24877888, -2.68159649, -2.1144141 , -1.54723171, -0.98004932,\n",
              "        -0.41286693,  0.15431546,  0.72149785,  1.28868024,  1.85586263,\n",
              "         2.42304502]),\n",
              " <a list of 10 Patch objects>)"
            ]
          },
          "execution_count": 7,
          "metadata": {},
          "output_type": "execute_result"
        },
        {
          "data": {
            "image/png": "[encoded data removed]",
            "text/plain": [
              "<Figure size 432x288 with 1 Axes>"
            ]
          },
          "metadata": {
            "needs_background": "light"
          },
          "output_type": "display_data"
        }
      ]
    },
    {
      "cell_type": "code",
      "metadata": {
        "id": "Ua5X4CJhy2r-",
        "outputId": "b62a6a89-4c9b-4449-c451-32a5ddbe0b61"
      },
      "source": [
        "sns.distplot(y)"
      ],
      "execution_count": null,
      "outputs": [
        {
          "ename": "NameError",
          "evalue": "name 'sns' is not defined",
          "output_type": "error",
          "traceback": [
            "\u001b[1;31m---------------------------------------------------------------------------\u001b[0m",
            "\u001b[1;31mNameError\u001b[0m                                 Traceback (most recent call last)",
            "\u001b[1;32m<ipython-input-8-0f415a98584e>\u001b[0m in \u001b[0;36m<module>\u001b[1;34m\u001b[0m\n\u001b[1;32m----> 1\u001b[1;33m \u001b[0msns\u001b[0m\u001b[1;33m.\u001b[0m\u001b[0mdistplot\u001b[0m\u001b[1;33m(\u001b[0m\u001b[0my\u001b[0m\u001b[1;33m)\u001b[0m\u001b[1;33m\u001b[0m\u001b[1;33m\u001b[0m\u001b[0m\n\u001b[0m",
            "\u001b[1;31mNameError\u001b[0m: name 'sns' is not defined"
          ]
        }
      ]
    },
    {
      "cell_type": "code",
      "metadata": {
        "id": "jkgF4d-Fy2r_",
        "outputId": "ae39ea31-c189-4e24-f85b-a8b211211e71"
      },
      "source": [
        "import seaborn as sns\n",
        "sns.distplot(y)"
      ],
      "execution_count": null,
      "outputs": [
        {
          "data": {
            "text/plain": [
              "<matplotlib.axes._subplots.AxesSubplot at 0x1d6373fc948>"
            ]
          },
          "execution_count": 9,
          "metadata": {},
          "output_type": "execute_result"
        },
        {
          "data": {
            "image/png": "[encoded data removed]",
            "text/plain": [
              "<Figure size 432x288 with 1 Axes>"
            ]
          },
          "metadata": {
            "needs_background": "light"
          },
          "output_type": "display_data"
        }
      ]
    },
    {
      "cell_type": "code",
      "metadata": {
        "id": "3FUAzUvRy2r_"
      },
      "source": [
        "import scipy as sp\n"
      ],
      "execution_count": null,
      "outputs": []
    },
    {
      "cell_type": "code",
      "metadata": {
        "id": "R4cUOWy4y2sA",
        "outputId": "b60a0bb6-7dad-45d7-eee4-edcea64ad939"
      },
      "source": [
        "sp.mean(y)"
      ],
      "execution_count": null,
      "outputs": [
        {
          "data": {
            "text/plain": [
              "-0.059742146531320636"
            ]
          },
          "execution_count": 11,
          "metadata": {},
          "output_type": "execute_result"
        }
      ]
    },
    {
      "cell_type": "code",
      "metadata": {
        "id": "N1R3OcBty2sB",
        "outputId": "657b5e4e-4774-4ea9-f3c6-0184a88beba4"
      },
      "source": [
        "stats.describe(y)"
      ],
      "execution_count": null,
      "outputs": [
        {
          "data": {
            "text/plain": [
              "DescribeResult(nobs=50, minmax=(-3.248778880203935, 2.423045015957545), mean=-0.059742146531320636, variance=1.5076433484620992, skewness=-0.46838533795486187, kurtosis=-0.16619989780728694)"
            ]
          },
          "execution_count": 14,
          "metadata": {},
          "output_type": "execute_result"
        }
      ]
    },
    {
      "cell_type": "code",
      "metadata": {
        "id": "iGi0R5Oqy2sC",
        "outputId": "f0fc8bd9-1940-41e4-9a00-19e3c64b698f"
      },
      "source": [
        "stats.mean(y)"
      ],
      "execution_count": null,
      "outputs": [
        {
          "ename": "AttributeError",
          "evalue": "module 'scipy.stats' has no attribute 'mean'",
          "output_type": "error",
          "traceback": [
            "\u001b[1;31m---------------------------------------------------------------------------\u001b[0m",
            "\u001b[1;31mAttributeError\u001b[0m                            Traceback (most recent call last)",
            "\u001b[1;32m<ipython-input-15-da6a43feec03>\u001b[0m in \u001b[0;36m<module>\u001b[1;34m\u001b[0m\n\u001b[1;32m----> 1\u001b[1;33m \u001b[0mstats\u001b[0m\u001b[1;33m.\u001b[0m\u001b[0mmean\u001b[0m\u001b[1;33m(\u001b[0m\u001b[0my\u001b[0m\u001b[1;33m)\u001b[0m\u001b[1;33m\u001b[0m\u001b[1;33m\u001b[0m\u001b[0m\n\u001b[0m",
            "\u001b[1;31mAttributeError\u001b[0m: module 'scipy.stats' has no attribute 'mean'"
          ]
        }
      ]
    },
    {
      "cell_type": "code",
      "metadata": {
        "id": "F_TNZqWvy2sC",
        "outputId": "b2e625c5-4423-474c-caa0-4e5cae5b299e"
      },
      "source": [
        "belt = pd.DataFrame({\n",
        "    'parent' : ['yes','no','yes','no'],\n",
        "    'child' : ['yes','yes','no','no'],\n",
        "    'y' : [54,3,7,12]\n",
        "})\n",
        "belt"
      ],
      "execution_count": null,
      "outputs": [
        {
          "data": {
            "text/html": [
              "<div>\n",
              "<style scoped>\n",
              "    .dataframe tbody tr th:only-of-type {\n",
              "        vertical-align: middle;\n",
              "    }\n",
              "\n",
              "    .dataframe tbody tr th {\n",
              "        vertical-align: top;\n",
              "    }\n",
              "\n",
              "    .dataframe thead th {\n",
              "        text-align: right;\n",
              "    }\n",
              "</style>\n",
              "<table border=\"1\" class=\"dataframe\">\n",
              "  <thead>\n",
              "    <tr style=\"text-align: right;\">\n",
              "      <th></th>\n",
              "      <th>parent</th>\n",
              "      <th>child</th>\n",
              "      <th>y</th>\n",
              "    </tr>\n",
              "  </thead>\n",
              "  <tbody>\n",
              "    <tr>\n",
              "      <th>0</th>\n",
              "      <td>yes</td>\n",
              "      <td>yes</td>\n",
              "      <td>54</td>\n",
              "    </tr>\n",
              "    <tr>\n",
              "      <th>1</th>\n",
              "      <td>no</td>\n",
              "      <td>yes</td>\n",
              "      <td>3</td>\n",
              "    </tr>\n",
              "    <tr>\n",
              "      <th>2</th>\n",
              "      <td>yes</td>\n",
              "      <td>no</td>\n",
              "      <td>7</td>\n",
              "    </tr>\n",
              "    <tr>\n",
              "      <th>3</th>\n",
              "      <td>no</td>\n",
              "      <td>no</td>\n",
              "      <td>12</td>\n",
              "    </tr>\n",
              "  </tbody>\n",
              "</table>\n",
              "</div>"
            ],
            "text/plain": [
              "  parent child   y\n",
              "0    yes   yes  54\n",
              "1     no   yes   3\n",
              "2    yes    no   7\n",
              "3     no    no  12"
            ]
          },
          "execution_count": 16,
          "metadata": {},
          "output_type": "execute_result"
        }
      ]
    },
    {
      "cell_type": "code",
      "metadata": {
        "id": "uezWLUUGy2sD",
        "outputId": "a7a754e5-d91c-464c-bea4-ebe07c6bb4e4"
      },
      "source": [
        "cross = pd.pivot_table(\n",
        "    data = belt,\n",
        "    values ='y',\n",
        "    aggfunc =\"sum\",\n",
        "    index = \"parent\",\n",
        "    columns = \"child\",\n",
        "    margins = True\n",
        ")\n",
        "cross"
      ],
      "execution_count": null,
      "outputs": [
        {
          "data": {
            "text/html": [
              "<div>\n",
              "<style scoped>\n",
              "    .dataframe tbody tr th:only-of-type {\n",
              "        vertical-align: middle;\n",
              "    }\n",
              "\n",
              "    .dataframe tbody tr th {\n",
              "        vertical-align: top;\n",
              "    }\n",
              "\n",
              "    .dataframe thead th {\n",
              "        text-align: right;\n",
              "    }\n",
              "</style>\n",
              "<table border=\"1\" class=\"dataframe\">\n",
              "  <thead>\n",
              "    <tr style=\"text-align: right;\">\n",
              "      <th>child</th>\n",
              "      <th>no</th>\n",
              "      <th>yes</th>\n",
              "      <th>All</th>\n",
              "    </tr>\n",
              "    <tr>\n",
              "      <th>parent</th>\n",
              "      <th></th>\n",
              "      <th></th>\n",
              "      <th></th>\n",
              "    </tr>\n",
              "  </thead>\n",
              "  <tbody>\n",
              "    <tr>\n",
              "      <th>no</th>\n",
              "      <td>12</td>\n",
              "      <td>3</td>\n",
              "      <td>15</td>\n",
              "    </tr>\n",
              "    <tr>\n",
              "      <th>yes</th>\n",
              "      <td>7</td>\n",
              "      <td>54</td>\n",
              "      <td>61</td>\n",
              "    </tr>\n",
              "    <tr>\n",
              "      <th>All</th>\n",
              "      <td>19</td>\n",
              "      <td>57</td>\n",
              "      <td>76</td>\n",
              "    </tr>\n",
              "  </tbody>\n",
              "</table>\n",
              "</div>"
            ],
            "text/plain": [
              "child   no  yes  All\n",
              "parent              \n",
              "no      12    3   15\n",
              "yes      7   54   61\n",
              "All     19   57   76"
            ]
          },
          "execution_count": 17,
          "metadata": {},
          "output_type": "execute_result"
        }
      ]
    },
    {
      "cell_type": "code",
      "metadata": {
        "id": "dQ_Ws3RHy2sD",
        "outputId": "9568aa83-083b-4687-ad94-6038514470ef"
      },
      "source": [
        "sp.stats.chi2_contingency(cross, correction =True)"
      ],
      "execution_count": null,
      "outputs": [
        {
          "data": {
            "text/plain": [
              "(30.150819672131146, 4.560314027990396e-06, 4, array([[ 3.75, 11.25, 15.  ],\n",
              "        [15.25, 45.75, 61.  ],\n",
              "        [19.  , 57.  , 76.  ]]))"
            ]
          },
          "execution_count": 19,
          "metadata": {},
          "output_type": "execute_result"
        }
      ]
    },
    {
      "cell_type": "code",
      "metadata": {
        "id": "mZyeOCsVy2sD",
        "outputId": "ac116d06-8c4c-4221-bba9-af6178bbc5ea"
      },
      "source": [
        "import seaborn as sns\n",
        "iris = sns.load_dataset(\"iris\")\n",
        "iris"
      ],
      "execution_count": null,
      "outputs": [
        {
          "data": {
            "text/html": [
              "<div>\n",
              "<style scoped>\n",
              "    .dataframe tbody tr th:only-of-type {\n",
              "        vertical-align: middle;\n",
              "    }\n",
              "\n",
              "    .dataframe tbody tr th {\n",
              "        vertical-align: top;\n",
              "    }\n",
              "\n",
              "    .dataframe thead th {\n",
              "        text-align: right;\n",
              "    }\n",
              "</style>\n",
              "<table border=\"1\" class=\"dataframe\">\n",
              "  <thead>\n",
              "    <tr style=\"text-align: right;\">\n",
              "      <th></th>\n",
              "      <th>sepal_length</th>\n",
              "      <th>sepal_width</th>\n",
              "      <th>petal_length</th>\n",
              "      <th>petal_width</th>\n",
              "      <th>species</th>\n",
              "    </tr>\n",
              "  </thead>\n",
              "  <tbody>\n",
              "    <tr>\n",
              "      <th>0</th>\n",
              "      <td>5.1</td>\n",
              "      <td>3.5</td>\n",
              "      <td>1.4</td>\n",
              "      <td>0.2</td>\n",
              "      <td>setosa</td>\n",
              "    </tr>\n",
              "    <tr>\n",
              "      <th>1</th>\n",
              "      <td>4.9</td>\n",
              "      <td>3.0</td>\n",
              "      <td>1.4</td>\n",
              "      <td>0.2</td>\n",
              "      <td>setosa</td>\n",
              "    </tr>\n",
              "    <tr>\n",
              "      <th>2</th>\n",
              "      <td>4.7</td>\n",
              "      <td>3.2</td>\n",
              "      <td>1.3</td>\n",
              "      <td>0.2</td>\n",
              "      <td>setosa</td>\n",
              "    </tr>\n",
              "    <tr>\n",
              "      <th>3</th>\n",
              "      <td>4.6</td>\n",
              "      <td>3.1</td>\n",
              "      <td>1.5</td>\n",
              "      <td>0.2</td>\n",
              "      <td>setosa</td>\n",
              "    </tr>\n",
              "    <tr>\n",
              "      <th>4</th>\n",
              "      <td>5.0</td>\n",
              "      <td>3.6</td>\n",
              "      <td>1.4</td>\n",
              "      <td>0.2</td>\n",
              "      <td>setosa</td>\n",
              "    </tr>\n",
              "    <tr>\n",
              "      <th>...</th>\n",
              "      <td>...</td>\n",
              "      <td>...</td>\n",
              "      <td>...</td>\n",
              "      <td>...</td>\n",
              "      <td>...</td>\n",
              "    </tr>\n",
              "    <tr>\n",
              "      <th>145</th>\n",
              "      <td>6.7</td>\n",
              "      <td>3.0</td>\n",
              "      <td>5.2</td>\n",
              "      <td>2.3</td>\n",
              "      <td>virginica</td>\n",
              "    </tr>\n",
              "    <tr>\n",
              "      <th>146</th>\n",
              "      <td>6.3</td>\n",
              "      <td>2.5</td>\n",
              "      <td>5.0</td>\n",
              "      <td>1.9</td>\n",
              "      <td>virginica</td>\n",
              "    </tr>\n",
              "    <tr>\n",
              "      <th>147</th>\n",
              "      <td>6.5</td>\n",
              "      <td>3.0</td>\n",
              "      <td>5.2</td>\n",
              "      <td>2.0</td>\n",
              "      <td>virginica</td>\n",
              "    </tr>\n",
              "    <tr>\n",
              "      <th>148</th>\n",
              "      <td>6.2</td>\n",
              "      <td>3.4</td>\n",
              "      <td>5.4</td>\n",
              "      <td>2.3</td>\n",
              "      <td>virginica</td>\n",
              "    </tr>\n",
              "    <tr>\n",
              "      <th>149</th>\n",
              "      <td>5.9</td>\n",
              "      <td>3.0</td>\n",
              "      <td>5.1</td>\n",
              "      <td>1.8</td>\n",
              "      <td>virginica</td>\n",
              "    </tr>\n",
              "  </tbody>\n",
              "</table>\n",
              "<p>150 rows × 5 columns</p>\n",
              "</div>"
            ],
            "text/plain": [
              "     sepal_length  sepal_width  petal_length  petal_width    species\n",
              "0             5.1          3.5           1.4          0.2     setosa\n",
              "1             4.9          3.0           1.4          0.2     setosa\n",
              "2             4.7          3.2           1.3          0.2     setosa\n",
              "3             4.6          3.1           1.5          0.2     setosa\n",
              "4             5.0          3.6           1.4          0.2     setosa\n",
              "..            ...          ...           ...          ...        ...\n",
              "145           6.7          3.0           5.2          2.3  virginica\n",
              "146           6.3          2.5           5.0          1.9  virginica\n",
              "147           6.5          3.0           5.2          2.0  virginica\n",
              "148           6.2          3.4           5.4          2.3  virginica\n",
              "149           5.9          3.0           5.1          1.8  virginica\n",
              "\n",
              "[150 rows x 5 columns]"
            ]
          },
          "execution_count": 59,
          "metadata": {},
          "output_type": "execute_result"
        }
      ]
    },
    {
      "cell_type": "code",
      "metadata": {
        "id": "tfhWhUL0y2sE",
        "outputId": "ae3971da-8831-4993-af73-fe2231c62fd4"
      },
      "source": [
        "iris.shape"
      ],
      "execution_count": null,
      "outputs": [
        {
          "data": {
            "text/plain": [
              "(150, 5)"
            ]
          },
          "execution_count": 21,
          "metadata": {},
          "output_type": "execute_result"
        }
      ]
    },
    {
      "cell_type": "code",
      "metadata": {
        "id": "bc4IGWCCy2sE",
        "outputId": "a47f1ed4-0c30-4b80-b3c8-168f7b376860"
      },
      "source": [
        "iris.groupby(['species'])['sepal_length'].describe()"
      ],
      "execution_count": null,
      "outputs": [
        {
          "data": {
            "text/html": [
              "<div>\n",
              "<style scoped>\n",
              "    .dataframe tbody tr th:only-of-type {\n",
              "        vertical-align: middle;\n",
              "    }\n",
              "\n",
              "    .dataframe tbody tr th {\n",
              "        vertical-align: top;\n",
              "    }\n",
              "\n",
              "    .dataframe thead th {\n",
              "        text-align: right;\n",
              "    }\n",
              "</style>\n",
              "<table border=\"1\" class=\"dataframe\">\n",
              "  <thead>\n",
              "    <tr style=\"text-align: right;\">\n",
              "      <th></th>\n",
              "      <th>count</th>\n",
              "      <th>mean</th>\n",
              "      <th>std</th>\n",
              "      <th>min</th>\n",
              "      <th>25%</th>\n",
              "      <th>50%</th>\n",
              "      <th>75%</th>\n",
              "      <th>max</th>\n",
              "    </tr>\n",
              "    <tr>\n",
              "      <th>species</th>\n",
              "      <th></th>\n",
              "      <th></th>\n",
              "      <th></th>\n",
              "      <th></th>\n",
              "      <th></th>\n",
              "      <th></th>\n",
              "      <th></th>\n",
              "      <th></th>\n",
              "    </tr>\n",
              "  </thead>\n",
              "  <tbody>\n",
              "    <tr>\n",
              "      <th>setosa</th>\n",
              "      <td>50.0</td>\n",
              "      <td>5.006</td>\n",
              "      <td>0.352490</td>\n",
              "      <td>4.3</td>\n",
              "      <td>4.800</td>\n",
              "      <td>5.0</td>\n",
              "      <td>5.2</td>\n",
              "      <td>5.8</td>\n",
              "    </tr>\n",
              "    <tr>\n",
              "      <th>versicolor</th>\n",
              "      <td>50.0</td>\n",
              "      <td>5.936</td>\n",
              "      <td>0.516171</td>\n",
              "      <td>4.9</td>\n",
              "      <td>5.600</td>\n",
              "      <td>5.9</td>\n",
              "      <td>6.3</td>\n",
              "      <td>7.0</td>\n",
              "    </tr>\n",
              "    <tr>\n",
              "      <th>virginica</th>\n",
              "      <td>50.0</td>\n",
              "      <td>6.588</td>\n",
              "      <td>0.635880</td>\n",
              "      <td>4.9</td>\n",
              "      <td>6.225</td>\n",
              "      <td>6.5</td>\n",
              "      <td>6.9</td>\n",
              "      <td>7.9</td>\n",
              "    </tr>\n",
              "  </tbody>\n",
              "</table>\n",
              "</div>"
            ],
            "text/plain": [
              "            count   mean       std  min    25%  50%  75%  max\n",
              "species                                                      \n",
              "setosa       50.0  5.006  0.352490  4.3  4.800  5.0  5.2  5.8\n",
              "versicolor   50.0  5.936  0.516171  4.9  5.600  5.9  6.3  7.0\n",
              "virginica    50.0  6.588  0.635880  4.9  6.225  6.5  6.9  7.9"
            ]
          },
          "execution_count": 23,
          "metadata": {},
          "output_type": "execute_result"
        }
      ]
    },
    {
      "cell_type": "code",
      "metadata": {
        "id": "fEOWhgA-y2sE",
        "outputId": "11fc6a5f-8084-4ad6-a7cd-120521471e75"
      },
      "source": [
        "x1 = iris.loc[iris['species'] ==\"setosa\"]['sepal_length']\n",
        "x2 = iris.loc[iris['species'] ==\"versicolor\"]['sepal_length']\n",
        "x2"
      ],
      "execution_count": null,
      "outputs": [
        {
          "data": {
            "text/plain": [
              "50    7.0\n",
              "51    6.4\n",
              "52    6.9\n",
              "53    5.5\n",
              "54    6.5\n",
              "55    5.7\n",
              "56    6.3\n",
              "57    4.9\n",
              "58    6.6\n",
              "59    5.2\n",
              "60    5.0\n",
              "61    5.9\n",
              "62    6.0\n",
              "63    6.1\n",
              "64    5.6\n",
              "65    6.7\n",
              "66    5.6\n",
              "67    5.8\n",
              "68    6.2\n",
              "69    5.6\n",
              "70    5.9\n",
              "71    6.1\n",
              "72    6.3\n",
              "73    6.1\n",
              "74    6.4\n",
              "75    6.6\n",
              "76    6.8\n",
              "77    6.7\n",
              "78    6.0\n",
              "79    5.7\n",
              "80    5.5\n",
              "81    5.5\n",
              "82    5.8\n",
              "83    6.0\n",
              "84    5.4\n",
              "85    6.0\n",
              "86    6.7\n",
              "87    6.3\n",
              "88    5.6\n",
              "89    5.5\n",
              "90    5.5\n",
              "91    6.1\n",
              "92    5.8\n",
              "93    5.0\n",
              "94    5.6\n",
              "95    5.7\n",
              "96    5.7\n",
              "97    6.2\n",
              "98    5.1\n",
              "99    5.7\n",
              "Name: sepal_length, dtype: float64"
            ]
          },
          "execution_count": 26,
          "metadata": {},
          "output_type": "execute_result"
        }
      ]
    },
    {
      "cell_type": "code",
      "metadata": {
        "id": "TTwVft_3y2sF",
        "outputId": "8155ff57-13dd-497c-ba92-06e7cfdf1507"
      },
      "source": [
        "stats.ttest_1samp(x1,5.1)"
      ],
      "execution_count": null,
      "outputs": [
        {
          "data": {
            "text/plain": [
              "Ttest_1sampResult(statistic=-1.8856732506697453, pvalue=0.06527445885090742)"
            ]
          },
          "execution_count": 27,
          "metadata": {},
          "output_type": "execute_result"
        }
      ]
    },
    {
      "cell_type": "code",
      "metadata": {
        "id": "3dh-PS2Xy2sF",
        "outputId": "3cfff1d8-ab71-48c1-9798-e96df304c710"
      },
      "source": [
        "mean_x1 = sp.mean(x1)\n",
        "n = len(x1)\n",
        "s= sp.sqrt(sp.var(x1, ddof =1)/n)\n",
        "[mean_x1,n,s]\n",
        "stats.t.interval(alpha =0.95, df = n-1, loc= mean_x1, scale =s)"
      ],
      "execution_count": null,
      "outputs": [
        {
          "data": {
            "text/plain": [
              "(4.905823539430868, 5.106176460569131)"
            ]
          },
          "execution_count": 30,
          "metadata": {},
          "output_type": "execute_result"
        }
      ]
    },
    {
      "cell_type": "code",
      "metadata": {
        "id": "wxCGr729y2sF",
        "outputId": "578b6c5e-23a4-4db4-abf2-ad27b4dbbc88"
      },
      "source": [
        "stats.ttest_ind(x1,x2, equal_var = True)"
      ],
      "execution_count": null,
      "outputs": [
        {
          "data": {
            "text/plain": [
              "Ttest_indResult(statistic=-10.52098626754911, pvalue=8.985235037487077e-18)"
            ]
          },
          "execution_count": 32,
          "metadata": {},
          "output_type": "execute_result"
        }
      ]
    },
    {
      "cell_type": "code",
      "metadata": {
        "id": "OArEtuLHy2sF",
        "outputId": "2ac9cb61-ca72-42e7-8ff3-aa0da03a39a8"
      },
      "source": [
        "F = sp.var(x1, ddof = 1)/sp.var(x2, ddof=1)\n",
        "df1 = len(x1) -1\n",
        "df2 = len(x2) -1\n",
        "alpha =0.05\n",
        "p_value = 2 * (1 - sp.stats.f.cdf(F, df1,df2))\n",
        "p_value"
      ],
      "execution_count": null,
      "outputs": [
        {
          "data": {
            "text/plain": [
              "1.9913428116373002"
            ]
          },
          "execution_count": 34,
          "metadata": {},
          "output_type": "execute_result"
        }
      ]
    },
    {
      "cell_type": "code",
      "metadata": {
        "id": "KYY6-3yhy2sG",
        "outputId": "e377a2c3-c1db-4282-d97f-9612d3e67281"
      },
      "source": [
        "plt.scatter(iris['sepal_length'],iris['sepal_width'])"
      ],
      "execution_count": null,
      "outputs": [
        {
          "data": {
            "text/plain": [
              "<matplotlib.collections.PathCollection at 0x1d637a43588>"
            ]
          },
          "execution_count": 39,
          "metadata": {},
          "output_type": "execute_result"
        },
        {
          "data": {
            "image/png": "[encoded data removed]",
            "text/plain": [
              "<Figure size 432x288 with 1 Axes>"
            ]
          },
          "metadata": {
            "needs_background": "light"
          },
          "output_type": "display_data"
        }
      ]
    },
    {
      "cell_type": "code",
      "metadata": {
        "id": "BMicPt00y2sG",
        "outputId": "9c6450f9-f0ce-431f-bff3-07cc15bcf718"
      },
      "source": [
        "import statsmodels.formula.api as smf\n",
        "df =pd.DataFrame()\n",
        "df['x'] = iris['sepal_length']\n",
        "df['y'] = iris['sepal_width']\n",
        "lm_ex = smf.ols(\"y~x\", df).fit()\n",
        "lm_ex.params\n"
      ],
      "execution_count": null,
      "outputs": [
        {
          "data": {
            "text/plain": [
              "Intercept    3.418947\n",
              "x           -0.061885\n",
              "dtype: float64"
            ]
          },
          "execution_count": 40,
          "metadata": {},
          "output_type": "execute_result"
        }
      ]
    },
    {
      "cell_type": "code",
      "metadata": {
        "id": "BHufUbAoy2sG",
        "outputId": "0bee1da5-f9d3-49fb-b394-19c42e57d76c"
      },
      "source": [
        "lm_ex.summary()"
      ],
      "execution_count": null,
      "outputs": [
        {
          "data": {
            "text/html": [
              "<table class=\"simpletable\">\n",
              "<caption>OLS Regression Results</caption>\n",
              "<tr>\n",
              "  <th>Dep. Variable:</th>            <td>y</td>        <th>  R-squared:         </th> <td>   0.014</td>\n",
              "</tr>\n",
              "<tr>\n",
              "  <th>Model:</th>                   <td>OLS</td>       <th>  Adj. R-squared:    </th> <td>   0.007</td>\n",
              "</tr>\n",
              "<tr>\n",
              "  <th>Method:</th>             <td>Least Squares</td>  <th>  F-statistic:       </th> <td>   2.074</td>\n",
              "</tr>\n",
              "<tr>\n",
              "  <th>Date:</th>             <td>Sat, 07 Aug 2021</td> <th>  Prob (F-statistic):</th>  <td> 0.152</td> \n",
              "</tr>\n",
              "<tr>\n",
              "  <th>Time:</th>                 <td>18:36:25</td>     <th>  Log-Likelihood:    </th> <td> -86.732</td>\n",
              "</tr>\n",
              "<tr>\n",
              "  <th>No. Observations:</th>      <td>   150</td>      <th>  AIC:               </th> <td>   177.5</td>\n",
              "</tr>\n",
              "<tr>\n",
              "  <th>Df Residuals:</th>          <td>   148</td>      <th>  BIC:               </th> <td>   183.5</td>\n",
              "</tr>\n",
              "<tr>\n",
              "  <th>Df Model:</th>              <td>     1</td>      <th>                     </th>     <td> </td>   \n",
              "</tr>\n",
              "<tr>\n",
              "  <th>Covariance Type:</th>      <td>nonrobust</td>    <th>                     </th>     <td> </td>   \n",
              "</tr>\n",
              "</table>\n",
              "<table class=\"simpletable\">\n",
              "<tr>\n",
              "      <td></td>         <th>coef</th>     <th>std err</th>      <th>t</th>      <th>P>|t|</th>  <th>[0.025</th>    <th>0.975]</th>  \n",
              "</tr>\n",
              "<tr>\n",
              "  <th>Intercept</th> <td>    3.4189</td> <td>    0.254</td> <td>   13.484</td> <td> 0.000</td> <td>    2.918</td> <td>    3.920</td>\n",
              "</tr>\n",
              "<tr>\n",
              "  <th>x</th>         <td>   -0.0619</td> <td>    0.043</td> <td>   -1.440</td> <td> 0.152</td> <td>   -0.147</td> <td>    0.023</td>\n",
              "</tr>\n",
              "</table>\n",
              "<table class=\"simpletable\">\n",
              "<tr>\n",
              "  <th>Omnibus:</th>       <td> 2.474</td> <th>  Durbin-Watson:     </th> <td>   1.263</td>\n",
              "</tr>\n",
              "<tr>\n",
              "  <th>Prob(Omnibus):</th> <td> 0.290</td> <th>  Jarque-Bera (JB):  </th> <td>   1.994</td>\n",
              "</tr>\n",
              "<tr>\n",
              "  <th>Skew:</th>          <td> 0.243</td> <th>  Prob(JB):          </th> <td>   0.369</td>\n",
              "</tr>\n",
              "<tr>\n",
              "  <th>Kurtosis:</th>      <td> 3.288</td> <th>  Cond. No.          </th> <td>    43.4</td>\n",
              "</tr>\n",
              "</table><br/><br/>Warnings:<br/>[1] Standard Errors assume that the covariance matrix of the errors is correctly specified."
            ],
            "text/plain": [
              "<class 'statsmodels.iolib.summary.Summary'>\n",
              "\"\"\"\n",
              "                            OLS Regression Results                            \n",
              "==============================================================================\n",
              "Dep. Variable:                      y   R-squared:                       0.014\n",
              "Model:                            OLS   Adj. R-squared:                  0.007\n",
              "Method:                 Least Squares   F-statistic:                     2.074\n",
              "Date:                Sat, 07 Aug 2021   Prob (F-statistic):              0.152\n",
              "Time:                        18:36:25   Log-Likelihood:                -86.732\n",
              "No. Observations:                 150   AIC:                             177.5\n",
              "Df Residuals:                     148   BIC:                             183.5\n",
              "Df Model:                           1                                         \n",
              "Covariance Type:            nonrobust                                         \n",
              "==============================================================================\n",
              "                 coef    std err          t      P>|t|      [0.025      0.975]\n",
              "------------------------------------------------------------------------------\n",
              "Intercept      3.4189      0.254     13.484      0.000       2.918       3.920\n",
              "x             -0.0619      0.043     -1.440      0.152      -0.147       0.023\n",
              "==============================================================================\n",
              "Omnibus:                        2.474   Durbin-Watson:                   1.263\n",
              "Prob(Omnibus):                  0.290   Jarque-Bera (JB):                1.994\n",
              "Skew:                           0.243   Prob(JB):                        0.369\n",
              "Kurtosis:                       3.288   Cond. No.                         43.4\n",
              "==============================================================================\n",
              "\n",
              "Warnings:\n",
              "[1] Standard Errors assume that the covariance matrix of the errors is correctly specified.\n",
              "\"\"\""
            ]
          },
          "execution_count": 48,
          "metadata": {},
          "output_type": "execute_result"
        }
      ]
    },
    {
      "cell_type": "code",
      "metadata": {
        "id": "uXXnuyg1y2sG",
        "outputId": "fce43bad-08b9-4bbe-e98d-db6606bc4647"
      },
      "source": [
        "import statsmodels.api as sm\n",
        "sm.stats.anova_lm(lm_ex).round(4)"
      ],
      "execution_count": null,
      "outputs": [
        {
          "data": {
            "text/html": [
              "<div>\n",
              "<style scoped>\n",
              "    .dataframe tbody tr th:only-of-type {\n",
              "        vertical-align: middle;\n",
              "    }\n",
              "\n",
              "    .dataframe tbody tr th {\n",
              "        vertical-align: top;\n",
              "    }\n",
              "\n",
              "    .dataframe thead th {\n",
              "        text-align: right;\n",
              "    }\n",
              "</style>\n",
              "<table border=\"1\" class=\"dataframe\">\n",
              "  <thead>\n",
              "    <tr style=\"text-align: right;\">\n",
              "      <th></th>\n",
              "      <th>df</th>\n",
              "      <th>sum_sq</th>\n",
              "      <th>mean_sq</th>\n",
              "      <th>F</th>\n",
              "      <th>PR(&gt;F)</th>\n",
              "    </tr>\n",
              "  </thead>\n",
              "  <tbody>\n",
              "    <tr>\n",
              "      <th>x</th>\n",
              "      <td>1.0</td>\n",
              "      <td>0.3913</td>\n",
              "      <td>0.3913</td>\n",
              "      <td>2.0744</td>\n",
              "      <td>0.1519</td>\n",
              "    </tr>\n",
              "    <tr>\n",
              "      <th>Residual</th>\n",
              "      <td>148.0</td>\n",
              "      <td>27.9157</td>\n",
              "      <td>0.1886</td>\n",
              "      <td>NaN</td>\n",
              "      <td>NaN</td>\n",
              "    </tr>\n",
              "  </tbody>\n",
              "</table>\n",
              "</div>"
            ],
            "text/plain": [
              "             df   sum_sq  mean_sq       F  PR(>F)\n",
              "x           1.0   0.3913   0.3913  2.0744  0.1519\n",
              "Residual  148.0  27.9157   0.1886     NaN     NaN"
            ]
          },
          "execution_count": 50,
          "metadata": {},
          "output_type": "execute_result"
        }
      ]
    },
    {
      "cell_type": "code",
      "metadata": {
        "id": "CMuEn_AOy2sH",
        "outputId": "f8c50a6e-8079-48c9-e90d-be9d5f036def"
      },
      "source": [
        "sns.lmplot(x='x',y='y',data=df,scatter_kws={'color':'black'}, line_kws={'color':'red'})"
      ],
      "execution_count": null,
      "outputs": [
        {
          "data": {
            "text/plain": [
              "<seaborn.axisgrid.FacetGrid at 0x1d6388ada88>"
            ]
          },
          "execution_count": 51,
          "metadata": {},
          "output_type": "execute_result"
        },
        {
          "data": {
            "image/png": "[encoded data removed]",
            "text/plain": [
              "<Figure size 360x360 with 1 Axes>"
            ]
          },
          "metadata": {
            "needs_background": "light"
          },
          "output_type": "display_data"
        }
      ]
    },
    {
      "cell_type": "code",
      "metadata": {
        "id": "gjmFMHNVy2sH",
        "outputId": "41070d12-97fd-4ce5-f58b-75f5bcd2fa01"
      },
      "source": [
        "from sklearn.linear_model import LinearRegression\n",
        "\n",
        "df.head()"
      ],
      "execution_count": null,
      "outputs": [
        {
          "data": {
            "text/html": [
              "<div>\n",
              "<style scoped>\n",
              "    .dataframe tbody tr th:only-of-type {\n",
              "        vertical-align: middle;\n",
              "    }\n",
              "\n",
              "    .dataframe tbody tr th {\n",
              "        vertical-align: top;\n",
              "    }\n",
              "\n",
              "    .dataframe thead th {\n",
              "        text-align: right;\n",
              "    }\n",
              "</style>\n",
              "<table border=\"1\" class=\"dataframe\">\n",
              "  <thead>\n",
              "    <tr style=\"text-align: right;\">\n",
              "      <th></th>\n",
              "      <th>x</th>\n",
              "      <th>y</th>\n",
              "    </tr>\n",
              "  </thead>\n",
              "  <tbody>\n",
              "    <tr>\n",
              "      <th>0</th>\n",
              "      <td>5.1</td>\n",
              "      <td>3.5</td>\n",
              "    </tr>\n",
              "    <tr>\n",
              "      <th>1</th>\n",
              "      <td>4.9</td>\n",
              "      <td>3.0</td>\n",
              "    </tr>\n",
              "    <tr>\n",
              "      <th>2</th>\n",
              "      <td>4.7</td>\n",
              "      <td>3.2</td>\n",
              "    </tr>\n",
              "    <tr>\n",
              "      <th>3</th>\n",
              "      <td>4.6</td>\n",
              "      <td>3.1</td>\n",
              "    </tr>\n",
              "    <tr>\n",
              "      <th>4</th>\n",
              "      <td>5.0</td>\n",
              "      <td>3.6</td>\n",
              "    </tr>\n",
              "  </tbody>\n",
              "</table>\n",
              "</div>"
            ],
            "text/plain": [
              "     x    y\n",
              "0  5.1  3.5\n",
              "1  4.9  3.0\n",
              "2  4.7  3.2\n",
              "3  4.6  3.1\n",
              "4  5.0  3.6"
            ]
          },
          "execution_count": 52,
          "metadata": {},
          "output_type": "execute_result"
        }
      ]
    },
    {
      "cell_type": "code",
      "metadata": {
        "id": "5z1GYgZBy2sH",
        "outputId": "cd2b3a2e-8467-4bf9-f9d1-8e428748dd59"
      },
      "source": [
        "X = df['x'];Y=df['y']\n",
        "plt.plot(X,Y,'o')\n",
        "plt.show()"
      ],
      "execution_count": null,
      "outputs": [
        {
          "data": {
            "image/png": "[encoded data removed]",
            "text/plain": [
              "<Figure size 432x288 with 1 Axes>"
            ]
          },
          "metadata": {
            "needs_background": "light"
          },
          "output_type": "display_data"
        }
      ]
    },
    {
      "cell_type": "code",
      "metadata": {
        "id": "VPUYvAvyy2sH",
        "outputId": "e4b97d55-8b29-462c-bf72-45583fbbab0e"
      },
      "source": [
        "line_fitter = LinearRegression()\n",
        "line_fitter.fit(X.values.reshape(-1,1),Y)"
      ],
      "execution_count": null,
      "outputs": [
        {
          "data": {
            "text/plain": [
              "LinearRegression(copy_X=True, fit_intercept=True, n_jobs=None, normalize=False)"
            ]
          },
          "execution_count": 56,
          "metadata": {},
          "output_type": "execute_result"
        }
      ]
    },
    {
      "cell_type": "code",
      "metadata": {
        "id": "C5BxGfi2y2sH",
        "outputId": "c33e05f0-6120-4c88-e2c1-2e9ce09fe0f4"
      },
      "source": [
        "y_predicted = line_fitter.predict(X.values.reshape(-1,1))\n",
        "y_predicted"
      ],
      "execution_count": null,
      "outputs": [
        {
          "data": {
            "text/plain": [
              "array([3.10333437, 3.11571133, 3.12808829, 3.13427677, 3.10952285,\n",
              "       3.08476893, 3.13427677, 3.10952285, 3.14665373, 3.11571133,\n",
              "       3.08476893, 3.12189981, 3.12189981, 3.1528422 , 3.06001501,\n",
              "       3.06620349, 3.08476893, 3.10333437, 3.06620349, 3.10333437,\n",
              "       3.08476893, 3.10333437, 3.13427677, 3.10333437, 3.12189981,\n",
              "       3.10952285, 3.10952285, 3.09714589, 3.09714589, 3.12808829,\n",
              "       3.12189981, 3.08476893, 3.09714589, 3.07858045, 3.11571133,\n",
              "       3.10952285, 3.07858045, 3.11571133, 3.14665373, 3.10333437,\n",
              "       3.10952285, 3.14046525, 3.14665373, 3.10952285, 3.10333437,\n",
              "       3.12189981, 3.10333437, 3.13427677, 3.09095741, 3.10952285,\n",
              "       2.98575325, 3.02288413, 2.99194173, 3.07858045, 3.01669565,\n",
              "       3.06620349, 3.02907261, 3.11571133, 3.01050717, 3.09714589,\n",
              "       3.10952285, 3.05382653, 3.04763805, 3.04144957, 3.07239197,\n",
              "       3.00431869, 3.07239197, 3.06001501, 3.03526109, 3.07239197,\n",
              "       3.05382653, 3.04144957, 3.02907261, 3.04144957, 3.02288413,\n",
              "       3.01050717, 2.99813021, 3.00431869, 3.04763805, 3.06620349,\n",
              "       3.07858045, 3.07858045, 3.06001501, 3.04763805, 3.08476893,\n",
              "       3.04763805, 3.00431869, 3.02907261, 3.07239197, 3.07858045,\n",
              "       3.07858045, 3.04144957, 3.06001501, 3.10952285, 3.07239197,\n",
              "       3.06620349, 3.06620349, 3.03526109, 3.10333437, 3.06620349,\n",
              "       3.02907261, 3.06001501, 2.97956477, 3.02907261, 3.01669565,\n",
              "       2.94862237, 3.11571133, 2.96718781, 3.00431869, 2.97337629,\n",
              "       3.01669565, 3.02288413, 2.99813021, 3.06620349, 3.06001501,\n",
              "       3.02288413, 3.01669565, 2.94243389, 2.94243389, 3.04763805,\n",
              "       2.99194173, 3.07239197, 2.94243389, 3.02907261, 3.00431869,\n",
              "       2.97337629, 3.03526109, 3.04144957, 3.02288413, 2.97337629,\n",
              "       2.96099933, 2.93005693, 3.02288413, 3.02907261, 3.04144957,\n",
              "       2.94243389, 3.02907261, 3.02288413, 3.04763805, 2.99194173,\n",
              "       3.00431869, 2.99194173, 3.06001501, 2.99813021, 3.00431869,\n",
              "       3.00431869, 3.02907261, 3.01669565, 3.03526109, 3.05382653])"
            ]
          },
          "execution_count": 57,
          "metadata": {},
          "output_type": "execute_result"
        }
      ]
    },
    {
      "cell_type": "code",
      "metadata": {
        "id": "o66EwrNUy2sI",
        "outputId": "bb11afb7-d2fd-4b3e-919c-515f1092d50d"
      },
      "source": [
        "sns.pairplot(iris, hue = \"species\")"
      ],
      "execution_count": null,
      "outputs": [
        {
          "data": {
            "text/plain": [
              "<seaborn.axisgrid.PairGrid at 0x1d63b318a08>"
            ]
          },
          "execution_count": 62,
          "metadata": {},
          "output_type": "execute_result"
        },
        {
          "data": {
            "image/png": "[encoded data removed]",
            "text/plain": [
              "<Figure size 804.75x720 with 20 Axes>"
            ]
          },
          "metadata": {
            "needs_background": "light"
          },
          "output_type": "display_data"
        }
      ]
    },
    {
      "cell_type": "code",
      "metadata": {
        "id": "xeYnJIGdy2sI",
        "outputId": "77c6ad5d-204b-49bc-fb51-7cd4ae2d6f1b"
      },
      "source": [
        "aov_model = smf.ols(\"sepal_length~species\", data=iris).fit()\n",
        "aov_model.summary()"
      ],
      "execution_count": null,
      "outputs": [
        {
          "data": {
            "text/html": [
              "<table class=\"simpletable\">\n",
              "<caption>OLS Regression Results</caption>\n",
              "<tr>\n",
              "  <th>Dep. Variable:</th>      <td>sepal_length</td>   <th>  R-squared:         </th> <td>   0.619</td>\n",
              "</tr>\n",
              "<tr>\n",
              "  <th>Model:</th>                   <td>OLS</td>       <th>  Adj. R-squared:    </th> <td>   0.614</td>\n",
              "</tr>\n",
              "<tr>\n",
              "  <th>Method:</th>             <td>Least Squares</td>  <th>  F-statistic:       </th> <td>   119.3</td>\n",
              "</tr>\n",
              "<tr>\n",
              "  <th>Date:</th>             <td>Sat, 07 Aug 2021</td> <th>  Prob (F-statistic):</th> <td>1.67e-31</td>\n",
              "</tr>\n",
              "<tr>\n",
              "  <th>Time:</th>                 <td>19:24:13</td>     <th>  Log-Likelihood:    </th> <td> -111.73</td>\n",
              "</tr>\n",
              "<tr>\n",
              "  <th>No. Observations:</th>      <td>   150</td>      <th>  AIC:               </th> <td>   229.5</td>\n",
              "</tr>\n",
              "<tr>\n",
              "  <th>Df Residuals:</th>          <td>   147</td>      <th>  BIC:               </th> <td>   238.5</td>\n",
              "</tr>\n",
              "<tr>\n",
              "  <th>Df Model:</th>              <td>     2</td>      <th>                     </th>     <td> </td>   \n",
              "</tr>\n",
              "<tr>\n",
              "  <th>Covariance Type:</th>      <td>nonrobust</td>    <th>                     </th>     <td> </td>   \n",
              "</tr>\n",
              "</table>\n",
              "<table class=\"simpletable\">\n",
              "<tr>\n",
              "            <td></td>               <th>coef</th>     <th>std err</th>      <th>t</th>      <th>P>|t|</th>  <th>[0.025</th>    <th>0.975]</th>  \n",
              "</tr>\n",
              "<tr>\n",
              "  <th>Intercept</th>             <td>    5.0060</td> <td>    0.073</td> <td>   68.762</td> <td> 0.000</td> <td>    4.862</td> <td>    5.150</td>\n",
              "</tr>\n",
              "<tr>\n",
              "  <th>species[T.versicolor]</th> <td>    0.9300</td> <td>    0.103</td> <td>    9.033</td> <td> 0.000</td> <td>    0.727</td> <td>    1.133</td>\n",
              "</tr>\n",
              "<tr>\n",
              "  <th>species[T.virginica]</th>  <td>    1.5820</td> <td>    0.103</td> <td>   15.366</td> <td> 0.000</td> <td>    1.379</td> <td>    1.785</td>\n",
              "</tr>\n",
              "</table>\n",
              "<table class=\"simpletable\">\n",
              "<tr>\n",
              "  <th>Omnibus:</th>       <td> 1.188</td> <th>  Durbin-Watson:     </th> <td>   2.043</td>\n",
              "</tr>\n",
              "<tr>\n",
              "  <th>Prob(Omnibus):</th> <td> 0.552</td> <th>  Jarque-Bera (JB):  </th> <td>   0.785</td>\n",
              "</tr>\n",
              "<tr>\n",
              "  <th>Skew:</th>          <td> 0.119</td> <th>  Prob(JB):          </th> <td>   0.675</td>\n",
              "</tr>\n",
              "<tr>\n",
              "  <th>Kurtosis:</th>      <td> 3.263</td> <th>  Cond. No.          </th> <td>    3.73</td>\n",
              "</tr>\n",
              "</table><br/><br/>Warnings:<br/>[1] Standard Errors assume that the covariance matrix of the errors is correctly specified."
            ],
            "text/plain": [
              "<class 'statsmodels.iolib.summary.Summary'>\n",
              "\"\"\"\n",
              "                            OLS Regression Results                            \n",
              "==============================================================================\n",
              "Dep. Variable:           sepal_length   R-squared:                       0.619\n",
              "Model:                            OLS   Adj. R-squared:                  0.614\n",
              "Method:                 Least Squares   F-statistic:                     119.3\n",
              "Date:                Sat, 07 Aug 2021   Prob (F-statistic):           1.67e-31\n",
              "Time:                        19:24:13   Log-Likelihood:                -111.73\n",
              "No. Observations:                 150   AIC:                             229.5\n",
              "Df Residuals:                     147   BIC:                             238.5\n",
              "Df Model:                           2                                         \n",
              "Covariance Type:            nonrobust                                         \n",
              "=========================================================================================\n",
              "                            coef    std err          t      P>|t|      [0.025      0.975]\n",
              "-----------------------------------------------------------------------------------------\n",
              "Intercept                 5.0060      0.073     68.762      0.000       4.862       5.150\n",
              "species[T.versicolor]     0.9300      0.103      9.033      0.000       0.727       1.133\n",
              "species[T.virginica]      1.5820      0.103     15.366      0.000       1.379       1.785\n",
              "==============================================================================\n",
              "Omnibus:                        1.188   Durbin-Watson:                   2.043\n",
              "Prob(Omnibus):                  0.552   Jarque-Bera (JB):                0.785\n",
              "Skew:                           0.119   Prob(JB):                        0.675\n",
              "Kurtosis:                       3.263   Cond. No.                         3.73\n",
              "==============================================================================\n",
              "\n",
              "Warnings:\n",
              "[1] Standard Errors assume that the covariance matrix of the errors is correctly specified.\n",
              "\"\"\""
            ]
          },
          "execution_count": 63,
          "metadata": {},
          "output_type": "execute_result"
        }
      ]
    },
    {
      "cell_type": "code",
      "metadata": {
        "id": "zV0Fu18gy2sI",
        "outputId": "5e255964-a5bf-4310-9ed2-775b99621f06"
      },
      "source": [
        "print(sm.stats.anova_lm(aov_model))\n",
        "print(aov_model.params)"
      ],
      "execution_count": null,
      "outputs": [
        {
          "name": "stdout",
          "output_type": "stream",
          "text": [
            "             df     sum_sq    mean_sq           F        PR(>F)\n",
            "species     2.0  63.212133  31.606067  119.264502  1.669669e-31\n",
            "Residual  147.0  38.956200   0.265008         NaN           NaN\n",
            "Intercept                5.006\n",
            "species[T.versicolor]    0.930\n",
            "species[T.virginica]     1.582\n",
            "dtype: float64\n"
          ]
        }
      ]
    },
    {
      "cell_type": "code",
      "metadata": {
        "id": "iW2P9dZ0y2sI",
        "outputId": "a24e732d-5f3a-4e3f-f53d-86412023ab27"
      },
      "source": [
        "sns.boxplot(x=\"species\",y=\"sepal_length\", data= iris)"
      ],
      "execution_count": null,
      "outputs": [
        {
          "data": {
            "text/plain": [
              "<matplotlib.axes._subplots.AxesSubplot at 0x1d63c0bfc48>"
            ]
          },
          "execution_count": 68,
          "metadata": {},
          "output_type": "execute_result"
        },
        {
          "data": {
            "image/png": "[encoded data removed]",
            "text/plain": [
              "<Figure size 432x288 with 1 Axes>"
            ]
          },
          "metadata": {
            "needs_background": "light"
          },
          "output_type": "display_data"
        }
      ]
    }
  ]
}